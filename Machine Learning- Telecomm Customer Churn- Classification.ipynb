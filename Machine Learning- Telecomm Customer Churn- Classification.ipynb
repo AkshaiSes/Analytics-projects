{
 "cells": [
  {
   "cell_type": "code",
   "execution_count": 1,
   "metadata": {
    "scrolled": true
   },
   "outputs": [],
   "source": [
    "import pandas as pd\n",
    "import numpy as np\n",
    "import math\n",
    "import random\n",
    "import numpy as np\n",
    "import matplotlib.pyplot as plt\n",
    "import tensorflow\n",
    "\n",
    "np.random.seed(0)\n",
    "tensorflow.random.set_seed(0)"
   ]
  },
  {
   "cell_type": "code",
   "execution_count": 2,
   "metadata": {},
   "outputs": [
    {
     "data": {
      "text/html": [
       "<div>\n",
       "<style scoped>\n",
       "    .dataframe tbody tr th:only-of-type {\n",
       "        vertical-align: middle;\n",
       "    }\n",
       "\n",
       "    .dataframe tbody tr th {\n",
       "        vertical-align: top;\n",
       "    }\n",
       "\n",
       "    .dataframe thead th {\n",
       "        text-align: right;\n",
       "    }\n",
       "</style>\n",
       "<table border=\"1\" class=\"dataframe\">\n",
       "  <thead>\n",
       "    <tr style=\"text-align: right;\">\n",
       "      <th></th>\n",
       "      <th>customerID</th>\n",
       "      <th>gender</th>\n",
       "      <th>SeniorCitizen</th>\n",
       "      <th>Partner</th>\n",
       "      <th>Dependents</th>\n",
       "      <th>tenure</th>\n",
       "      <th>PhoneService</th>\n",
       "      <th>MultipleLines</th>\n",
       "      <th>InternetService</th>\n",
       "      <th>OnlineSecurity</th>\n",
       "      <th>...</th>\n",
       "      <th>DeviceProtection</th>\n",
       "      <th>TechSupport</th>\n",
       "      <th>StreamingTV</th>\n",
       "      <th>StreamingMovies</th>\n",
       "      <th>Contract</th>\n",
       "      <th>PaperlessBilling</th>\n",
       "      <th>PaymentMethod</th>\n",
       "      <th>MonthlyCharges</th>\n",
       "      <th>TotalCharges</th>\n",
       "      <th>Churn</th>\n",
       "    </tr>\n",
       "  </thead>\n",
       "  <tbody>\n",
       "    <tr>\n",
       "      <th>0</th>\n",
       "      <td>7590-VHVEG</td>\n",
       "      <td>Female</td>\n",
       "      <td>0</td>\n",
       "      <td>Yes</td>\n",
       "      <td>No</td>\n",
       "      <td>1</td>\n",
       "      <td>No</td>\n",
       "      <td>No phone service</td>\n",
       "      <td>DSL</td>\n",
       "      <td>No</td>\n",
       "      <td>...</td>\n",
       "      <td>No</td>\n",
       "      <td>No</td>\n",
       "      <td>No</td>\n",
       "      <td>No</td>\n",
       "      <td>Month-to-month</td>\n",
       "      <td>Yes</td>\n",
       "      <td>Electronic check</td>\n",
       "      <td>29.85</td>\n",
       "      <td>29.85</td>\n",
       "      <td>No</td>\n",
       "    </tr>\n",
       "    <tr>\n",
       "      <th>1</th>\n",
       "      <td>5575-GNVDE</td>\n",
       "      <td>Male</td>\n",
       "      <td>0</td>\n",
       "      <td>No</td>\n",
       "      <td>No</td>\n",
       "      <td>34</td>\n",
       "      <td>Yes</td>\n",
       "      <td>No</td>\n",
       "      <td>DSL</td>\n",
       "      <td>Yes</td>\n",
       "      <td>...</td>\n",
       "      <td>Yes</td>\n",
       "      <td>No</td>\n",
       "      <td>No</td>\n",
       "      <td>No</td>\n",
       "      <td>One year</td>\n",
       "      <td>No</td>\n",
       "      <td>Mailed check</td>\n",
       "      <td>56.95</td>\n",
       "      <td>1889.5</td>\n",
       "      <td>No</td>\n",
       "    </tr>\n",
       "    <tr>\n",
       "      <th>2</th>\n",
       "      <td>3668-QPYBK</td>\n",
       "      <td>Male</td>\n",
       "      <td>0</td>\n",
       "      <td>No</td>\n",
       "      <td>No</td>\n",
       "      <td>2</td>\n",
       "      <td>Yes</td>\n",
       "      <td>No</td>\n",
       "      <td>DSL</td>\n",
       "      <td>Yes</td>\n",
       "      <td>...</td>\n",
       "      <td>No</td>\n",
       "      <td>No</td>\n",
       "      <td>No</td>\n",
       "      <td>No</td>\n",
       "      <td>Month-to-month</td>\n",
       "      <td>Yes</td>\n",
       "      <td>Mailed check</td>\n",
       "      <td>53.85</td>\n",
       "      <td>108.15</td>\n",
       "      <td>Yes</td>\n",
       "    </tr>\n",
       "    <tr>\n",
       "      <th>3</th>\n",
       "      <td>7795-CFOCW</td>\n",
       "      <td>Male</td>\n",
       "      <td>0</td>\n",
       "      <td>No</td>\n",
       "      <td>No</td>\n",
       "      <td>45</td>\n",
       "      <td>No</td>\n",
       "      <td>No phone service</td>\n",
       "      <td>DSL</td>\n",
       "      <td>Yes</td>\n",
       "      <td>...</td>\n",
       "      <td>Yes</td>\n",
       "      <td>Yes</td>\n",
       "      <td>No</td>\n",
       "      <td>No</td>\n",
       "      <td>One year</td>\n",
       "      <td>No</td>\n",
       "      <td>Bank transfer (automatic)</td>\n",
       "      <td>42.30</td>\n",
       "      <td>1840.75</td>\n",
       "      <td>No</td>\n",
       "    </tr>\n",
       "    <tr>\n",
       "      <th>4</th>\n",
       "      <td>9237-HQITU</td>\n",
       "      <td>Female</td>\n",
       "      <td>0</td>\n",
       "      <td>No</td>\n",
       "      <td>No</td>\n",
       "      <td>2</td>\n",
       "      <td>Yes</td>\n",
       "      <td>No</td>\n",
       "      <td>Fiber optic</td>\n",
       "      <td>No</td>\n",
       "      <td>...</td>\n",
       "      <td>No</td>\n",
       "      <td>No</td>\n",
       "      <td>No</td>\n",
       "      <td>No</td>\n",
       "      <td>Month-to-month</td>\n",
       "      <td>Yes</td>\n",
       "      <td>Electronic check</td>\n",
       "      <td>70.70</td>\n",
       "      <td>151.65</td>\n",
       "      <td>Yes</td>\n",
       "    </tr>\n",
       "    <tr>\n",
       "      <th>...</th>\n",
       "      <td>...</td>\n",
       "      <td>...</td>\n",
       "      <td>...</td>\n",
       "      <td>...</td>\n",
       "      <td>...</td>\n",
       "      <td>...</td>\n",
       "      <td>...</td>\n",
       "      <td>...</td>\n",
       "      <td>...</td>\n",
       "      <td>...</td>\n",
       "      <td>...</td>\n",
       "      <td>...</td>\n",
       "      <td>...</td>\n",
       "      <td>...</td>\n",
       "      <td>...</td>\n",
       "      <td>...</td>\n",
       "      <td>...</td>\n",
       "      <td>...</td>\n",
       "      <td>...</td>\n",
       "      <td>...</td>\n",
       "      <td>...</td>\n",
       "    </tr>\n",
       "    <tr>\n",
       "      <th>7038</th>\n",
       "      <td>6840-RESVB</td>\n",
       "      <td>Male</td>\n",
       "      <td>0</td>\n",
       "      <td>Yes</td>\n",
       "      <td>Yes</td>\n",
       "      <td>24</td>\n",
       "      <td>Yes</td>\n",
       "      <td>Yes</td>\n",
       "      <td>DSL</td>\n",
       "      <td>Yes</td>\n",
       "      <td>...</td>\n",
       "      <td>Yes</td>\n",
       "      <td>Yes</td>\n",
       "      <td>Yes</td>\n",
       "      <td>Yes</td>\n",
       "      <td>One year</td>\n",
       "      <td>Yes</td>\n",
       "      <td>Mailed check</td>\n",
       "      <td>84.80</td>\n",
       "      <td>1990.5</td>\n",
       "      <td>No</td>\n",
       "    </tr>\n",
       "    <tr>\n",
       "      <th>7039</th>\n",
       "      <td>2234-XADUH</td>\n",
       "      <td>Female</td>\n",
       "      <td>0</td>\n",
       "      <td>Yes</td>\n",
       "      <td>Yes</td>\n",
       "      <td>72</td>\n",
       "      <td>Yes</td>\n",
       "      <td>Yes</td>\n",
       "      <td>Fiber optic</td>\n",
       "      <td>No</td>\n",
       "      <td>...</td>\n",
       "      <td>Yes</td>\n",
       "      <td>No</td>\n",
       "      <td>Yes</td>\n",
       "      <td>Yes</td>\n",
       "      <td>One year</td>\n",
       "      <td>Yes</td>\n",
       "      <td>Credit card (automatic)</td>\n",
       "      <td>103.20</td>\n",
       "      <td>7362.9</td>\n",
       "      <td>No</td>\n",
       "    </tr>\n",
       "    <tr>\n",
       "      <th>7040</th>\n",
       "      <td>4801-JZAZL</td>\n",
       "      <td>Female</td>\n",
       "      <td>0</td>\n",
       "      <td>Yes</td>\n",
       "      <td>Yes</td>\n",
       "      <td>11</td>\n",
       "      <td>No</td>\n",
       "      <td>No phone service</td>\n",
       "      <td>DSL</td>\n",
       "      <td>Yes</td>\n",
       "      <td>...</td>\n",
       "      <td>No</td>\n",
       "      <td>No</td>\n",
       "      <td>No</td>\n",
       "      <td>No</td>\n",
       "      <td>Month-to-month</td>\n",
       "      <td>Yes</td>\n",
       "      <td>Electronic check</td>\n",
       "      <td>29.60</td>\n",
       "      <td>346.45</td>\n",
       "      <td>No</td>\n",
       "    </tr>\n",
       "    <tr>\n",
       "      <th>7041</th>\n",
       "      <td>8361-LTMKD</td>\n",
       "      <td>Male</td>\n",
       "      <td>1</td>\n",
       "      <td>Yes</td>\n",
       "      <td>No</td>\n",
       "      <td>4</td>\n",
       "      <td>Yes</td>\n",
       "      <td>Yes</td>\n",
       "      <td>Fiber optic</td>\n",
       "      <td>No</td>\n",
       "      <td>...</td>\n",
       "      <td>No</td>\n",
       "      <td>No</td>\n",
       "      <td>No</td>\n",
       "      <td>No</td>\n",
       "      <td>Month-to-month</td>\n",
       "      <td>Yes</td>\n",
       "      <td>Mailed check</td>\n",
       "      <td>74.40</td>\n",
       "      <td>306.6</td>\n",
       "      <td>Yes</td>\n",
       "    </tr>\n",
       "    <tr>\n",
       "      <th>7042</th>\n",
       "      <td>3186-AJIEK</td>\n",
       "      <td>Male</td>\n",
       "      <td>0</td>\n",
       "      <td>No</td>\n",
       "      <td>No</td>\n",
       "      <td>66</td>\n",
       "      <td>Yes</td>\n",
       "      <td>No</td>\n",
       "      <td>Fiber optic</td>\n",
       "      <td>Yes</td>\n",
       "      <td>...</td>\n",
       "      <td>Yes</td>\n",
       "      <td>Yes</td>\n",
       "      <td>Yes</td>\n",
       "      <td>Yes</td>\n",
       "      <td>Two year</td>\n",
       "      <td>Yes</td>\n",
       "      <td>Bank transfer (automatic)</td>\n",
       "      <td>105.65</td>\n",
       "      <td>6844.5</td>\n",
       "      <td>No</td>\n",
       "    </tr>\n",
       "  </tbody>\n",
       "</table>\n",
       "<p>7043 rows × 21 columns</p>\n",
       "</div>"
      ],
      "text/plain": [
       "      customerID  gender  SeniorCitizen Partner Dependents  tenure  \\\n",
       "0     7590-VHVEG  Female              0     Yes         No       1   \n",
       "1     5575-GNVDE    Male              0      No         No      34   \n",
       "2     3668-QPYBK    Male              0      No         No       2   \n",
       "3     7795-CFOCW    Male              0      No         No      45   \n",
       "4     9237-HQITU  Female              0      No         No       2   \n",
       "...          ...     ...            ...     ...        ...     ...   \n",
       "7038  6840-RESVB    Male              0     Yes        Yes      24   \n",
       "7039  2234-XADUH  Female              0     Yes        Yes      72   \n",
       "7040  4801-JZAZL  Female              0     Yes        Yes      11   \n",
       "7041  8361-LTMKD    Male              1     Yes         No       4   \n",
       "7042  3186-AJIEK    Male              0      No         No      66   \n",
       "\n",
       "     PhoneService     MultipleLines InternetService OnlineSecurity  ...  \\\n",
       "0              No  No phone service             DSL             No  ...   \n",
       "1             Yes                No             DSL            Yes  ...   \n",
       "2             Yes                No             DSL            Yes  ...   \n",
       "3              No  No phone service             DSL            Yes  ...   \n",
       "4             Yes                No     Fiber optic             No  ...   \n",
       "...           ...               ...             ...            ...  ...   \n",
       "7038          Yes               Yes             DSL            Yes  ...   \n",
       "7039          Yes               Yes     Fiber optic             No  ...   \n",
       "7040           No  No phone service             DSL            Yes  ...   \n",
       "7041          Yes               Yes     Fiber optic             No  ...   \n",
       "7042          Yes                No     Fiber optic            Yes  ...   \n",
       "\n",
       "     DeviceProtection TechSupport StreamingTV StreamingMovies        Contract  \\\n",
       "0                  No          No          No              No  Month-to-month   \n",
       "1                 Yes          No          No              No        One year   \n",
       "2                  No          No          No              No  Month-to-month   \n",
       "3                 Yes         Yes          No              No        One year   \n",
       "4                  No          No          No              No  Month-to-month   \n",
       "...               ...         ...         ...             ...             ...   \n",
       "7038              Yes         Yes         Yes             Yes        One year   \n",
       "7039              Yes          No         Yes             Yes        One year   \n",
       "7040               No          No          No              No  Month-to-month   \n",
       "7041               No          No          No              No  Month-to-month   \n",
       "7042              Yes         Yes         Yes             Yes        Two year   \n",
       "\n",
       "     PaperlessBilling              PaymentMethod MonthlyCharges  TotalCharges  \\\n",
       "0                 Yes           Electronic check          29.85         29.85   \n",
       "1                  No               Mailed check          56.95        1889.5   \n",
       "2                 Yes               Mailed check          53.85        108.15   \n",
       "3                  No  Bank transfer (automatic)          42.30       1840.75   \n",
       "4                 Yes           Electronic check          70.70        151.65   \n",
       "...               ...                        ...            ...           ...   \n",
       "7038              Yes               Mailed check          84.80        1990.5   \n",
       "7039              Yes    Credit card (automatic)         103.20        7362.9   \n",
       "7040              Yes           Electronic check          29.60        346.45   \n",
       "7041              Yes               Mailed check          74.40         306.6   \n",
       "7042              Yes  Bank transfer (automatic)         105.65        6844.5   \n",
       "\n",
       "     Churn  \n",
       "0       No  \n",
       "1       No  \n",
       "2      Yes  \n",
       "3       No  \n",
       "4      Yes  \n",
       "...    ...  \n",
       "7038    No  \n",
       "7039    No  \n",
       "7040    No  \n",
       "7041   Yes  \n",
       "7042    No  \n",
       "\n",
       "[7043 rows x 21 columns]"
      ]
     },
     "execution_count": 2,
     "metadata": {},
     "output_type": "execute_result"
    }
   ],
   "source": [
    "df = pd.read_csv('WA_Fn-UseC_-Telco-Customer-Churn.csv')\n",
    "df"
   ]
  },
  {
   "cell_type": "code",
   "execution_count": 3,
   "metadata": {},
   "outputs": [
    {
     "name": "stdout",
     "output_type": "stream",
     "text": [
      "<class 'pandas.core.frame.DataFrame'>\n",
      "RangeIndex: 7043 entries, 0 to 7042\n",
      "Data columns (total 21 columns):\n",
      " #   Column            Non-Null Count  Dtype  \n",
      "---  ------            --------------  -----  \n",
      " 0   customerID        7043 non-null   object \n",
      " 1   gender            7043 non-null   object \n",
      " 2   SeniorCitizen     7043 non-null   int64  \n",
      " 3   Partner           7043 non-null   object \n",
      " 4   Dependents        7043 non-null   object \n",
      " 5   tenure            7043 non-null   int64  \n",
      " 6   PhoneService      7043 non-null   object \n",
      " 7   MultipleLines     7043 non-null   object \n",
      " 8   InternetService   7043 non-null   object \n",
      " 9   OnlineSecurity    7043 non-null   object \n",
      " 10  OnlineBackup      7043 non-null   object \n",
      " 11  DeviceProtection  7043 non-null   object \n",
      " 12  TechSupport       7043 non-null   object \n",
      " 13  StreamingTV       7043 non-null   object \n",
      " 14  StreamingMovies   7043 non-null   object \n",
      " 15  Contract          7043 non-null   object \n",
      " 16  PaperlessBilling  7043 non-null   object \n",
      " 17  PaymentMethod     7043 non-null   object \n",
      " 18  MonthlyCharges    7043 non-null   float64\n",
      " 19  TotalCharges      7043 non-null   object \n",
      " 20  Churn             7043 non-null   object \n",
      "dtypes: float64(1), int64(2), object(18)\n",
      "memory usage: 1.1+ MB\n"
     ]
    }
   ],
   "source": [
    "df.info()"
   ]
  },
  {
   "cell_type": "markdown",
   "metadata": {},
   "source": [
    "# Data Preparation"
   ]
  },
  {
   "cell_type": "code",
   "execution_count": 4,
   "metadata": {},
   "outputs": [
    {
     "data": {
      "text/plain": [
       "No     5174\n",
       "Yes    1869\n",
       "Name: Churn, dtype: int64"
      ]
     },
     "execution_count": 4,
     "metadata": {},
     "output_type": "execute_result"
    }
   ],
   "source": [
    "df['Churn'].value_counts()"
   ]
  },
  {
   "cell_type": "code",
   "execution_count": 5,
   "metadata": {},
   "outputs": [],
   "source": [
    "import pylab as plt"
   ]
  },
  {
   "cell_type": "code",
   "execution_count": 6,
   "metadata": {},
   "outputs": [
    {
     "data": {
      "text/plain": [
       "Text(0.5, 1.0, 'Gender Histogram')"
      ]
     },
     "execution_count": 6,
     "metadata": {},
     "output_type": "execute_result"
    },
    {
     "data": {
      "image/png": "[encoded data removed]",
      "text/plain": [
       "<Figure size 432x288 with 1 Axes>"
      ]
     },
     "metadata": {
      "needs_background": "light"
     },
     "output_type": "display_data"
    }
   ],
   "source": [
    "plt.hist(df['gender'])\n",
    "plt.title('Gender Histogram')"
   ]
  },
  {
   "cell_type": "markdown",
   "metadata": {},
   "source": [
    "The histogram show the number of males and females is a close difference."
   ]
  },
  {
   "cell_type": "code",
   "execution_count": 7,
   "metadata": {},
   "outputs": [
    {
     "data": {
      "text/plain": [
       "<AxesSubplot:title={'center':'Contract Counts'}>"
      ]
     },
     "execution_count": 7,
     "metadata": {},
     "output_type": "execute_result"
    },
    {
     "data": {
      "image/png": "[encoded data removed]",
      "text/plain": [
       "<Figure size 432x288 with 1 Axes>"
      ]
     },
     "metadata": {
      "needs_background": "light"
     },
     "output_type": "display_data"
    }
   ],
   "source": [
    "df['Contract'].value_counts().plot(kind='bar', title='Contract Counts')"
   ]
  },
  {
   "cell_type": "markdown",
   "metadata": {},
   "source": [
    "The month to month customers are significantly higher."
   ]
  },
  {
   "cell_type": "code",
   "execution_count": 8,
   "metadata": {},
   "outputs": [
    {
     "data": {
      "text/plain": [
       "<AxesSubplot:title={'center':'Payment Method Counts'}>"
      ]
     },
     "execution_count": 8,
     "metadata": {},
     "output_type": "execute_result"
    },
    {
     "data": {
      "image/png": "[encoded data removed]",
      "text/plain": [
       "<Figure size 432x288 with 1 Axes>"
      ]
     },
     "metadata": {
      "needs_background": "light"
     },
     "output_type": "display_data"
    }
   ],
   "source": [
    "df['PaymentMethod'].value_counts().plot(kind='bar', title='Payment Method Counts')"
   ]
  },
  {
   "cell_type": "markdown",
   "metadata": {},
   "source": [
    "The Electronic check is the most preffered mode of payment "
   ]
  },
  {
   "cell_type": "code",
   "execution_count": 9,
   "metadata": {},
   "outputs": [
    {
     "data": {
      "text/html": [
       "<div>\n",
       "<style scoped>\n",
       "    .dataframe tbody tr th:only-of-type {\n",
       "        vertical-align: middle;\n",
       "    }\n",
       "\n",
       "    .dataframe tbody tr th {\n",
       "        vertical-align: top;\n",
       "    }\n",
       "\n",
       "    .dataframe thead th {\n",
       "        text-align: right;\n",
       "    }\n",
       "</style>\n",
       "<table border=\"1\" class=\"dataframe\">\n",
       "  <thead>\n",
       "    <tr style=\"text-align: right;\">\n",
       "      <th>Churn</th>\n",
       "      <th>No</th>\n",
       "      <th>Yes</th>\n",
       "    </tr>\n",
       "    <tr>\n",
       "      <th>PaymentMethod</th>\n",
       "      <th></th>\n",
       "      <th></th>\n",
       "    </tr>\n",
       "  </thead>\n",
       "  <tbody>\n",
       "    <tr>\n",
       "      <th>Bank transfer (automatic)</th>\n",
       "      <td>1286</td>\n",
       "      <td>258</td>\n",
       "    </tr>\n",
       "    <tr>\n",
       "      <th>Credit card (automatic)</th>\n",
       "      <td>1290</td>\n",
       "      <td>232</td>\n",
       "    </tr>\n",
       "    <tr>\n",
       "      <th>Electronic check</th>\n",
       "      <td>1294</td>\n",
       "      <td>1071</td>\n",
       "    </tr>\n",
       "    <tr>\n",
       "      <th>Mailed check</th>\n",
       "      <td>1304</td>\n",
       "      <td>308</td>\n",
       "    </tr>\n",
       "  </tbody>\n",
       "</table>\n",
       "</div>"
      ],
      "text/plain": [
       "Churn                        No   Yes\n",
       "PaymentMethod                        \n",
       "Bank transfer (automatic)  1286   258\n",
       "Credit card (automatic)    1290   232\n",
       "Electronic check           1294  1071\n",
       "Mailed check               1304   308"
      ]
     },
     "execution_count": 9,
     "metadata": {},
     "output_type": "execute_result"
    }
   ],
   "source": [
    "pclass_xt = pd.crosstab(df['PaymentMethod'], df['Churn'])\n",
    "pclass_xt"
   ]
  },
  {
   "cell_type": "code",
   "execution_count": 10,
   "metadata": {},
   "outputs": [
    {
     "data": {
      "text/plain": [
       "Text(0, 0.5, 'Churn')"
      ]
     },
     "execution_count": 10,
     "metadata": {},
     "output_type": "execute_result"
    },
    {
     "data": {
      "image/png": "[encoded data removed]",
      "text/plain": [
       "<Figure size 432x288 with 1 Axes>"
      ]
     },
     "metadata": {
      "needs_background": "light"
     },
     "output_type": "display_data"
    }
   ],
   "source": [
    "pclass_xt_pct = pclass_xt.div(pclass_xt.sum(1).astype(float), axis=0)\n",
    "\n",
    "pclass_xt_pct.plot(kind='bar', \n",
    "                   stacked=True, \n",
    "                   title='Payment Method by Churn Rate')\n",
    "plt.xlabel('PaymentMethod')\n",
    "plt.ylabel('Churn')"
   ]
  },
  {
   "cell_type": "markdown",
   "metadata": {},
   "source": [
    "Most customers who churn tend to use Electronic Check payment mode. "
   ]
  },
  {
   "cell_type": "code",
   "execution_count": 11,
   "metadata": {},
   "outputs": [
    {
     "name": "stdout",
     "output_type": "stream",
     "text": [
      "<class 'pandas.core.frame.DataFrame'>\n",
      "RangeIndex: 7043 entries, 0 to 7042\n",
      "Data columns (total 21 columns):\n",
      " #   Column            Non-Null Count  Dtype  \n",
      "---  ------            --------------  -----  \n",
      " 0   customerID        7043 non-null   object \n",
      " 1   gender            7043 non-null   object \n",
      " 2   SeniorCitizen     7043 non-null   int64  \n",
      " 3   Partner           7043 non-null   object \n",
      " 4   Dependents        7043 non-null   object \n",
      " 5   tenure            7043 non-null   int64  \n",
      " 6   PhoneService      7043 non-null   object \n",
      " 7   MultipleLines     7043 non-null   object \n",
      " 8   InternetService   7043 non-null   object \n",
      " 9   OnlineSecurity    7043 non-null   object \n",
      " 10  OnlineBackup      7043 non-null   object \n",
      " 11  DeviceProtection  7043 non-null   object \n",
      " 12  TechSupport       7043 non-null   object \n",
      " 13  StreamingTV       7043 non-null   object \n",
      " 14  StreamingMovies   7043 non-null   object \n",
      " 15  Contract          7043 non-null   object \n",
      " 16  PaperlessBilling  7043 non-null   object \n",
      " 17  PaymentMethod     7043 non-null   object \n",
      " 18  MonthlyCharges    7043 non-null   float64\n",
      " 19  TotalCharges      7043 non-null   object \n",
      " 20  Churn             7043 non-null   object \n",
      "dtypes: float64(1), int64(2), object(18)\n",
      "memory usage: 1.1+ MB\n"
     ]
    }
   ],
   "source": [
    "df.info()"
   ]
  },
  {
   "cell_type": "code",
   "execution_count": 12,
   "metadata": {
    "scrolled": true
   },
   "outputs": [
    {
     "name": "stdout",
     "output_type": "stream",
     "text": [
      "<class 'pandas.core.frame.DataFrame'>\n",
      "Int64Index: 1761 entries, 2200 to 450\n",
      "Data columns (total 21 columns):\n",
      " #   Column            Non-Null Count  Dtype  \n",
      "---  ------            --------------  -----  \n",
      " 0   customerID        1761 non-null   object \n",
      " 1   gender            1761 non-null   object \n",
      " 2   SeniorCitizen     1761 non-null   int64  \n",
      " 3   Partner           1761 non-null   object \n",
      " 4   Dependents        1761 non-null   object \n",
      " 5   tenure            1761 non-null   int64  \n",
      " 6   PhoneService      1761 non-null   object \n",
      " 7   MultipleLines     1761 non-null   object \n",
      " 8   InternetService   1761 non-null   object \n",
      " 9   OnlineSecurity    1761 non-null   object \n",
      " 10  OnlineBackup      1761 non-null   object \n",
      " 11  DeviceProtection  1761 non-null   object \n",
      " 12  TechSupport       1761 non-null   object \n",
      " 13  StreamingTV       1761 non-null   object \n",
      " 14  StreamingMovies   1761 non-null   object \n",
      " 15  Contract          1761 non-null   object \n",
      " 16  PaperlessBilling  1761 non-null   object \n",
      " 17  PaymentMethod     1761 non-null   object \n",
      " 18  MonthlyCharges    1761 non-null   float64\n",
      " 19  TotalCharges      1761 non-null   object \n",
      " 20  Churn             1761 non-null   object \n",
      "dtypes: float64(1), int64(2), object(18)\n",
      "memory usage: 302.7+ KB\n"
     ]
    }
   ],
   "source": [
    "# Reducing size of DF from 7043 to 1761\n",
    "df = df.sample(frac =.25, random_state= 0)\n",
    "df.info()"
   ]
  },
  {
   "cell_type": "code",
   "execution_count": 13,
   "metadata": {},
   "outputs": [],
   "source": [
    "# Dropping Duplicates in Dataset\n",
    "\n",
    "df.drop_duplicates(subset=None, keep= False, inplace= True)"
   ]
  },
  {
   "cell_type": "code",
   "execution_count": 14,
   "metadata": {},
   "outputs": [],
   "source": [
    "# Dropping customerID column\n",
    "df.drop(labels= 'customerID' , axis=1, inplace= True)"
   ]
  },
  {
   "cell_type": "markdown",
   "metadata": {},
   "source": [
    "Converting binary values to respective 0s and 1s depending of freq"
   ]
  },
  {
   "cell_type": "code",
   "execution_count": 15,
   "metadata": {},
   "outputs": [
    {
     "data": {
      "text/plain": [
       "count     1761\n",
       "unique       2\n",
       "top       Male\n",
       "freq       926\n",
       "Name: gender, dtype: object"
      ]
     },
     "execution_count": 15,
     "metadata": {},
     "output_type": "execute_result"
    }
   ],
   "source": [
    "#Details of the Gender column\n",
    "df.gender.describe()"
   ]
  },
  {
   "cell_type": "code",
   "execution_count": 16,
   "metadata": {},
   "outputs": [],
   "source": [
    "#Replacing most frequent value->'Male' with 1 and 'Female' with 0\n",
    "df[\"gender\"].replace(to_replace='Male', value= 1, inplace=True)\n",
    "df[\"gender\"].replace(to_replace='Female', value= 0, inplace=True)"
   ]
  },
  {
   "cell_type": "code",
   "execution_count": 17,
   "metadata": {},
   "outputs": [
    {
     "data": {
      "text/plain": [
       "count     1761\n",
       "unique       2\n",
       "top         No\n",
       "freq       918\n",
       "Name: Partner, dtype: object"
      ]
     },
     "execution_count": 17,
     "metadata": {},
     "output_type": "execute_result"
    }
   ],
   "source": [
    "#Details of the Partner column\n",
    "df.Partner.describe()"
   ]
  },
  {
   "cell_type": "code",
   "execution_count": 18,
   "metadata": {},
   "outputs": [],
   "source": [
    "#Replacing most frequent value->'No' with 1 and 'Yes' with 0\n",
    "\n",
    "df['Partner'].replace(to_replace = 'No', value = 1, inplace = True )\n",
    "df['Partner'].replace(to_replace = 'Yes', value = 0, inplace = True )"
   ]
  },
  {
   "cell_type": "code",
   "execution_count": 19,
   "metadata": {},
   "outputs": [
    {
     "data": {
      "text/plain": [
       "count     1761\n",
       "unique       2\n",
       "top         No\n",
       "freq      1242\n",
       "Name: Dependents, dtype: object"
      ]
     },
     "execution_count": 19,
     "metadata": {},
     "output_type": "execute_result"
    }
   ],
   "source": [
    "df['Dependents'].describe()"
   ]
  },
  {
   "cell_type": "code",
   "execution_count": 20,
   "metadata": {},
   "outputs": [],
   "source": [
    "#Replacing most frequent value->'No' with 1 and 'Yes' with 0\n",
    "\n",
    "df['Dependents'].replace(to_replace = 'No', value = 1, inplace = True )\n",
    "df['Dependents'].replace(to_replace = 'Yes', value = 0, inplace = True )"
   ]
  },
  {
   "cell_type": "code",
   "execution_count": 21,
   "metadata": {},
   "outputs": [
    {
     "data": {
      "text/plain": [
       "count     1761\n",
       "unique       2\n",
       "top        Yes\n",
       "freq      1586\n",
       "Name: PhoneService, dtype: object"
      ]
     },
     "execution_count": 21,
     "metadata": {},
     "output_type": "execute_result"
    }
   ],
   "source": [
    "df['PhoneService'].describe()"
   ]
  },
  {
   "cell_type": "code",
   "execution_count": 22,
   "metadata": {},
   "outputs": [],
   "source": [
    "#Replacing most frequent value->'Yes' with 1 and 'No' with 0\n",
    "\n",
    "df['PhoneService'].replace(to_replace = 'Yes', value = 1, inplace = True )\n",
    "df['PhoneService'].replace(to_replace = 'No', value = 0, inplace = True )"
   ]
  },
  {
   "cell_type": "code",
   "execution_count": 23,
   "metadata": {},
   "outputs": [
    {
     "data": {
      "text/plain": [
       "count     1761\n",
       "unique       2\n",
       "top        Yes\n",
       "freq      1015\n",
       "Name: PaperlessBilling, dtype: object"
      ]
     },
     "execution_count": 23,
     "metadata": {},
     "output_type": "execute_result"
    }
   ],
   "source": [
    "df['PaperlessBilling'].describe()"
   ]
  },
  {
   "cell_type": "code",
   "execution_count": 24,
   "metadata": {},
   "outputs": [],
   "source": [
    "#Replacing most frequent value->'Yes' with 1 and 'No' with 0\n",
    "\n",
    "df['PaperlessBilling'].replace(to_replace = 'Yes', value = 1, inplace = True )\n",
    "df['PaperlessBilling'].replace(to_replace = 'No', value = 0, inplace = True )"
   ]
  },
  {
   "cell_type": "code",
   "execution_count": 25,
   "metadata": {},
   "outputs": [
    {
     "data": {
      "text/plain": [
       "count     1761\n",
       "unique       2\n",
       "top         No\n",
       "freq      1298\n",
       "Name: Churn, dtype: object"
      ]
     },
     "execution_count": 25,
     "metadata": {},
     "output_type": "execute_result"
    }
   ],
   "source": [
    "df['Churn'].describe()"
   ]
  },
  {
   "cell_type": "code",
   "execution_count": 26,
   "metadata": {},
   "outputs": [],
   "source": [
    "#Replacing most frequent value->'Yes' with 1 and 'No' with 0\n",
    "\n",
    "df['Churn'].replace(to_replace = 'Yes', value = 1, inplace = True )\n",
    "df['Churn'].replace(to_replace = 'No', value = 0, inplace = True )"
   ]
  },
  {
   "cell_type": "markdown",
   "metadata": {},
   "source": [
    "Inducing random null values in the 6 columns"
   ]
  },
  {
   "cell_type": "code",
   "execution_count": 27,
   "metadata": {},
   "outputs": [],
   "source": [
    "column_list = ['OnlineSecurity','OnlineBackup','DeviceProtection','TechSupport','StreamingTV','StreamingMovies']\n",
    "rand_st = 0\n",
    "for column in column_list:\n",
    "    df.loc[df.sample(frac = .17, random_state = rand_st).index,column] = np.NaN\n",
    "    rand_st += 5"
   ]
  },
  {
   "cell_type": "markdown",
   "metadata": {},
   "source": [
    "Missing values need to be between 5-10% "
   ]
  },
  {
   "cell_type": "code",
   "execution_count": 28,
   "metadata": {},
   "outputs": [
    {
     "data": {
      "text/plain": [
       "0.05093696763202726"
      ]
     },
     "execution_count": 28,
     "metadata": {},
     "output_type": "execute_result"
    }
   ],
   "source": [
    "# % of missing values\n",
    "df.isna().sum().sum()/(len(df)*len(df.columns))"
   ]
  },
  {
   "cell_type": "markdown",
   "metadata": {},
   "source": [
    "Finding unique values, imputing null values with most frequent value and processing one hot vector for then next 6 variables"
   ]
  },
  {
   "cell_type": "code",
   "execution_count": 29,
   "metadata": {},
   "outputs": [
    {
     "data": {
      "text/plain": [
       "array(['No', 'Yes', 'No internet service', nan], dtype=object)"
      ]
     },
     "execution_count": 29,
     "metadata": {},
     "output_type": "execute_result"
    }
   ],
   "source": [
    "# Values in col Online Security\n",
    "df.OnlineSecurity.unique()"
   ]
  },
  {
   "cell_type": "code",
   "execution_count": 30,
   "metadata": {},
   "outputs": [
    {
     "data": {
      "text/plain": [
       "count     1462\n",
       "unique       3\n",
       "top         No\n",
       "freq       739\n",
       "Name: OnlineSecurity, dtype: object"
      ]
     },
     "execution_count": 30,
     "metadata": {},
     "output_type": "execute_result"
    }
   ],
   "source": [
    "df['OnlineSecurity'].describe()"
   ]
  },
  {
   "cell_type": "code",
   "execution_count": 31,
   "metadata": {},
   "outputs": [],
   "source": [
    "#Replacing most frequent value->'Yes' with 0 and 'No' with 1\n",
    "\n",
    "df['OnlineSecurity'].replace(to_replace = 'Yes', value = 0, inplace = True )\n",
    "df['OnlineSecurity'].replace(to_replace = 'No', value = 1, inplace = True )\n",
    "df['OnlineSecurity'].replace(to_replace = np.nan , value = 1, inplace = True )"
   ]
  },
  {
   "cell_type": "code",
   "execution_count": 32,
   "metadata": {},
   "outputs": [],
   "source": [
    "dummies = pd.get_dummies(df['OnlineSecurity'], prefix = 'OnlineSecurity')\n",
    "df[dummies.columns] = dummies\n",
    "df.drop('OnlineSecurity', axis = 1, inplace = True)"
   ]
  },
  {
   "cell_type": "code",
   "execution_count": 33,
   "metadata": {},
   "outputs": [
    {
     "data": {
      "text/plain": [
       "array(['Yes', 'No', 'No internet service', nan], dtype=object)"
      ]
     },
     "execution_count": 33,
     "metadata": {},
     "output_type": "execute_result"
    }
   ],
   "source": [
    "df.OnlineBackup.unique()"
   ]
  },
  {
   "cell_type": "code",
   "execution_count": 34,
   "metadata": {},
   "outputs": [],
   "source": [
    "#Replacing most frequent value->'Yes' with 0 and 'No' with 1\n",
    "\n",
    "df['OnlineBackup'].replace(to_replace = 'Yes', value = 0, inplace = True )\n",
    "df['OnlineBackup'].replace(to_replace = 'No', value = 1, inplace = True )\n",
    "df['OnlineBackup'].replace(to_replace = np.nan, value = 1, inplace = True )"
   ]
  },
  {
   "cell_type": "code",
   "execution_count": 35,
   "metadata": {},
   "outputs": [],
   "source": [
    "dummies = pd.get_dummies(df['OnlineBackup'], prefix = 'OnlineBackup')\n",
    "df[dummies.columns] = dummies\n",
    "df.drop('OnlineBackup', axis = 1, inplace = True)"
   ]
  },
  {
   "cell_type": "code",
   "execution_count": 36,
   "metadata": {},
   "outputs": [
    {
     "data": {
      "text/plain": [
       "array(['No', nan, 'No internet service', 'Yes'], dtype=object)"
      ]
     },
     "execution_count": 36,
     "metadata": {},
     "output_type": "execute_result"
    }
   ],
   "source": [
    "df['DeviceProtection'].unique()"
   ]
  },
  {
   "cell_type": "code",
   "execution_count": 37,
   "metadata": {},
   "outputs": [
    {
     "data": {
      "text/plain": [
       "count     1462\n",
       "unique       3\n",
       "top         No\n",
       "freq       629\n",
       "Name: DeviceProtection, dtype: object"
      ]
     },
     "execution_count": 37,
     "metadata": {},
     "output_type": "execute_result"
    }
   ],
   "source": [
    "df['DeviceProtection'].describe()"
   ]
  },
  {
   "cell_type": "code",
   "execution_count": 38,
   "metadata": {},
   "outputs": [],
   "source": [
    "#Replacing most frequent value->'Yes' with 0 and 'No' with 1\n",
    "\n",
    "df['DeviceProtection'].replace(to_replace = 'Yes', value = 0, inplace = True )\n",
    "df['DeviceProtection'].replace(to_replace = 'No', value = 1, inplace = True )\n",
    "df['DeviceProtection'].replace(to_replace = np.nan, value = 1, inplace = True )"
   ]
  },
  {
   "cell_type": "code",
   "execution_count": 39,
   "metadata": {},
   "outputs": [],
   "source": [
    "dummies = pd.get_dummies(df['DeviceProtection'], prefix = 'DeviceProtection')\n",
    "df[dummies.columns] = dummies\n",
    "df.drop('DeviceProtection', axis = 1, inplace = True)"
   ]
  },
  {
   "cell_type": "code",
   "execution_count": 40,
   "metadata": {},
   "outputs": [
    {
     "data": {
      "text/plain": [
       "array(['No', 'Yes', nan, 'No internet service'], dtype=object)"
      ]
     },
     "execution_count": 40,
     "metadata": {},
     "output_type": "execute_result"
    }
   ],
   "source": [
    "df['TechSupport'].unique()"
   ]
  },
  {
   "cell_type": "code",
   "execution_count": 41,
   "metadata": {},
   "outputs": [
    {
     "data": {
      "text/plain": [
       "count     1462\n",
       "unique       3\n",
       "top         No\n",
       "freq       691\n",
       "Name: TechSupport, dtype: object"
      ]
     },
     "execution_count": 41,
     "metadata": {},
     "output_type": "execute_result"
    }
   ],
   "source": [
    "df['TechSupport'].describe()"
   ]
  },
  {
   "cell_type": "code",
   "execution_count": 42,
   "metadata": {},
   "outputs": [],
   "source": [
    "#Replacing most frequent value->'Yes' with 0 and 'No' with 1\n",
    "\n",
    "df['TechSupport'].replace(to_replace = 'Yes', value = 0, inplace = True )\n",
    "df['TechSupport'].replace(to_replace = 'No', value = 1, inplace = True )\n",
    "df['TechSupport'].replace(to_replace = np.nan, value = 1, inplace = True )"
   ]
  },
  {
   "cell_type": "code",
   "execution_count": 43,
   "metadata": {},
   "outputs": [],
   "source": [
    "dummies = pd.get_dummies(df['TechSupport'], prefix = 'TechSupport')\n",
    "df[dummies.columns] = dummies\n",
    "df.drop('TechSupport', axis = 1, inplace = True)"
   ]
  },
  {
   "cell_type": "code",
   "execution_count": 44,
   "metadata": {},
   "outputs": [
    {
     "data": {
      "text/plain": [
       "array(['Yes', 'No internet service', 'No', nan], dtype=object)"
      ]
     },
     "execution_count": 44,
     "metadata": {},
     "output_type": "execute_result"
    }
   ],
   "source": [
    "df['StreamingTV'].unique()"
   ]
  },
  {
   "cell_type": "code",
   "execution_count": 45,
   "metadata": {},
   "outputs": [
    {
     "data": {
      "text/plain": [
       "count     1462\n",
       "unique       3\n",
       "top        Yes\n",
       "freq       571\n",
       "Name: StreamingTV, dtype: object"
      ]
     },
     "execution_count": 45,
     "metadata": {},
     "output_type": "execute_result"
    }
   ],
   "source": [
    "df['StreamingTV'].describe()"
   ]
  },
  {
   "cell_type": "code",
   "execution_count": 46,
   "metadata": {},
   "outputs": [],
   "source": [
    "#Replacing most frequent value->'Yes' with 0 and 'No' with 1\n",
    "\n",
    "df['StreamingTV'].replace(to_replace = 'Yes', value = 0, inplace = True )\n",
    "df['StreamingTV'].replace(to_replace = 'No', value = 1, inplace = True )\n",
    "df['StreamingTV'].replace(to_replace = np.nan, value = 1, inplace = True )"
   ]
  },
  {
   "cell_type": "code",
   "execution_count": 47,
   "metadata": {},
   "outputs": [],
   "source": [
    "dummies = pd.get_dummies(df['StreamingTV'], prefix = 'StreamingTV')\n",
    "df[dummies.columns] = dummies\n",
    "df.drop('StreamingTV', axis = 1, inplace = True)"
   ]
  },
  {
   "cell_type": "code",
   "execution_count": 48,
   "metadata": {},
   "outputs": [
    {
     "data": {
      "text/plain": [
       "array(['No', 'Yes', 'No internet service', nan], dtype=object)"
      ]
     },
     "execution_count": 48,
     "metadata": {},
     "output_type": "execute_result"
    }
   ],
   "source": [
    "df['StreamingMovies'].unique()"
   ]
  },
  {
   "cell_type": "code",
   "execution_count": 49,
   "metadata": {},
   "outputs": [
    {
     "data": {
      "text/plain": [
       "count     1462\n",
       "unique       3\n",
       "top        Yes\n",
       "freq       582\n",
       "Name: StreamingMovies, dtype: object"
      ]
     },
     "execution_count": 49,
     "metadata": {},
     "output_type": "execute_result"
    }
   ],
   "source": [
    "df['StreamingMovies'].describe()"
   ]
  },
  {
   "cell_type": "code",
   "execution_count": 50,
   "metadata": {},
   "outputs": [],
   "source": [
    "#Replacing most frequent value->'Yes' with 0 and 'No' with 1\n",
    "\n",
    "df['StreamingMovies'].replace(to_replace = 'Yes', value = 1, inplace = True )\n",
    "df['StreamingMovies'].replace(to_replace = 'No', value = 0, inplace = True )\n",
    "df['StreamingMovies'].replace(to_replace = np.nan, value = 1, inplace = True )"
   ]
  },
  {
   "cell_type": "code",
   "execution_count": 51,
   "metadata": {},
   "outputs": [],
   "source": [
    "dummies = pd.get_dummies(df['StreamingMovies'], prefix = 'StreamingMovies')\n",
    "df[dummies.columns] = dummies\n",
    "df.drop('StreamingMovies', axis = 1, inplace = True)"
   ]
  },
  {
   "cell_type": "markdown",
   "metadata": {},
   "source": [
    "Identifying categorical variables with multiple inputs and converting to one hot vector"
   ]
  },
  {
   "cell_type": "code",
   "execution_count": 52,
   "metadata": {},
   "outputs": [
    {
     "data": {
      "text/plain": [
       "array(['No', 'Yes', 'No phone service'], dtype=object)"
      ]
     },
     "execution_count": 52,
     "metadata": {},
     "output_type": "execute_result"
    }
   ],
   "source": [
    "df.MultipleLines.unique()"
   ]
  },
  {
   "cell_type": "code",
   "execution_count": 53,
   "metadata": {},
   "outputs": [],
   "source": [
    "dummies = pd.get_dummies(df['MultipleLines'], prefix = 'MultipleLines')\n",
    "df[dummies.columns] = dummies\n",
    "df.drop('MultipleLines', axis = 1, inplace = True)"
   ]
  },
  {
   "cell_type": "code",
   "execution_count": 54,
   "metadata": {},
   "outputs": [
    {
     "data": {
      "text/plain": [
       "array(['DSL', 'Fiber optic', 'No'], dtype=object)"
      ]
     },
     "execution_count": 54,
     "metadata": {},
     "output_type": "execute_result"
    }
   ],
   "source": [
    "df.InternetService.unique()"
   ]
  },
  {
   "cell_type": "code",
   "execution_count": 55,
   "metadata": {},
   "outputs": [],
   "source": [
    "dummies = pd.get_dummies(df['InternetService'], prefix = 'InternetService')\n",
    "df[dummies.columns] = dummies\n",
    "df.drop('InternetService', axis = 1, inplace = True)"
   ]
  },
  {
   "cell_type": "code",
   "execution_count": 56,
   "metadata": {},
   "outputs": [
    {
     "data": {
      "text/plain": [
       "array(['One year', 'Month-to-month', 'Two year'], dtype=object)"
      ]
     },
     "execution_count": 56,
     "metadata": {},
     "output_type": "execute_result"
    }
   ],
   "source": [
    "df.Contract.unique()"
   ]
  },
  {
   "cell_type": "code",
   "execution_count": 57,
   "metadata": {},
   "outputs": [],
   "source": [
    "dummies = pd.get_dummies(df['Contract'], prefix = 'Contract')\n",
    "df[dummies.columns] = dummies\n",
    "df.drop('Contract', axis = 1, inplace = True)"
   ]
  },
  {
   "cell_type": "code",
   "execution_count": 58,
   "metadata": {},
   "outputs": [
    {
     "data": {
      "text/plain": [
       "array(['Electronic check', 'Credit card (automatic)', 'Mailed check',\n",
       "       'Bank transfer (automatic)'], dtype=object)"
      ]
     },
     "execution_count": 58,
     "metadata": {},
     "output_type": "execute_result"
    }
   ],
   "source": [
    "df.PaymentMethod.unique()"
   ]
  },
  {
   "cell_type": "code",
   "execution_count": 59,
   "metadata": {},
   "outputs": [],
   "source": [
    "dummies = pd.get_dummies(df['PaymentMethod'], prefix = 'PaymentMethod')\n",
    "df[dummies.columns] = dummies\n",
    "df.drop('PaymentMethod', axis = 1, inplace = True)"
   ]
  },
  {
   "cell_type": "markdown",
   "metadata": {},
   "source": [
    "Converting datatype "
   ]
  },
  {
   "cell_type": "code",
   "execution_count": 60,
   "metadata": {},
   "outputs": [],
   "source": [
    "df['TotalCharges'] = pd.to_numeric(df['TotalCharges'],errors='coerce')"
   ]
  },
  {
   "cell_type": "code",
   "execution_count": 61,
   "metadata": {
    "scrolled": false
   },
   "outputs": [
    {
     "data": {
      "text/html": [
       "<div>\n",
       "<style scoped>\n",
       "    .dataframe tbody tr th:only-of-type {\n",
       "        vertical-align: middle;\n",
       "    }\n",
       "\n",
       "    .dataframe tbody tr th {\n",
       "        vertical-align: top;\n",
       "    }\n",
       "\n",
       "    .dataframe thead th {\n",
       "        text-align: right;\n",
       "    }\n",
       "</style>\n",
       "<table border=\"1\" class=\"dataframe\">\n",
       "  <thead>\n",
       "    <tr style=\"text-align: right;\">\n",
       "      <th></th>\n",
       "      <th>gender</th>\n",
       "      <th>SeniorCitizen</th>\n",
       "      <th>Partner</th>\n",
       "      <th>Dependents</th>\n",
       "      <th>tenure</th>\n",
       "      <th>PhoneService</th>\n",
       "      <th>PaperlessBilling</th>\n",
       "      <th>MonthlyCharges</th>\n",
       "      <th>TotalCharges</th>\n",
       "      <th>Churn</th>\n",
       "      <th>...</th>\n",
       "      <th>InternetService_DSL</th>\n",
       "      <th>InternetService_Fiber optic</th>\n",
       "      <th>InternetService_No</th>\n",
       "      <th>Contract_Month-to-month</th>\n",
       "      <th>Contract_One year</th>\n",
       "      <th>Contract_Two year</th>\n",
       "      <th>PaymentMethod_Bank transfer (automatic)</th>\n",
       "      <th>PaymentMethod_Credit card (automatic)</th>\n",
       "      <th>PaymentMethod_Electronic check</th>\n",
       "      <th>PaymentMethod_Mailed check</th>\n",
       "    </tr>\n",
       "  </thead>\n",
       "  <tbody>\n",
       "    <tr>\n",
       "      <th>2200</th>\n",
       "      <td>0</td>\n",
       "      <td>0</td>\n",
       "      <td>1</td>\n",
       "      <td>1</td>\n",
       "      <td>19</td>\n",
       "      <td>1</td>\n",
       "      <td>0</td>\n",
       "      <td>58.20</td>\n",
       "      <td>1045.25</td>\n",
       "      <td>0</td>\n",
       "      <td>...</td>\n",
       "      <td>1</td>\n",
       "      <td>0</td>\n",
       "      <td>0</td>\n",
       "      <td>0</td>\n",
       "      <td>1</td>\n",
       "      <td>0</td>\n",
       "      <td>0</td>\n",
       "      <td>0</td>\n",
       "      <td>1</td>\n",
       "      <td>0</td>\n",
       "    </tr>\n",
       "    <tr>\n",
       "      <th>4627</th>\n",
       "      <td>1</td>\n",
       "      <td>0</td>\n",
       "      <td>1</td>\n",
       "      <td>1</td>\n",
       "      <td>60</td>\n",
       "      <td>1</td>\n",
       "      <td>1</td>\n",
       "      <td>116.60</td>\n",
       "      <td>7049.50</td>\n",
       "      <td>0</td>\n",
       "      <td>...</td>\n",
       "      <td>0</td>\n",
       "      <td>1</td>\n",
       "      <td>0</td>\n",
       "      <td>0</td>\n",
       "      <td>1</td>\n",
       "      <td>0</td>\n",
       "      <td>0</td>\n",
       "      <td>1</td>\n",
       "      <td>0</td>\n",
       "      <td>0</td>\n",
       "    </tr>\n",
       "    <tr>\n",
       "      <th>3225</th>\n",
       "      <td>0</td>\n",
       "      <td>0</td>\n",
       "      <td>1</td>\n",
       "      <td>1</td>\n",
       "      <td>13</td>\n",
       "      <td>1</td>\n",
       "      <td>1</td>\n",
       "      <td>71.95</td>\n",
       "      <td>923.85</td>\n",
       "      <td>0</td>\n",
       "      <td>...</td>\n",
       "      <td>1</td>\n",
       "      <td>0</td>\n",
       "      <td>0</td>\n",
       "      <td>1</td>\n",
       "      <td>0</td>\n",
       "      <td>0</td>\n",
       "      <td>0</td>\n",
       "      <td>0</td>\n",
       "      <td>1</td>\n",
       "      <td>0</td>\n",
       "    </tr>\n",
       "    <tr>\n",
       "      <th>2828</th>\n",
       "      <td>1</td>\n",
       "      <td>0</td>\n",
       "      <td>1</td>\n",
       "      <td>1</td>\n",
       "      <td>1</td>\n",
       "      <td>1</td>\n",
       "      <td>0</td>\n",
       "      <td>20.45</td>\n",
       "      <td>20.45</td>\n",
       "      <td>0</td>\n",
       "      <td>...</td>\n",
       "      <td>0</td>\n",
       "      <td>0</td>\n",
       "      <td>1</td>\n",
       "      <td>0</td>\n",
       "      <td>0</td>\n",
       "      <td>1</td>\n",
       "      <td>0</td>\n",
       "      <td>0</td>\n",
       "      <td>0</td>\n",
       "      <td>1</td>\n",
       "    </tr>\n",
       "    <tr>\n",
       "      <th>3768</th>\n",
       "      <td>0</td>\n",
       "      <td>0</td>\n",
       "      <td>0</td>\n",
       "      <td>1</td>\n",
       "      <td>55</td>\n",
       "      <td>1</td>\n",
       "      <td>1</td>\n",
       "      <td>77.75</td>\n",
       "      <td>4266.40</td>\n",
       "      <td>0</td>\n",
       "      <td>...</td>\n",
       "      <td>0</td>\n",
       "      <td>1</td>\n",
       "      <td>0</td>\n",
       "      <td>1</td>\n",
       "      <td>0</td>\n",
       "      <td>0</td>\n",
       "      <td>0</td>\n",
       "      <td>1</td>\n",
       "      <td>0</td>\n",
       "      <td>0</td>\n",
       "    </tr>\n",
       "    <tr>\n",
       "      <th>...</th>\n",
       "      <td>...</td>\n",
       "      <td>...</td>\n",
       "      <td>...</td>\n",
       "      <td>...</td>\n",
       "      <td>...</td>\n",
       "      <td>...</td>\n",
       "      <td>...</td>\n",
       "      <td>...</td>\n",
       "      <td>...</td>\n",
       "      <td>...</td>\n",
       "      <td>...</td>\n",
       "      <td>...</td>\n",
       "      <td>...</td>\n",
       "      <td>...</td>\n",
       "      <td>...</td>\n",
       "      <td>...</td>\n",
       "      <td>...</td>\n",
       "      <td>...</td>\n",
       "      <td>...</td>\n",
       "      <td>...</td>\n",
       "      <td>...</td>\n",
       "    </tr>\n",
       "    <tr>\n",
       "      <th>3184</th>\n",
       "      <td>0</td>\n",
       "      <td>0</td>\n",
       "      <td>0</td>\n",
       "      <td>1</td>\n",
       "      <td>71</td>\n",
       "      <td>1</td>\n",
       "      <td>1</td>\n",
       "      <td>83.30</td>\n",
       "      <td>5894.50</td>\n",
       "      <td>0</td>\n",
       "      <td>...</td>\n",
       "      <td>1</td>\n",
       "      <td>0</td>\n",
       "      <td>0</td>\n",
       "      <td>0</td>\n",
       "      <td>0</td>\n",
       "      <td>1</td>\n",
       "      <td>0</td>\n",
       "      <td>1</td>\n",
       "      <td>0</td>\n",
       "      <td>0</td>\n",
       "    </tr>\n",
       "    <tr>\n",
       "      <th>2551</th>\n",
       "      <td>0</td>\n",
       "      <td>0</td>\n",
       "      <td>1</td>\n",
       "      <td>1</td>\n",
       "      <td>12</td>\n",
       "      <td>1</td>\n",
       "      <td>0</td>\n",
       "      <td>19.45</td>\n",
       "      <td>227.45</td>\n",
       "      <td>0</td>\n",
       "      <td>...</td>\n",
       "      <td>0</td>\n",
       "      <td>0</td>\n",
       "      <td>1</td>\n",
       "      <td>1</td>\n",
       "      <td>0</td>\n",
       "      <td>0</td>\n",
       "      <td>1</td>\n",
       "      <td>0</td>\n",
       "      <td>0</td>\n",
       "      <td>0</td>\n",
       "    </tr>\n",
       "    <tr>\n",
       "      <th>5735</th>\n",
       "      <td>0</td>\n",
       "      <td>0</td>\n",
       "      <td>0</td>\n",
       "      <td>0</td>\n",
       "      <td>48</td>\n",
       "      <td>1</td>\n",
       "      <td>0</td>\n",
       "      <td>20.00</td>\n",
       "      <td>935.90</td>\n",
       "      <td>0</td>\n",
       "      <td>...</td>\n",
       "      <td>0</td>\n",
       "      <td>0</td>\n",
       "      <td>1</td>\n",
       "      <td>0</td>\n",
       "      <td>0</td>\n",
       "      <td>1</td>\n",
       "      <td>0</td>\n",
       "      <td>0</td>\n",
       "      <td>0</td>\n",
       "      <td>1</td>\n",
       "    </tr>\n",
       "    <tr>\n",
       "      <th>5096</th>\n",
       "      <td>1</td>\n",
       "      <td>0</td>\n",
       "      <td>0</td>\n",
       "      <td>0</td>\n",
       "      <td>71</td>\n",
       "      <td>1</td>\n",
       "      <td>0</td>\n",
       "      <td>86.85</td>\n",
       "      <td>6263.80</td>\n",
       "      <td>0</td>\n",
       "      <td>...</td>\n",
       "      <td>1</td>\n",
       "      <td>0</td>\n",
       "      <td>0</td>\n",
       "      <td>0</td>\n",
       "      <td>0</td>\n",
       "      <td>1</td>\n",
       "      <td>1</td>\n",
       "      <td>0</td>\n",
       "      <td>0</td>\n",
       "      <td>0</td>\n",
       "    </tr>\n",
       "    <tr>\n",
       "      <th>450</th>\n",
       "      <td>0</td>\n",
       "      <td>0</td>\n",
       "      <td>1</td>\n",
       "      <td>1</td>\n",
       "      <td>64</td>\n",
       "      <td>1</td>\n",
       "      <td>0</td>\n",
       "      <td>24.70</td>\n",
       "      <td>1642.75</td>\n",
       "      <td>0</td>\n",
       "      <td>...</td>\n",
       "      <td>0</td>\n",
       "      <td>0</td>\n",
       "      <td>1</td>\n",
       "      <td>0</td>\n",
       "      <td>1</td>\n",
       "      <td>0</td>\n",
       "      <td>0</td>\n",
       "      <td>0</td>\n",
       "      <td>0</td>\n",
       "      <td>1</td>\n",
       "    </tr>\n",
       "  </tbody>\n",
       "</table>\n",
       "<p>1761 rows × 41 columns</p>\n",
       "</div>"
      ],
      "text/plain": [
       "      gender  SeniorCitizen  Partner  Dependents  tenure  PhoneService  \\\n",
       "2200       0              0        1           1      19             1   \n",
       "4627       1              0        1           1      60             1   \n",
       "3225       0              0        1           1      13             1   \n",
       "2828       1              0        1           1       1             1   \n",
       "3768       0              0        0           1      55             1   \n",
       "...      ...            ...      ...         ...     ...           ...   \n",
       "3184       0              0        0           1      71             1   \n",
       "2551       0              0        1           1      12             1   \n",
       "5735       0              0        0           0      48             1   \n",
       "5096       1              0        0           0      71             1   \n",
       "450        0              0        1           1      64             1   \n",
       "\n",
       "      PaperlessBilling  MonthlyCharges  TotalCharges  Churn  ...  \\\n",
       "2200                 0           58.20       1045.25      0  ...   \n",
       "4627                 1          116.60       7049.50      0  ...   \n",
       "3225                 1           71.95        923.85      0  ...   \n",
       "2828                 0           20.45         20.45      0  ...   \n",
       "3768                 1           77.75       4266.40      0  ...   \n",
       "...                ...             ...           ...    ...  ...   \n",
       "3184                 1           83.30       5894.50      0  ...   \n",
       "2551                 0           19.45        227.45      0  ...   \n",
       "5735                 0           20.00        935.90      0  ...   \n",
       "5096                 0           86.85       6263.80      0  ...   \n",
       "450                  0           24.70       1642.75      0  ...   \n",
       "\n",
       "      InternetService_DSL  InternetService_Fiber optic  InternetService_No  \\\n",
       "2200                    1                            0                   0   \n",
       "4627                    0                            1                   0   \n",
       "3225                    1                            0                   0   \n",
       "2828                    0                            0                   1   \n",
       "3768                    0                            1                   0   \n",
       "...                   ...                          ...                 ...   \n",
       "3184                    1                            0                   0   \n",
       "2551                    0                            0                   1   \n",
       "5735                    0                            0                   1   \n",
       "5096                    1                            0                   0   \n",
       "450                     0                            0                   1   \n",
       "\n",
       "      Contract_Month-to-month  Contract_One year  Contract_Two year  \\\n",
       "2200                        0                  1                  0   \n",
       "4627                        0                  1                  0   \n",
       "3225                        1                  0                  0   \n",
       "2828                        0                  0                  1   \n",
       "3768                        1                  0                  0   \n",
       "...                       ...                ...                ...   \n",
       "3184                        0                  0                  1   \n",
       "2551                        1                  0                  0   \n",
       "5735                        0                  0                  1   \n",
       "5096                        0                  0                  1   \n",
       "450                         0                  1                  0   \n",
       "\n",
       "      PaymentMethod_Bank transfer (automatic)  \\\n",
       "2200                                        0   \n",
       "4627                                        0   \n",
       "3225                                        0   \n",
       "2828                                        0   \n",
       "3768                                        0   \n",
       "...                                       ...   \n",
       "3184                                        0   \n",
       "2551                                        1   \n",
       "5735                                        0   \n",
       "5096                                        1   \n",
       "450                                         0   \n",
       "\n",
       "      PaymentMethod_Credit card (automatic)  PaymentMethod_Electronic check  \\\n",
       "2200                                      0                               1   \n",
       "4627                                      1                               0   \n",
       "3225                                      0                               1   \n",
       "2828                                      0                               0   \n",
       "3768                                      1                               0   \n",
       "...                                     ...                             ...   \n",
       "3184                                      1                               0   \n",
       "2551                                      0                               0   \n",
       "5735                                      0                               0   \n",
       "5096                                      0                               0   \n",
       "450                                       0                               0   \n",
       "\n",
       "      PaymentMethod_Mailed check  \n",
       "2200                           0  \n",
       "4627                           0  \n",
       "3225                           0  \n",
       "2828                           1  \n",
       "3768                           0  \n",
       "...                          ...  \n",
       "3184                           0  \n",
       "2551                           0  \n",
       "5735                           1  \n",
       "5096                           0  \n",
       "450                            1  \n",
       "\n",
       "[1761 rows x 41 columns]"
      ]
     },
     "execution_count": 61,
     "metadata": {},
     "output_type": "execute_result"
    }
   ],
   "source": [
    "df"
   ]
  },
  {
   "cell_type": "code",
   "execution_count": 62,
   "metadata": {},
   "outputs": [
    {
     "name": "stdout",
     "output_type": "stream",
     "text": [
      "<class 'pandas.core.frame.DataFrame'>\n",
      "Int64Index: 1761 entries, 2200 to 450\n",
      "Data columns (total 41 columns):\n",
      " #   Column                                   Non-Null Count  Dtype  \n",
      "---  ------                                   --------------  -----  \n",
      " 0   gender                                   1761 non-null   int64  \n",
      " 1   SeniorCitizen                            1761 non-null   int64  \n",
      " 2   Partner                                  1761 non-null   int64  \n",
      " 3   Dependents                               1761 non-null   int64  \n",
      " 4   tenure                                   1761 non-null   int64  \n",
      " 5   PhoneService                             1761 non-null   int64  \n",
      " 6   PaperlessBilling                         1761 non-null   int64  \n",
      " 7   MonthlyCharges                           1761 non-null   float64\n",
      " 8   TotalCharges                             1758 non-null   float64\n",
      " 9   Churn                                    1761 non-null   int64  \n",
      " 10  OnlineSecurity_0                         1761 non-null   uint8  \n",
      " 11  OnlineSecurity_1                         1761 non-null   uint8  \n",
      " 12  OnlineSecurity_No internet service       1761 non-null   uint8  \n",
      " 13  OnlineBackup_0                           1761 non-null   uint8  \n",
      " 14  OnlineBackup_1                           1761 non-null   uint8  \n",
      " 15  OnlineBackup_No internet service         1761 non-null   uint8  \n",
      " 16  DeviceProtection_0                       1761 non-null   uint8  \n",
      " 17  DeviceProtection_1                       1761 non-null   uint8  \n",
      " 18  DeviceProtection_No internet service     1761 non-null   uint8  \n",
      " 19  TechSupport_0                            1761 non-null   uint8  \n",
      " 20  TechSupport_1                            1761 non-null   uint8  \n",
      " 21  TechSupport_No internet service          1761 non-null   uint8  \n",
      " 22  StreamingTV_0                            1761 non-null   uint8  \n",
      " 23  StreamingTV_1                            1761 non-null   uint8  \n",
      " 24  StreamingTV_No internet service          1761 non-null   uint8  \n",
      " 25  StreamingMovies_0                        1761 non-null   uint8  \n",
      " 26  StreamingMovies_1                        1761 non-null   uint8  \n",
      " 27  StreamingMovies_No internet service      1761 non-null   uint8  \n",
      " 28  MultipleLines_No                         1761 non-null   uint8  \n",
      " 29  MultipleLines_No phone service           1761 non-null   uint8  \n",
      " 30  MultipleLines_Yes                        1761 non-null   uint8  \n",
      " 31  InternetService_DSL                      1761 non-null   uint8  \n",
      " 32  InternetService_Fiber optic              1761 non-null   uint8  \n",
      " 33  InternetService_No                       1761 non-null   uint8  \n",
      " 34  Contract_Month-to-month                  1761 non-null   uint8  \n",
      " 35  Contract_One year                        1761 non-null   uint8  \n",
      " 36  Contract_Two year                        1761 non-null   uint8  \n",
      " 37  PaymentMethod_Bank transfer (automatic)  1761 non-null   uint8  \n",
      " 38  PaymentMethod_Credit card (automatic)    1761 non-null   uint8  \n",
      " 39  PaymentMethod_Electronic check           1761 non-null   uint8  \n",
      " 40  PaymentMethod_Mailed check               1761 non-null   uint8  \n",
      "dtypes: float64(2), int64(8), uint8(31)\n",
      "memory usage: 269.2 KB\n"
     ]
    }
   ],
   "source": [
    "df.info()"
   ]
  },
  {
   "cell_type": "code",
   "execution_count": 63,
   "metadata": {},
   "outputs": [],
   "source": [
    "df = df.dropna()"
   ]
  },
  {
   "cell_type": "code",
   "execution_count": 64,
   "metadata": {},
   "outputs": [
    {
     "name": "stdout",
     "output_type": "stream",
     "text": [
      "<class 'pandas.core.frame.DataFrame'>\n",
      "Int64Index: 1758 entries, 2200 to 450\n",
      "Data columns (total 41 columns):\n",
      " #   Column                                   Non-Null Count  Dtype  \n",
      "---  ------                                   --------------  -----  \n",
      " 0   gender                                   1758 non-null   int64  \n",
      " 1   SeniorCitizen                            1758 non-null   int64  \n",
      " 2   Partner                                  1758 non-null   int64  \n",
      " 3   Dependents                               1758 non-null   int64  \n",
      " 4   tenure                                   1758 non-null   int64  \n",
      " 5   PhoneService                             1758 non-null   int64  \n",
      " 6   PaperlessBilling                         1758 non-null   int64  \n",
      " 7   MonthlyCharges                           1758 non-null   float64\n",
      " 8   TotalCharges                             1758 non-null   float64\n",
      " 9   Churn                                    1758 non-null   int64  \n",
      " 10  OnlineSecurity_0                         1758 non-null   uint8  \n",
      " 11  OnlineSecurity_1                         1758 non-null   uint8  \n",
      " 12  OnlineSecurity_No internet service       1758 non-null   uint8  \n",
      " 13  OnlineBackup_0                           1758 non-null   uint8  \n",
      " 14  OnlineBackup_1                           1758 non-null   uint8  \n",
      " 15  OnlineBackup_No internet service         1758 non-null   uint8  \n",
      " 16  DeviceProtection_0                       1758 non-null   uint8  \n",
      " 17  DeviceProtection_1                       1758 non-null   uint8  \n",
      " 18  DeviceProtection_No internet service     1758 non-null   uint8  \n",
      " 19  TechSupport_0                            1758 non-null   uint8  \n",
      " 20  TechSupport_1                            1758 non-null   uint8  \n",
      " 21  TechSupport_No internet service          1758 non-null   uint8  \n",
      " 22  StreamingTV_0                            1758 non-null   uint8  \n",
      " 23  StreamingTV_1                            1758 non-null   uint8  \n",
      " 24  StreamingTV_No internet service          1758 non-null   uint8  \n",
      " 25  StreamingMovies_0                        1758 non-null   uint8  \n",
      " 26  StreamingMovies_1                        1758 non-null   uint8  \n",
      " 27  StreamingMovies_No internet service      1758 non-null   uint8  \n",
      " 28  MultipleLines_No                         1758 non-null   uint8  \n",
      " 29  MultipleLines_No phone service           1758 non-null   uint8  \n",
      " 30  MultipleLines_Yes                        1758 non-null   uint8  \n",
      " 31  InternetService_DSL                      1758 non-null   uint8  \n",
      " 32  InternetService_Fiber optic              1758 non-null   uint8  \n",
      " 33  InternetService_No                       1758 non-null   uint8  \n",
      " 34  Contract_Month-to-month                  1758 non-null   uint8  \n",
      " 35  Contract_One year                        1758 non-null   uint8  \n",
      " 36  Contract_Two year                        1758 non-null   uint8  \n",
      " 37  PaymentMethod_Bank transfer (automatic)  1758 non-null   uint8  \n",
      " 38  PaymentMethod_Credit card (automatic)    1758 non-null   uint8  \n",
      " 39  PaymentMethod_Electronic check           1758 non-null   uint8  \n",
      " 40  PaymentMethod_Mailed check               1758 non-null   uint8  \n",
      "dtypes: float64(2), int64(8), uint8(31)\n",
      "memory usage: 204.3 KB\n"
     ]
    }
   ],
   "source": [
    "df.info()"
   ]
  },
  {
   "cell_type": "markdown",
   "metadata": {},
   "source": [
    "## Data Splitting"
   ]
  },
  {
   "cell_type": "code",
   "execution_count": 65,
   "metadata": {},
   "outputs": [],
   "source": [
    "from sklearn.preprocessing import MinMaxScaler\n",
    "from sklearn.model_selection import train_test_split"
   ]
  },
  {
   "cell_type": "code",
   "execution_count": 66,
   "metadata": {},
   "outputs": [],
   "source": [
    "y = df['Churn']\n",
    "X = df.drop('Churn',axis=1,inplace= False)"
   ]
  },
  {
   "cell_type": "code",
   "execution_count": 67,
   "metadata": {},
   "outputs": [],
   "source": [
    "X_train_org, X_test_org, y_train, y_test = train_test_split(X, y, random_state = 0, test_size = 0.2)\n",
    "\n",
    "scaler = MinMaxScaler()\n",
    "X_train = scaler.fit_transform(X_train_org)\n",
    "X_test = scaler.transform(X_test_org)"
   ]
  },
  {
   "cell_type": "markdown",
   "metadata": {},
   "source": [
    "We need to bring all the features into a fixed range without changing the overall behavior of the dataset. \n",
    "Since 19 columns of our dataset contain categorical values, we have used MinMaxScaler to scale our data and as we see from the ghaphs above the data is not normally distributed.. \n",
    "\n"
   ]
  },
  {
   "cell_type": "markdown",
   "metadata": {},
   "source": [
    "## Classification Results from Project 1"
   ]
  },
  {
   "cell_type": "markdown",
   "metadata": {},
   "source": [
    "All scores are roc_auc scoring"
   ]
  },
  {
   "cell_type": "markdown",
   "metadata": {},
   "source": [
    "| Model | Best Parameters| Validation Score | Test Score (roc_auc) | Test Score (accuracy) |\n",
    "| --- | --- | --- | --- | --- |\n",
    "| KNN | N_Neighbors = 9 | 0.7724 | 0.6659 | 0.7273 |\n",
    "| Logistic Regression | C = 0.1| 0.8261 | 0.6366 | 0.7358 |\n",
    "| Linear SVC | C = 0.01 | 0.8270 | 0.6336 | 0.7386 | \n",
    "| SVR Linear Kernel | C = 0.1 | 0.8190 | 0.6458 | 0.7415 |\n",
    "| SVR Poly Kernel| C = 1, coef0 = 0, degree = 1 | 0.8189 | 0.6458 | 0.7415 |\n",
    "| SVR RBF Kernel | C = 100, Gamma = 0.001| 0.8224 | 0.6458 | 0.7415 | \n",
    "| Decision Tree | max_depth = 3 | 0.7866 | 0.6914 |  0.7330 | "
   ]
  },
  {
   "cell_type": "markdown",
   "metadata": {},
   "source": [
    "# Project 2"
   ]
  },
  {
   "cell_type": "code",
   "execution_count": 68,
   "metadata": {},
   "outputs": [],
   "source": [
    "from sklearn.neighbors import KNeighborsClassifier\n",
    "from sklearn.model_selection import GridSearchCV\n",
    "from sklearn.linear_model import LogisticRegression\n",
    "from sklearn.svm import LinearSVC\n",
    "from sklearn.svm import SVC\n",
    "from sklearn.tree import DecisionTreeClassifier\n",
    "from sklearn.metrics import roc_auc_score"
   ]
  },
  {
   "cell_type": "markdown",
   "metadata": {},
   "source": [
    "Run the best params of the models from Project 1 (based on the roc_auc score)"
   ]
  },
  {
   "cell_type": "code",
   "execution_count": 69,
   "metadata": {
    "scrolled": false
   },
   "outputs": [
    {
     "name": "stdout",
     "output_type": "stream",
     "text": [
      "Accuracy: 0.7272727272727273\n",
      "Roc_auc:  0.6658738248952316\n"
     ]
    }
   ],
   "source": [
    "knn = KNeighborsClassifier(n_neighbors = 9)\n",
    "knn.fit(X_train,y_train)\n",
    "print('Accuracy:', knn.score(X_test,y_test))\n",
    "print('Roc_auc: ',roc_auc_score(y_test, knn.predict(X_test)))"
   ]
  },
  {
   "cell_type": "code",
   "execution_count": 70,
   "metadata": {},
   "outputs": [
    {
     "name": "stdout",
     "output_type": "stream",
     "text": [
      "Accuracy: 0.7357954545454546\n",
      "Roc_auc:  0.6366330652773058\n"
     ]
    }
   ],
   "source": [
    "logit = LogisticRegression(C= .1, penalty= 'l2', max_iter = 100000)\n",
    "logit.fit(X_train,y_train)\n",
    "logit.score(X_test,y_test)\n",
    "print('Accuracy:', logit.score(X_test,y_test))\n",
    "print('Roc_auc: ',roc_auc_score(y_test, logit.predict(X_test)))"
   ]
  },
  {
   "cell_type": "code",
   "execution_count": 71,
   "metadata": {},
   "outputs": [
    {
     "name": "stdout",
     "output_type": "stream",
     "text": [
      "Accuracy: 0.7386363636363636\n",
      "Roc_auc:  0.6336315928568732\n"
     ]
    }
   ],
   "source": [
    "linearSVC = LinearSVC(C = .01, dual = False)\n",
    "linearSVC.fit(X_train,y_train)\n",
    "linearSVC.score(X_test,y_test)\n",
    "print('Accuracy:', linearSVC.score(X_test,y_test))\n",
    "print('Roc_auc: ',roc_auc_score(y_test, linearSVC.predict(X_test)))"
   ]
  },
  {
   "cell_type": "code",
   "execution_count": 72,
   "metadata": {},
   "outputs": [
    {
     "name": "stdout",
     "output_type": "stream",
     "text": [
      "Accuracy: 0.7414772727272727\n",
      "Roc_auc:  0.6458073772039113\n"
     ]
    }
   ],
   "source": [
    "svc_lin = SVC(C= .1, kernel = 'linear', random_state = 0, probability = True)\n",
    "svc_lin.fit(X_train,y_train)\n",
    "svc_lin.score(X_test,y_test)\n",
    "print('Accuracy:', svc_lin.score(X_test,y_test))\n",
    "print('Roc_auc: ',roc_auc_score(y_test, svc_lin.predict(X_test)))"
   ]
  },
  {
   "cell_type": "code",
   "execution_count": 73,
   "metadata": {},
   "outputs": [
    {
     "name": "stdout",
     "output_type": "stream",
     "text": [
      "Accuracy: 0.7414772727272727\n",
      "Roc_auc:  0.6458073772039113\n"
     ]
    }
   ],
   "source": [
    "svc_poly = SVC(C= 1, coef0= 0, degree= 1, kernel= 'poly', random_state = 0, probability = True)\n",
    "svc_poly.fit(X_train, y_train)\n",
    "svc_poly.score(X_test,y_test)\n",
    "print('Accuracy:', svc_poly.score(X_test,y_test))\n",
    "print('Roc_auc: ',roc_auc_score(y_test, svc_poly.predict(X_test)))"
   ]
  },
  {
   "cell_type": "code",
   "execution_count": 74,
   "metadata": {},
   "outputs": [
    {
     "name": "stdout",
     "output_type": "stream",
     "text": [
      "Accuracy: 0.7414772727272727\n",
      "Roc_auc:  0.6458073772039113\n"
     ]
    }
   ],
   "source": [
    "svc_rbf = SVC(C= 100, gamma= 0.001, kernel= 'rbf',random_state = 0, probability = True)\n",
    "svc_rbf.fit(X_train,y_train)\n",
    "pred = svc_rbf.predict(X_test)\n",
    "svc_rbf.score(X_test,y_test)\n",
    "print('Accuracy:', svc_rbf.score(X_test,y_test))\n",
    "print('Roc_auc: ',roc_auc_score(y_test, pred))"
   ]
  },
  {
   "cell_type": "code",
   "execution_count": 75,
   "metadata": {},
   "outputs": [
    {
     "name": "stdout",
     "output_type": "stream",
     "text": [
      "Accuracy: 0.7329545454545454\n",
      "Roc_auc:  0.6193981953411107\n"
     ]
    }
   ],
   "source": [
    "tree = DecisionTreeClassifier(max_depth = 3)\n",
    "tree.fit(X_train,y_train)\n",
    "tree.score(X_test,y_test)\n",
    "\n",
    "print('Accuracy:', tree.score(X_test,y_test))\n",
    "print('Roc_auc: ',roc_auc_score(y_test, tree.predict(X_test)))"
   ]
  },
  {
   "cell_type": "markdown",
   "metadata": {},
   "source": [
    "## Hard Voting Classifier"
   ]
  },
  {
   "cell_type": "code",
   "execution_count": 76,
   "metadata": {
    "scrolled": true
   },
   "outputs": [
    {
     "name": "stdout",
     "output_type": "stream",
     "text": [
      "roc_auc:  0.6453354475780572\n",
      "test score accuracy:  0.8143669985775249\n"
     ]
    }
   ],
   "source": [
    "from sklearn.ensemble import VotingClassifier\n",
    "from sklearn.metrics import roc_auc_score\n",
    "hard_vote = VotingClassifier(estimators=[('knn', knn),('logit',logit), ('linSVC', linearSVC), ('svc_lin', svc_lin), ('svc_poly', svc_poly), ('svc_rbf', svc_rbf)], voting='hard')\n",
    "hard_vote.fit(X_train, y_train)\n",
    "y_pred = hard_vote.predict(X_test)\n",
    "print('roc_auc: ',roc_auc_score(y_test, y_pred))\n",
    "print('test score accuracy: ', hard_vote.score(X_train,y_train))"
   ]
  },
  {
   "cell_type": "markdown",
   "metadata": {},
   "source": [
    "Hard voting gives a roc_auc score of 0.6479"
   ]
  },
  {
   "cell_type": "markdown",
   "metadata": {},
   "source": [
    "## Soft Voting Classifier"
   ]
  },
  {
   "cell_type": "code",
   "execution_count": 77,
   "metadata": {},
   "outputs": [
    {
     "name": "stdout",
     "output_type": "stream",
     "text": [
      "roc_auc:  0.6391626080718844\n",
      "test score accuracy:  0.8150782361308677\n"
     ]
    }
   ],
   "source": [
    "soft_vote = VotingClassifier(estimators=[('knn', knn), ('logit',logit),('svc_lin', svc_lin),\n",
    "    ('svc_rbf', svc_rbf), ('svc_poly', svc_poly)], voting='soft')\n",
    "soft_vote.fit(X_train, y_train)\n",
    "y_pred = soft_vote.predict(X_test)\n",
    "print('roc_auc: ',roc_auc_score(y_test, y_pred))\n",
    "print('test score accuracy: ', soft_vote.score(X_train,y_train))"
   ]
  },
  {
   "cell_type": "markdown",
   "metadata": {},
   "source": [
    "Soft voting gives a roc auc score of 0.6392"
   ]
  },
  {
   "cell_type": "markdown",
   "metadata": {},
   "source": [
    "## Bagging"
   ]
  },
  {
   "cell_type": "code",
   "execution_count": 78,
   "metadata": {
    "scrolled": true
   },
   "outputs": [
    {
     "name": "stdout",
     "output_type": "stream",
     "text": [
      "Wall time: 2min 54s\n"
     ]
    },
    {
     "data": {
      "text/plain": [
       "GridSearchCV(cv=5,\n",
       "             estimator=BaggingClassifier(base_estimator=LogisticRegression()),\n",
       "             n_jobs=-1,\n",
       "             param_grid={'base_estimator__C': [0.01, 0.1, 1, 10, 100],\n",
       "                         'base_estimator__max_iter': [300], 'bootstrap': [True],\n",
       "                         'max_features': [0.01, 0.05, 0.1, 0.5, 1],\n",
       "                         'max_samples': [0.01, 0.05, 0.1, 0.5, 1],\n",
       "                         'n_estimators': [10, 50, 100], 'random_state': [0]},\n",
       "             scoring='roc_auc')"
      ]
     },
     "execution_count": 78,
     "metadata": {},
     "output_type": "execute_result"
    }
   ],
   "source": [
    "%%time\n",
    "from sklearn.ensemble import BaggingClassifier\n",
    "#Bagging with the logistic regression model\n",
    "param_grid = {'n_estimators':[10, 50, 100],\n",
    "              'max_samples':[0.01, 0.05, 0.1, 0.5, 1], \n",
    "              'max_features':[0.01, 0.05, 0.1, 0.5, 1],\n",
    "              'bootstrap':[True],\n",
    "             'random_state':[0],\n",
    "             'base_estimator__C': [0.01, 0.1, 1, 10, 100],\n",
    "             'base_estimator__max_iter':[300]}\n",
    "bag_grid = GridSearchCV(BaggingClassifier(LogisticRegression()), param_grid, cv= 5, n_jobs = -1, scoring = 'roc_auc' )\n",
    "\n",
    "bag_grid.fit(X_train,y_train)"
   ]
  },
  {
   "cell_type": "code",
   "execution_count": 79,
   "metadata": {
    "scrolled": true
   },
   "outputs": [
    {
     "name": "stdout",
     "output_type": "stream",
     "text": [
      "{'base_estimator__C': 10, 'base_estimator__max_iter': 300, 'bootstrap': True, 'max_features': 0.5, 'max_samples': 0.5, 'n_estimators': 100, 'random_state': 0}\n",
      "0.8301096309293359\n"
     ]
    }
   ],
   "source": [
    "print(bag_grid.best_params_)\n",
    "print(bag_grid.best_score_)"
   ]
  },
  {
   "cell_type": "markdown",
   "metadata": {},
   "source": [
    "Bagging with a logistic regression gives a validation score of 0.8301 with the best parameters of C=10, max_features = 0.5, max_samples = 0.5, and n_estimators = 100"
   ]
  },
  {
   "cell_type": "code",
   "execution_count": 80,
   "metadata": {
    "scrolled": false
   },
   "outputs": [
    {
     "name": "stdout",
     "output_type": "stream",
     "text": [
      "Wall time: 1min 1s\n"
     ]
    },
    {
     "data": {
      "text/plain": [
       "GridSearchCV(cv=5,\n",
       "             estimator=BaggingClassifier(base_estimator=DecisionTreeClassifier()),\n",
       "             n_jobs=-1,\n",
       "             param_grid={'base_estimator__max_depth': array([ 1,  2,  3,  4,  5,  6,  7,  8,  9, 10]),\n",
       "                         'bootstrap': [True],\n",
       "                         'max_features': [0.01, 0.05, 0.1, 0.5, 1],\n",
       "                         'max_samples': [0.05, 0.1, 0.5],\n",
       "                         'n_estimators': [10, 50, 100], 'random_state': [0]},\n",
       "             scoring='roc_auc')"
      ]
     },
     "execution_count": 80,
     "metadata": {},
     "output_type": "execute_result"
    }
   ],
   "source": [
    "%%time\n",
    "#Bagging with the decision tree\n",
    "from sklearn.ensemble import BaggingClassifier\n",
    "param_grid = {'n_estimators': [10,50,100],\n",
    "              'max_samples':[0.05, 0.1, 0.5], \n",
    "              'max_features':[0.01, 0.05, 0.1, 0.5, 1],\n",
    "              'bootstrap':[True],\n",
    "             'random_state':[0],\n",
    "             'base_estimator__max_depth': np.arange(1,11)}\n",
    "bag_grid2 = GridSearchCV(BaggingClassifier(DecisionTreeClassifier()), param_grid, cv= 5, n_jobs = -1, scoring = 'roc_auc' )\n",
    "bag_grid2.fit(X_train,y_train)"
   ]
  },
  {
   "cell_type": "code",
   "execution_count": 81,
   "metadata": {
    "scrolled": true
   },
   "outputs": [
    {
     "name": "stdout",
     "output_type": "stream",
     "text": [
      "{'base_estimator__max_depth': 4, 'bootstrap': True, 'max_features': 0.5, 'max_samples': 0.5, 'n_estimators': 100, 'random_state': 0}\n",
      "0.8312154125384218\n"
     ]
    }
   ],
   "source": [
    "print(bag_grid2.best_params_)\n",
    "print(bag_grid2.best_score_)"
   ]
  },
  {
   "cell_type": "markdown",
   "metadata": {},
   "source": [
    "The best roc auc score is a score of 0.8312 for the decision tree. The hyperparameters are n_estimators = 100, max_feature = 0.5, and max_samples = 0.5. The hyperparameter for the decision tree is max_depth = 4"
   ]
  },
  {
   "cell_type": "markdown",
   "metadata": {},
   "source": [
    "## Pasting"
   ]
  },
  {
   "cell_type": "code",
   "execution_count": 82,
   "metadata": {},
   "outputs": [
    {
     "data": {
      "text/plain": [
       "GridSearchCV(cv=5, estimator=BaggingClassifier(base_estimator=SVC()), n_jobs=-1,\n",
       "             param_grid={'base_estimator__C': [0.001, 0.01, 0.1, 1, 10, 100],\n",
       "                         'base_estimator__kernel': ['linear'],\n",
       "                         'bootstrap': [False],\n",
       "                         'max_features': [0.01, 0.05, 0.1, 0.5, 1],\n",
       "                         'max_samples': [0.05, 0.1, 0.5],\n",
       "                         'n_estimators': [10, 50, 100], 'random_state': [0]},\n",
       "             scoring='roc_auc')"
      ]
     },
     "execution_count": 82,
     "metadata": {},
     "output_type": "execute_result"
    }
   ],
   "source": [
    "#Pasting with the SVC model with linear kernel\n",
    "param_grid = {'n_estimators': [10,50,100],\n",
    "              'max_samples':[0.05, 0.1, 0.5], \n",
    "              'max_features':[0.01, 0.05, 0.1, 0.5, 1],\n",
    "              'bootstrap':[False],\n",
    "             'random_state':[0],\n",
    "             'base_estimator__kernel':['linear'],\n",
    "              'base_estimator__C':[0.001, 0.01, 0.1, 1, 10, 100]}\n",
    "paste_grid1 = GridSearchCV(BaggingClassifier(SVC()), param_grid, cv= 5, n_jobs = -1, scoring = 'roc_auc' )\n",
    "paste_grid1.fit(X_train,y_train)"
   ]
  },
  {
   "cell_type": "code",
   "execution_count": 83,
   "metadata": {
    "scrolled": true
   },
   "outputs": [
    {
     "name": "stdout",
     "output_type": "stream",
     "text": [
      "{'base_estimator__C': 100, 'base_estimator__kernel': 'linear', 'bootstrap': False, 'max_features': 0.5, 'max_samples': 0.1, 'n_estimators': 100, 'random_state': 0}\n",
      "0.8301362678440309\n"
     ]
    }
   ],
   "source": [
    "print(paste_grid1.best_params_)\n",
    "print(paste_grid1.best_score_)"
   ]
  },
  {
   "cell_type": "markdown",
   "metadata": {},
   "source": [
    "The best score for pasting with an SVC model with a linear kernel has a validation score of 0.8301. The base estimator hyperparameter is C = 100 and the pasting hyperparameters are n_estimators = 100, max_feature = .5 and max_samples = .1"
   ]
  },
  {
   "cell_type": "code",
   "execution_count": 84,
   "metadata": {},
   "outputs": [
    {
     "data": {
      "text/plain": [
       "GridSearchCV(cv=5,\n",
       "             estimator=BaggingClassifier(base_estimator=DecisionTreeClassifier()),\n",
       "             n_jobs=-1,\n",
       "             param_grid={'base_estimator__max_depth': array([ 1,  2,  3,  4,  5,  6,  7,  8,  9, 10]),\n",
       "                         'bootstrap': [False],\n",
       "                         'max_features': [0.01, 0.05, 0.1, 0.5],\n",
       "                         'max_samples': [0.05, 0.1, 0.5],\n",
       "                         'n_estimators': [10, 50, 100], 'random_state': [0]},\n",
       "             scoring='roc_auc')"
      ]
     },
     "execution_count": 84,
     "metadata": {},
     "output_type": "execute_result"
    }
   ],
   "source": [
    "#Pasting with a decision tree\n",
    "param_grid = {'n_estimators': [10,50,100],\n",
    "              'max_samples':[0.05, 0.1, 0.5], \n",
    "              'max_features':[0.01, 0.05, 0.1, 0.5],\n",
    "              'bootstrap':[False],\n",
    "             'random_state':[0],\n",
    "             'base_estimator__max_depth':np.arange(1,11)}\n",
    "paste_grid2 = GridSearchCV(BaggingClassifier(DecisionTreeClassifier()), param_grid, cv= 5, n_jobs = -1, scoring = 'roc_auc' )\n",
    "paste_grid2.fit(X_train,y_train)"
   ]
  },
  {
   "cell_type": "code",
   "execution_count": 85,
   "metadata": {},
   "outputs": [
    {
     "name": "stdout",
     "output_type": "stream",
     "text": [
      "{'base_estimator__max_depth': 5, 'bootstrap': False, 'max_features': 0.5, 'max_samples': 0.05, 'n_estimators': 50, 'random_state': 0}\n",
      "0.8335770706386819\n"
     ]
    }
   ],
   "source": [
    "print(paste_grid2.best_params_)\n",
    "print(paste_grid2.best_score_)"
   ]
  },
  {
   "cell_type": "markdown",
   "metadata": {},
   "source": [
    "The best model for pasting with a decision tree occures when the decision tree has max_depth = 5, and the pasting classifier has n_estimators = 50, max_features = .5, and max_samples = .05. The validation score is 0.8336"
   ]
  },
  {
   "cell_type": "markdown",
   "metadata": {},
   "source": [
    "## AdaBoost"
   ]
  },
  {
   "cell_type": "code",
   "execution_count": 86,
   "metadata": {
    "scrolled": false
   },
   "outputs": [
    {
     "data": {
      "text/plain": [
       "GridSearchCV(cv=5, estimator=AdaBoostClassifier(), n_jobs=-1,\n",
       "             param_grid={'learning_rate': [0.01, 0.1, 1],\n",
       "                         'n_estimators': [50, 100, 150, 200, 300, 500],\n",
       "                         'random_state': [0]},\n",
       "             scoring='roc_auc')"
      ]
     },
     "execution_count": 86,
     "metadata": {},
     "output_type": "execute_result"
    }
   ],
   "source": [
    "from sklearn.ensemble import AdaBoostClassifier\n",
    "\n",
    "#AdaBoost with a decision tree\n",
    "param_grid = {'n_estimators': [50,100,150,200,300,500], 'learning_rate': [.01,.1,1], 'random_state':[0]}\n",
    "ada_grid = GridSearchCV(AdaBoostClassifier(),param_grid, cv= 5, n_jobs = -1, scoring = 'roc_auc' )\n",
    "ada_grid.fit(X_train, y_train)"
   ]
  },
  {
   "cell_type": "code",
   "execution_count": 87,
   "metadata": {
    "scrolled": true
   },
   "outputs": [
    {
     "name": "stdout",
     "output_type": "stream",
     "text": [
      "{'learning_rate': 0.1, 'n_estimators': 100, 'random_state': 0}\n",
      "0.8317760274125003\n"
     ]
    }
   ],
   "source": [
    "print(ada_grid.best_params_)\n",
    "print(ada_grid.best_score_)"
   ]
  },
  {
   "cell_type": "code",
   "execution_count": 88,
   "metadata": {},
   "outputs": [],
   "source": [
    "results_ada = pd.DataFrame(ada_grid.cv_results_)"
   ]
  },
  {
   "cell_type": "code",
   "execution_count": 89,
   "metadata": {
    "scrolled": true
   },
   "outputs": [
    {
     "data": {
      "text/plain": [
       "<matplotlib.legend.Legend at 0x20308723af0>"
      ]
     },
     "execution_count": 89,
     "metadata": {},
     "output_type": "execute_result"
    },
    {
     "data": {
      "image/png": "[encoded data removed]",
      "text/plain": [
       "<Figure size 432x288 with 1 Axes>"
      ]
     },
     "metadata": {
      "needs_background": "light"
     },
     "output_type": "display_data"
    }
   ],
   "source": [
    "for lr in param_grid['learning_rate']:\n",
    "    plt.plot(param_grid['n_estimators'],results_ada['mean_test_score'][results_ada['param_learning_rate'] == lr], label= 'LearningRate={}'.format(lr))\n",
    "\n",
    "plt.xlabel('n_estimators')\n",
    "plt.ylabel('test score')\n",
    "plt.legend()"
   ]
  },
  {
   "cell_type": "markdown",
   "metadata": {},
   "source": [
    "The best model for the decision tree is with learning rate = 0.1, n_estimators = 100 with a score 0.8318."
   ]
  },
  {
   "cell_type": "code",
   "execution_count": 90,
   "metadata": {},
   "outputs": [
    {
     "name": "stdout",
     "output_type": "stream",
     "text": [
      "Wall time: 39.3 s\n"
     ]
    },
    {
     "data": {
      "text/plain": [
       "GridSearchCV(cv=5,\n",
       "             estimator=AdaBoostClassifier(base_estimator=LogisticRegression()),\n",
       "             n_jobs=-1,\n",
       "             param_grid={'learning_rate': [0.5, 1, 5],\n",
       "                         'n_estimators': [50, 100, 150, 200, 300, 500],\n",
       "                         'random_state': [0]},\n",
       "             scoring='roc_auc')"
      ]
     },
     "execution_count": 90,
     "metadata": {},
     "output_type": "execute_result"
    }
   ],
   "source": [
    "%%time\n",
    "#AdaBoost with regular logistic regression \n",
    "param_grid = {'n_estimators': [50,100,150,200,300,500], 'learning_rate': [.5,1,5], 'random_state':[0]}\n",
    "ada_grid2 = GridSearchCV(AdaBoostClassifier(LogisticRegression()),param_grid, cv= 5, n_jobs = -1, scoring = 'roc_auc' )\n",
    "ada_grid2.fit(X_train, y_train)"
   ]
  },
  {
   "cell_type": "code",
   "execution_count": 91,
   "metadata": {},
   "outputs": [
    {
     "name": "stdout",
     "output_type": "stream",
     "text": [
      "{'learning_rate': 0.5, 'n_estimators': 150, 'random_state': 0}\n",
      "0.8270079878957791\n"
     ]
    }
   ],
   "source": [
    "print(ada_grid2.best_params_)\n",
    "print(ada_grid2.best_score_)"
   ]
  },
  {
   "cell_type": "markdown",
   "metadata": {},
   "source": [
    "The best model has learning rate = 0.5 and n_estimators = 150. The validation score is 0.8270"
   ]
  },
  {
   "cell_type": "markdown",
   "metadata": {},
   "source": [
    "## Gradient boosting"
   ]
  },
  {
   "cell_type": "code",
   "execution_count": 92,
   "metadata": {},
   "outputs": [
    {
     "data": {
      "text/plain": [
       "GridSearchCV(cv=5, estimator=GradientBoostingClassifier(), n_jobs=-1,\n",
       "             param_grid={'learning_rate': [0.01, 0.05, 0.1, 0.5],\n",
       "                         'max_depth': [1, 2, 3, 4, 5, 6],\n",
       "                         'n_estimators': [50, 100, 150], 'random_state': [0]},\n",
       "             scoring='roc_auc')"
      ]
     },
     "execution_count": 92,
     "metadata": {},
     "output_type": "execute_result"
    }
   ],
   "source": [
    "from sklearn.ensemble import GradientBoostingClassifier\n",
    "param_grid = {'max_depth': [1,2,3,4,5,6], 'n_estimators':[50,100,150], 'learning_rate':[.01,.05,.1,.5], 'random_state':[0]}\n",
    "grad_boost = GridSearchCV(GradientBoostingClassifier(), param_grid, cv= 5, n_jobs = -1, scoring = 'roc_auc')\n",
    "grad_boost.fit(X_train,y_train)"
   ]
  },
  {
   "cell_type": "code",
   "execution_count": 93,
   "metadata": {},
   "outputs": [
    {
     "name": "stdout",
     "output_type": "stream",
     "text": [
      "{'learning_rate': 0.1, 'max_depth': 2, 'n_estimators': 50, 'random_state': 0}\n",
      "0.8342555808786368\n"
     ]
    }
   ],
   "source": [
    "print(grad_boost.best_params_)\n",
    "print(grad_boost.best_score_)"
   ]
  },
  {
   "cell_type": "code",
   "execution_count": 94,
   "metadata": {
    "scrolled": false
   },
   "outputs": [],
   "source": [
    "results = pd.DataFrame(grad_boost.cv_results_)"
   ]
  },
  {
   "cell_type": "code",
   "execution_count": 95,
   "metadata": {
    "scrolled": false
   },
   "outputs": [
    {
     "data": {
      "text/plain": [
       "<matplotlib.legend.Legend at 0x203088c9910>"
      ]
     },
     "execution_count": 95,
     "metadata": {},
     "output_type": "execute_result"
    },
    {
     "data": {
      "image/png": "[encoded data removed]",
      "text/plain": [
       "<Figure size 432x288 with 1 Axes>"
      ]
     },
     "metadata": {
      "needs_background": "light"
     },
     "output_type": "display_data"
    }
   ],
   "source": [
    "for lr in param_grid['learning_rate']:\n",
    "    plt.plot(param_grid['max_depth'],results['mean_test_score'][(results['param_learning_rate'] == lr) &\n",
    "                                                               (results['param_n_estimators'] == 50)],\n",
    "            label = 'Learning Rate ={}'.format(lr))\n",
    "plt.legend()"
   ]
  },
  {
   "cell_type": "markdown",
   "metadata": {},
   "source": [
    "The best model has a learning rate = 0.1, n_estimators = 50, and max_depth = 2. The validation score is 0.8343"
   ]
  },
  {
   "cell_type": "markdown",
   "metadata": {},
   "source": [
    "## PCA"
   ]
  },
  {
   "cell_type": "code",
   "execution_count": 96,
   "metadata": {},
   "outputs": [],
   "source": [
    "from sklearn.decomposition import PCA\n",
    "pca = PCA()\n",
    "X_train_pca = pca.fit_transform(X_train)\n",
    "X_test_pca = pca.transform(X_test)"
   ]
  },
  {
   "cell_type": "code",
   "execution_count": 97,
   "metadata": {
    "scrolled": true
   },
   "outputs": [
    {
     "data": {
      "text/plain": [
       "array([2.15526685e-01, 1.38430476e-01, 8.16470272e-02, 5.01636807e-02,\n",
       "       4.68676571e-02, 4.20074849e-02, 4.01400138e-02, 3.75408923e-02,\n",
       "       3.56142086e-02, 3.52552638e-02, 3.24219477e-02, 3.05929752e-02,\n",
       "       2.91312866e-02, 2.78108270e-02, 2.65123515e-02, 2.46748479e-02,\n",
       "       2.15800333e-02, 1.88707222e-02, 1.70496034e-02, 1.26867153e-02,\n",
       "       6.92049432e-03, 6.14104639e-03, 5.64096002e-03, 5.46601411e-03,\n",
       "       4.75666974e-03, 4.57366179e-03, 1.11780072e-03, 6.83502641e-04,\n",
       "       1.75150758e-04, 1.12033887e-31, 5.12153066e-32, 4.16533954e-32,\n",
       "       2.05969474e-32, 1.87945154e-32, 1.31133749e-32, 6.47286429e-33,\n",
       "       6.14230701e-33, 5.81885112e-33, 5.59155715e-33, 3.42059685e-33])"
      ]
     },
     "execution_count": 97,
     "metadata": {},
     "output_type": "execute_result"
    }
   ],
   "source": [
    "pca.explained_variance_ratio_"
   ]
  },
  {
   "cell_type": "code",
   "execution_count": 98,
   "metadata": {},
   "outputs": [
    {
     "data": {
      "text/plain": [
       "[<matplotlib.lines.Line2D at 0x203088f0c70>]"
      ]
     },
     "execution_count": 98,
     "metadata": {},
     "output_type": "execute_result"
    },
    {
     "data": {
      "image/png": "[encoded data removed]",
      "text/plain": [
       "<Figure size 432x288 with 1 Axes>"
      ]
     },
     "metadata": {
      "needs_background": "light"
     },
     "output_type": "display_data"
    }
   ],
   "source": [
    "plt.plot(np.cumsum(pca.explained_variance_ratio_))"
   ]
  },
  {
   "cell_type": "markdown",
   "metadata": {},
   "source": [
    "95% seems to be where the elbow is, so I set the PCA to explain 95% of the variance, which is 19 components (down from the original 40 features)"
   ]
  },
  {
   "cell_type": "code",
   "execution_count": 99,
   "metadata": {},
   "outputs": [],
   "source": [
    "pca = PCA(n_components = .95)\n",
    "X_train_pca = pca.fit_transform(X_train)\n",
    "X_test_pca = pca.transform(X_test)"
   ]
  },
  {
   "cell_type": "code",
   "execution_count": 100,
   "metadata": {},
   "outputs": [
    {
     "data": {
      "text/plain": [
       "(1406, 19)"
      ]
     },
     "execution_count": 100,
     "metadata": {},
     "output_type": "execute_result"
    }
   ],
   "source": [
    "X_train_pca.shape"
   ]
  },
  {
   "cell_type": "markdown",
   "metadata": {},
   "source": [
    "### KNN with PCA"
   ]
  },
  {
   "cell_type": "code",
   "execution_count": 101,
   "metadata": {
    "scrolled": true
   },
   "outputs": [
    {
     "data": {
      "text/plain": [
       "GridSearchCV(cv=5, estimator=KNeighborsClassifier(), n_jobs=-1,\n",
       "             param_grid={'n_neighbors': array([1, 2, 3, 4, 5, 6, 7, 8, 9])},\n",
       "             scoring='roc_auc')"
      ]
     },
     "execution_count": 101,
     "metadata": {},
     "output_type": "execute_result"
    }
   ],
   "source": [
    "param_grid = {'n_neighbors':np.arange(1,10)}\n",
    "\n",
    "grid_knn = GridSearchCV(KNeighborsClassifier(), param_grid, n_jobs = -1, cv = 5,scoring = 'roc_auc')\n",
    "grid_knn.fit(X_train_pca, y_train)"
   ]
  },
  {
   "cell_type": "code",
   "execution_count": 102,
   "metadata": {
    "scrolled": false
   },
   "outputs": [
    {
     "name": "stdout",
     "output_type": "stream",
     "text": [
      "{'n_neighbors': 9}\n",
      "0.7679089704101385\n"
     ]
    }
   ],
   "source": [
    "print(grid_knn.best_params_)\n",
    "print(grid_knn.best_score_)"
   ]
  },
  {
   "cell_type": "code",
   "execution_count": 103,
   "metadata": {
    "scrolled": true
   },
   "outputs": [
    {
     "data": {
      "text/plain": [
       "Text(0, 0.5, 'test score')"
      ]
     },
     "execution_count": 103,
     "metadata": {},
     "output_type": "execute_result"
    },
    {
     "data": {
      "image/png": "[encoded data removed]",
      "text/plain": [
       "<Figure size 432x288 with 1 Axes>"
      ]
     },
     "metadata": {
      "needs_background": "light"
     },
     "output_type": "display_data"
    }
   ],
   "source": [
    "results = pd.DataFrame(grid_knn.cv_results_)\n",
    "plt.plot(param_grid['n_neighbors'], results['mean_test_score'])\n",
    "plt.xticks(param_grid['n_neighbors'])\n",
    "plt.xlabel('n neighbors')\n",
    "plt.ylabel('test score')"
   ]
  },
  {
   "cell_type": "code",
   "execution_count": 104,
   "metadata": {
    "scrolled": true
   },
   "outputs": [
    {
     "data": {
      "text/plain": [
       "0.636765205572545"
      ]
     },
     "execution_count": 104,
     "metadata": {},
     "output_type": "execute_result"
    }
   ],
   "source": [
    "knn = KNeighborsClassifier(**grid_knn.best_params_)\n",
    "knn.fit(X_train_pca, y_train)\n",
    "pred_y = knn.predict(X_test_pca)\n",
    "roc_auc_score(y_test, pred_y)"
   ]
  },
  {
   "cell_type": "markdown",
   "metadata": {},
   "source": [
    "### Logistic Regression with PCA"
   ]
  },
  {
   "cell_type": "code",
   "execution_count": 105,
   "metadata": {},
   "outputs": [
    {
     "data": {
      "text/plain": [
       "GridSearchCV(cv=5, estimator=LogisticRegression(), n_jobs=-1,\n",
       "             param_grid={'C': [0.001, 0.01, 0.1, 1, 10, 100, 1000],\n",
       "                         'random_state': [0]},\n",
       "             scoring='roc_auc')"
      ]
     },
     "execution_count": 105,
     "metadata": {},
     "output_type": "execute_result"
    }
   ],
   "source": [
    "param_grid = {'C':[.001,.01,.1,1,10,100,1000], 'random_state':[0]}\n",
    "grid_logit = GridSearchCV(LogisticRegression(),param_grid,scoring='roc_auc',cv=5,n_jobs = -1)\n",
    "grid_logit.fit(X_train_pca,y_train)"
   ]
  },
  {
   "cell_type": "code",
   "execution_count": 106,
   "metadata": {},
   "outputs": [
    {
     "name": "stdout",
     "output_type": "stream",
     "text": [
      "{'C': 1, 'random_state': 0}\n",
      "0.8248097113486608\n"
     ]
    }
   ],
   "source": [
    "print(grid_logit.best_params_)\n",
    "print(grid_logit.best_score_)"
   ]
  },
  {
   "cell_type": "code",
   "execution_count": 107,
   "metadata": {
    "scrolled": true
   },
   "outputs": [
    {
     "data": {
      "text/plain": [
       "Text(0, 0.5, 'test score')"
      ]
     },
     "execution_count": 107,
     "metadata": {},
     "output_type": "execute_result"
    },
    {
     "data": {
      "image/png": "[encoded data removed]",
      "text/plain": [
       "<Figure size 432x288 with 1 Axes>"
      ]
     },
     "metadata": {
      "needs_background": "light"
     },
     "output_type": "display_data"
    }
   ],
   "source": [
    "results = pd.DataFrame(grid_logit.cv_results_)\n",
    "plt.plot(param_grid['C'], results['mean_test_score'])\n",
    "plt.xscale('log')\n",
    "plt.xlabel('C')\n",
    "plt.ylabel('test score')"
   ]
  },
  {
   "cell_type": "code",
   "execution_count": 108,
   "metadata": {},
   "outputs": [
    {
     "data": {
      "text/plain": [
       "0.6437497640351871"
      ]
     },
     "execution_count": 108,
     "metadata": {},
     "output_type": "execute_result"
    }
   ],
   "source": [
    "logit = LogisticRegression(**grid_logit.best_params_)\n",
    "logit.fit(X_train_pca, y_train)\n",
    "pred_y = logit.predict(X_test_pca)\n",
    "roc_auc_score(y_test, pred_y)"
   ]
  },
  {
   "cell_type": "markdown",
   "metadata": {},
   "source": [
    "### Linear SVC with PCA"
   ]
  },
  {
   "cell_type": "code",
   "execution_count": 109,
   "metadata": {},
   "outputs": [
    {
     "data": {
      "text/plain": [
       "GridSearchCV(cv=5, estimator=LinearSVC(), n_jobs=-1,\n",
       "             param_grid={'C': [0.001, 0.01, 0.1, 1, 10, 100], 'dual': [False]},\n",
       "             scoring='roc_auc')"
      ]
     },
     "execution_count": 109,
     "metadata": {},
     "output_type": "execute_result"
    }
   ],
   "source": [
    "param_grid = {'C': [0.001,0.01,0.1,1,10,100], 'dual': [False]}\n",
    "grid_LinSVC = GridSearchCV(LinearSVC(),param_grid, scoring='roc_auc', cv = 5, n_jobs = -1)\n",
    "grid_LinSVC.fit(X_train_pca, y_train)"
   ]
  },
  {
   "cell_type": "code",
   "execution_count": 110,
   "metadata": {
    "scrolled": true
   },
   "outputs": [
    {
     "name": "stdout",
     "output_type": "stream",
     "text": [
      "{'C': 0.001, 'dual': False}\n",
      "0.8231064109777145\n"
     ]
    }
   ],
   "source": [
    "print(grid_LinSVC.best_params_)\n",
    "print(grid_LinSVC.best_score_)"
   ]
  },
  {
   "cell_type": "code",
   "execution_count": 111,
   "metadata": {
    "scrolled": true
   },
   "outputs": [
    {
     "data": {
      "text/plain": [
       "Text(0, 0.5, 'test score')"
      ]
     },
     "execution_count": 111,
     "metadata": {},
     "output_type": "execute_result"
    },
    {
     "data": {
      "image/png": "[encoded data removed]",
      "text/plain": [
       "<Figure size 432x288 with 1 Axes>"
      ]
     },
     "metadata": {
      "needs_background": "light"
     },
     "output_type": "display_data"
    }
   ],
   "source": [
    "results = pd.DataFrame(grid_LinSVC.cv_results_)\n",
    "plt.plot(param_grid['C'], results['mean_test_score'])\n",
    "plt.xscale('log')\n",
    "plt.xlabel('C')\n",
    "plt.ylabel('test score')"
   ]
  },
  {
   "cell_type": "code",
   "execution_count": 112,
   "metadata": {},
   "outputs": [
    {
     "data": {
      "text/plain": [
       "0.6198701249669649"
      ]
     },
     "execution_count": 112,
     "metadata": {},
     "output_type": "execute_result"
    }
   ],
   "source": [
    "LinSVC = LinearSVC(**grid_LinSVC.best_params_)\n",
    "LinSVC.fit(X_train_pca, y_train)\n",
    "pred_y = LinSVC.predict(X_test_pca)\n",
    "roc_auc_score(y_test, pred_y)"
   ]
  },
  {
   "cell_type": "markdown",
   "metadata": {},
   "source": [
    "### SVC with linear kernel with PCA"
   ]
  },
  {
   "cell_type": "code",
   "execution_count": 113,
   "metadata": {},
   "outputs": [
    {
     "data": {
      "text/plain": [
       "GridSearchCV(cv=5, estimator=SVC(), n_jobs=-1,\n",
       "             param_grid={'C': [0.001, 0.01, 0.1, 1, 10, 100],\n",
       "                         'kernel': ['linear']},\n",
       "             scoring='roc_auc')"
      ]
     },
     "execution_count": 113,
     "metadata": {},
     "output_type": "execute_result"
    }
   ],
   "source": [
    "param_grid = {'kernel':['linear'], 'C':[0.001,0.01,0.1,1,10,100]}\n",
    "grid_SVClin = GridSearchCV(SVC(),param_grid, scoring='roc_auc', cv = 5, n_jobs = -1)\n",
    "grid_SVClin.fit(X_train_pca, y_train)"
   ]
  },
  {
   "cell_type": "code",
   "execution_count": 114,
   "metadata": {},
   "outputs": [
    {
     "name": "stdout",
     "output_type": "stream",
     "text": [
      "{'C': 0.1, 'kernel': 'linear'}\n",
      "0.8177525182691727\n"
     ]
    }
   ],
   "source": [
    "print(grid_SVClin.best_params_)\n",
    "print(grid_SVClin.best_score_)"
   ]
  },
  {
   "cell_type": "code",
   "execution_count": 115,
   "metadata": {
    "scrolled": true
   },
   "outputs": [
    {
     "data": {
      "image/png": "[encoded data removed]",
      "text/plain": [
       "<Figure size 432x288 with 1 Axes>"
      ]
     },
     "metadata": {
      "needs_background": "light"
     },
     "output_type": "display_data"
    }
   ],
   "source": [
    "results = pd.DataFrame(grid_SVClin.cv_results_)\n",
    "plt.plot(param_grid['C'], results['mean_test_score'])\n",
    "plt.xscale('log')"
   ]
  },
  {
   "cell_type": "code",
   "execution_count": 116,
   "metadata": {},
   "outputs": [
    {
     "data": {
      "text/plain": [
       "0.6391626080718844"
      ]
     },
     "execution_count": 116,
     "metadata": {},
     "output_type": "execute_result"
    }
   ],
   "source": [
    "SVC_lin = SVC(**grid_SVClin.best_params_)\n",
    "SVC_lin.fit(X_train_pca, y_train)\n",
    "pred_y = SVC_lin.predict(X_test_pca)\n",
    "roc_auc_score(y_test, pred_y)"
   ]
  },
  {
   "cell_type": "markdown",
   "metadata": {},
   "source": [
    "### SVC with poly kernel - PCA transformed"
   ]
  },
  {
   "cell_type": "code",
   "execution_count": 117,
   "metadata": {},
   "outputs": [
    {
     "data": {
      "text/plain": [
       "GridSearchCV(cv=5, estimator=SVC(), n_jobs=-1,\n",
       "             param_grid={'C': [0.001, 0.01, 0.1, 1, 10, 100],\n",
       "                         'coef0': [0, 0.001, 0.01, 0.1, 1],\n",
       "                         'degree': [1, 2, 3, 4, 5], 'kernel': ['poly']},\n",
       "             scoring='roc_auc')"
      ]
     },
     "execution_count": 117,
     "metadata": {},
     "output_type": "execute_result"
    }
   ],
   "source": [
    "param_grid = {'kernel':['poly'], 'degree':[1,2,3,4,5],'C':[.001,.01,.1,1,10,100],'coef0':[0,.001,.01,.1,1]}\n",
    "grid_poly = GridSearchCV(SVC(), param_grid, cv=5, scoring='roc_auc', n_jobs = -1)\n",
    "grid_poly.fit(X_train_pca, y_train)"
   ]
  },
  {
   "cell_type": "code",
   "execution_count": 118,
   "metadata": {},
   "outputs": [
    {
     "name": "stdout",
     "output_type": "stream",
     "text": [
      "{'C': 10, 'coef0': 0, 'degree': 1, 'kernel': 'poly'}\n",
      "0.8177942854599956\n"
     ]
    }
   ],
   "source": [
    "print(grid_poly.best_params_)\n",
    "print(grid_poly.best_score_)"
   ]
  },
  {
   "cell_type": "code",
   "execution_count": 119,
   "metadata": {
    "scrolled": false
   },
   "outputs": [
    {
     "data": {
      "text/plain": [
       "<matplotlib.legend.Legend at 0x2030aaa6ac0>"
      ]
     },
     "execution_count": 119,
     "metadata": {},
     "output_type": "execute_result"
    },
    {
     "data": {
      "image/png": "[encoded data removed]",
      "text/plain": [
       "<Figure size 432x288 with 1 Axes>"
      ]
     },
     "metadata": {
      "needs_background": "light"
     },
     "output_type": "display_data"
    }
   ],
   "source": [
    "results = pd.DataFrame(grid_poly.cv_results_)\n",
    "for c in param_grid['C']:\n",
    "    plt.plot(param_grid['degree'],results['mean_test_score'][(results['param_C'] == c) &\n",
    "                                                               (results['param_coef0'] == 0)],\n",
    "            label = 'C ={}'.format(c))\n",
    "plt.legend()"
   ]
  },
  {
   "cell_type": "code",
   "execution_count": 120,
   "metadata": {},
   "outputs": [
    {
     "data": {
      "text/plain": [
       "0.642164080492317"
      ]
     },
     "execution_count": 120,
     "metadata": {},
     "output_type": "execute_result"
    }
   ],
   "source": [
    "grid_poly = SVC(**grid_poly.best_params_)\n",
    "grid_poly.fit(X_train_pca, y_train)\n",
    "pred_y = grid_poly.predict(X_test_pca)\n",
    "roc_auc_score(y_test, pred_y)"
   ]
  },
  {
   "cell_type": "markdown",
   "metadata": {},
   "source": [
    "### SVC with RBF kernel - PCA transformed"
   ]
  },
  {
   "cell_type": "code",
   "execution_count": 121,
   "metadata": {},
   "outputs": [
    {
     "data": {
      "text/plain": [
       "GridSearchCV(cv=5, estimator=SVC(), n_jobs=-1,\n",
       "             param_grid={'C': [0.001, 0.01, 0.1, 1, 10, 100],\n",
       "                         'gamma': [0.001, 0.01, 0.1, 1, 10, 100],\n",
       "                         'kernel': ['rbf']},\n",
       "             scoring='roc_auc')"
      ]
     },
     "execution_count": 121,
     "metadata": {},
     "output_type": "execute_result"
    }
   ],
   "source": [
    "param_grid = {'C': [0.001, 0.01, 0.1, 1, 10, 100],\n",
    "              'gamma': [0.001, 0.01, 0.1, 1, 10, 100],\n",
    "            'kernel':['rbf']}\n",
    "grid_RBF = GridSearchCV(SVC(), param_grid, scoring = 'roc_auc', cv=5, n_jobs = -1)\n",
    "grid_RBF.fit(X_train_pca, y_train)"
   ]
  },
  {
   "cell_type": "code",
   "execution_count": 122,
   "metadata": {},
   "outputs": [
    {
     "name": "stdout",
     "output_type": "stream",
     "text": [
      "{'C': 100, 'gamma': 0.001, 'kernel': 'rbf'}\n",
      "0.8173769949873014\n"
     ]
    }
   ],
   "source": [
    "print(grid_RBF.best_params_)\n",
    "print(grid_RBF.best_score_)"
   ]
  },
  {
   "cell_type": "code",
   "execution_count": 123,
   "metadata": {
    "scrolled": true
   },
   "outputs": [
    {
     "data": {
      "image/png": "[encoded data removed]",
      "text/plain": [
       "<Figure size 432x288 with 1 Axes>"
      ]
     },
     "metadata": {
      "needs_background": "light"
     },
     "output_type": "display_data"
    }
   ],
   "source": [
    "results = pd.DataFrame(grid_RBF.cv_results_)\n",
    "for c in param_grid['C']:\n",
    "    plt.plot(param_grid['gamma'],results['mean_test_score'][(results['param_C'] == c)],\n",
    "            label = 'C ={}'.format(c))\n",
    "plt.legend()\n",
    "plt.xscale('log')"
   ]
  },
  {
   "cell_type": "code",
   "execution_count": 124,
   "metadata": {},
   "outputs": [
    {
     "data": {
      "text/plain": [
       "0.6416921508664628"
      ]
     },
     "execution_count": 124,
     "metadata": {},
     "output_type": "execute_result"
    }
   ],
   "source": [
    "grid_RBF = SVC(**grid_RBF.best_params_)\n",
    "grid_RBF.fit(X_train_pca, y_train)\n",
    "pred_y = grid_RBF.predict(X_test_pca)\n",
    "roc_auc_score(y_test, pred_y)"
   ]
  },
  {
   "cell_type": "markdown",
   "metadata": {},
   "source": [
    "### Decision tree with PCA"
   ]
  },
  {
   "cell_type": "code",
   "execution_count": 125,
   "metadata": {},
   "outputs": [
    {
     "data": {
      "text/plain": [
       "GridSearchCV(cv=5, estimator=DecisionTreeClassifier(), n_jobs=-1,\n",
       "             param_grid={'max_depth': array([1, 2, 3, 4, 5, 6, 7, 8, 9])},\n",
       "             scoring='roc_auc')"
      ]
     },
     "execution_count": 125,
     "metadata": {},
     "output_type": "execute_result"
    }
   ],
   "source": [
    "param_grid = {'max_depth': np.arange(1,10)}\n",
    "grid_tree = GridSearchCV(DecisionTreeClassifier(), param_grid, scoring = 'roc_auc', cv=5, n_jobs = -1)\n",
    "grid_tree.fit(X_train_pca, y_train)"
   ]
  },
  {
   "cell_type": "code",
   "execution_count": 126,
   "metadata": {
    "scrolled": true
   },
   "outputs": [
    {
     "name": "stdout",
     "output_type": "stream",
     "text": [
      "{'max_depth': 2}\n",
      "0.7417121369607853\n"
     ]
    }
   ],
   "source": [
    "print(grid_tree.best_params_)\n",
    "print(grid_tree.best_score_)"
   ]
  },
  {
   "cell_type": "code",
   "execution_count": 127,
   "metadata": {
    "scrolled": true
   },
   "outputs": [
    {
     "data": {
      "text/plain": [
       "[<matplotlib.lines.Line2D at 0x2030bfb4e20>]"
      ]
     },
     "execution_count": 127,
     "metadata": {},
     "output_type": "execute_result"
    },
    {
     "data": {
      "image/png": "[encoded data removed]",
      "text/plain": [
       "<Figure size 432x288 with 1 Axes>"
      ]
     },
     "metadata": {
      "needs_background": "light"
     },
     "output_type": "display_data"
    }
   ],
   "source": [
    "results = pd.DataFrame(grid_tree.cv_results_)\n",
    "plt.plot(param_grid['max_depth'], results['mean_test_score'])"
   ]
  },
  {
   "cell_type": "code",
   "execution_count": 128,
   "metadata": {},
   "outputs": [
    {
     "data": {
      "text/plain": [
       "0.6040510439083324"
      ]
     },
     "execution_count": 128,
     "metadata": {},
     "output_type": "execute_result"
    }
   ],
   "source": [
    "grid_tree = DecisionTreeClassifier(**grid_tree.best_params_)\n",
    "grid_tree.fit(X_train_pca, y_train)\n",
    "pred_y = grid_tree.predict(X_test_pca)\n",
    "roc_auc_score(y_test, pred_y)"
   ]
  },
  {
   "cell_type": "markdown",
   "metadata": {},
   "source": [
    "### PCA Results\n",
    "This is a table comparing the untransformed data to PCA validation scores. All scores are roc auc scores\n",
    "\n",
    "| Model | Untransformed Validation | PCA Validation|\n",
    "|---|---|---|\n",
    "| KNN | 0.7724 | 0.7679 |\n",
    "| Logistic Regression | 0.8261 | 0.8248|\n",
    "| Linear SVC | 0.8270 | 0.8178 |\n",
    "| SVC with Linear Kernel | 0.8231 | 0.8178 |\n",
    "| SVC with Poly Kernel | 0.8189 | 0.8178 |\n",
    "| SVC with RBF Kernel | 0.8224 | 0.8174 |\n",
    "| Decision Tree | 0.7866 | 0.7417 |\n",
    "\n",
    "<br>\n",
    "<br>\n",
    "This is a table comparing untransformed test scores to PCA test scores (roc auc scoring)\n",
    "\n",
    "| Model | Untransformed Test | PCA Test |\n",
    "|---|---|---|\n",
    "| KNN | 0.6659 | 0.6368 |\n",
    "| Logistic Regression | 0.6366 | 0.6437 |\n",
    "| Linear SVC | 0.6336 | 0.6199 |\n",
    "| SVC with Linear Kernel | 0.6458 | 0.6392 |\n",
    "| SVC with Poly Kernel | 0.6458 | 0.6422 |\n",
    "| SVC with RBF Kernel | 0.6458 | 0.6417 |\n",
    "| Decision Tree | 0.6914 | 0.6041 |\n",
    "\n",
    "<br>\n",
    "<br>\n",
    "This is a table comparing untransformed best parameters to PCA transformed best parameters\n",
    "\n",
    "| Model | Untransformed | PCA |\n",
    "|---|---|---|\n",
    "| KNN | n_neighbors = 9 | n_neighbors = 9 |\n",
    "| Logistic Regression | C = 0.1 | C = 1 |\n",
    "| Linear SVC | C = 0.01 | C = 0.001 |\n",
    "| SVC with Linear Kernel | C = 0.1 | C = 0.1 |\n",
    "| SVC with Poly Kernel | C = 1, coef0 = 0, degree = 1 | C = 10, coef0 = 0, degree = 1 |\n",
    "| SVC with RBF Kernel | C = 100, Gamma = 0.001 | C = 100, Gamma = 0.001 |\n",
    "| Decision Tree | max_depth = 3 | max_depth = 2 |\n",
    "\n",
    "<br>\n",
    "<br>\n",
    "In general, both validation scores and test scores dropped as a result of PCA. "
   ]
  },
  {
   "cell_type": "markdown",
   "metadata": {},
   "source": [
    "## Deep Learning"
   ]
  },
  {
   "cell_type": "code",
   "execution_count": 129,
   "metadata": {},
   "outputs": [],
   "source": [
    "from keras.models import Sequential\n",
    "from keras.layers import Dense\n",
    "from keras.wrappers.scikit_learn import KerasClassifier\n",
    "from keras.metrics import AUC\n",
    "\n",
    "np.random.seed(0)\n",
    "tensorflow.random.set_seed(0)"
   ]
  },
  {
   "cell_type": "code",
   "execution_count": 130,
   "metadata": {},
   "outputs": [
    {
     "data": {
      "text/plain": [
       "(1406, 40)"
      ]
     },
     "execution_count": 130,
     "metadata": {},
     "output_type": "execute_result"
    }
   ],
   "source": [
    "X_train.shape"
   ]
  },
  {
   "cell_type": "markdown",
   "metadata": {},
   "source": [
    "Grid search doesn't work on the sequential adding method we learned in class, so I used the method below. I also included the method of building the model in class, but without a grid search"
   ]
  },
  {
   "cell_type": "code",
   "execution_count": 131,
   "metadata": {},
   "outputs": [],
   "source": [
    "def create_model():\n",
    "    model = Sequential()\n",
    "    model.add(Dense(35, input_dim = 40, activation='relu', name = 'input_layer')) \n",
    "    model.add(Dense(25, activation = 'relu', name = 'hidden_layer'))\n",
    "    model.add(Dense(1, activation = 'sigmoid', name = 'output_layer'))\n",
    "    model.compile(loss='binary_crossentropy', optimizer='adam', metrics=['AUC'])\n",
    "    return model"
   ]
  },
  {
   "cell_type": "code",
   "execution_count": 132,
   "metadata": {},
   "outputs": [],
   "source": [
    "model = KerasClassifier(build_fn=create_model, verbose=0)"
   ]
  },
  {
   "cell_type": "code",
   "execution_count": 133,
   "metadata": {},
   "outputs": [
    {
     "name": "stdout",
     "output_type": "stream",
     "text": [
      "Wall time: 1min 55s\n"
     ]
    },
    {
     "data": {
      "text/plain": [
       "GridSearchCV(cv=5,\n",
       "             estimator=<keras.wrappers.scikit_learn.KerasClassifier object at 0x000002030C4A1940>,\n",
       "             n_jobs=-1,\n",
       "             param_grid={'batch_size': [10, 25, 50, 75, 100],\n",
       "                         'epochs': array([15, 17, 19, 21, 23, 25, 27, 29])},\n",
       "             scoring='roc_auc')"
      ]
     },
     "execution_count": 133,
     "metadata": {},
     "output_type": "execute_result"
    }
   ],
   "source": [
    "%%time\n",
    "\n",
    "param_grid = {'batch_size':[10,25,50,75,100], 'epochs':np.arange(15,30,2)}\n",
    "grid = GridSearchCV(model, param_grid, cv= 5, n_jobs = -1, scoring = 'roc_auc')\n",
    "grid.fit(X_train, y_train)"
   ]
  },
  {
   "cell_type": "code",
   "execution_count": 134,
   "metadata": {},
   "outputs": [
    {
     "name": "stdout",
     "output_type": "stream",
     "text": [
      "{'batch_size': 50, 'epochs': 21}\n",
      "0.8287826657680165\n"
     ]
    }
   ],
   "source": [
    "print(grid.best_params_)\n",
    "print(grid.best_score_)"
   ]
  },
  {
   "cell_type": "code",
   "execution_count": 135,
   "metadata": {},
   "outputs": [],
   "source": [
    "tensorflow.keras.backend.clear_session()\n",
    "model = Sequential()\n",
    "\n",
    "model.add(Dense(35, input_dim = 40, activation='relu', name = 'input_layer')) \n",
    "model.add(Dense(25, activation = 'relu', name = 'hidden_layer'))\n",
    "model.add(Dense(1, activation = 'sigmoid', name = 'output_layer')) "
   ]
  },
  {
   "cell_type": "code",
   "execution_count": 136,
   "metadata": {},
   "outputs": [
    {
     "name": "stdout",
     "output_type": "stream",
     "text": [
      "Model: \"sequential\"\n",
      "_________________________________________________________________\n",
      "Layer (type)                 Output Shape              Param #   \n",
      "=================================================================\n",
      "input_layer (Dense)          (None, 35)                1435      \n",
      "_________________________________________________________________\n",
      "hidden_layer (Dense)         (None, 25)                900       \n",
      "_________________________________________________________________\n",
      "output_layer (Dense)         (None, 1)                 26        \n",
      "=================================================================\n",
      "Total params: 2,361\n",
      "Trainable params: 2,361\n",
      "Non-trainable params: 0\n",
      "_________________________________________________________________\n"
     ]
    }
   ],
   "source": [
    "model.summary()"
   ]
  },
  {
   "cell_type": "code",
   "execution_count": 137,
   "metadata": {},
   "outputs": [
    {
     "name": "stdout",
     "output_type": "stream",
     "text": [
      "Epoch 1/21\n",
      "29/29 [==============================] - 1s 2ms/step - loss: 0.6297 - auc: 0.5284\n",
      "Epoch 2/21\n",
      "29/29 [==============================] - 0s 2ms/step - loss: 0.5097 - auc: 0.7375\n",
      "Epoch 3/21\n",
      "29/29 [==============================] - 0s 2ms/step - loss: 0.4592 - auc: 0.8060\n",
      "Epoch 4/21\n",
      "29/29 [==============================] - 0s 2ms/step - loss: 0.4359 - auc: 0.8205\n",
      "Epoch 5/21\n",
      "29/29 [==============================] - 0s 2ms/step - loss: 0.4261 - auc: 0.8289\n",
      "Epoch 6/21\n",
      "29/29 [==============================] - 0s 2ms/step - loss: 0.4192 - auc: 0.8348\n",
      "Epoch 7/21\n",
      "29/29 [==============================] - 0s 2ms/step - loss: 0.4126 - auc: 0.8409\n",
      "Epoch 8/21\n",
      "29/29 [==============================] - 0s 2ms/step - loss: 0.4132 - auc: 0.8404\n",
      "Epoch 9/21\n",
      "29/29 [==============================] - 0s 2ms/step - loss: 0.4059 - auc: 0.8472\n",
      "Epoch 10/21\n",
      "29/29 [==============================] - 0s 2ms/step - loss: 0.4039 - auc: 0.8487\n",
      "Epoch 11/21\n",
      "29/29 [==============================] - 0s 2ms/step - loss: 0.3997 - auc: 0.8527\n",
      "Epoch 12/21\n",
      "29/29 [==============================] - 0s 2ms/step - loss: 0.3989 - auc: 0.8534\n",
      "Epoch 13/21\n",
      "29/29 [==============================] - 0s 2ms/step - loss: 0.3941 - auc: 0.8575\n",
      "Epoch 14/21\n",
      "29/29 [==============================] - 0s 2ms/step - loss: 0.3929 - auc: 0.8590\n",
      "Epoch 15/21\n",
      "29/29 [==============================] - 0s 2ms/step - loss: 0.3917 - auc: 0.8602\n",
      "Epoch 16/21\n",
      "29/29 [==============================] - 0s 2ms/step - loss: 0.3899 - auc: 0.8606\n",
      "Epoch 17/21\n",
      "29/29 [==============================] - 0s 2ms/step - loss: 0.3868 - auc: 0.8648\n",
      "Epoch 18/21\n",
      "29/29 [==============================] - 0s 2ms/step - loss: 0.3850 - auc: 0.8648\n",
      "Epoch 19/21\n",
      "29/29 [==============================] - 0s 2ms/step - loss: 0.3838 - auc: 0.8676\n",
      "Epoch 20/21\n",
      "29/29 [==============================] - 0s 2ms/step - loss: 0.3804 - auc: 0.8699\n",
      "Epoch 21/21\n",
      "29/29 [==============================] - 0s 2ms/step - loss: 0.3800 - auc: 0.8714\n"
     ]
    },
    {
     "data": {
      "text/plain": [
       "<keras.callbacks.History at 0x2030bed34f0>"
      ]
     },
     "execution_count": 137,
     "metadata": {},
     "output_type": "execute_result"
    }
   ],
   "source": [
    "model.compile(loss='binary_crossentropy', optimizer='adam', metrics=['AUC'])\n",
    "model.fit(X_train, y_train, **grid.best_params_)"
   ]
  },
  {
   "cell_type": "code",
   "execution_count": 138,
   "metadata": {
    "scrolled": false
   },
   "outputs": [
    {
     "name": "stdout",
     "output_type": "stream",
     "text": [
      "44/44 [==============================] - 0s 2ms/step - loss: 0.3755 - auc: 0.8759\n",
      "11/11 [==============================] - 0s 2ms/step - loss: 0.5124 - auc: 0.7898\n"
     ]
    },
    {
     "data": {
      "text/plain": [
       "[0.5123568177223206, 0.7898025512695312]"
      ]
     },
     "execution_count": 138,
     "metadata": {},
     "output_type": "execute_result"
    }
   ],
   "source": [
    "train_loss_and_metrics = model.evaluate(X_train, y_train)\n",
    "test_loss_and_metrics = model.evaluate(X_test, y_test)\n",
    "test_loss_and_metrics"
   ]
  },
  {
   "cell_type": "code",
   "execution_count": 139,
   "metadata": {
    "scrolled": false
   },
   "outputs": [
    {
     "data": {
      "text/plain": [
       "0.644863517952203"
      ]
     },
     "execution_count": 139,
     "metadata": {},
     "output_type": "execute_result"
    }
   ],
   "source": [
    "test_pred = pd.DataFrame(model.predict(X_test) > 0.5)\n",
    "roc_auc_score(y_test, test_pred)"
   ]
  },
  {
   "cell_type": "markdown",
   "metadata": {},
   "source": [
    "The roc auc score for the deep learning model is about 0.65 and the accuracy score for the test set is around 0.79, although it depends on the seed."
   ]
  }
 ],
 "metadata": {
  "kernelspec": {
   "display_name": "Python 3",
   "language": "python",
   "name": "python3"
  },
  "language_info": {
   "codemirror_mode": {
    "name": "ipython",
    "version": 3
   },
   "file_extension": ".py",
   "mimetype": "text/x-python",
   "name": "python",
   "nbconvert_exporter": "python",
   "pygments_lexer": "ipython3",
   "version": "3.8.5"
  }
 },
 "nbformat": 4,
 "nbformat_minor": 2
}

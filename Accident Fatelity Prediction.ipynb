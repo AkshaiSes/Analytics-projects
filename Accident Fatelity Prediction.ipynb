{
 "cells": [
  {
   "cell_type": "markdown",
   "metadata": {},
   "source": [
    "#### Your task:\n",
    "Find a good machine learning model to predict the target value. Then predict the target values of the instances in the test.csv. \n"
   ]
  },
  {
   "cell_type": "code",
   "execution_count": 1,
   "metadata": {},
   "outputs": [],
   "source": [
    "#Importing Setups\n",
    "import pandas as pd\n",
    "import numpy as np\n",
    "import seaborn as sns\n",
    "import matplotlib.pyplot as plt\n",
    "from scipy.stats import mode\n",
    "import warnings\n",
    "warnings.filterwarnings('ignore')\n",
    "# Set the global default size of matplotlib figures\n",
    "plt.rc('figure', figsize=(10, 5))\n",
    "\n",
    "# Size of matplotlib figures that contain subplots\n",
    "fizsize_with_subplots = (10, 10)\n",
    "\n",
    "# Size of matplotlib histogram bins\n",
    "bin_size = 10\n",
    "import numpy as np\n",
    "import pandas as pd\n",
    "import matplotlib.pyplot as plt\n",
    "import seaborn as sns\n",
    "from sklearn.model_selection import train_test_split\n",
    "from sklearn.metrics import precision_score, roc_auc_score, recall_score, f1_score\n",
    "from sklearn.preprocessing import MinMaxScaler\n",
    "from sklearn.metrics import roc_curve\n",
    "from sklearn.model_selection import GridSearchCV\n",
    "from sklearn.metrics import precision_recall_curve\n",
    "from sklearn.neighbors import KNeighborsClassifier\n",
    "from sklearn.metrics import accuracy_score, classification_report, confusion_matrix\n",
    "from sklearn.metrics import fbeta_score, make_scorer\n",
    "from sklearn.linear_model import LogisticRegression\n",
    "from sklearn.svm import LinearSVC\n",
    "from sklearn.svm import SVC\n",
    "from sklearn.tree import DecisionTreeClassifier\n",
    "from sklearn.ensemble import RandomForestClassifier\n",
    "from sklearn.ensemble import BaggingClassifier\n",
    "from sklearn.ensemble import AdaBoostClassifier\n",
    "from sklearn.ensemble import GradientBoostingClassifier\n",
    "from sklearn import tree\n",
    "import warnings\n",
    "warnings.filterwarnings(\"ignore\")\n",
    "%matplotlib inline"
   ]
  },
  {
   "cell_type": "markdown",
   "metadata": {},
   "source": [
    "# Preprocessing ``train.csv``"
   ]
  },
  {
   "cell_type": "code",
   "execution_count": 2,
   "metadata": {},
   "outputs": [
    {
     "data": {
      "text/html": [
       "<div>\n",
       "<style scoped>\n",
       "    .dataframe tbody tr th:only-of-type {\n",
       "        vertical-align: middle;\n",
       "    }\n",
       "\n",
       "    .dataframe tbody tr th {\n",
       "        vertical-align: top;\n",
       "    }\n",
       "\n",
       "    .dataframe thead th {\n",
       "        text-align: right;\n",
       "    }\n",
       "</style>\n",
       "<table border=\"1\" class=\"dataframe\">\n",
       "  <thead>\n",
       "    <tr style=\"text-align: right;\">\n",
       "      <th></th>\n",
       "      <th>$1000 Damage to Any One Person's Property</th>\n",
       "      <th>Bridge Detail</th>\n",
       "      <th>Construction Zone Flag</th>\n",
       "      <th>Construction Zone Workers Present Flag</th>\n",
       "      <th>Crash Time</th>\n",
       "      <th>Day of Week</th>\n",
       "      <th>Highway System</th>\n",
       "      <th>Intersecting Highway Number</th>\n",
       "      <th>Intersecting Street Name</th>\n",
       "      <th>Manner of Collision</th>\n",
       "      <th>Median Type</th>\n",
       "      <th>Median Width</th>\n",
       "      <th>Number of Entering Roads</th>\n",
       "      <th>Number of Lanes</th>\n",
       "      <th>Surface Condition</th>\n",
       "      <th>Surface Type</th>\n",
       "      <th>Surface Width</th>\n",
       "      <th>Weather Condition</th>\n",
       "      <th>Crash Severity</th>\n",
       "    </tr>\n",
       "  </thead>\n",
       "  <tbody>\n",
       "    <tr>\n",
       "      <th>0</th>\n",
       "      <td>Yes</td>\n",
       "      <td>NOT APPLICABLE</td>\n",
       "      <td>No</td>\n",
       "      <td>No</td>\n",
       "      <td>638</td>\n",
       "      <td>TUESDAY</td>\n",
       "      <td>STATE SPUR</td>\n",
       "      <td>No Data</td>\n",
       "      <td>NaN</td>\n",
       "      <td>SAME DIRECTION - ONE STRAIGHT-ONE STOPPED</td>\n",
       "      <td>No Data</td>\n",
       "      <td>40</td>\n",
       "      <td>97 - NOT APPLICABLE</td>\n",
       "      <td>8</td>\n",
       "      <td>1 - DRY</td>\n",
       "      <td>No Data</td>\n",
       "      <td>96</td>\n",
       "      <td>1 - CLEAR</td>\n",
       "      <td>Not serious</td>\n",
       "    </tr>\n",
       "    <tr>\n",
       "      <th>1</th>\n",
       "      <td>Yes</td>\n",
       "      <td>NOT APPLICABLE</td>\n",
       "      <td>No</td>\n",
       "      <td>No</td>\n",
       "      <td>1658</td>\n",
       "      <td>SUNDAY</td>\n",
       "      <td>STATE SPUR</td>\n",
       "      <td>No Data</td>\n",
       "      <td>N FIELD ST</td>\n",
       "      <td>ANGLE - BOTH GOING STRAIGHT</td>\n",
       "      <td>No Data</td>\n",
       "      <td>40</td>\n",
       "      <td>97 - NOT APPLICABLE</td>\n",
       "      <td>8</td>\n",
       "      <td>2 - WET</td>\n",
       "      <td>No Data</td>\n",
       "      <td>96</td>\n",
       "      <td>3 - RAIN</td>\n",
       "      <td>Not serious</td>\n",
       "    </tr>\n",
       "    <tr>\n",
       "      <th>2</th>\n",
       "      <td>Yes</td>\n",
       "      <td>NOT APPLICABLE</td>\n",
       "      <td>No</td>\n",
       "      <td>No</td>\n",
       "      <td>1715</td>\n",
       "      <td>WEDNESDAY</td>\n",
       "      <td>STATE SPUR</td>\n",
       "      <td>No Data</td>\n",
       "      <td>AKARD ST</td>\n",
       "      <td>SAME DIRECTION - ONE STRAIGHT-ONE LEFT TURN</td>\n",
       "      <td>No Data</td>\n",
       "      <td>No Data</td>\n",
       "      <td>97 - NOT APPLICABLE</td>\n",
       "      <td>No Data</td>\n",
       "      <td>1 - DRY</td>\n",
       "      <td>No Data</td>\n",
       "      <td>No Data</td>\n",
       "      <td>2 - CLOUDY</td>\n",
       "      <td>Not serious</td>\n",
       "    </tr>\n",
       "    <tr>\n",
       "      <th>3</th>\n",
       "      <td>Yes</td>\n",
       "      <td>NOT APPLICABLE</td>\n",
       "      <td>No</td>\n",
       "      <td>No</td>\n",
       "      <td>1817</td>\n",
       "      <td>FRIDAY</td>\n",
       "      <td>STATE SPUR</td>\n",
       "      <td>No Data</td>\n",
       "      <td>NaN</td>\n",
       "      <td>SAME DIRECTION - BOTH GOING STRAIGHT-REAR END</td>\n",
       "      <td>No Data</td>\n",
       "      <td>40</td>\n",
       "      <td>97 - NOT APPLICABLE</td>\n",
       "      <td>8</td>\n",
       "      <td>1 - DRY</td>\n",
       "      <td>No Data</td>\n",
       "      <td>96</td>\n",
       "      <td>1 - CLEAR</td>\n",
       "      <td>Not serious</td>\n",
       "    </tr>\n",
       "    <tr>\n",
       "      <th>4</th>\n",
       "      <td>Yes</td>\n",
       "      <td>NOT APPLICABLE</td>\n",
       "      <td>No</td>\n",
       "      <td>No</td>\n",
       "      <td>1950</td>\n",
       "      <td>SUNDAY</td>\n",
       "      <td>STATE SPUR</td>\n",
       "      <td>345</td>\n",
       "      <td>IH0345</td>\n",
       "      <td>ANGLE - BOTH GOING STRAIGHT</td>\n",
       "      <td>No Data</td>\n",
       "      <td>40</td>\n",
       "      <td>4 - FOUR ENTERING ROADS</td>\n",
       "      <td>8</td>\n",
       "      <td>1 - DRY</td>\n",
       "      <td>No Data</td>\n",
       "      <td>96</td>\n",
       "      <td>1 - CLEAR</td>\n",
       "      <td>Not serious</td>\n",
       "    </tr>\n",
       "  </tbody>\n",
       "</table>\n",
       "</div>"
      ],
      "text/plain": [
       "  $1000 Damage to Any One Person's Property   Bridge Detail  \\\n",
       "0                                       Yes  NOT APPLICABLE   \n",
       "1                                       Yes  NOT APPLICABLE   \n",
       "2                                       Yes  NOT APPLICABLE   \n",
       "3                                       Yes  NOT APPLICABLE   \n",
       "4                                       Yes  NOT APPLICABLE   \n",
       "\n",
       "  Construction Zone Flag Construction Zone Workers Present Flag  Crash Time  \\\n",
       "0                     No                                     No         638   \n",
       "1                     No                                     No        1658   \n",
       "2                     No                                     No        1715   \n",
       "3                     No                                     No        1817   \n",
       "4                     No                                     No        1950   \n",
       "\n",
       "  Day of Week Highway System Intersecting Highway Number  \\\n",
       "0     TUESDAY     STATE SPUR                     No Data   \n",
       "1      SUNDAY     STATE SPUR                     No Data   \n",
       "2   WEDNESDAY     STATE SPUR                     No Data   \n",
       "3      FRIDAY     STATE SPUR                     No Data   \n",
       "4      SUNDAY     STATE SPUR                         345   \n",
       "\n",
       "  Intersecting Street Name                            Manner of Collision  \\\n",
       "0                      NaN      SAME DIRECTION - ONE STRAIGHT-ONE STOPPED   \n",
       "1               N FIELD ST                    ANGLE - BOTH GOING STRAIGHT   \n",
       "2                 AKARD ST    SAME DIRECTION - ONE STRAIGHT-ONE LEFT TURN   \n",
       "3                      NaN  SAME DIRECTION - BOTH GOING STRAIGHT-REAR END   \n",
       "4                   IH0345                    ANGLE - BOTH GOING STRAIGHT   \n",
       "\n",
       "  Median Type Median Width Number of Entering Roads Number of Lanes  \\\n",
       "0     No Data           40      97 - NOT APPLICABLE               8   \n",
       "1     No Data           40      97 - NOT APPLICABLE               8   \n",
       "2     No Data      No Data      97 - NOT APPLICABLE         No Data   \n",
       "3     No Data           40      97 - NOT APPLICABLE               8   \n",
       "4     No Data           40  4 - FOUR ENTERING ROADS               8   \n",
       "\n",
       "  Surface Condition Surface Type Surface Width Weather Condition  \\\n",
       "0           1 - DRY      No Data            96         1 - CLEAR   \n",
       "1           2 - WET      No Data            96          3 - RAIN   \n",
       "2           1 - DRY      No Data       No Data        2 - CLOUDY   \n",
       "3           1 - DRY      No Data            96         1 - CLEAR   \n",
       "4           1 - DRY      No Data            96         1 - CLEAR   \n",
       "\n",
       "  Crash Severity  \n",
       "0    Not serious  \n",
       "1    Not serious  \n",
       "2    Not serious  \n",
       "3    Not serious  \n",
       "4    Not serious  "
      ]
     },
     "execution_count": 2,
     "metadata": {},
     "output_type": "execute_result"
    }
   ],
   "source": [
    "df_train = pd.read_csv('train.csv')\n",
    "df_train.head(4)"
   ]
  },
  {
   "cell_type": "code",
   "execution_count": 3,
   "metadata": {},
   "outputs": [
    {
     "name": "stdout",
     "output_type": "stream",
     "text": [
      "<class 'pandas.core.frame.DataFrame'>\n",
      "RangeIndex: 2322 entries, 0 to 2321\n",
      "Data columns (total 19 columns):\n",
      " #   Column                                     Non-Null Count  Dtype \n",
      "---  ------                                     --------------  ----- \n",
      " 0   $1000 Damage to Any One Person's Property  2322 non-null   object\n",
      " 1   Bridge Detail                              2322 non-null   object\n",
      " 2   Construction Zone Flag                     2322 non-null   object\n",
      " 3   Construction Zone Workers Present Flag     2322 non-null   object\n",
      " 4   Crash Time                                 2322 non-null   int64 \n",
      " 5   Day of Week                                2322 non-null   object\n",
      " 6   Highway System                             2322 non-null   object\n",
      " 7   Intersecting Highway Number                2322 non-null   object\n",
      " 8   Intersecting Street Name                   541 non-null    object\n",
      " 9   Manner of Collision                        2322 non-null   object\n",
      " 10  Median Type                                2322 non-null   object\n",
      " 11  Median Width                               2322 non-null   object\n",
      " 12  Number of Entering Roads                   2322 non-null   object\n",
      " 13  Number of Lanes                            2322 non-null   object\n",
      " 14  Surface Condition                          2322 non-null   object\n",
      " 15  Surface Type                               2322 non-null   object\n",
      " 16  Surface Width                              2322 non-null   object\n",
      " 17  Weather Condition                          2322 non-null   object\n",
      " 18  Crash Severity                             2322 non-null   object\n",
      "dtypes: int64(1), object(18)\n",
      "memory usage: 344.8+ KB\n"
     ]
    }
   ],
   "source": [
    "df_train.info()"
   ]
  },
  {
   "cell_type": "code",
   "execution_count": 4,
   "metadata": {},
   "outputs": [
    {
     "data": {
      "text/plain": [
       "$1000 Damage to Any One Person's Property       0\n",
       "Bridge Detail                                   0\n",
       "Construction Zone Flag                          0\n",
       "Construction Zone Workers Present Flag          0\n",
       "Crash Time                                      0\n",
       "Day of Week                                     0\n",
       "Highway System                                  0\n",
       "Intersecting Highway Number                     0\n",
       "Intersecting Street Name                     1781\n",
       "Manner of Collision                             0\n",
       "Median Type                                     0\n",
       "Median Width                                    0\n",
       "Number of Entering Roads                        0\n",
       "Number of Lanes                                 0\n",
       "Surface Condition                               0\n",
       "Surface Type                                    0\n",
       "Surface Width                                   0\n",
       "Weather Condition                               0\n",
       "Crash Severity                                  0\n",
       "dtype: int64"
      ]
     },
     "execution_count": 4,
     "metadata": {},
     "output_type": "execute_result"
    }
   ],
   "source": [
    "df_train.isnull().sum()"
   ]
  },
  {
   "cell_type": "markdown",
   "metadata": {},
   "source": [
    "**2) Data PreProcessing**"
   ]
  },
  {
   "cell_type": "markdown",
   "metadata": {},
   "source": [
    "1) $1000 Damage to Any One Person's Property"
   ]
  },
  {
   "cell_type": "code",
   "execution_count": 4,
   "metadata": {},
   "outputs": [
    {
     "data": {
      "text/plain": [
       "Yes    2167\n",
       "No      155\n",
       "Name: $1000 Damage to Any One Person's Property, dtype: int64"
      ]
     },
     "execution_count": 4,
     "metadata": {},
     "output_type": "execute_result"
    }
   ],
   "source": [
    "df_train['$1000 Damage to Any One Person\\'s Property'].value_counts()"
   ]
  },
  {
   "cell_type": "markdown",
   "metadata": {},
   "source": [
    "We will map the column with Yes as 1 and No as 0"
   ]
  },
  {
   "cell_type": "code",
   "execution_count": 5,
   "metadata": {},
   "outputs": [],
   "source": [
    "df_train['$1000 Damage to Any One Person\\'s Property'] = df_train['$1000 Damage to Any One Person\\'s Property'].map({'Yes':1, 'No':0}).astype(int)"
   ]
  },
  {
   "cell_type": "code",
   "execution_count": 6,
   "metadata": {},
   "outputs": [
    {
     "data": {
      "text/plain": [
       "1    2167\n",
       "0     155\n",
       "Name: $1000 Damage to Any One Person's Property, dtype: int64"
      ]
     },
     "execution_count": 6,
     "metadata": {},
     "output_type": "execute_result"
    }
   ],
   "source": [
    "df_train['$1000 Damage to Any One Person\\'s Property'].value_counts()"
   ]
  },
  {
   "cell_type": "markdown",
   "metadata": {},
   "source": [
    "2) Bridge Detail"
   ]
  },
  {
   "cell_type": "code",
   "execution_count": 7,
   "metadata": {},
   "outputs": [
    {
     "data": {
      "text/plain": [
       "NOT APPLICABLE                            2296\n",
       "STRUCTURE NOT HIT                           11\n",
       "VEHICLE RETAINED ON BRIDGE OR OVERPASS       8\n",
       "CRASH INVOLVED UNDERPASS                     6\n",
       "VEHICLE WENT OVER RAIL                       1\n",
       "Name: Bridge Detail, dtype: int64"
      ]
     },
     "execution_count": 7,
     "metadata": {},
     "output_type": "execute_result"
    }
   ],
   "source": [
    "df_train['Bridge Detail'].value_counts()"
   ]
  },
  {
   "cell_type": "markdown",
   "metadata": {},
   "source": [
    "The value \"Not Applicable\" has the highest count followed by others which have comparatively low count and thus we will replace all the other values with \"Applicable\""
   ]
  },
  {
   "cell_type": "code",
   "execution_count": 8,
   "metadata": {},
   "outputs": [],
   "source": [
    "df_train.replace({'Bridge Detail': {'STRUCTURE NOT HIT': 'APPLICABLE',\n",
    "                                    'VEHICLE RETAINED ON BRIDGE OR OVERPASS': 'APPLICABLE',\n",
    "                                    'CRASH INVOLVED UNDERPASS': 'APPLICABLE',\n",
    "                                    'VEHICLE WENT OVER RAIL': 'APPLICABLE'}}, inplace=True)"
   ]
  },
  {
   "cell_type": "code",
   "execution_count": 9,
   "metadata": {},
   "outputs": [
    {
     "data": {
      "text/plain": [
       "NOT APPLICABLE    2296\n",
       "APPLICABLE          26\n",
       "Name: Bridge Detail, dtype: int64"
      ]
     },
     "execution_count": 9,
     "metadata": {},
     "output_type": "execute_result"
    }
   ],
   "source": [
    "df_train['Bridge Detail'].value_counts()"
   ]
  },
  {
   "cell_type": "markdown",
   "metadata": {},
   "source": [
    "We will map the column with NOT APPLICABLE as 1 and APPLICABLE as 0"
   ]
  },
  {
   "cell_type": "code",
   "execution_count": 10,
   "metadata": {},
   "outputs": [],
   "source": [
    "df_train['Bridge Detail'] = df_train['Bridge Detail'].map({'NOT APPLICABLE':1, 'APPLICABLE':0}).astype(int)"
   ]
  },
  {
   "cell_type": "code",
   "execution_count": 11,
   "metadata": {},
   "outputs": [
    {
     "data": {
      "text/plain": [
       "1    2296\n",
       "0      26\n",
       "Name: Bridge Detail, dtype: int64"
      ]
     },
     "execution_count": 11,
     "metadata": {},
     "output_type": "execute_result"
    }
   ],
   "source": [
    "df_train['Bridge Detail'].value_counts()"
   ]
  },
  {
   "cell_type": "markdown",
   "metadata": {},
   "source": [
    "3) Construction Zone Flag "
   ]
  },
  {
   "cell_type": "code",
   "execution_count": 12,
   "metadata": {},
   "outputs": [
    {
     "data": {
      "text/plain": [
       "No     2191\n",
       "Yes     131\n",
       "Name: Construction Zone Flag, dtype: int64"
      ]
     },
     "execution_count": 12,
     "metadata": {},
     "output_type": "execute_result"
    }
   ],
   "source": [
    "df_train['Construction Zone Flag'].value_counts()"
   ]
  },
  {
   "cell_type": "markdown",
   "metadata": {},
   "source": [
    "We will map the column with No as 1 and Yes as 0"
   ]
  },
  {
   "cell_type": "code",
   "execution_count": 13,
   "metadata": {},
   "outputs": [],
   "source": [
    "df_train['Construction Zone Flag'] = df_train['Construction Zone Flag'].map({'No':1, 'Yes':0}).astype(int)"
   ]
  },
  {
   "cell_type": "code",
   "execution_count": 14,
   "metadata": {},
   "outputs": [
    {
     "data": {
      "text/plain": [
       "1    2191\n",
       "0     131\n",
       "Name: Construction Zone Flag, dtype: int64"
      ]
     },
     "execution_count": 14,
     "metadata": {},
     "output_type": "execute_result"
    }
   ],
   "source": [
    "df_train['Construction Zone Flag'].value_counts()"
   ]
  },
  {
   "cell_type": "markdown",
   "metadata": {},
   "source": [
    "4) Construction Zone Workers Present Flag "
   ]
  },
  {
   "cell_type": "code",
   "execution_count": 15,
   "metadata": {},
   "outputs": [
    {
     "data": {
      "text/plain": [
       "No     2279\n",
       "Yes      43\n",
       "Name: Construction Zone Workers Present Flag, dtype: int64"
      ]
     },
     "execution_count": 15,
     "metadata": {},
     "output_type": "execute_result"
    }
   ],
   "source": [
    "df_train['Construction Zone Workers Present Flag'].value_counts()"
   ]
  },
  {
   "cell_type": "markdown",
   "metadata": {},
   "source": [
    "We will map the column with No as 1 and Yes as 0"
   ]
  },
  {
   "cell_type": "code",
   "execution_count": 16,
   "metadata": {},
   "outputs": [],
   "source": [
    "df_train['Construction Zone Workers Present Flag'] = df_train['Construction Zone Workers Present Flag'].map({'No':1, 'Yes':0}).astype(int)"
   ]
  },
  {
   "cell_type": "code",
   "execution_count": 17,
   "metadata": {},
   "outputs": [
    {
     "data": {
      "text/plain": [
       "1    2279\n",
       "0      43\n",
       "Name: Construction Zone Workers Present Flag, dtype: int64"
      ]
     },
     "execution_count": 17,
     "metadata": {},
     "output_type": "execute_result"
    }
   ],
   "source": [
    "df_train['Construction Zone Workers Present Flag'].value_counts()"
   ]
  },
  {
   "cell_type": "markdown",
   "metadata": {},
   "source": [
    "5) Crash Time"
   ]
  },
  {
   "cell_type": "code",
   "execution_count": 18,
   "metadata": {},
   "outputs": [
    {
     "data": {
      "text/plain": [
       "1830    21\n",
       "1600    19\n",
       "1800    18\n",
       "1900    14\n",
       "1640    14\n",
       "        ..\n",
       "1504     1\n",
       "1344     1\n",
       "527      1\n",
       "811      1\n",
       "319      1\n",
       "Name: Crash Time, Length: 799, dtype: int64"
      ]
     },
     "execution_count": 18,
     "metadata": {},
     "output_type": "execute_result"
    }
   ],
   "source": [
    "df_train['Crash Time'].value_counts()"
   ]
  },
  {
   "cell_type": "markdown",
   "metadata": {},
   "source": [
    "Since crash time is already an integer value we dont need to convert it."
   ]
  },
  {
   "cell_type": "markdown",
   "metadata": {},
   "source": [
    "6) Day of Week"
   ]
  },
  {
   "cell_type": "code",
   "execution_count": 19,
   "metadata": {},
   "outputs": [
    {
     "data": {
      "text/plain": [
       "FRIDAY       392\n",
       "SATURDAY     360\n",
       "TUESDAY      346\n",
       "WEDNESDAY    328\n",
       "THURSDAY     314\n",
       "MONDAY       297\n",
       "SUNDAY       285\n",
       "Name: Day of Week, dtype: int64"
      ]
     },
     "execution_count": 19,
     "metadata": {},
     "output_type": "execute_result"
    }
   ],
   "source": [
    "df_train['Day of Week'].value_counts()"
   ]
  },
  {
   "cell_type": "markdown",
   "metadata": {},
   "source": [
    "Day of Week is not an ordinal value since there is no order/rank and also there are 7 unique values for this attribute, we will transform this into one hot vector of length 7"
   ]
  },
  {
   "cell_type": "code",
   "execution_count": 20,
   "metadata": {},
   "outputs": [],
   "source": [
    "cols = pd.get_dummies(df_train['Day of Week'], prefix= 'Day of Week')\n",
    "df_train[cols.columns] = cols\n",
    "df_train.drop('Day of Week', axis = 1, inplace = True)"
   ]
  },
  {
   "cell_type": "markdown",
   "metadata": {},
   "source": [
    "7) Highway System"
   ]
  },
  {
   "cell_type": "code",
   "execution_count": 21,
   "metadata": {},
   "outputs": [
    {
     "data": {
      "text/plain": [
       "STATE SPUR    2322\n",
       "Name: Highway System, dtype: int64"
      ]
     },
     "execution_count": 21,
     "metadata": {},
     "output_type": "execute_result"
    }
   ],
   "source": [
    "df_train['Highway System'].value_counts()"
   ]
  },
  {
   "cell_type": "markdown",
   "metadata": {},
   "source": [
    "Since it has only one value we will drop this column"
   ]
  },
  {
   "cell_type": "code",
   "execution_count": 22,
   "metadata": {},
   "outputs": [],
   "source": [
    "df_train.drop('Highway System', axis = 1, inplace = True)"
   ]
  },
  {
   "cell_type": "markdown",
   "metadata": {},
   "source": [
    "8) Intersecting Highway Number"
   ]
  },
  {
   "cell_type": "code",
   "execution_count": 23,
   "metadata": {},
   "outputs": [
    {
     "data": {
      "text/plain": [
       "No Data    1948\n",
       "35          221\n",
       "345         146\n",
       "75            7\n",
       "Name: Intersecting Highway Number, dtype: int64"
      ]
     },
     "execution_count": 23,
     "metadata": {},
     "output_type": "execute_result"
    }
   ],
   "source": [
    "df_train['Intersecting Highway Number'].value_counts()"
   ]
  },
  {
   "cell_type": "code",
   "execution_count": 24,
   "metadata": {},
   "outputs": [],
   "source": [
    "#df_train.drop('Intersecting Highway Number', axis = 1, inplace = True)"
   ]
  },
  {
   "cell_type": "code",
   "execution_count": 25,
   "metadata": {},
   "outputs": [],
   "source": [
    "cols = pd.get_dummies(df_train['Intersecting Highway Number'], prefix= 'Intersecting Highway Number')\n",
    "df_train[cols.columns] = cols\n",
    "df_train.drop('Intersecting Highway Number', axis = 1, inplace = True)"
   ]
  },
  {
   "cell_type": "markdown",
   "metadata": {},
   "source": [
    "9) Intersecting Street Name"
   ]
  },
  {
   "cell_type": "code",
   "execution_count": 26,
   "metadata": {},
   "outputs": [
    {
     "data": {
      "text/plain": [
       "IH0035E                   221\n",
       "IH0345                    146\n",
       "N PEARL ST                 21\n",
       "N FIELD ST                 18\n",
       "OLIVE ST                   14\n",
       "AKARD ST                   14\n",
       "N AKARD ST                 14\n",
       "ROUTH ST                   13\n",
       "N ST PAUL ST               11\n",
       "FIELD ST                   11\n",
       "PEARL ST                    8\n",
       "US0075                      7\n",
       "MAPLE ROUTH CONNECTION      5\n",
       "ROSS AVE                    4\n",
       "N OLIVE ST                  4\n",
       "N RIVERFRONT BLVD           3\n",
       "NOT REPORTED                3\n",
       "BOLL ST                     2\n",
       "HARWOOD ST                  2\n",
       "N BECKLEY AVE               2\n",
       "ST PAUL ST                  2\n",
       "N HARWOOD ST                1\n",
       "N PEARL                     1\n",
       "SAN JACINTO ST              1\n",
       "COLUMBUS ST                 1\n",
       "BECKLEY AVE                 1\n",
       "LEMMON AVE                  1\n",
       "STPAUL ST                   1\n",
       "N AKARO ST                  1\n",
       "ROUTH AVE                   1\n",
       "MAPLE ROUTH                 1\n",
       "SAINT PAUL ST               1\n",
       "MAPLE ROUTH ST              1\n",
       "LIVE OAK ST                 1\n",
       "BRYAN ST                    1\n",
       "N GRIFFIN ST                1\n",
       "GRIFFIN ST                  1\n",
       "Name: Intersecting Street Name, dtype: int64"
      ]
     },
     "execution_count": 26,
     "metadata": {},
     "output_type": "execute_result"
    }
   ],
   "source": [
    "df_train['Intersecting Street Name'].value_counts()"
   ]
  },
  {
   "cell_type": "markdown",
   "metadata": {},
   "source": [
    "We will drop this column"
   ]
  },
  {
   "cell_type": "code",
   "execution_count": 27,
   "metadata": {},
   "outputs": [],
   "source": [
    "df_train.drop('Intersecting Street Name', axis = 1, inplace = True)"
   ]
  },
  {
   "cell_type": "markdown",
   "metadata": {},
   "source": [
    "10) Manner of Collision "
   ]
  },
  {
   "cell_type": "code",
   "execution_count": 28,
   "metadata": {},
   "outputs": [
    {
     "data": {
      "text/plain": [
       "SAME DIRECTION - BOTH GOING STRAIGHT-REAR END        665\n",
       "SAME DIRECTION - BOTH GOING STRAIGHT-SIDESWIPE       542\n",
       "SAME DIRECTION - ONE STRAIGHT-ONE STOPPED            404\n",
       "ONE MOTOR VEHICLE - GOING STRAIGHT                   325\n",
       "ANGLE - BOTH GOING STRAIGHT                          177\n",
       "OPPOSITE DIRECTION - ONE STRAIGHT-ONE LEFT TURN       89\n",
       "SAME DIRECTION - ONE STRAIGHT-ONE LEFT TURN           32\n",
       "ANGLE - ONE STRAIGHT-ONE RIGHT TURN                   16\n",
       "SAME DIRECTION - ONE STRAIGHT-ONE RIGHT TURN          12\n",
       "OPPOSITE DIRECTION - ONE STRAIGHT-ONE BACKING          9\n",
       "SAME DIRECTION - BOTH RIGHT TURN                       9\n",
       "ONE MOTOR VEHICLE - TURNING RIGHT                      9\n",
       "ANGLE - ONE STRAIGHT-ONE LEFT TURN                     8\n",
       "ONE MOTOR VEHICLE - TURNING LEFT                       7\n",
       "OPPOSITE DIRECTION - ONE BACKING-ONE STOPPED           7\n",
       "ONE MOTOR VEHICLE - OTHER                              2\n",
       "ANGLE - ONE STRAIGHT-ONE STOPPED                       2\n",
       "SAME DIRECTION - BOTH LEFT TURN                        1\n",
       "ONE MOTOR VEHICLE - BACKING                            1\n",
       "OPPOSITE DIRECTION - ONE RIGHT TURN-ONE LEFT TURN      1\n",
       "ANGLE - ONE STRAIGHT-ONE BACKING                       1\n",
       "OPPOSITE DIRECTION - BOTH GOING STRAIGHT               1\n",
       "ANGLE - ONE RIGHT TURN-ONE STOPPED                     1\n",
       "OPPOSITE DIRECTION - ONE LEFT TURN-ONE STOPPED         1\n",
       "Name: Manner of Collision, dtype: int64"
      ]
     },
     "execution_count": 28,
     "metadata": {},
     "output_type": "execute_result"
    }
   ],
   "source": [
    "df_train['Manner of Collision'].value_counts()"
   ]
  },
  {
   "cell_type": "markdown",
   "metadata": {},
   "source": [
    "For this column we will merge the values into 4 major categories- Same direction, Opposite direction, Angle and One motor vehicle"
   ]
  },
  {
   "cell_type": "code",
   "execution_count": 29,
   "metadata": {},
   "outputs": [],
   "source": [
    "df_train.replace({'Manner of Collision': {'SAME DIRECTION - BOTH GOING STRAIGHT-REAR END': 'SAME DIRECTION',\n",
    "                                    'SAME DIRECTION - BOTH GOING STRAIGHT-SIDESWIPE': 'SAME DIRECTION',\n",
    "                                    'SAME DIRECTION - ONE STRAIGHT-ONE STOPPED': 'SAME DIRECTION',\n",
    "                                    'SAME DIRECTION - ONE STRAIGHT-ONE LEFT TURN': 'SAME DIRECTION',\n",
    "                                    'SAME DIRECTION - ONE STRAIGHT-ONE RIGHT TURN': 'SAME DIRECTION',\n",
    "                                    'SAME DIRECTION - BOTH RIGHT TURN': 'SAME DIRECTION',\n",
    "                                    'SAME DIRECTION - BOTH LEFT TURN':'SAME DIRECTION'}}, inplace=True)"
   ]
  },
  {
   "cell_type": "code",
   "execution_count": 30,
   "metadata": {},
   "outputs": [],
   "source": [
    "df_train.replace({'Manner of Collision': {'ONE MOTOR VEHICLE': 'ONE MOTOR VEHICLE',\n",
    "                                    'ONE MOTOR VEHICLE - TURNING RIGHT': 'ONE MOTOR VEHICLE',\n",
    "                                    'ONE MOTOR VEHICLE - TURNING LEFT': 'ONE MOTOR VEHICLE',\n",
    "                                    'ONE MOTOR VEHICLE - OTHER': 'ONE MOTOR VEHICLE',\n",
    "                                    'ONE MOTOR VEHICLE - BACKING': 'ONE MOTOR VEHICLE',\n",
    "                                    'ONE MOTOR VEHICLE - GOING STRAIGHT':'ONE MOTOR VEHICLE'}}, inplace=True)"
   ]
  },
  {
   "cell_type": "code",
   "execution_count": 31,
   "metadata": {},
   "outputs": [],
   "source": [
    "df_train.replace({'Manner of Collision': {'ANGLE - BOTH GOING STRAIGHT': 'ANGLE',\n",
    "                                    'ANGLE - ONE STRAIGHT-ONE RIGHT TURN': 'ANGLE',\n",
    "                                    'ANGLE - ONE STRAIGHT-ONE LEFT TURN': 'ANGLE',\n",
    "                                    'ANGLE - ONE STRAIGHT-ONE STOPPED': 'ANGLE',\n",
    "                                    'ANGLE - ONE STRAIGHT-ONE BACKING': 'ANGLE',\n",
    "                                    'ANGLE - ONE RIGHT TURN-ONE STOPPED': 'ANGLE'}}, inplace=True)"
   ]
  },
  {
   "cell_type": "code",
   "execution_count": 32,
   "metadata": {},
   "outputs": [],
   "source": [
    "df_train.replace({'Manner of Collision': {'OPPOSITE DIRECTION - ONE STRAIGHT-ONE LEFT TURN': 'OPPOSITE DIRECTION',\n",
    "                                    'OPPOSITE DIRECTION - ONE STRAIGHT-ONE BACKING': 'OPPOSITE DIRECTION',\n",
    "                                    'OPPOSITE DIRECTION - ONE BACKING-ONE STOPPED': 'OPPOSITE DIRECTION',\n",
    "                                    'OPPOSITE DIRECTION - BOTH GOING STRAIGHT': 'OPPOSITE DIRECTION',\n",
    "                                    'OPPOSITE DIRECTION - ONE RIGHT TURN-ONE LEFT TURN': 'OPPOSITE DIRECTION',\n",
    "                                    'OPPOSITE DIRECTION - ONE LEFT TURN-ONE STOPPED': 'OPPOSITE DIRECTION'}}, inplace=True)"
   ]
  },
  {
   "cell_type": "code",
   "execution_count": 33,
   "metadata": {},
   "outputs": [
    {
     "data": {
      "text/plain": [
       "SAME DIRECTION        1665\n",
       "ONE MOTOR VEHICLE      344\n",
       "ANGLE                  205\n",
       "OPPOSITE DIRECTION     108\n",
       "Name: Manner of Collision, dtype: int64"
      ]
     },
     "execution_count": 33,
     "metadata": {},
     "output_type": "execute_result"
    }
   ],
   "source": [
    "df_train['Manner of Collision'].value_counts()"
   ]
  },
  {
   "cell_type": "markdown",
   "metadata": {},
   "source": [
    "Now we will convert these values in one hot vector of length of 4"
   ]
  },
  {
   "cell_type": "code",
   "execution_count": 34,
   "metadata": {},
   "outputs": [],
   "source": [
    "cols = pd.get_dummies(df_train['Manner of Collision'], prefix= 'Manner of Collision')\n",
    "df_train[cols.columns] = cols\n",
    "df_train.drop('Manner of Collision', axis = 1, inplace = True)"
   ]
  },
  {
   "cell_type": "markdown",
   "metadata": {},
   "source": [
    "11) Median Type"
   ]
  },
  {
   "cell_type": "code",
   "execution_count": 35,
   "metadata": {},
   "outputs": [
    {
     "data": {
      "text/plain": [
       "No Data        2262\n",
       "UNPROTECTED      60\n",
       "Name: Median Type, dtype: int64"
      ]
     },
     "execution_count": 35,
     "metadata": {},
     "output_type": "execute_result"
    }
   ],
   "source": [
    "df_train['Median Type'].value_counts()"
   ]
  },
  {
   "cell_type": "code",
   "execution_count": 36,
   "metadata": {},
   "outputs": [],
   "source": [
    "#df_train.drop('Median Type', axis = 1, inplace = True)"
   ]
  },
  {
   "cell_type": "code",
   "execution_count": 37,
   "metadata": {},
   "outputs": [],
   "source": [
    "df_train['Median Type'] = df_train['Median Type'].map({'No Data':1, 'UNPROTECTED':0}).astype(int)"
   ]
  },
  {
   "cell_type": "code",
   "execution_count": 38,
   "metadata": {},
   "outputs": [
    {
     "data": {
      "text/plain": [
       "1    2262\n",
       "0      60\n",
       "Name: Median Type, dtype: int64"
      ]
     },
     "execution_count": 38,
     "metadata": {},
     "output_type": "execute_result"
    }
   ],
   "source": [
    "df_train['Median Type'].value_counts()"
   ]
  },
  {
   "cell_type": "markdown",
   "metadata": {},
   "source": [
    "12) Median Width"
   ]
  },
  {
   "cell_type": "code",
   "execution_count": 39,
   "metadata": {},
   "outputs": [
    {
     "data": {
      "text/plain": [
       "40         1801\n",
       "No Data     521\n",
       "Name: Median Width, dtype: int64"
      ]
     },
     "execution_count": 39,
     "metadata": {},
     "output_type": "execute_result"
    }
   ],
   "source": [
    "df_train['Median Width'].value_counts()"
   ]
  },
  {
   "cell_type": "code",
   "execution_count": 40,
   "metadata": {},
   "outputs": [],
   "source": [
    "#df_train.drop('Median Width', axis = 1, inplace = True)"
   ]
  },
  {
   "cell_type": "code",
   "execution_count": 41,
   "metadata": {},
   "outputs": [],
   "source": [
    "df_train['Median Width'] = df_train['Median Width'].map({'40':1, 'No Data':0}).astype(int)"
   ]
  },
  {
   "cell_type": "code",
   "execution_count": 42,
   "metadata": {},
   "outputs": [
    {
     "data": {
      "text/plain": [
       "1    1801\n",
       "0     521\n",
       "Name: Median Width, dtype: int64"
      ]
     },
     "execution_count": 42,
     "metadata": {},
     "output_type": "execute_result"
    }
   ],
   "source": [
    "df_train['Median Width'].value_counts()"
   ]
  },
  {
   "cell_type": "markdown",
   "metadata": {},
   "source": [
    "13) Number of Entering Roads"
   ]
  },
  {
   "cell_type": "code",
   "execution_count": 43,
   "metadata": {},
   "outputs": [
    {
     "data": {
      "text/plain": [
       "97 - NOT APPLICABLE                  1980\n",
       "4 - FOUR ENTERING ROADS               193\n",
       "2 - THREE ENTERING ROADS - T           68\n",
       "98 - OTHER (EXPLAIN IN NARRATIVE)      44\n",
       "3 - THREE ENTERING ROADS - Y           31\n",
       "5 - FIVE ENTERING ROADS                 2\n",
       "6 - SIX ENTERING ROADS                  2\n",
       "8 - CLOVERLEAF                          2\n",
       "Name: Number of Entering Roads, dtype: int64"
      ]
     },
     "execution_count": 43,
     "metadata": {},
     "output_type": "execute_result"
    }
   ],
   "source": [
    "df_train['Number of Entering Roads'].value_counts()"
   ]
  },
  {
   "cell_type": "markdown",
   "metadata": {},
   "source": [
    "For this column we will merge the values of 8 - CLOVERLEAF, 5 - FIVE ENTERING ROADS, 6 - SIX ENTERING ROADS and 98 - OTHER (EXPLAIN IN NARRATIVE) as OTHER"
   ]
  },
  {
   "cell_type": "code",
   "execution_count": 44,
   "metadata": {},
   "outputs": [],
   "source": [
    "df_train.replace({'Number of Entering Roads': {'98 - OTHER (EXPLAIN IN NARRATIVE)': 'OTHER',\n",
    "                                    '6 - SIX ENTERING ROADS': 'OTHER',\n",
    "                                    '5 - FIVE ENTERING ROADS': 'OTHER',\n",
    "                                    '8 - CLOVERLEAF': 'OTHER'}}, inplace=True)"
   ]
  },
  {
   "cell_type": "code",
   "execution_count": 45,
   "metadata": {},
   "outputs": [
    {
     "data": {
      "text/plain": [
       "97 - NOT APPLICABLE             1980\n",
       "4 - FOUR ENTERING ROADS          193\n",
       "2 - THREE ENTERING ROADS - T      68\n",
       "OTHER                             50\n",
       "3 - THREE ENTERING ROADS - Y      31\n",
       "Name: Number of Entering Roads, dtype: int64"
      ]
     },
     "execution_count": 45,
     "metadata": {},
     "output_type": "execute_result"
    }
   ],
   "source": [
    "df_train['Number of Entering Roads'].value_counts()"
   ]
  },
  {
   "cell_type": "code",
   "execution_count": 46,
   "metadata": {},
   "outputs": [],
   "source": [
    "cols = pd.get_dummies(df_train['Number of Entering Roads'], prefix= 'Number of Entering Roads')\n",
    "df_train[cols.columns] = cols\n",
    "df_train.drop('Number of Entering Roads', axis = 1, inplace = True)"
   ]
  },
  {
   "cell_type": "markdown",
   "metadata": {},
   "source": [
    "14) Surface Condition"
   ]
  },
  {
   "cell_type": "code",
   "execution_count": 47,
   "metadata": {},
   "outputs": [
    {
     "data": {
      "text/plain": [
       "1 - DRY                              2051\n",
       "2 - WET                               246\n",
       "3 - STANDING WATER                     14\n",
       "6 - ICE                                 5\n",
       "99 - UNKNOWN                            3\n",
       "98 - OTHER (EXPLAIN IN NARRATIVE)       2\n",
       "7 - SAND, MUD, DIRT                     1\n",
       "Name: Surface Condition, dtype: int64"
      ]
     },
     "execution_count": 47,
     "metadata": {},
     "output_type": "execute_result"
    }
   ],
   "source": [
    "df_train['Surface Condition'].value_counts()"
   ]
  },
  {
   "cell_type": "markdown",
   "metadata": {},
   "source": [
    "For this column we will merge the values of 99 - UNKNOWN and 7 - SAND, MUD, DIRT as 98 - OTHER (EXPLAIN IN NARRATIVE)"
   ]
  },
  {
   "cell_type": "code",
   "execution_count": 48,
   "metadata": {},
   "outputs": [],
   "source": [
    "df_train.replace({'Surface Condition': {'99 - UNKNOWN': '98 - OTHER (EXPLAIN IN NARRATIVE)',\n",
    "                                    '7 - SAND, MUD, DIRT': '98 - OTHER (EXPLAIN IN NARRATIVE)'}}, inplace=True)"
   ]
  },
  {
   "cell_type": "code",
   "execution_count": 49,
   "metadata": {},
   "outputs": [
    {
     "data": {
      "text/plain": [
       "1 - DRY                              2051\n",
       "2 - WET                               246\n",
       "3 - STANDING WATER                     14\n",
       "98 - OTHER (EXPLAIN IN NARRATIVE)       6\n",
       "6 - ICE                                 5\n",
       "Name: Surface Condition, dtype: int64"
      ]
     },
     "execution_count": 49,
     "metadata": {},
     "output_type": "execute_result"
    }
   ],
   "source": [
    "df_train['Surface Condition'].value_counts()"
   ]
  },
  {
   "cell_type": "code",
   "execution_count": 50,
   "metadata": {},
   "outputs": [],
   "source": [
    "cols = pd.get_dummies(df_train['Surface Condition'], prefix= 'Surface Condition')\n",
    "df_train[cols.columns] = cols\n",
    "df_train.drop('Surface Condition', axis = 1, inplace = True)"
   ]
  },
  {
   "cell_type": "markdown",
   "metadata": {},
   "source": [
    "15) Surface Type"
   ]
  },
  {
   "cell_type": "code",
   "execution_count": 51,
   "metadata": {},
   "outputs": [
    {
     "data": {
      "text/plain": [
       "No Data    2322\n",
       "Name: Surface Type, dtype: int64"
      ]
     },
     "execution_count": 51,
     "metadata": {},
     "output_type": "execute_result"
    }
   ],
   "source": [
    "df_train['Surface Type'].value_counts()"
   ]
  },
  {
   "cell_type": "markdown",
   "metadata": {},
   "source": [
    "Since there is just one unique value we will drop this column"
   ]
  },
  {
   "cell_type": "code",
   "execution_count": 52,
   "metadata": {},
   "outputs": [],
   "source": [
    "df_train.drop('Surface Type', axis = 1, inplace = True)"
   ]
  },
  {
   "cell_type": "markdown",
   "metadata": {},
   "source": [
    "15) Surface Width"
   ]
  },
  {
   "cell_type": "code",
   "execution_count": 53,
   "metadata": {},
   "outputs": [
    {
     "data": {
      "text/plain": [
       "96         1257\n",
       "72          544\n",
       "No Data     521\n",
       "Name: Surface Width, dtype: int64"
      ]
     },
     "execution_count": 53,
     "metadata": {},
     "output_type": "execute_result"
    }
   ],
   "source": [
    "df_train['Surface Width'].value_counts()"
   ]
  },
  {
   "cell_type": "code",
   "execution_count": 54,
   "metadata": {},
   "outputs": [],
   "source": [
    "#df_train.drop('Surface Width', axis = 1, inplace = True)"
   ]
  },
  {
   "cell_type": "code",
   "execution_count": 55,
   "metadata": {},
   "outputs": [],
   "source": [
    "#df_train.replace({'Surface Width': {'No Data': '96'}}, inplace=True)"
   ]
  },
  {
   "cell_type": "code",
   "execution_count": 56,
   "metadata": {},
   "outputs": [],
   "source": [
    "cols = pd.get_dummies(df_train['Surface Width'], prefix= 'Surface Width')\n",
    "df_train[cols.columns] = cols\n",
    "df_train.drop('Surface Width', axis = 1, inplace = True)"
   ]
  },
  {
   "cell_type": "markdown",
   "metadata": {},
   "source": [
    "16) Weather Condition"
   ]
  },
  {
   "cell_type": "code",
   "execution_count": 57,
   "metadata": {},
   "outputs": [
    {
     "data": {
      "text/plain": [
       "1 - CLEAR                            1817\n",
       "2 - CLOUDY                            319\n",
       "3 - RAIN                              179\n",
       "6 - FOG                                 2\n",
       "98 - OTHER (EXPLAIN IN NARRATIVE)       2\n",
       "4 - SLEET/HAIL                          1\n",
       "5 - SNOW                                1\n",
       "99 - UNKNOWN                            1\n",
       "Name: Weather Condition, dtype: int64"
      ]
     },
     "execution_count": 57,
     "metadata": {},
     "output_type": "execute_result"
    }
   ],
   "source": [
    "df_train['Weather Condition'].value_counts()"
   ]
  },
  {
   "cell_type": "code",
   "execution_count": 58,
   "metadata": {},
   "outputs": [],
   "source": [
    "df_train.replace({'Weather Condition': {'99 - UNKNOWN': '98 - OTHER (EXPLAIN IN NARRATIVE)',\n",
    "                                 '5 - SNOW': '98 - OTHER (EXPLAIN IN NARRATIVE)',\n",
    "                                 '4 - SLEET/HAIL': '98 - OTHER (EXPLAIN IN NARRATIVE)'}}, inplace = True)"
   ]
  },
  {
   "cell_type": "code",
   "execution_count": 59,
   "metadata": {},
   "outputs": [
    {
     "data": {
      "text/plain": [
       "1 - CLEAR                            1817\n",
       "2 - CLOUDY                            319\n",
       "3 - RAIN                              179\n",
       "98 - OTHER (EXPLAIN IN NARRATIVE)       5\n",
       "6 - FOG                                 2\n",
       "Name: Weather Condition, dtype: int64"
      ]
     },
     "execution_count": 59,
     "metadata": {},
     "output_type": "execute_result"
    }
   ],
   "source": [
    "df_train['Weather Condition'].value_counts()"
   ]
  },
  {
   "cell_type": "code",
   "execution_count": 60,
   "metadata": {},
   "outputs": [],
   "source": [
    "cols = pd.get_dummies(df_train['Weather Condition'], prefix= 'Weather Condition')\n",
    "df_train[cols.columns] = cols\n",
    "df_train.drop('Weather Condition', axis = 1, inplace = True)"
   ]
  },
  {
   "cell_type": "markdown",
   "metadata": {},
   "source": [
    "17) Number of lanes"
   ]
  },
  {
   "cell_type": "code",
   "execution_count": 61,
   "metadata": {},
   "outputs": [
    {
     "data": {
      "text/plain": [
       "8          1257\n",
       "6           544\n",
       "No Data     521\n",
       "Name: Number of Lanes, dtype: int64"
      ]
     },
     "execution_count": 61,
     "metadata": {},
     "output_type": "execute_result"
    }
   ],
   "source": [
    "df_train['Number of Lanes'].value_counts()"
   ]
  },
  {
   "cell_type": "code",
   "execution_count": 62,
   "metadata": {},
   "outputs": [],
   "source": [
    "#df_train.drop('Number of Lanes', axis = 1, inplace = True)"
   ]
  },
  {
   "cell_type": "code",
   "execution_count": 63,
   "metadata": {},
   "outputs": [],
   "source": [
    "#df_train.replace({'Number of Lanes': {'No Data': '8'}}, inplace=True)"
   ]
  },
  {
   "cell_type": "code",
   "execution_count": 64,
   "metadata": {},
   "outputs": [],
   "source": [
    "cols = pd.get_dummies(df_train['Number of Lanes'], prefix= 'Number of Lanes')\n",
    "df_train[cols.columns] = cols\n",
    "df_train.drop('Number of Lanes', axis = 1, inplace = True)"
   ]
  },
  {
   "cell_type": "markdown",
   "metadata": {},
   "source": [
    "18) Crash Severity"
   ]
  },
  {
   "cell_type": "code",
   "execution_count": 65,
   "metadata": {},
   "outputs": [
    {
     "data": {
      "text/plain": [
       "Not serious    2286\n",
       "Serious          36\n",
       "Name: Crash Severity, dtype: int64"
      ]
     },
     "execution_count": 65,
     "metadata": {},
     "output_type": "execute_result"
    }
   ],
   "source": [
    "df_train['Crash Severity'].value_counts()"
   ]
  },
  {
   "cell_type": "markdown",
   "metadata": {},
   "source": [
    "We will map Not Serious as 1 and Serious as 0"
   ]
  },
  {
   "cell_type": "code",
   "execution_count": 66,
   "metadata": {},
   "outputs": [],
   "source": [
    "df_train['Crash Severity'] = df_train['Crash Severity'].map({'Not serious':0, 'Serious':1}).astype(int)"
   ]
  },
  {
   "cell_type": "code",
   "execution_count": 67,
   "metadata": {},
   "outputs": [
    {
     "data": {
      "text/plain": [
       "0    2286\n",
       "1      36\n",
       "Name: Crash Severity, dtype: int64"
      ]
     },
     "execution_count": 67,
     "metadata": {},
     "output_type": "execute_result"
    }
   ],
   "source": [
    "df_train['Crash Severity'].value_counts()"
   ]
  },
  {
   "cell_type": "code",
   "execution_count": 68,
   "metadata": {},
   "outputs": [
    {
     "name": "stdout",
     "output_type": "stream",
     "text": [
      "<class 'pandas.core.frame.DataFrame'>\n",
      "RangeIndex: 2322 entries, 0 to 2321\n",
      "Data columns (total 44 columns):\n",
      " #   Column                                                 Non-Null Count  Dtype\n",
      "---  ------                                                 --------------  -----\n",
      " 0   $1000 Damage to Any One Person's Property              2322 non-null   int64\n",
      " 1   Bridge Detail                                          2322 non-null   int64\n",
      " 2   Construction Zone Flag                                 2322 non-null   int64\n",
      " 3   Construction Zone Workers Present Flag                 2322 non-null   int64\n",
      " 4   Crash Time                                             2322 non-null   int64\n",
      " 5   Median Type                                            2322 non-null   int64\n",
      " 6   Median Width                                           2322 non-null   int64\n",
      " 7   Crash Severity                                         2322 non-null   int64\n",
      " 8   Day of Week_FRIDAY                                     2322 non-null   uint8\n",
      " 9   Day of Week_MONDAY                                     2322 non-null   uint8\n",
      " 10  Day of Week_SATURDAY                                   2322 non-null   uint8\n",
      " 11  Day of Week_SUNDAY                                     2322 non-null   uint8\n",
      " 12  Day of Week_THURSDAY                                   2322 non-null   uint8\n",
      " 13  Day of Week_TUESDAY                                    2322 non-null   uint8\n",
      " 14  Day of Week_WEDNESDAY                                  2322 non-null   uint8\n",
      " 15  Intersecting Highway Number_345                        2322 non-null   uint8\n",
      " 16  Intersecting Highway Number_35                         2322 non-null   uint8\n",
      " 17  Intersecting Highway Number_75                         2322 non-null   uint8\n",
      " 18  Intersecting Highway Number_No Data                    2322 non-null   uint8\n",
      " 19  Manner of Collision_ANGLE                              2322 non-null   uint8\n",
      " 20  Manner of Collision_ONE MOTOR VEHICLE                  2322 non-null   uint8\n",
      " 21  Manner of Collision_OPPOSITE DIRECTION                 2322 non-null   uint8\n",
      " 22  Manner of Collision_SAME DIRECTION                     2322 non-null   uint8\n",
      " 23  Number of Entering Roads_2 - THREE ENTERING ROADS - T  2322 non-null   uint8\n",
      " 24  Number of Entering Roads_3 - THREE ENTERING ROADS - Y  2322 non-null   uint8\n",
      " 25  Number of Entering Roads_4 - FOUR ENTERING ROADS       2322 non-null   uint8\n",
      " 26  Number of Entering Roads_97 - NOT APPLICABLE           2322 non-null   uint8\n",
      " 27  Number of Entering Roads_OTHER                         2322 non-null   uint8\n",
      " 28  Surface Condition_1 - DRY                              2322 non-null   uint8\n",
      " 29  Surface Condition_2 - WET                              2322 non-null   uint8\n",
      " 30  Surface Condition_3 - STANDING WATER                   2322 non-null   uint8\n",
      " 31  Surface Condition_6 - ICE                              2322 non-null   uint8\n",
      " 32  Surface Condition_98 - OTHER (EXPLAIN IN NARRATIVE)    2322 non-null   uint8\n",
      " 33  Surface Width_72                                       2322 non-null   uint8\n",
      " 34  Surface Width_96                                       2322 non-null   uint8\n",
      " 35  Surface Width_No Data                                  2322 non-null   uint8\n",
      " 36  Weather Condition_1 - CLEAR                            2322 non-null   uint8\n",
      " 37  Weather Condition_2 - CLOUDY                           2322 non-null   uint8\n",
      " 38  Weather Condition_3 - RAIN                             2322 non-null   uint8\n",
      " 39  Weather Condition_6 - FOG                              2322 non-null   uint8\n",
      " 40  Weather Condition_98 - OTHER (EXPLAIN IN NARRATIVE)    2322 non-null   uint8\n",
      " 41  Number of Lanes_6                                      2322 non-null   uint8\n",
      " 42  Number of Lanes_8                                      2322 non-null   uint8\n",
      " 43  Number of Lanes_No Data                                2322 non-null   uint8\n",
      "dtypes: int64(8), uint8(36)\n",
      "memory usage: 226.9 KB\n"
     ]
    }
   ],
   "source": [
    "df_train.info()"
   ]
  },
  {
   "cell_type": "code",
   "execution_count": 69,
   "metadata": {},
   "outputs": [
    {
     "data": {
      "text/plain": [
       "array([[<AxesSubplot:xlabel=\"$1000 Damage to Any One Person's Property\", ylabel=\"$1000 Damage to Any One Person's Property\">,\n",
       "        <AxesSubplot:xlabel='Bridge Detail', ylabel=\"$1000 Damage to Any One Person's Property\">,\n",
       "        <AxesSubplot:xlabel='Construction Zone Flag', ylabel=\"$1000 Damage to Any One Person's Property\">,\n",
       "        <AxesSubplot:xlabel='Construction Zone Workers Present Flag', ylabel=\"$1000 Damage to Any One Person's Property\">,\n",
       "        <AxesSubplot:xlabel='Crash Time', ylabel=\"$1000 Damage to Any One Person's Property\">,\n",
       "        <AxesSubplot:xlabel='Median Type', ylabel=\"$1000 Damage to Any One Person's Property\">],\n",
       "       [<AxesSubplot:xlabel=\"$1000 Damage to Any One Person's Property\", ylabel='Bridge Detail'>,\n",
       "        <AxesSubplot:xlabel='Bridge Detail', ylabel='Bridge Detail'>,\n",
       "        <AxesSubplot:xlabel='Construction Zone Flag', ylabel='Bridge Detail'>,\n",
       "        <AxesSubplot:xlabel='Construction Zone Workers Present Flag', ylabel='Bridge Detail'>,\n",
       "        <AxesSubplot:xlabel='Crash Time', ylabel='Bridge Detail'>,\n",
       "        <AxesSubplot:xlabel='Median Type', ylabel='Bridge Detail'>],\n",
       "       [<AxesSubplot:xlabel=\"$1000 Damage to Any One Person's Property\", ylabel='Construction Zone Flag'>,\n",
       "        <AxesSubplot:xlabel='Bridge Detail', ylabel='Construction Zone Flag'>,\n",
       "        <AxesSubplot:xlabel='Construction Zone Flag', ylabel='Construction Zone Flag'>,\n",
       "        <AxesSubplot:xlabel='Construction Zone Workers Present Flag', ylabel='Construction Zone Flag'>,\n",
       "        <AxesSubplot:xlabel='Crash Time', ylabel='Construction Zone Flag'>,\n",
       "        <AxesSubplot:xlabel='Median Type', ylabel='Construction Zone Flag'>],\n",
       "       [<AxesSubplot:xlabel=\"$1000 Damage to Any One Person's Property\", ylabel='Construction Zone Workers Present Flag'>,\n",
       "        <AxesSubplot:xlabel='Bridge Detail', ylabel='Construction Zone Workers Present Flag'>,\n",
       "        <AxesSubplot:xlabel='Construction Zone Flag', ylabel='Construction Zone Workers Present Flag'>,\n",
       "        <AxesSubplot:xlabel='Construction Zone Workers Present Flag', ylabel='Construction Zone Workers Present Flag'>,\n",
       "        <AxesSubplot:xlabel='Crash Time', ylabel='Construction Zone Workers Present Flag'>,\n",
       "        <AxesSubplot:xlabel='Median Type', ylabel='Construction Zone Workers Present Flag'>],\n",
       "       [<AxesSubplot:xlabel=\"$1000 Damage to Any One Person's Property\", ylabel='Crash Time'>,\n",
       "        <AxesSubplot:xlabel='Bridge Detail', ylabel='Crash Time'>,\n",
       "        <AxesSubplot:xlabel='Construction Zone Flag', ylabel='Crash Time'>,\n",
       "        <AxesSubplot:xlabel='Construction Zone Workers Present Flag', ylabel='Crash Time'>,\n",
       "        <AxesSubplot:xlabel='Crash Time', ylabel='Crash Time'>,\n",
       "        <AxesSubplot:xlabel='Median Type', ylabel='Crash Time'>],\n",
       "       [<AxesSubplot:xlabel=\"$1000 Damage to Any One Person's Property\", ylabel='Median Type'>,\n",
       "        <AxesSubplot:xlabel='Bridge Detail', ylabel='Median Type'>,\n",
       "        <AxesSubplot:xlabel='Construction Zone Flag', ylabel='Median Type'>,\n",
       "        <AxesSubplot:xlabel='Construction Zone Workers Present Flag', ylabel='Median Type'>,\n",
       "        <AxesSubplot:xlabel='Crash Time', ylabel='Median Type'>,\n",
       "        <AxesSubplot:xlabel='Median Type', ylabel='Median Type'>]],\n",
       "      dtype=object)"
      ]
     },
     "execution_count": 69,
     "metadata": {},
     "output_type": "execute_result"
    },
    {
     "data": {
      "image/png": "[encoded data removed]",
      "text/plain": [
       "<Figure size 1080x1080 with 36 Axes>"
      ]
     },
     "metadata": {
      "needs_background": "light"
     },
     "output_type": "display_data"
    }
   ],
   "source": [
    "%matplotlib inline\n",
    "from pandas.plotting import scatter_matrix\n",
    "from sklearn.preprocessing import MinMaxScaler\n",
    "from sklearn.model_selection import train_test_split\n",
    "\n",
    "X = df_train.drop('Crash Severity',axis = 1)\n",
    "y = df_train['Crash Severity']\n",
    "\n",
    "attributes = X.columns[:6]\n",
    "scatter_matrix(X[attributes], figsize = (15,15), c = y, alpha = 0.8, marker = 'O')"
   ]
  },
  {
   "cell_type": "markdown",
   "metadata": {},
   "source": [
    "As we can see that the distribution of the data is not normally distributed and also our dataset has more categorical values we will used Min-Max scaling instead of Standard Scaling. We use Standard Scaling when the data is assumed to be normally distributed which is not available here"
   ]
  },
  {
   "cell_type": "code",
   "execution_count": 70,
   "metadata": {},
   "outputs": [
    {
     "name": "stdout",
     "output_type": "stream",
     "text": [
      "Training dataset size: 1741\n",
      "Test dataset size: 581\n"
     ]
    }
   ],
   "source": [
    "from sklearn.preprocessing import MinMaxScaler\n",
    "from sklearn.model_selection import train_test_split\n",
    "\n",
    "X = df_train.drop('Crash Severity',axis = 1)\n",
    "y = df_train['Crash Severity']\n",
    "\n",
    "\n",
    "X_train_org, X_test_org, y_train, y_test = train_test_split(X,y, random_state = 26)\n",
    "\n",
    "scaler = MinMaxScaler()\n",
    "\n",
    "X_train = scaler.fit_transform(X_train_org)\n",
    "X_test = scaler.transform(X_test_org)\n",
    "print(\"Training dataset size: \"+str(len(X_train)))\n",
    "print(\"Test dataset size: \"+str(len(X_test)))"
   ]
  },
  {
   "cell_type": "markdown",
   "metadata": {},
   "source": [
    "# Preprocessing ``test.csv`` "
   ]
  },
  {
   "cell_type": "code",
   "execution_count": 133,
   "metadata": {},
   "outputs": [
    {
     "data": {
      "text/html": [
       "<div>\n",
       "<style scoped>\n",
       "    .dataframe tbody tr th:only-of-type {\n",
       "        vertical-align: middle;\n",
       "    }\n",
       "\n",
       "    .dataframe tbody tr th {\n",
       "        vertical-align: top;\n",
       "    }\n",
       "\n",
       "    .dataframe thead th {\n",
       "        text-align: right;\n",
       "    }\n",
       "</style>\n",
       "<table border=\"1\" class=\"dataframe\">\n",
       "  <thead>\n",
       "    <tr style=\"text-align: right;\">\n",
       "      <th></th>\n",
       "      <th>$1000 Damage to Any One Person's Property</th>\n",
       "      <th>Bridge Detail</th>\n",
       "      <th>Construction Zone Flag</th>\n",
       "      <th>Construction Zone Workers Present Flag</th>\n",
       "      <th>Crash Time</th>\n",
       "      <th>Day of Week</th>\n",
       "      <th>Highway System</th>\n",
       "      <th>Intersecting Highway Number</th>\n",
       "      <th>Intersecting Street Name</th>\n",
       "      <th>Manner of Collision</th>\n",
       "      <th>Median Type</th>\n",
       "      <th>Median Width</th>\n",
       "      <th>Number of Entering Roads</th>\n",
       "      <th>Number of Lanes</th>\n",
       "      <th>Surface Condition</th>\n",
       "      <th>Surface Type</th>\n",
       "      <th>Surface Width</th>\n",
       "      <th>Weather Condition</th>\n",
       "    </tr>\n",
       "  </thead>\n",
       "  <tbody>\n",
       "    <tr>\n",
       "      <th>0</th>\n",
       "      <td>Yes</td>\n",
       "      <td>NOT APPLICABLE</td>\n",
       "      <td>No</td>\n",
       "      <td>No</td>\n",
       "      <td>720</td>\n",
       "      <td>THURSDAY</td>\n",
       "      <td>STATE SPUR</td>\n",
       "      <td>No Data</td>\n",
       "      <td>NaN</td>\n",
       "      <td>SAME DIRECTION - BOTH GOING STRAIGHT-REAR END</td>\n",
       "      <td>No Data</td>\n",
       "      <td>No Data</td>\n",
       "      <td>97 - NOT APPLICABLE</td>\n",
       "      <td>No Data</td>\n",
       "      <td>1 - DRY</td>\n",
       "      <td>No Data</td>\n",
       "      <td>No Data</td>\n",
       "      <td>1 - CLEAR</td>\n",
       "    </tr>\n",
       "    <tr>\n",
       "      <th>1</th>\n",
       "      <td>Yes</td>\n",
       "      <td>NOT APPLICABLE</td>\n",
       "      <td>No</td>\n",
       "      <td>No</td>\n",
       "      <td>908</td>\n",
       "      <td>MONDAY</td>\n",
       "      <td>STATE SPUR</td>\n",
       "      <td>345</td>\n",
       "      <td>IH0345</td>\n",
       "      <td>SAME DIRECTION - ONE STRAIGHT-ONE STOPPED</td>\n",
       "      <td>No Data</td>\n",
       "      <td>40</td>\n",
       "      <td>97 - NOT APPLICABLE</td>\n",
       "      <td>8</td>\n",
       "      <td>1 - DRY</td>\n",
       "      <td>No Data</td>\n",
       "      <td>96</td>\n",
       "      <td>1 - CLEAR</td>\n",
       "    </tr>\n",
       "    <tr>\n",
       "      <th>2</th>\n",
       "      <td>Yes</td>\n",
       "      <td>NOT APPLICABLE</td>\n",
       "      <td>No</td>\n",
       "      <td>No</td>\n",
       "      <td>1705</td>\n",
       "      <td>FRIDAY</td>\n",
       "      <td>STATE SPUR</td>\n",
       "      <td>No Data</td>\n",
       "      <td>NaN</td>\n",
       "      <td>ONE MOTOR VEHICLE - GOING STRAIGHT</td>\n",
       "      <td>No Data</td>\n",
       "      <td>40</td>\n",
       "      <td>97 - NOT APPLICABLE</td>\n",
       "      <td>6</td>\n",
       "      <td>1 - DRY</td>\n",
       "      <td>No Data</td>\n",
       "      <td>72</td>\n",
       "      <td>1 - CLEAR</td>\n",
       "    </tr>\n",
       "    <tr>\n",
       "      <th>3</th>\n",
       "      <td>Yes</td>\n",
       "      <td>NOT APPLICABLE</td>\n",
       "      <td>No</td>\n",
       "      <td>No</td>\n",
       "      <td>110</td>\n",
       "      <td>TUESDAY</td>\n",
       "      <td>STATE SPUR</td>\n",
       "      <td>No Data</td>\n",
       "      <td>NaN</td>\n",
       "      <td>SAME DIRECTION - BOTH GOING STRAIGHT-SIDESWIPE</td>\n",
       "      <td>No Data</td>\n",
       "      <td>40</td>\n",
       "      <td>97 - NOT APPLICABLE</td>\n",
       "      <td>8</td>\n",
       "      <td>1 - DRY</td>\n",
       "      <td>No Data</td>\n",
       "      <td>96</td>\n",
       "      <td>1 - CLEAR</td>\n",
       "    </tr>\n",
       "    <tr>\n",
       "      <th>4</th>\n",
       "      <td>Yes</td>\n",
       "      <td>NOT APPLICABLE</td>\n",
       "      <td>No</td>\n",
       "      <td>No</td>\n",
       "      <td>1550</td>\n",
       "      <td>SATURDAY</td>\n",
       "      <td>STATE SPUR</td>\n",
       "      <td>No Data</td>\n",
       "      <td>NaN</td>\n",
       "      <td>SAME DIRECTION - BOTH GOING STRAIGHT-REAR END</td>\n",
       "      <td>No Data</td>\n",
       "      <td>40</td>\n",
       "      <td>97 - NOT APPLICABLE</td>\n",
       "      <td>8</td>\n",
       "      <td>1 - DRY</td>\n",
       "      <td>No Data</td>\n",
       "      <td>96</td>\n",
       "      <td>1 - CLEAR</td>\n",
       "    </tr>\n",
       "  </tbody>\n",
       "</table>\n",
       "</div>"
      ],
      "text/plain": [
       "  $1000 Damage to Any One Person's Property   Bridge Detail  \\\n",
       "0                                       Yes  NOT APPLICABLE   \n",
       "1                                       Yes  NOT APPLICABLE   \n",
       "2                                       Yes  NOT APPLICABLE   \n",
       "3                                       Yes  NOT APPLICABLE   \n",
       "4                                       Yes  NOT APPLICABLE   \n",
       "\n",
       "  Construction Zone Flag Construction Zone Workers Present Flag  Crash Time  \\\n",
       "0                     No                                     No         720   \n",
       "1                     No                                     No         908   \n",
       "2                     No                                     No        1705   \n",
       "3                     No                                     No         110   \n",
       "4                     No                                     No        1550   \n",
       "\n",
       "  Day of Week Highway System Intersecting Highway Number  \\\n",
       "0    THURSDAY     STATE SPUR                     No Data   \n",
       "1      MONDAY     STATE SPUR                         345   \n",
       "2      FRIDAY     STATE SPUR                     No Data   \n",
       "3     TUESDAY     STATE SPUR                     No Data   \n",
       "4    SATURDAY     STATE SPUR                     No Data   \n",
       "\n",
       "  Intersecting Street Name                             Manner of Collision  \\\n",
       "0                      NaN   SAME DIRECTION - BOTH GOING STRAIGHT-REAR END   \n",
       "1                   IH0345       SAME DIRECTION - ONE STRAIGHT-ONE STOPPED   \n",
       "2                      NaN              ONE MOTOR VEHICLE - GOING STRAIGHT   \n",
       "3                      NaN  SAME DIRECTION - BOTH GOING STRAIGHT-SIDESWIPE   \n",
       "4                      NaN   SAME DIRECTION - BOTH GOING STRAIGHT-REAR END   \n",
       "\n",
       "  Median Type Median Width Number of Entering Roads Number of Lanes  \\\n",
       "0     No Data      No Data      97 - NOT APPLICABLE         No Data   \n",
       "1     No Data           40      97 - NOT APPLICABLE               8   \n",
       "2     No Data           40      97 - NOT APPLICABLE               6   \n",
       "3     No Data           40      97 - NOT APPLICABLE               8   \n",
       "4     No Data           40      97 - NOT APPLICABLE               8   \n",
       "\n",
       "  Surface Condition Surface Type Surface Width Weather Condition  \n",
       "0           1 - DRY      No Data       No Data         1 - CLEAR  \n",
       "1           1 - DRY      No Data            96         1 - CLEAR  \n",
       "2           1 - DRY      No Data            72         1 - CLEAR  \n",
       "3           1 - DRY      No Data            96         1 - CLEAR  \n",
       "4           1 - DRY      No Data            96         1 - CLEAR  "
      ]
     },
     "execution_count": 133,
     "metadata": {},
     "output_type": "execute_result"
    }
   ],
   "source": [
    "df_test = pd.read_csv('test.csv')\n",
    "df_test.head()"
   ]
  },
  {
   "cell_type": "code",
   "execution_count": 134,
   "metadata": {},
   "outputs": [
    {
     "name": "stdout",
     "output_type": "stream",
     "text": [
      "<class 'pandas.core.frame.DataFrame'>\n",
      "RangeIndex: 774 entries, 0 to 773\n",
      "Data columns (total 18 columns):\n",
      " #   Column                                     Non-Null Count  Dtype \n",
      "---  ------                                     --------------  ----- \n",
      " 0   $1000 Damage to Any One Person's Property  774 non-null    object\n",
      " 1   Bridge Detail                              774 non-null    object\n",
      " 2   Construction Zone Flag                     774 non-null    object\n",
      " 3   Construction Zone Workers Present Flag     774 non-null    object\n",
      " 4   Crash Time                                 774 non-null    int64 \n",
      " 5   Day of Week                                774 non-null    object\n",
      " 6   Highway System                             774 non-null    object\n",
      " 7   Intersecting Highway Number                774 non-null    object\n",
      " 8   Intersecting Street Name                   176 non-null    object\n",
      " 9   Manner of Collision                        774 non-null    object\n",
      " 10  Median Type                                774 non-null    object\n",
      " 11  Median Width                               774 non-null    object\n",
      " 12  Number of Entering Roads                   774 non-null    object\n",
      " 13  Number of Lanes                            774 non-null    object\n",
      " 14  Surface Condition                          774 non-null    object\n",
      " 15  Surface Type                               774 non-null    object\n",
      " 16  Surface Width                              774 non-null    object\n",
      " 17  Weather Condition                          774 non-null    object\n",
      "dtypes: int64(1), object(17)\n",
      "memory usage: 109.0+ KB\n"
     ]
    }
   ],
   "source": [
    "df_test.info()"
   ]
  },
  {
   "cell_type": "code",
   "execution_count": 135,
   "metadata": {},
   "outputs": [
    {
     "data": {
      "text/plain": [
       "$1000 Damage to Any One Person's Property      0\n",
       "Bridge Detail                                  0\n",
       "Construction Zone Flag                         0\n",
       "Construction Zone Workers Present Flag         0\n",
       "Crash Time                                     0\n",
       "Day of Week                                    0\n",
       "Highway System                                 0\n",
       "Intersecting Highway Number                    0\n",
       "Intersecting Street Name                     598\n",
       "Manner of Collision                            0\n",
       "Median Type                                    0\n",
       "Median Width                                   0\n",
       "Number of Entering Roads                       0\n",
       "Number of Lanes                                0\n",
       "Surface Condition                              0\n",
       "Surface Type                                   0\n",
       "Surface Width                                  0\n",
       "Weather Condition                              0\n",
       "dtype: int64"
      ]
     },
     "execution_count": 135,
     "metadata": {},
     "output_type": "execute_result"
    }
   ],
   "source": [
    "df_test.isnull().sum()"
   ]
  },
  {
   "cell_type": "markdown",
   "metadata": {},
   "source": [
    "**2) Data PreProcessing**"
   ]
  },
  {
   "cell_type": "markdown",
   "metadata": {},
   "source": [
    "1) $1000 Damage to Any One Person's Property"
   ]
  },
  {
   "cell_type": "code",
   "execution_count": 136,
   "metadata": {},
   "outputs": [
    {
     "data": {
      "text/plain": [
       "Yes    736\n",
       "No      38\n",
       "Name: $1000 Damage to Any One Person's Property, dtype: int64"
      ]
     },
     "execution_count": 136,
     "metadata": {},
     "output_type": "execute_result"
    }
   ],
   "source": [
    "df_test['$1000 Damage to Any One Person\\'s Property'].value_counts()"
   ]
  },
  {
   "cell_type": "markdown",
   "metadata": {},
   "source": [
    "We will map the column with Yes as 1 and No as 0"
   ]
  },
  {
   "cell_type": "code",
   "execution_count": 137,
   "metadata": {},
   "outputs": [],
   "source": [
    "df_test['$1000 Damage to Any One Person\\'s Property'] = df_test['$1000 Damage to Any One Person\\'s Property'].map({'Yes':1, 'No':0}).astype(int)"
   ]
  },
  {
   "cell_type": "code",
   "execution_count": 138,
   "metadata": {},
   "outputs": [
    {
     "data": {
      "text/plain": [
       "1    736\n",
       "0     38\n",
       "Name: $1000 Damage to Any One Person's Property, dtype: int64"
      ]
     },
     "execution_count": 138,
     "metadata": {},
     "output_type": "execute_result"
    }
   ],
   "source": [
    "df_test['$1000 Damage to Any One Person\\'s Property'].value_counts()"
   ]
  },
  {
   "cell_type": "markdown",
   "metadata": {},
   "source": [
    "2) Bridge Detail"
   ]
  },
  {
   "cell_type": "code",
   "execution_count": 139,
   "metadata": {},
   "outputs": [
    {
     "data": {
      "text/plain": [
       "NOT APPLICABLE                            772\n",
       "STRUCTURE NOT HIT                           1\n",
       "VEHICLE RETAINED ON BRIDGE OR OVERPASS      1\n",
       "Name: Bridge Detail, dtype: int64"
      ]
     },
     "execution_count": 139,
     "metadata": {},
     "output_type": "execute_result"
    }
   ],
   "source": [
    "df_test['Bridge Detail'].value_counts()"
   ]
  },
  {
   "cell_type": "markdown",
   "metadata": {},
   "source": [
    "The value \"Not Applicable\" has the highest count followed by others which have comparatively low count and thus we will replace all the other values with \"Applicable\""
   ]
  },
  {
   "cell_type": "code",
   "execution_count": 140,
   "metadata": {},
   "outputs": [],
   "source": [
    "df_test.replace({'Bridge Detail': {'STRUCTURE NOT HIT': 'APPLICABLE',\n",
    "                                    'VEHICLE RETAINED ON BRIDGE OR OVERPASS': 'APPLICABLE',\n",
    "                                    'CRASH INVOLVED UNDERPASS': 'APPLICABLE',\n",
    "                                    'VEHICLE WENT OVER RAIL': 'APPLICABLE'}}, inplace=True)"
   ]
  },
  {
   "cell_type": "code",
   "execution_count": 141,
   "metadata": {},
   "outputs": [
    {
     "data": {
      "text/plain": [
       "NOT APPLICABLE    772\n",
       "APPLICABLE          2\n",
       "Name: Bridge Detail, dtype: int64"
      ]
     },
     "execution_count": 141,
     "metadata": {},
     "output_type": "execute_result"
    }
   ],
   "source": [
    "df_test['Bridge Detail'].value_counts()"
   ]
  },
  {
   "cell_type": "markdown",
   "metadata": {},
   "source": [
    "We will map the column with NOT APPLICABLE as 1 and APPLICABLE as 0"
   ]
  },
  {
   "cell_type": "code",
   "execution_count": 142,
   "metadata": {},
   "outputs": [],
   "source": [
    "df_test['Bridge Detail'] = df_test['Bridge Detail'].map({'NOT APPLICABLE':1, 'APPLICABLE':0}).astype(int)"
   ]
  },
  {
   "cell_type": "code",
   "execution_count": 143,
   "metadata": {},
   "outputs": [
    {
     "data": {
      "text/plain": [
       "1    772\n",
       "0      2\n",
       "Name: Bridge Detail, dtype: int64"
      ]
     },
     "execution_count": 143,
     "metadata": {},
     "output_type": "execute_result"
    }
   ],
   "source": [
    "df_test['Bridge Detail'].value_counts()"
   ]
  },
  {
   "cell_type": "markdown",
   "metadata": {},
   "source": [
    "3) Construction Zone Flag "
   ]
  },
  {
   "cell_type": "code",
   "execution_count": 144,
   "metadata": {},
   "outputs": [
    {
     "data": {
      "text/plain": [
       "No     732\n",
       "Yes     42\n",
       "Name: Construction Zone Flag, dtype: int64"
      ]
     },
     "execution_count": 144,
     "metadata": {},
     "output_type": "execute_result"
    }
   ],
   "source": [
    "df_test['Construction Zone Flag'].value_counts()"
   ]
  },
  {
   "cell_type": "markdown",
   "metadata": {},
   "source": [
    "We will map the column with No as 1 and Yes as 0"
   ]
  },
  {
   "cell_type": "code",
   "execution_count": 145,
   "metadata": {},
   "outputs": [],
   "source": [
    "df_test['Construction Zone Flag'] = df_test['Construction Zone Flag'].map({'No':1, 'Yes':0}).astype(int)"
   ]
  },
  {
   "cell_type": "code",
   "execution_count": 146,
   "metadata": {},
   "outputs": [
    {
     "data": {
      "text/plain": [
       "1    732\n",
       "0     42\n",
       "Name: Construction Zone Flag, dtype: int64"
      ]
     },
     "execution_count": 146,
     "metadata": {},
     "output_type": "execute_result"
    }
   ],
   "source": [
    "df_test['Construction Zone Flag'].value_counts()"
   ]
  },
  {
   "cell_type": "markdown",
   "metadata": {},
   "source": [
    "4) Construction Zone Workers Present Flag "
   ]
  },
  {
   "cell_type": "code",
   "execution_count": 147,
   "metadata": {},
   "outputs": [
    {
     "data": {
      "text/plain": [
       "No     759\n",
       "Yes     15\n",
       "Name: Construction Zone Workers Present Flag, dtype: int64"
      ]
     },
     "execution_count": 147,
     "metadata": {},
     "output_type": "execute_result"
    }
   ],
   "source": [
    "df_test['Construction Zone Workers Present Flag'].value_counts()"
   ]
  },
  {
   "cell_type": "markdown",
   "metadata": {},
   "source": [
    "We will map the column with No as 1 and Yes as 0"
   ]
  },
  {
   "cell_type": "code",
   "execution_count": 148,
   "metadata": {},
   "outputs": [],
   "source": [
    "df_test['Construction Zone Workers Present Flag'] = df_test['Construction Zone Workers Present Flag'].map({'No':1, 'Yes':0}).astype(int)"
   ]
  },
  {
   "cell_type": "code",
   "execution_count": 149,
   "metadata": {},
   "outputs": [
    {
     "data": {
      "text/plain": [
       "1    759\n",
       "0     15\n",
       "Name: Construction Zone Workers Present Flag, dtype: int64"
      ]
     },
     "execution_count": 149,
     "metadata": {},
     "output_type": "execute_result"
    }
   ],
   "source": [
    "df_test['Construction Zone Workers Present Flag'].value_counts()"
   ]
  },
  {
   "cell_type": "markdown",
   "metadata": {},
   "source": [
    "5) Crash Time"
   ]
  },
  {
   "cell_type": "code",
   "execution_count": 150,
   "metadata": {},
   "outputs": [
    {
     "data": {
      "text/plain": [
       "1800    9\n",
       "1630    8\n",
       "1700    7\n",
       "900     7\n",
       "1520    7\n",
       "       ..\n",
       "1248    1\n",
       "1648    1\n",
       "559     1\n",
       "1012    1\n",
       "1502    1\n",
       "Name: Crash Time, Length: 444, dtype: int64"
      ]
     },
     "execution_count": 150,
     "metadata": {},
     "output_type": "execute_result"
    }
   ],
   "source": [
    "df_test['Crash Time'].value_counts()"
   ]
  },
  {
   "cell_type": "markdown",
   "metadata": {},
   "source": [
    "Since crash time is already an integer value we dont need to convert it."
   ]
  },
  {
   "cell_type": "markdown",
   "metadata": {},
   "source": [
    "6) Day of Week"
   ]
  },
  {
   "cell_type": "code",
   "execution_count": 151,
   "metadata": {},
   "outputs": [
    {
     "data": {
      "text/plain": [
       "SATURDAY     133\n",
       "FRIDAY       122\n",
       "THURSDAY     117\n",
       "WEDNESDAY    107\n",
       "TUESDAY      103\n",
       "SUNDAY        97\n",
       "MONDAY        95\n",
       "Name: Day of Week, dtype: int64"
      ]
     },
     "execution_count": 151,
     "metadata": {},
     "output_type": "execute_result"
    }
   ],
   "source": [
    "df_test['Day of Week'].value_counts()"
   ]
  },
  {
   "cell_type": "markdown",
   "metadata": {},
   "source": [
    "Day of Week is not an ordinal value since there is no order/rank and also there are 7 unique values for this attribute, we will transform this into one hot vector of length 7"
   ]
  },
  {
   "cell_type": "code",
   "execution_count": 152,
   "metadata": {},
   "outputs": [],
   "source": [
    "cols = pd.get_dummies(df_test['Day of Week'], prefix= 'Day of Week')\n",
    "df_test[cols.columns] = cols\n",
    "df_test.drop('Day of Week', axis = 1, inplace = True)"
   ]
  },
  {
   "cell_type": "markdown",
   "metadata": {},
   "source": [
    "7) Highway System"
   ]
  },
  {
   "cell_type": "code",
   "execution_count": 153,
   "metadata": {},
   "outputs": [
    {
     "data": {
      "text/plain": [
       "STATE SPUR    774\n",
       "Name: Highway System, dtype: int64"
      ]
     },
     "execution_count": 153,
     "metadata": {},
     "output_type": "execute_result"
    }
   ],
   "source": [
    "df_test['Highway System'].value_counts()"
   ]
  },
  {
   "cell_type": "markdown",
   "metadata": {},
   "source": [
    "Since it has only one value we will drop this column"
   ]
  },
  {
   "cell_type": "code",
   "execution_count": 154,
   "metadata": {},
   "outputs": [],
   "source": [
    "df_test.drop('Highway System', axis = 1, inplace = True)"
   ]
  },
  {
   "cell_type": "markdown",
   "metadata": {},
   "source": [
    "8) Intersecting Highway Number"
   ]
  },
  {
   "cell_type": "code",
   "execution_count": 155,
   "metadata": {},
   "outputs": [
    {
     "data": {
      "text/plain": [
       "No Data    657\n",
       "35          71\n",
       "345         41\n",
       "75           5\n",
       "Name: Intersecting Highway Number, dtype: int64"
      ]
     },
     "execution_count": 155,
     "metadata": {},
     "output_type": "execute_result"
    }
   ],
   "source": [
    "df_test['Intersecting Highway Number'].value_counts()"
   ]
  },
  {
   "cell_type": "code",
   "execution_count": 156,
   "metadata": {},
   "outputs": [],
   "source": [
    "cols = pd.get_dummies(df_test['Intersecting Highway Number'], prefix= 'Intersecting Highway Number')\n",
    "df_test[cols.columns] = cols\n",
    "df_test.drop('Intersecting Highway Number', axis = 1, inplace = True)"
   ]
  },
  {
   "cell_type": "markdown",
   "metadata": {},
   "source": [
    "9) Intersecting Street Name"
   ]
  },
  {
   "cell_type": "code",
   "execution_count": 157,
   "metadata": {},
   "outputs": [
    {
     "data": {
      "text/plain": [
       "IH0035E              71\n",
       "IH0345               41\n",
       "N FIELD ST            9\n",
       "N AKARD ST            8\n",
       "ROUTH ST              6\n",
       "N PEARL ST            6\n",
       "US0075                5\n",
       "OLIVE ST              4\n",
       "N BECKLEY AVE         4\n",
       "PEARL ST              3\n",
       "N ST PAUL ST          3\n",
       "N OLIVE ST            2\n",
       "N RIVERFRONT BLVD     2\n",
       "FIELD ST              2\n",
       "FAIRMOUNT ST          1\n",
       "MAPLE ROUTH RD        1\n",
       "ROSS AVE              1\n",
       "FARMONT RD            1\n",
       "AKARD ST              1\n",
       "HARWOOD ST            1\n",
       "N OLIVE               1\n",
       "N OLIVE RD            1\n",
       "HOUSTON ST            1\n",
       "MAPLE ST              1\n",
       "Name: Intersecting Street Name, dtype: int64"
      ]
     },
     "execution_count": 157,
     "metadata": {},
     "output_type": "execute_result"
    }
   ],
   "source": [
    "df_test['Intersecting Street Name'].value_counts()"
   ]
  },
  {
   "cell_type": "markdown",
   "metadata": {},
   "source": [
    "We will drop this column"
   ]
  },
  {
   "cell_type": "code",
   "execution_count": 158,
   "metadata": {},
   "outputs": [],
   "source": [
    "df_test.drop('Intersecting Street Name', axis = 1, inplace = True)"
   ]
  },
  {
   "cell_type": "markdown",
   "metadata": {},
   "source": [
    "10) Manner of Collision "
   ]
  },
  {
   "cell_type": "code",
   "execution_count": 159,
   "metadata": {},
   "outputs": [
    {
     "data": {
      "text/plain": [
       "SAME DIRECTION - BOTH GOING STRAIGHT-SIDESWIPE       203\n",
       "SAME DIRECTION - BOTH GOING STRAIGHT-REAR END        202\n",
       "SAME DIRECTION - ONE STRAIGHT-ONE STOPPED            142\n",
       "ONE MOTOR VEHICLE - GOING STRAIGHT                   101\n",
       "ANGLE - BOTH GOING STRAIGHT                           58\n",
       "OPPOSITE DIRECTION - ONE STRAIGHT-ONE LEFT TURN       27\n",
       "ANGLE - ONE STRAIGHT-ONE RIGHT TURN                    9\n",
       "SAME DIRECTION - ONE STRAIGHT-ONE RIGHT TURN           8\n",
       "SAME DIRECTION - ONE STRAIGHT-ONE LEFT TURN            5\n",
       "ONE MOTOR VEHICLE - TURNING LEFT                       4\n",
       "ONE MOTOR VEHICLE - TURNING RIGHT                      2\n",
       "ANGLE - ONE STRAIGHT-ONE LEFT TURN                     2\n",
       "OPPOSITE DIRECTION - BOTH GOING STRAIGHT               2\n",
       "OTHER                                                  1\n",
       "ANGLE - ONE LEFT TURN-ONE STOPPED                      1\n",
       "OPPOSITE DIRECTION - ONE RIGHT TURN-ONE LEFT TURN      1\n",
       "ONE MOTOR VEHICLE - BACKING                            1\n",
       "SAME DIRECTION - BOTH LEFT TURN                        1\n",
       "ANGLE - ONE STRAIGHT-ONE BACKING                       1\n",
       "OPPOSITE DIRECTION - ONE BACKING-ONE STOPPED           1\n",
       "SAME DIRECTION - BOTH RIGHT TURN                       1\n",
       "ONE MOTOR VEHICLE - OTHER                              1\n",
       "Name: Manner of Collision, dtype: int64"
      ]
     },
     "execution_count": 159,
     "metadata": {},
     "output_type": "execute_result"
    }
   ],
   "source": [
    "df_test['Manner of Collision'].value_counts()"
   ]
  },
  {
   "cell_type": "markdown",
   "metadata": {},
   "source": [
    "For this column we will merge the values into 4 major categories- Same direction, Opposite direction, Angle and One motor vehicle"
   ]
  },
  {
   "cell_type": "code",
   "execution_count": 160,
   "metadata": {},
   "outputs": [],
   "source": [
    "df_test.replace({'Manner of Collision': {'SAME DIRECTION - BOTH GOING STRAIGHT-REAR END': 'SAME DIRECTION',\n",
    "                                    'SAME DIRECTION - BOTH GOING STRAIGHT-SIDESWIPE': 'SAME DIRECTION',\n",
    "                                    'SAME DIRECTION - ONE STRAIGHT-ONE STOPPED': 'SAME DIRECTION',\n",
    "                                    'SAME DIRECTION - ONE STRAIGHT-ONE LEFT TURN': 'SAME DIRECTION',\n",
    "                                    'SAME DIRECTION - ONE STRAIGHT-ONE RIGHT TURN': 'SAME DIRECTION',\n",
    "                                    'SAME DIRECTION - BOTH RIGHT TURN': 'SAME DIRECTION',\n",
    "                                    'SAME DIRECTION - BOTH LEFT TURN':'SAME DIRECTION'}}, inplace=True)"
   ]
  },
  {
   "cell_type": "code",
   "execution_count": 161,
   "metadata": {},
   "outputs": [],
   "source": [
    "df_test.replace({'Manner of Collision': {'ONE MOTOR VEHICLE': 'ONE MOTOR VEHICLE',\n",
    "                                    'ONE MOTOR VEHICLE - TURNING RIGHT': 'ONE MOTOR VEHICLE',\n",
    "                                    'ONE MOTOR VEHICLE - TURNING LEFT': 'ONE MOTOR VEHICLE',\n",
    "                                    'ONE MOTOR VEHICLE - OTHER': 'ONE MOTOR VEHICLE',\n",
    "                                    'ONE MOTOR VEHICLE - BACKING': 'ONE MOTOR VEHICLE',\n",
    "                                    'ONE MOTOR VEHICLE - GOING STRAIGHT':'ONE MOTOR VEHICLE'}}, inplace=True)"
   ]
  },
  {
   "cell_type": "code",
   "execution_count": 162,
   "metadata": {},
   "outputs": [],
   "source": [
    "df_test.replace({'Manner of Collision': {'ANGLE - BOTH GOING STRAIGHT': 'ANGLE',\n",
    "                                    'ANGLE - ONE STRAIGHT-ONE RIGHT TURN': 'ANGLE',\n",
    "                                    'ANGLE - ONE STRAIGHT-ONE LEFT TURN': 'ANGLE',\n",
    "                                    'ANGLE - ONE STRAIGHT-ONE STOPPED': 'ANGLE',\n",
    "                                    'ANGLE - ONE STRAIGHT-ONE BACKING': 'ANGLE',\n",
    "                                    'ANGLE - ONE RIGHT TURN-ONE STOPPED': 'ANGLE',\n",
    "                                    'ANGLE - ONE LEFT TURN-ONE STOPPED':'ANGLE'}}, inplace=True)"
   ]
  },
  {
   "cell_type": "code",
   "execution_count": 163,
   "metadata": {},
   "outputs": [],
   "source": [
    "df_test.replace({'Manner of Collision': {'OPPOSITE DIRECTION - ONE STRAIGHT-ONE LEFT TURN': 'OPPOSITE DIRECTION',\n",
    "                                    'OPPOSITE DIRECTION - ONE STRAIGHT-ONE BACKING': 'OPPOSITE DIRECTION',\n",
    "                                    'OPPOSITE DIRECTION - ONE BACKING-ONE STOPPED': 'OPPOSITE DIRECTION',\n",
    "                                    'OPPOSITE DIRECTION - BOTH GOING STRAIGHT': 'OPPOSITE DIRECTION',\n",
    "                                    'OPPOSITE DIRECTION - ONE RIGHT TURN-ONE LEFT TURN': 'OPPOSITE DIRECTION',\n",
    "                                    'OPPOSITE DIRECTION - ONE LEFT TURN-ONE STOPPED': 'OPPOSITE DIRECTION'}}, inplace=True)"
   ]
  },
  {
   "cell_type": "code",
   "execution_count": 164,
   "metadata": {},
   "outputs": [],
   "source": [
    "df_test.drop(df_test.index[df_test['Manner of Collision'] == 'OTHER'], inplace = True)"
   ]
  },
  {
   "cell_type": "code",
   "execution_count": 165,
   "metadata": {},
   "outputs": [
    {
     "data": {
      "text/plain": [
       "SAME DIRECTION        562\n",
       "ONE MOTOR VEHICLE     109\n",
       "ANGLE                  71\n",
       "OPPOSITE DIRECTION     31\n",
       "Name: Manner of Collision, dtype: int64"
      ]
     },
     "execution_count": 165,
     "metadata": {},
     "output_type": "execute_result"
    }
   ],
   "source": [
    "df_test['Manner of Collision'].value_counts()"
   ]
  },
  {
   "cell_type": "code",
   "execution_count": null,
   "metadata": {},
   "outputs": [],
   "source": []
  },
  {
   "cell_type": "code",
   "execution_count": 166,
   "metadata": {},
   "outputs": [
    {
     "data": {
      "text/plain": [
       "SAME DIRECTION        562\n",
       "ONE MOTOR VEHICLE     109\n",
       "ANGLE                  71\n",
       "OPPOSITE DIRECTION     31\n",
       "Name: Manner of Collision, dtype: int64"
      ]
     },
     "execution_count": 166,
     "metadata": {},
     "output_type": "execute_result"
    }
   ],
   "source": [
    "df_test['Manner of Collision'].value_counts()"
   ]
  },
  {
   "cell_type": "markdown",
   "metadata": {},
   "source": [
    "Now we will convert these values in one hot vector of length of 4"
   ]
  },
  {
   "cell_type": "code",
   "execution_count": 167,
   "metadata": {},
   "outputs": [],
   "source": [
    "cols = pd.get_dummies(df_test['Manner of Collision'], prefix= 'Manner of Collision')\n",
    "df_test[cols.columns] = cols\n",
    "df_test.drop('Manner of Collision', axis = 1, inplace = True)"
   ]
  },
  {
   "cell_type": "markdown",
   "metadata": {},
   "source": [
    "11) Median Type"
   ]
  },
  {
   "cell_type": "code",
   "execution_count": 168,
   "metadata": {},
   "outputs": [
    {
     "data": {
      "text/plain": [
       "No Data        750\n",
       "UNPROTECTED     23\n",
       "Name: Median Type, dtype: int64"
      ]
     },
     "execution_count": 168,
     "metadata": {},
     "output_type": "execute_result"
    }
   ],
   "source": [
    "df_test['Median Type'].value_counts()"
   ]
  },
  {
   "cell_type": "code",
   "execution_count": 169,
   "metadata": {},
   "outputs": [],
   "source": [
    "df_test['Median Type'] = df_test['Median Type'].map({'No Data':1, 'UNPROTECTED':0}).astype(int)"
   ]
  },
  {
   "cell_type": "code",
   "execution_count": 170,
   "metadata": {},
   "outputs": [
    {
     "data": {
      "text/plain": [
       "1    750\n",
       "0     23\n",
       "Name: Median Type, dtype: int64"
      ]
     },
     "execution_count": 170,
     "metadata": {},
     "output_type": "execute_result"
    }
   ],
   "source": [
    "df_test['Median Type'].value_counts()"
   ]
  },
  {
   "cell_type": "markdown",
   "metadata": {},
   "source": [
    "12) Median Width"
   ]
  },
  {
   "cell_type": "code",
   "execution_count": 171,
   "metadata": {},
   "outputs": [
    {
     "data": {
      "text/plain": [
       "40         603\n",
       "No Data    170\n",
       "Name: Median Width, dtype: int64"
      ]
     },
     "execution_count": 171,
     "metadata": {},
     "output_type": "execute_result"
    }
   ],
   "source": [
    "df_test['Median Width'].value_counts()"
   ]
  },
  {
   "cell_type": "code",
   "execution_count": 172,
   "metadata": {},
   "outputs": [],
   "source": [
    "df_test['Median Width'] = df_test['Median Width'].map({'40':1, 'No Data':0}).astype(int)"
   ]
  },
  {
   "cell_type": "code",
   "execution_count": 173,
   "metadata": {},
   "outputs": [
    {
     "data": {
      "text/plain": [
       "1    603\n",
       "0    170\n",
       "Name: Median Width, dtype: int64"
      ]
     },
     "execution_count": 173,
     "metadata": {},
     "output_type": "execute_result"
    }
   ],
   "source": [
    "df_test['Median Width'].value_counts()"
   ]
  },
  {
   "cell_type": "markdown",
   "metadata": {},
   "source": [
    "13) Number of Entering Roads"
   ]
  },
  {
   "cell_type": "code",
   "execution_count": 174,
   "metadata": {},
   "outputs": [
    {
     "data": {
      "text/plain": [
       "97 - NOT APPLICABLE                  669\n",
       "4 - FOUR ENTERING ROADS               62\n",
       "2 - THREE ENTERING ROADS - T          19\n",
       "3 - THREE ENTERING ROADS - Y          14\n",
       "98 - OTHER (EXPLAIN IN NARRATIVE)      6\n",
       "8 - CLOVERLEAF                         1\n",
       "6 - SIX ENTERING ROADS                 1\n",
       "7 - TRAFFIC CIRCLE                     1\n",
       "Name: Number of Entering Roads, dtype: int64"
      ]
     },
     "execution_count": 174,
     "metadata": {},
     "output_type": "execute_result"
    }
   ],
   "source": [
    "df_test['Number of Entering Roads'].value_counts()"
   ]
  },
  {
   "cell_type": "markdown",
   "metadata": {},
   "source": [
    "For this column we will merge the values of 8 - CLOVERLEAF, 5 - FIVE ENTERING ROADS, 6 - SIX ENTERING ROADS and 98 - OTHER (EXPLAIN IN NARRATIVE) as OTHER"
   ]
  },
  {
   "cell_type": "code",
   "execution_count": 175,
   "metadata": {},
   "outputs": [],
   "source": [
    "df_test.replace({'Number of Entering Roads': {'98 - OTHER (EXPLAIN IN NARRATIVE)': 'OTHER',\n",
    "                                    '6 - SIX ENTERING ROADS': 'OTHER',\n",
    "                                    '5 - FIVE ENTERING ROADS': 'OTHER',\n",
    "                                    '8 - CLOVERLEAF': 'OTHER'}}, inplace=True)"
   ]
  },
  {
   "cell_type": "code",
   "execution_count": 176,
   "metadata": {},
   "outputs": [
    {
     "data": {
      "text/plain": [
       "97 - NOT APPLICABLE             669\n",
       "4 - FOUR ENTERING ROADS          62\n",
       "2 - THREE ENTERING ROADS - T     19\n",
       "3 - THREE ENTERING ROADS - Y     14\n",
       "OTHER                             8\n",
       "7 - TRAFFIC CIRCLE                1\n",
       "Name: Number of Entering Roads, dtype: int64"
      ]
     },
     "execution_count": 176,
     "metadata": {},
     "output_type": "execute_result"
    }
   ],
   "source": [
    "df_test['Number of Entering Roads'].value_counts()"
   ]
  },
  {
   "cell_type": "code",
   "execution_count": 177,
   "metadata": {},
   "outputs": [],
   "source": [
    "cols = pd.get_dummies(df_test['Number of Entering Roads'], prefix= 'Number of Entering Roads')\n",
    "df_test[cols.columns] = cols\n",
    "df_test.drop('Number of Entering Roads', axis = 1, inplace = True)"
   ]
  },
  {
   "cell_type": "markdown",
   "metadata": {},
   "source": [
    "14) Surface Condition"
   ]
  },
  {
   "cell_type": "code",
   "execution_count": 178,
   "metadata": {},
   "outputs": [
    {
     "data": {
      "text/plain": [
       "1 - DRY                              694\n",
       "2 - WET                               68\n",
       "6 - ICE                                5\n",
       "3 - STANDING WATER                     5\n",
       "98 - OTHER (EXPLAIN IN NARRATIVE)      1\n",
       "Name: Surface Condition, dtype: int64"
      ]
     },
     "execution_count": 178,
     "metadata": {},
     "output_type": "execute_result"
    }
   ],
   "source": [
    "df_test['Surface Condition'].value_counts()"
   ]
  },
  {
   "cell_type": "markdown",
   "metadata": {},
   "source": [
    "For this column we will merge the values of 99 - UNKNOWN and 7 - SAND, MUD, DIRT as 98 - OTHER (EXPLAIN IN NARRATIVE)"
   ]
  },
  {
   "cell_type": "code",
   "execution_count": 179,
   "metadata": {},
   "outputs": [],
   "source": [
    "df_test.replace({'Surface Condition': {'99 - UNKNOWN': '98 - OTHER (EXPLAIN IN NARRATIVE)',\n",
    "                                    '7 - SAND, MUD, DIRT': '98 - OTHER (EXPLAIN IN NARRATIVE)'}}, inplace=True)"
   ]
  },
  {
   "cell_type": "code",
   "execution_count": 180,
   "metadata": {},
   "outputs": [
    {
     "data": {
      "text/plain": [
       "1 - DRY                              694\n",
       "2 - WET                               68\n",
       "6 - ICE                                5\n",
       "3 - STANDING WATER                     5\n",
       "98 - OTHER (EXPLAIN IN NARRATIVE)      1\n",
       "Name: Surface Condition, dtype: int64"
      ]
     },
     "execution_count": 180,
     "metadata": {},
     "output_type": "execute_result"
    }
   ],
   "source": [
    "df_test['Surface Condition'].value_counts()"
   ]
  },
  {
   "cell_type": "code",
   "execution_count": 181,
   "metadata": {},
   "outputs": [],
   "source": [
    "cols = pd.get_dummies(df_test['Surface Condition'], prefix= 'Surface Condition')\n",
    "df_test[cols.columns] = cols\n",
    "df_test.drop('Surface Condition', axis = 1, inplace = True)"
   ]
  },
  {
   "cell_type": "markdown",
   "metadata": {},
   "source": [
    "15) Surface Type"
   ]
  },
  {
   "cell_type": "code",
   "execution_count": 182,
   "metadata": {},
   "outputs": [
    {
     "data": {
      "text/plain": [
       "No Data    773\n",
       "Name: Surface Type, dtype: int64"
      ]
     },
     "execution_count": 182,
     "metadata": {},
     "output_type": "execute_result"
    }
   ],
   "source": [
    "df_test['Surface Type'].value_counts()"
   ]
  },
  {
   "cell_type": "markdown",
   "metadata": {},
   "source": [
    "Since there is just one unique value we will drop this column"
   ]
  },
  {
   "cell_type": "code",
   "execution_count": 183,
   "metadata": {},
   "outputs": [],
   "source": [
    "df_test.drop('Surface Type', axis = 1, inplace = True)"
   ]
  },
  {
   "cell_type": "markdown",
   "metadata": {},
   "source": [
    "15) Surface Width"
   ]
  },
  {
   "cell_type": "code",
   "execution_count": 184,
   "metadata": {},
   "outputs": [
    {
     "data": {
      "text/plain": [
       "96         414\n",
       "72         189\n",
       "No Data    170\n",
       "Name: Surface Width, dtype: int64"
      ]
     },
     "execution_count": 184,
     "metadata": {},
     "output_type": "execute_result"
    }
   ],
   "source": [
    "df_test['Surface Width'].value_counts()"
   ]
  },
  {
   "cell_type": "code",
   "execution_count": 185,
   "metadata": {},
   "outputs": [],
   "source": [
    "cols = pd.get_dummies(df_test['Surface Width'], prefix= 'Surface Width')\n",
    "df_test[cols.columns] = cols\n",
    "df_test.drop('Surface Width', axis = 1, inplace = True)"
   ]
  },
  {
   "cell_type": "markdown",
   "metadata": {},
   "source": [
    "16) Weather Condition"
   ]
  },
  {
   "cell_type": "code",
   "execution_count": 186,
   "metadata": {},
   "outputs": [
    {
     "data": {
      "text/plain": [
       "1 - CLEAR                            622\n",
       "2 - CLOUDY                            94\n",
       "3 - RAIN                              54\n",
       "6 - FOG                                2\n",
       "98 - OTHER (EXPLAIN IN NARRATIVE)      1\n",
       "Name: Weather Condition, dtype: int64"
      ]
     },
     "execution_count": 186,
     "metadata": {},
     "output_type": "execute_result"
    }
   ],
   "source": [
    "df_test['Weather Condition'].value_counts()"
   ]
  },
  {
   "cell_type": "code",
   "execution_count": 187,
   "metadata": {},
   "outputs": [],
   "source": [
    "df_test.replace({'Weather Condition': {'99 - UNKNOWN': '98 - OTHER (EXPLAIN IN NARRATIVE)',\n",
    "                                 '5 - SNOW': '98 - OTHER (EXPLAIN IN NARRATIVE)',\n",
    "                                 '4 - SLEET/HAIL': '98 - OTHER (EXPLAIN IN NARRATIVE)'}}, inplace = True)"
   ]
  },
  {
   "cell_type": "code",
   "execution_count": 188,
   "metadata": {},
   "outputs": [
    {
     "data": {
      "text/plain": [
       "1 - CLEAR                            622\n",
       "2 - CLOUDY                            94\n",
       "3 - RAIN                              54\n",
       "6 - FOG                                2\n",
       "98 - OTHER (EXPLAIN IN NARRATIVE)      1\n",
       "Name: Weather Condition, dtype: int64"
      ]
     },
     "execution_count": 188,
     "metadata": {},
     "output_type": "execute_result"
    }
   ],
   "source": [
    "df_test['Weather Condition'].value_counts()"
   ]
  },
  {
   "cell_type": "code",
   "execution_count": 189,
   "metadata": {},
   "outputs": [],
   "source": [
    "cols = pd.get_dummies(df_test['Weather Condition'], prefix= 'Weather Condition')\n",
    "df_test[cols.columns] = cols\n",
    "df_test.drop('Weather Condition', axis = 1, inplace = True)"
   ]
  },
  {
   "cell_type": "markdown",
   "metadata": {},
   "source": [
    "17) Number of lanes"
   ]
  },
  {
   "cell_type": "code",
   "execution_count": 190,
   "metadata": {},
   "outputs": [
    {
     "data": {
      "text/plain": [
       "8          414\n",
       "6          189\n",
       "No Data    170\n",
       "Name: Number of Lanes, dtype: int64"
      ]
     },
     "execution_count": 190,
     "metadata": {},
     "output_type": "execute_result"
    }
   ],
   "source": [
    "df_test['Number of Lanes'].value_counts()"
   ]
  },
  {
   "cell_type": "code",
   "execution_count": 191,
   "metadata": {},
   "outputs": [],
   "source": [
    "cols = pd.get_dummies(df_test['Number of Lanes'], prefix= 'Number of Lanes')\n",
    "df_test[cols.columns] = cols\n",
    "df_test.drop('Number of Lanes', axis = 1, inplace = True)"
   ]
  },
  {
   "cell_type": "code",
   "execution_count": 192,
   "metadata": {},
   "outputs": [
    {
     "name": "stdout",
     "output_type": "stream",
     "text": [
      "<class 'pandas.core.frame.DataFrame'>\n",
      "Int64Index: 773 entries, 0 to 773\n",
      "Data columns (total 44 columns):\n",
      " #   Column                                                 Non-Null Count  Dtype\n",
      "---  ------                                                 --------------  -----\n",
      " 0   $1000 Damage to Any One Person's Property              773 non-null    int64\n",
      " 1   Bridge Detail                                          773 non-null    int64\n",
      " 2   Construction Zone Flag                                 773 non-null    int64\n",
      " 3   Construction Zone Workers Present Flag                 773 non-null    int64\n",
      " 4   Crash Time                                             773 non-null    int64\n",
      " 5   Median Type                                            773 non-null    int64\n",
      " 6   Median Width                                           773 non-null    int64\n",
      " 7   Day of Week_FRIDAY                                     773 non-null    uint8\n",
      " 8   Day of Week_MONDAY                                     773 non-null    uint8\n",
      " 9   Day of Week_SATURDAY                                   773 non-null    uint8\n",
      " 10  Day of Week_SUNDAY                                     773 non-null    uint8\n",
      " 11  Day of Week_THURSDAY                                   773 non-null    uint8\n",
      " 12  Day of Week_TUESDAY                                    773 non-null    uint8\n",
      " 13  Day of Week_WEDNESDAY                                  773 non-null    uint8\n",
      " 14  Intersecting Highway Number_345                        773 non-null    uint8\n",
      " 15  Intersecting Highway Number_35                         773 non-null    uint8\n",
      " 16  Intersecting Highway Number_75                         773 non-null    uint8\n",
      " 17  Intersecting Highway Number_No Data                    773 non-null    uint8\n",
      " 18  Manner of Collision_ANGLE                              773 non-null    uint8\n",
      " 19  Manner of Collision_ONE MOTOR VEHICLE                  773 non-null    uint8\n",
      " 20  Manner of Collision_OPPOSITE DIRECTION                 773 non-null    uint8\n",
      " 21  Manner of Collision_SAME DIRECTION                     773 non-null    uint8\n",
      " 22  Number of Entering Roads_2 - THREE ENTERING ROADS - T  773 non-null    uint8\n",
      " 23  Number of Entering Roads_3 - THREE ENTERING ROADS - Y  773 non-null    uint8\n",
      " 24  Number of Entering Roads_4 - FOUR ENTERING ROADS       773 non-null    uint8\n",
      " 25  Number of Entering Roads_7 - TRAFFIC CIRCLE            773 non-null    uint8\n",
      " 26  Number of Entering Roads_97 - NOT APPLICABLE           773 non-null    uint8\n",
      " 27  Number of Entering Roads_OTHER                         773 non-null    uint8\n",
      " 28  Surface Condition_1 - DRY                              773 non-null    uint8\n",
      " 29  Surface Condition_2 - WET                              773 non-null    uint8\n",
      " 30  Surface Condition_3 - STANDING WATER                   773 non-null    uint8\n",
      " 31  Surface Condition_6 - ICE                              773 non-null    uint8\n",
      " 32  Surface Condition_98 - OTHER (EXPLAIN IN NARRATIVE)    773 non-null    uint8\n",
      " 33  Surface Width_72                                       773 non-null    uint8\n",
      " 34  Surface Width_96                                       773 non-null    uint8\n",
      " 35  Surface Width_No Data                                  773 non-null    uint8\n",
      " 36  Weather Condition_1 - CLEAR                            773 non-null    uint8\n",
      " 37  Weather Condition_2 - CLOUDY                           773 non-null    uint8\n",
      " 38  Weather Condition_3 - RAIN                             773 non-null    uint8\n",
      " 39  Weather Condition_6 - FOG                              773 non-null    uint8\n",
      " 40  Weather Condition_98 - OTHER (EXPLAIN IN NARRATIVE)    773 non-null    uint8\n",
      " 41  Number of Lanes_6                                      773 non-null    uint8\n",
      " 42  Number of Lanes_8                                      773 non-null    uint8\n",
      " 43  Number of Lanes_No Data                                773 non-null    uint8\n",
      "dtypes: int64(7), uint8(37)\n",
      "memory usage: 76.2 KB\n"
     ]
    }
   ],
   "source": [
    "df_test.info()"
   ]
  },
  {
   "cell_type": "code",
   "execution_count": null,
   "metadata": {},
   "outputs": [],
   "source": []
  },
  {
   "cell_type": "markdown",
   "metadata": {},
   "source": [
    "# Machine learning models "
   ]
  },
  {
   "cell_type": "markdown",
   "metadata": {},
   "source": [
    "## 1) KNN Classifier"
   ]
  },
  {
   "cell_type": "code",
   "execution_count": 164,
   "metadata": {},
   "outputs": [
    {
     "name": "stdout",
     "output_type": "stream",
     "text": [
      "Best parameters: {'n_neighbors': 15}\n",
      "Best cross-validation score: 0.74\n"
     ]
    }
   ],
   "source": [
    "from sklearn.neighbors import KNeighborsClassifier\n",
    "from sklearn.model_selection import GridSearchCV\n",
    "from sklearn.model_selection import cross_val_score\n",
    "from sklearn.model_selection import cross_val_predict\n",
    "param_grid = {'n_neighbors': list(range(3,20,2))}\n",
    "knn = KNeighborsClassifier()\n",
    "grid = GridSearchCV(knn,param_grid, cv=5, scoring='roc_auc', refit= True)\n",
    "grid.fit(X_train, y_train)\n",
    "print(\"Best parameters: {}\".format(grid.best_params_))\n",
    "print(\"Best cross-validation score: {:.2f}\".format(grid.best_score_))"
   ]
  },
  {
   "cell_type": "code",
   "execution_count": 165,
   "metadata": {},
   "outputs": [
    {
     "name": "stdout",
     "output_type": "stream",
     "text": [
      "[[570   0]\n",
      " [ 11   0]]\n",
      "              precision    recall  f1-score   support\n",
      "\n",
      "           0       0.98      1.00      0.99       570\n",
      "           1       0.00      0.00      0.00        11\n",
      "\n",
      "    accuracy                           0.98       581\n",
      "   macro avg       0.49      0.50      0.50       581\n",
      "weighted avg       0.96      0.98      0.97       581\n",
      "\n",
      "ROC_AUC Score for KNN Classifier:  0.50\n"
     ]
    }
   ],
   "source": [
    "pred_knn = grid.predict(X_test)\n",
    "from sklearn.metrics import classification_report\n",
    "from sklearn.metrics import accuracy_score\n",
    "from sklearn.metrics import confusion_matrix\n",
    "print(confusion_matrix(y_test, pred_knn))\n",
    "print(classification_report(y_test, pred_knn))\n",
    "from sklearn.metrics import roc_auc_score\n",
    "print(\"ROC_AUC Score for KNN Classifier:  {:.2f}\".format(roc_auc_score(y_test, pred_knn)))"
   ]
  },
  {
   "cell_type": "code",
   "execution_count": 166,
   "metadata": {},
   "outputs": [
    {
     "name": "stdout",
     "output_type": "stream",
     "text": [
      "[0.01893287 0.03636364 0.         0.         1.        ]\n",
      "[1.         0.36363636 0.         0.         0.        ]\n",
      "[0.         0.06666667 0.13333333 0.2       ]\n",
      "3\n"
     ]
    },
    {
     "data": {
      "image/png": "[encoded data removed]",
      "text/plain": [
       "<Figure size 720x360 with 1 Axes>"
      ]
     },
     "metadata": {
      "needs_background": "light"
     },
     "output_type": "display_data"
    }
   ],
   "source": [
    "# Recall - Precision Graph\n",
    "plt.subplots(figsize = (10,5))\n",
    "precision, recall, thresholds = precision_recall_curve(y_test, grid.predict_proba(X_test)[:, 1])\n",
    "print(precision)\n",
    "print(recall)\n",
    "print(thresholds)\n",
    "close_zero = np.argmin(np.abs(thresholds - 0.5))\n",
    "print(close_zero)\n",
    "\n",
    "plt.plot(precision[close_zero], recall[close_zero], 'o', markersize=10,\n",
    "         label=\"threshold zero\", fillstyle=\"none\", c='k', mew=2)\n",
    "\n",
    "plt.plot(precision, recall, label=\"precision recall curve\")\n",
    "plt.xlabel(\"Precision\")\n",
    "plt.ylabel(\"Recall\")\n",
    "plt.legend(loc=\"best\")\n",
    "plt.grid()"
   ]
  },
  {
   "cell_type": "code",
   "execution_count": 167,
   "metadata": {},
   "outputs": [
    {
     "name": "stdout",
     "output_type": "stream",
     "text": [
      "Before the post processing: \n",
      "Precision:  0.38461538461538464\n",
      "Recall:  0.0\n"
     ]
    }
   ],
   "source": [
    "y_predict_test = np.where(grid.predict_proba(X_test) >= thresholds[close_zero], 1, 0)\n",
    "y_predict_train = np.where(grid.predict_proba(X_train) >= thresholds[close_zero], 1, 0)\n",
    "print('Before the post processing: ')\n",
    "print('Precision: ', precision_score(y_train, y_predict_train[:,1]))\n",
    "print('Recall: ', recall_score(y_test,y_predict_test[:,1]))"
   ]
  },
  {
   "cell_type": "code",
   "execution_count": 168,
   "metadata": {},
   "outputs": [
    {
     "data": {
      "image/png": "[encoded data removed]",
      "text/plain": [
       "<Figure size 1440x360 with 1 Axes>"
      ]
     },
     "metadata": {
      "needs_background": "light"
     },
     "output_type": "display_data"
    }
   ],
   "source": [
    "fpr, tpr, thresholds = roc_curve(y_test, grid.predict_proba(X_test)[:,1])\n",
    "\n",
    "plt.subplots(figsize = (20,5))\n",
    "plt.plot(fpr, tpr, label=\"ROC Curve\")\n",
    "plt.xlabel(\"FPR\")\n",
    "plt.ylabel(\"TPR (recall)\")\n",
    "\n",
    "# find threshold closest to zero\n",
    "i = np.argmin(np.abs(thresholds-0.5))\n",
    "plt.plot(fpr[i], tpr[i], 'o', markersize=10,\n",
    "label=\"threshold zero\", fillstyle=\"none\", c='k', mew=2)\n",
    "plt.legend(loc=4)\n",
    "plt.grid()"
   ]
  },
  {
   "cell_type": "code",
   "execution_count": 169,
   "metadata": {},
   "outputs": [
    {
     "name": "stdout",
     "output_type": "stream",
     "text": [
      "Before the ROC-AUC post processing: \n",
      "Precision:  0.0\n",
      "Recall:  0.0\n",
      "F1-score:  0.0\n",
      "ROC Score:  0.4956140350877193\n"
     ]
    }
   ],
   "source": [
    "y_predict_test = np.where(grid.predict_proba(X_test) >= thresholds[i], 1, 0)\n",
    "y_predict_train = np.where(grid.predict_proba(X_train) >= thresholds[i], 1, 0)\n",
    "print('Before the ROC-AUC post processing: ')\n",
    "print('Precision: ', precision_score(y_test,y_predict_test[:,1]))\n",
    "print('Recall: ', recall_score(y_test,y_predict_test[:,1]))\n",
    "print('F1-score: ', f1_score(y_test,y_predict_test[:,1]))\n",
    "print('ROC Score: ', roc_auc_score(y_test,y_predict_test[:,1]))"
   ]
  },
  {
   "cell_type": "code",
   "execution_count": 170,
   "metadata": {},
   "outputs": [
    {
     "name": "stdout",
     "output_type": "stream",
     "text": [
      "Accuracy of the Model:  0.9810671256454389 \n",
      "\n",
      "Confusion Matrix of the Model:\n",
      " [[570   0]\n",
      " [ 11   0]] \n",
      "\n",
      "Classification Reaport of the Model:\n",
      "               precision    recall  f1-score   support\n",
      "\n",
      "           0       0.98      1.00      0.99       570\n",
      "           1       0.00      0.00      0.00        11\n",
      "\n",
      "    accuracy                           0.98       581\n",
      "   macro avg       0.49      0.50      0.50       581\n",
      "weighted avg       0.96      0.98      0.97       581\n",
      "\n"
     ]
    }
   ],
   "source": [
    "print('Accuracy of the Model: ', accuracy_score(y_test, pred_knn), '\\n')\n",
    "print('Confusion Matrix of the Model:\\n', confusion_matrix(y_test, pred_knn), '\\n')\n",
    "print('Classification Reaport of the Model:\\n', classification_report(y_test, pred_knn))"
   ]
  },
  {
   "cell_type": "markdown",
   "metadata": {},
   "source": [
    "**Post Processing**"
   ]
  },
  {
   "cell_type": "code",
   "execution_count": 171,
   "metadata": {},
   "outputs": [
    {
     "data": {
      "image/png": "[encoded data removed]",
      "text/plain": [
       "<Figure size 720x360 with 1 Axes>"
      ]
     },
     "metadata": {
      "needs_background": "light"
     },
     "output_type": "display_data"
    }
   ],
   "source": [
    "# Recall - Precision Graph\n",
    "plt.subplots(figsize = (10,5))\n",
    "precision, recall, thresholds = precision_recall_curve(y_test, grid.predict_proba(X_test)[:, 1])\n",
    "\n",
    "i = np.argmin(np.abs(recall-0.19))\n",
    "\n",
    "plt.plot(precision[i], recall[i], 'o', markersize=10,\n",
    "         label=\"threshold zero\", fillstyle=\"none\", c='k', mew=2)\n",
    "\n",
    "plt.plot(precision, recall, label=\"precision recall curve\")\n",
    "plt.xlabel(\"Precision\")\n",
    "plt.ylabel(\"Recall\")\n",
    "plt.legend(loc=\"best\")\n",
    "plt.grid()"
   ]
  },
  {
   "cell_type": "code",
   "execution_count": 172,
   "metadata": {},
   "outputs": [
    {
     "name": "stdout",
     "output_type": "stream",
     "text": [
      "After the Precision - Recall post processing: \n",
      "Precision:  0.08960573476702509\n",
      "Recall:  0.36363636363636365\n"
     ]
    }
   ],
   "source": [
    "y_predict_test = np.where(grid.predict_proba(X_test) >= thresholds[i], 1, 0)\n",
    "y_predict_train = np.where(grid.predict_proba(X_train) >= thresholds[i], 1, 0)\n",
    "print('After the Precision - Recall post processing: ')\n",
    "print('Precision: ', precision_score(y_train, y_predict_train[:,1]))\n",
    "print('Recall: ', recall_score(y_test,y_predict_test[:,1]))"
   ]
  },
  {
   "cell_type": "code",
   "execution_count": 218,
   "metadata": {},
   "outputs": [
    {
     "data": {
      "image/png": "[encoded data removed]",
      "text/plain": [
       "<Figure size 1440x360 with 1 Axes>"
      ]
     },
     "metadata": {
      "needs_background": "light"
     },
     "output_type": "display_data"
    }
   ],
   "source": [
    "fpr, tpr, thresholds = roc_curve(y_test, grid.predict_proba(X_test)[:,1])\n",
    "\n",
    "i = np.argmin(np.abs(tpr - 0.4))\n",
    "\n",
    "plt.subplots(figsize = (20,5))\n",
    "plt.plot(fpr, tpr, label=\"ROC Curve\")\n",
    "plt.xlabel(\"FPR\")\n",
    "plt.ylabel(\"TPR (recall)\")\n",
    "\n",
    "plt.plot(fpr[i], tpr[i], 'o', markersize=10,\n",
    "label=\"threshold zero\", fillstyle=\"none\", c='k', mew=2)\n",
    "plt.legend(loc=4)\n",
    "plt.grid()"
   ]
  },
  {
   "cell_type": "code",
   "execution_count": 219,
   "metadata": {},
   "outputs": [
    {
     "name": "stdout",
     "output_type": "stream",
     "text": [
      "After the ROC-AUC post processing: \n",
      "Precision:  0.03636363636363636\n",
      "Recall:  0.36363636363636365\n",
      "F1-score:  0.06611570247933883\n",
      "ROC Score:  0.5888357256778309\n"
     ]
    }
   ],
   "source": [
    "y_predict_test = np.where(grid.predict_proba(X_test) >= thresholds[i], 1, 0)\n",
    "y_predict_train = np.where(grid.predict_proba(X_train) >= thresholds[i], 1, 0)\n",
    "print('After the ROC-AUC post processing: ')\n",
    "print('Precision: ', precision_score(y_test,y_predict_test[:,1]))\n",
    "print('Recall: ', recall_score(y_test,y_predict_test[:,1]))\n",
    "print('F1-score: ', f1_score(y_test,y_predict_test[:,1]))\n",
    "print('ROC Score: ', roc_auc_score(y_test,y_predict_test[:,1]))"
   ]
  },
  {
   "cell_type": "markdown",
   "metadata": {},
   "source": [
    "## 2) Logistic Regression"
   ]
  },
  {
   "cell_type": "code",
   "execution_count": 189,
   "metadata": {},
   "outputs": [
    {
     "name": "stdout",
     "output_type": "stream",
     "text": [
      "Best parameters: {'C': 0.01, 'max_iter': 1000, 'penalty': 'l2', 'solver': 'lbfgs'}\n",
      "Best cross-validation score: 0.79\n"
     ]
    }
   ],
   "source": [
    "from sklearn.linear_model import LogisticRegression\n",
    "c_range = [0.001, 0.01, 0.1, 1, 10, 100, 1000]\n",
    "penalty = ['l2']\n",
    "solver = ['liblinear','lbfgs']\n",
    "param_grid = dict(C = c_range ,penalty = penalty,solver = solver ,max_iter = [1000])\n",
    "grid_search_log = GridSearchCV(LogisticRegression(class_weight='balanced'),param_grid, cv=5, scoring = 'roc_auc',refit=True )\n",
    "grid_search_log.fit(X_train, y_train)\n",
    "print(\"Best parameters: {}\".format(grid_search.best_params_))\n",
    "print(\"Best cross-validation score: {:.2f}\".format(grid_search.best_score_))"
   ]
  },
  {
   "cell_type": "code",
   "execution_count": 190,
   "metadata": {},
   "outputs": [
    {
     "name": "stdout",
     "output_type": "stream",
     "text": [
      "[[425 145]\n",
      " [  5   6]]\n",
      "              precision    recall  f1-score   support\n",
      "\n",
      "           0       0.99      0.75      0.85       570\n",
      "           1       0.04      0.55      0.07        11\n",
      "\n",
      "    accuracy                           0.74       581\n",
      "   macro avg       0.51      0.65      0.46       581\n",
      "weighted avg       0.97      0.74      0.84       581\n",
      "\n",
      "ROC_AUC Score for Logistic Regression:  0.65\n"
     ]
    }
   ],
   "source": [
    "pred_log = grid_search_log.predict(X_test)\n",
    "from sklearn.metrics import classification_report\n",
    "from sklearn.metrics import accuracy_score\n",
    "from sklearn.metrics import confusion_matrix\n",
    "print(confusion_matrix(y_test, pred_log))\n",
    "print(classification_report(y_test, pred_log))\n",
    "from sklearn.metrics import roc_auc_score\n",
    "print(\"ROC_AUC Score for Logistic Regression:  {:.2f}\".format(roc_auc_score(y_test, pred_log)))"
   ]
  },
  {
   "cell_type": "code",
   "execution_count": 191,
   "metadata": {},
   "outputs": [
    {
     "data": {
      "image/png": "[encoded data removed]",
      "text/plain": [
       "<Figure size 720x360 with 1 Axes>"
      ]
     },
     "metadata": {
      "needs_background": "light"
     },
     "output_type": "display_data"
    }
   ],
   "source": [
    "# Recall - Precision Graph\n",
    "plt.subplots(figsize = (10,5))\n",
    "precision, recall, thresholds = precision_recall_curve(y_test, grid_search_log.predict_proba(X_test)[:, 1])\n",
    "close_zero = np.argmin(np.abs(thresholds - 0.5))\n",
    "\n",
    "plt.plot(precision[close_zero], recall[close_zero], 'o', markersize=10,\n",
    "         label=\"threshold zero\", fillstyle=\"none\", c='k', mew=2)\n",
    "\n",
    "plt.plot(precision, recall, label=\"precision recall curve\")\n",
    "plt.xlabel(\"Precision\")\n",
    "plt.ylabel(\"Recall\")\n",
    "plt.legend(loc=\"best\")\n",
    "plt.grid()"
   ]
  },
  {
   "cell_type": "code",
   "execution_count": 192,
   "metadata": {},
   "outputs": [
    {
     "name": "stdout",
     "output_type": "stream",
     "text": [
      "Before the post processing: \n",
      "Precision:  0.05569620253164557\n",
      "Recall:  0.5454545454545454\n"
     ]
    }
   ],
   "source": [
    "y_predict_test = np.where(grid_search_log.predict_proba(X_test) >= thresholds[close_zero], 1, 0)\n",
    "y_predict_train = np.where(grid_search_log.predict_proba(X_train) >= thresholds[close_zero], 1, 0)\n",
    "print('Before the post processing: ')\n",
    "print('Precision: ', precision_score(y_train, y_predict_train[:,1]))\n",
    "print('Recall: ', recall_score(y_test,y_predict_test[:,1]))"
   ]
  },
  {
   "cell_type": "code",
   "execution_count": 193,
   "metadata": {},
   "outputs": [
    {
     "data": {
      "image/png": "[encoded data removed]",
      "text/plain": [
       "<Figure size 1440x360 with 1 Axes>"
      ]
     },
     "metadata": {
      "needs_background": "light"
     },
     "output_type": "display_data"
    }
   ],
   "source": [
    "# ROC - AUC curve\n",
    "fpr, tpr, thresholds = roc_curve(y_test, grid_search_log.predict_proba(X_test)[:,1])\n",
    "\n",
    "plt.subplots(figsize = (20,5))\n",
    "plt.plot(fpr, tpr, label=\"ROC Curve\")\n",
    "plt.xlabel(\"FPR\")\n",
    "plt.ylabel(\"TPR (recall)\")\n",
    "\n",
    "# find threshold closest to zero\n",
    "i = np.argmin(np.abs(thresholds-0.5))\n",
    "plt.plot(fpr[i], tpr[i], 'o', markersize=10,\n",
    "label=\"threshold zero\", fillstyle=\"none\", c='k', mew=2)\n",
    "plt.legend(loc=4)\n",
    "plt.grid()"
   ]
  },
  {
   "cell_type": "code",
   "execution_count": 195,
   "metadata": {},
   "outputs": [
    {
     "name": "stdout",
     "output_type": "stream",
     "text": [
      "Before the ROC-AUC post processing: \n",
      "Precision:  0.04878048780487805\n",
      "Recall:  0.5454545454545454\n",
      "F1-score:  0.08955223880597014\n",
      "ROC Score:  0.6700956937799043\n"
     ]
    }
   ],
   "source": [
    "y_predict_test = np.where(grid_search_log.predict_proba(X_test) >= thresholds[i], 1, 0)\n",
    "y_predict_train = np.where(grid_search_log.predict_proba(X_train) >= thresholds[i], 1, 0)\n",
    "print('Before the ROC-AUC post processing: ')\n",
    "print('Precision: ', precision_score(y_test,y_predict_test[:,1]))\n",
    "print('Recall: ', recall_score(y_test,y_predict_test[:,1]))\n",
    "print('F1-score: ', f1_score(y_test,y_predict_test[:,1]))\n",
    "print('ROC Score: ', roc_auc_score(y_test,y_predict_test[:,1]))"
   ]
  },
  {
   "cell_type": "code",
   "execution_count": 197,
   "metadata": {},
   "outputs": [
    {
     "name": "stdout",
     "output_type": "stream",
     "text": [
      "Accuracy of the Model:  0.7418244406196214 \n",
      "\n",
      "Confusion Matrix of the Model:\n",
      " [[425 145]\n",
      " [  5   6]] \n",
      "\n",
      "Classification Report of the Model:\n",
      "               precision    recall  f1-score   support\n",
      "\n",
      "           0       0.99      0.75      0.85       570\n",
      "           1       0.04      0.55      0.07        11\n",
      "\n",
      "    accuracy                           0.74       581\n",
      "   macro avg       0.51      0.65      0.46       581\n",
      "weighted avg       0.97      0.74      0.84       581\n",
      "\n"
     ]
    }
   ],
   "source": [
    "print('Accuracy of the Model: ', accuracy_score(y_test, pred_log), '\\n')\n",
    "print('Confusion Matrix of the Model:\\n', confusion_matrix(y_test, pred_log), '\\n')\n",
    "print('Classification Report of the Model:\\n', classification_report(y_test, pred_log))"
   ]
  },
  {
   "cell_type": "markdown",
   "metadata": {},
   "source": [
    "**Post Preprocessing**"
   ]
  },
  {
   "cell_type": "code",
   "execution_count": 199,
   "metadata": {},
   "outputs": [
    {
     "data": {
      "image/png": "[encoded data removed]",
      "text/plain": [
       "<Figure size 720x360 with 1 Axes>"
      ]
     },
     "metadata": {
      "needs_background": "light"
     },
     "output_type": "display_data"
    }
   ],
   "source": [
    "# Recall - Precision Graph\n",
    "plt.subplots(figsize = (10,5))\n",
    "precision, recall, thresholds = precision_recall_curve(y_test, grid_search_log.predict_proba(X_test)[:, 1])\n",
    "\n",
    "i = np.argmin(np.abs(recall - 0.3))\n",
    "\n",
    "plt.plot(precision[i], recall[i], 'o', markersize=10,\n",
    "         label=\"threshold zero\", fillstyle=\"none\", c='k', mew=2)\n",
    "\n",
    "plt.plot(precision, recall, label=\"precision recall curve\")\n",
    "plt.xlabel(\"Precision\")\n",
    "plt.ylabel(\"Recall\")\n",
    "plt.legend(loc=\"best\")\n",
    "plt.grid()"
   ]
  },
  {
   "cell_type": "code",
   "execution_count": 200,
   "metadata": {},
   "outputs": [
    {
     "name": "stdout",
     "output_type": "stream",
     "text": [
      "After the Precision - Recall post processing: \n",
      "Precision:  0.08695652173913043\n",
      "Recall:  0.2727272727272727\n"
     ]
    }
   ],
   "source": [
    "y_predict_test = np.where(grid_search_log.predict_proba(X_test) >= thresholds[i], 1, 0)\n",
    "y_predict_train = np.where(grid_search_log.predict_proba(X_train) >= thresholds[i], 1, 0)\n",
    "print('After the Precision - Recall post processing: ')\n",
    "print('Precision: ', precision_score(y_train, y_predict_train[:,1]))\n",
    "print('Recall: ', recall_score(y_test,y_predict_test[:,1]))"
   ]
  },
  {
   "cell_type": "code",
   "execution_count": 214,
   "metadata": {},
   "outputs": [
    {
     "data": {
      "image/png": "[encoded data removed]",
      "text/plain": [
       "<Figure size 1440x360 with 1 Axes>"
      ]
     },
     "metadata": {
      "needs_background": "light"
     },
     "output_type": "display_data"
    }
   ],
   "source": [
    "fpr, tpr, thresholds = roc_curve(y_test, grid_search_log.predict_proba(X_test)[:,1])\n",
    "\n",
    "i = np.argmin(np.abs(tpr - 0.55))\n",
    "\n",
    "plt.subplots(figsize = (20,5))\n",
    "plt.plot(fpr, tpr, label=\"ROC Curve\")\n",
    "plt.xlabel(\"FPR\")\n",
    "plt.ylabel(\"TPR (recall)\")\n",
    "\n",
    "plt.plot(fpr[i], tpr[i], 'o', markersize=10,\n",
    "label=\"threshold zero\", fillstyle=\"none\", c='k', mew=2)\n",
    "plt.legend(loc=4)\n",
    "plt.grid()"
   ]
  },
  {
   "cell_type": "code",
   "execution_count": 215,
   "metadata": {},
   "outputs": [
    {
     "name": "stdout",
     "output_type": "stream",
     "text": [
      "After the ROC-AUC post processing: \n",
      "Precision:  0.04878048780487805\n",
      "Recall:  0.5454545454545454\n",
      "F1-score:  0.08955223880597014\n",
      "ROC Score:  0.6700956937799043\n"
     ]
    }
   ],
   "source": [
    "y_predict_test = np.where(grid_search_log.predict_proba(X_test) >= thresholds[i], 1, 0)\n",
    "y_predict_train = np.where(grid_search_log.predict_proba(X_train) >= thresholds[i], 1, 0)\n",
    "print('After the ROC-AUC post processing: ')\n",
    "print('Precision: ', precision_score(y_test,y_predict_test[:,1]))\n",
    "print('Recall: ', recall_score(y_test,y_predict_test[:,1]))\n",
    "print('F1-score: ', f1_score(y_test,y_predict_test[:,1]))\n",
    "print('ROC Score: ', roc_auc_score(y_test,y_predict_test[:,1]))"
   ]
  },
  {
   "cell_type": "markdown",
   "metadata": {},
   "source": [
    "## 3) Linear SVC"
   ]
  },
  {
   "cell_type": "code",
   "execution_count": 230,
   "metadata": {},
   "outputs": [
    {
     "name": "stdout",
     "output_type": "stream",
     "text": [
      "Parameter Grid:  {'C': [0.001, 0.01, 0.1, 1, 10, 100]}\n",
      "Best Hyperparameter for Linear SVC:  {'C': 0.01}\n",
      "Best cross-Validation Score:  0.7246125161027865\n"
     ]
    }
   ],
   "source": [
    "from sklearn.svm import LinearSVC\n",
    "lsvc = LinearSVC()\n",
    "param_grid = {'C': [0.001, 0.01, 0.1, 1, 10, 100]}\n",
    "print('Parameter Grid: ', param_grid)\n",
    "linear_svc = GridSearchCV(LinearSVC(), param_grid, cv = 5,return_train_score=True, scoring = 'roc_auc')\n",
    "linear_svc.fit(X_train, y_train)\n",
    "print('Best Hyperparameter for Linear SVC: ', linear_svc_grid.best_params_)\n",
    "print('Best cross-Validation Score: ', linear_svc_grid.best_score_)"
   ]
  },
  {
   "cell_type": "code",
   "execution_count": 232,
   "metadata": {},
   "outputs": [
    {
     "name": "stdout",
     "output_type": "stream",
     "text": [
      "0.9810671256454389\n",
      "[[570   0]\n",
      " [ 11   0]]\n",
      "              precision    recall  f1-score   support\n",
      "\n",
      "           0       0.98      1.00      0.99       570\n",
      "           1       0.00      0.00      0.00        11\n",
      "\n",
      "    accuracy                           0.98       581\n",
      "   macro avg       0.49      0.50      0.50       581\n",
      "weighted avg       0.96      0.98      0.97       581\n",
      "\n",
      "Roc Auc Score for Linear SVC:  0.50\n"
     ]
    }
   ],
   "source": [
    "y_pred = linear_svc.predict(X_test)\n",
    "print(accuracy_score(y_test, y_pred))\n",
    "print(confusion_matrix(y_test, y_pred))\n",
    "print(classification_report(y_test, y_pred))\n",
    "print(\"Roc Auc Score for Linear SVC:  {:.2f}\".format(roc_auc_score(y_test, y_pred)))"
   ]
  },
  {
   "cell_type": "code",
   "execution_count": 233,
   "metadata": {},
   "outputs": [
    {
     "data": {
      "image/png": "[encoded data removed]",
      "text/plain": [
       "<Figure size 720x360 with 1 Axes>"
      ]
     },
     "metadata": {
      "needs_background": "light"
     },
     "output_type": "display_data"
    }
   ],
   "source": [
    "# Recall - Precision Graph\n",
    "plt.subplots(figsize = (10,5))\n",
    "precision, recall, thresholds = precision_recall_curve(y_test, linear_svc.decision_function(X_test))\n",
    "\n",
    "close_zero = np.argmin(np.abs(thresholds - 0.5))\n",
    "\n",
    "plt.plot(precision[close_zero], recall[close_zero], 'o', markersize=10,\n",
    "         label=\"threshold zero\", fillstyle=\"none\", c='k', mew=2)\n",
    "\n",
    "plt.plot(precision, recall, label=\"precision recall curve\")\n",
    "plt.xlabel(\"Precision\")\n",
    "plt.ylabel(\"Recall\")\n",
    "plt.legend(loc=\"best\")\n",
    "plt.grid()"
   ]
  },
  {
   "cell_type": "code",
   "execution_count": 234,
   "metadata": {},
   "outputs": [
    {
     "name": "stdout",
     "output_type": "stream",
     "text": [
      "Before the post processing: \n",
      "Precision:  0.0\n",
      "Recall:  0.0\n"
     ]
    }
   ],
   "source": [
    "y_predict_test = np.where(linear_svc.decision_function(X_test) >= thresholds[close_zero], 1, 0)\n",
    "y_predict_train = np.where(linear_svc.decision_function(X_train) >= thresholds[close_zero], 1, 0)\n",
    "print('Before the post processing: ')\n",
    "print('Precision: ', precision_score(y_test, y_predict_test))\n",
    "print('Recall: ', recall_score(y_test,y_predict_test))"
   ]
  },
  {
   "cell_type": "code",
   "execution_count": 235,
   "metadata": {},
   "outputs": [
    {
     "data": {
      "image/png": "[encoded data removed]",
      "text/plain": [
       "<Figure size 1440x360 with 1 Axes>"
      ]
     },
     "metadata": {
      "needs_background": "light"
     },
     "output_type": "display_data"
    }
   ],
   "source": [
    "fpr, tpr, thresholds = roc_curve(y_test, linear_svc.decision_function(X_test))\n",
    "\n",
    "plt.subplots(figsize = (20,5))\n",
    "plt.plot(fpr, tpr, label=\"ROC Curve\")\n",
    "plt.xlabel(\"FPR\")\n",
    "plt.ylabel(\"TPR (recall)\")\n",
    "\n",
    "# find threshold closest to zero\n",
    "i = np.argmin(np.abs(thresholds-0.5))\n",
    "plt.plot(fpr[i], tpr[i], 'o', markersize=10,\n",
    "label=\"threshold zero\", fillstyle=\"none\", c='k', mew=2)\n",
    "plt.legend(loc=4)\n",
    "plt.grid()"
   ]
  },
  {
   "cell_type": "code",
   "execution_count": 236,
   "metadata": {},
   "outputs": [
    {
     "name": "stdout",
     "output_type": "stream",
     "text": [
      "Before the ROC-AUC post processing: \n",
      "Precision:  0.0\n",
      "Recall:  0.0\n",
      "F1-score:  0.0\n",
      "ROC-AUC Score:  0.5\n"
     ]
    }
   ],
   "source": [
    "y_predict_test = np.where(linear_svc.decision_function(X_test) >= thresholds[i], 1, 0)\n",
    "y_predict_train = np.where(linear_svc.decision_function(X_train) >= thresholds[i], 1, 0)\n",
    "print('Before the ROC-AUC post processing: ')\n",
    "print('Precision: ', precision_score(y_test,y_predict_test))\n",
    "print('Recall: ', recall_score(y_test,y_predict_test))\n",
    "print('F1-score: ', f1_score(y_test,y_predict_test))\n",
    "print('ROC-AUC Score: ', roc_auc_score(y_test, y_predict_test))"
   ]
  },
  {
   "cell_type": "markdown",
   "metadata": {},
   "source": [
    "**Post Preprocessing**"
   ]
  },
  {
   "cell_type": "code",
   "execution_count": 262,
   "metadata": {},
   "outputs": [
    {
     "data": {
      "image/png": "[encoded data removed]",
      "text/plain": [
       "<Figure size 720x360 with 1 Axes>"
      ]
     },
     "metadata": {
      "needs_background": "light"
     },
     "output_type": "display_data"
    }
   ],
   "source": [
    "# Recall - Precision Graph\n",
    "plt.subplots(figsize = (10,5))\n",
    "precision, recall, thresholds = precision_recall_curve(y_test, linear_svc.decision_function(X_test))\n",
    "\n",
    "i = np.argmin(np.abs(recall - 0.4))\n",
    "\n",
    "plt.plot(precision[i], recall[i], 'o', markersize=10,\n",
    "         label=\"threshold zero\", fillstyle=\"none\", c='k', mew=2)\n",
    "\n",
    "plt.plot(precision, recall, label=\"precision recall curve\")\n",
    "plt.xlabel(\"Precision\")\n",
    "plt.ylabel(\"Recall\")\n",
    "plt.legend(loc=\"best\")\n",
    "plt.grid()"
   ]
  },
  {
   "cell_type": "code",
   "execution_count": 263,
   "metadata": {},
   "outputs": [
    {
     "name": "stdout",
     "output_type": "stream",
     "text": [
      "After the Precision - Recall post processing: \n",
      "Precision:  0.05333333333333334\n",
      "Recall:  0.36363636363636365\n"
     ]
    }
   ],
   "source": [
    "y_predict_test = np.where(linear_svc.decision_function(X_test) >= thresholds[i], 1, 0)\n",
    "y_predict_train = np.where(linear_svc.decision_function(X_train) >= thresholds[i], 1, 0)\n",
    "print('After the Precision - Recall post processing: ')\n",
    "print('Precision: ', precision_score(y_train, y_predict_train))\n",
    "print('Recall: ', recall_score(y_test,y_predict_test))"
   ]
  },
  {
   "cell_type": "code",
   "execution_count": 272,
   "metadata": {},
   "outputs": [
    {
     "data": {
      "image/png": "[encoded data removed]",
      "text/plain": [
       "<Figure size 1440x360 with 1 Axes>"
      ]
     },
     "metadata": {
      "needs_background": "light"
     },
     "output_type": "display_data"
    }
   ],
   "source": [
    "fpr, tpr, thresholds = roc_curve(y_test, linear_svc_grid.decision_function(X_test))\n",
    "\n",
    "i = np.argmin(np.abs(tpr - 0.55))\n",
    "\n",
    "plt.subplots(figsize = (20,5))\n",
    "plt.plot(fpr, tpr, label=\"ROC Curve\")\n",
    "plt.xlabel(\"FPR\")\n",
    "plt.ylabel(\"TPR (recall)\")\n",
    "\n",
    "plt.plot(fpr[i], tpr[i], 'o', markersize=10,\n",
    "label=\"threshold zero\", fillstyle=\"none\", c='k', mew=2)\n",
    "plt.legend(loc=4)\n",
    "plt.grid()"
   ]
  },
  {
   "cell_type": "code",
   "execution_count": 273,
   "metadata": {},
   "outputs": [
    {
     "name": "stdout",
     "output_type": "stream",
     "text": [
      "After the ROC-AUC post processing: \n",
      "Precision:  0.0379746835443038\n",
      "Recall:  0.5454545454545454\n",
      "F1-score:  0.07100591715976332\n",
      "ROC AUC Score:  0.6393939393939394\n"
     ]
    }
   ],
   "source": [
    "y_predict_test = np.where(linear_svc_grid.decision_function(X_test) >= thresholds[i], 1, 0)\n",
    "y_predict_train = np.where(linear_svc_grid.decision_function(X_train) >= thresholds[i], 1, 0)\n",
    "print('After the ROC-AUC post processing: ')\n",
    "print('Precision: ', precision_score(y_test,y_predict_test))\n",
    "print('Recall: ', recall_score(y_test,y_predict_test))\n",
    "print('F1-score: ', f1_score(y_test,y_predict_test))\n",
    "print('ROC AUC Score: ', roc_auc_score(y_test, y_predict_test))"
   ]
  },
  {
   "cell_type": "markdown",
   "metadata": {},
   "source": [
    "## 4) SVC(kernel = 'linear')"
   ]
  },
  {
   "cell_type": "code",
   "execution_count": 284,
   "metadata": {},
   "outputs": [
    {
     "name": "stdout",
     "output_type": "stream",
     "text": [
      "Best parameters: {'C': 0.001, 'kernel': 'linear'}\n",
      "Best cross-validation score: 0.61\n"
     ]
    }
   ],
   "source": [
    "param_linear = dict(kernel=['linear'], C=[0.001, 0.01, 0.1, 1, 10, 100])\n",
    "grid_linear = GridSearchCV(SVC(), param_linear, cv=5, scoring='roc_auc',return_train_score=True,)\n",
    "grid_linear.fit(X_train, y_train)\n",
    "print(\"Best parameters: {}\".format(grid_poly.best_params_))\n",
    "print(\"Best cross-validation score: {:.2f}\".format(grid_poly.best_score_))"
   ]
  },
  {
   "cell_type": "code",
   "execution_count": 285,
   "metadata": {},
   "outputs": [
    {
     "name": "stdout",
     "output_type": "stream",
     "text": [
      "[[570   0]\n",
      " [ 11   0]]\n",
      "              precision    recall  f1-score   support\n",
      "\n",
      "           0       0.98      1.00      0.99       570\n",
      "           1       0.00      0.00      0.00        11\n",
      "\n",
      "    accuracy                           0.98       581\n",
      "   macro avg       0.49      0.50      0.50       581\n",
      "weighted avg       0.96      0.98      0.97       581\n",
      "\n",
      "ROC_AUC Score for SVC Classifier:  0.50\n"
     ]
    }
   ],
   "source": [
    "pred_knn = grid_linear.predict(X_test)\n",
    "from sklearn.metrics import classification_report\n",
    "from sklearn.metrics import accuracy_score\n",
    "from sklearn.metrics import confusion_matrix\n",
    "print(confusion_matrix(y_test, pred_knn))\n",
    "print(classification_report(y_test, pred_knn))\n",
    "from sklearn.metrics import roc_auc_score\n",
    "print(\"ROC_AUC Score for SVC Classifier:  {:.2f}\".format(roc_auc_score(y_test, pred_knn)))"
   ]
  },
  {
   "cell_type": "code",
   "execution_count": 286,
   "metadata": {},
   "outputs": [
    {
     "data": {
      "image/png": "[encoded data removed]",
      "text/plain": [
       "<Figure size 720x360 with 1 Axes>"
      ]
     },
     "metadata": {
      "needs_background": "light"
     },
     "output_type": "display_data"
    }
   ],
   "source": [
    "# Recall - Precision Graph\n",
    "plt.subplots(figsize = (10,5))\n",
    "precision, recall, thresholds = precision_recall_curve(y_test, grid_linear.decision_function(X_test))\n",
    "\n",
    "close_zero = np.argmin(np.abs(thresholds - 0.5))\n",
    "\n",
    "plt.plot(precision[close_zero], recall[close_zero], 'o', markersize=10,\n",
    "         label=\"threshold zero\", fillstyle=\"none\", c='k', mew=2)\n",
    "\n",
    "plt.plot(precision, recall, label=\"precision recall curve\")\n",
    "plt.xlabel(\"Precision\")\n",
    "plt.ylabel(\"Recall\")\n",
    "plt.legend(loc=\"best\")\n",
    "plt.grid()"
   ]
  },
  {
   "cell_type": "code",
   "execution_count": 287,
   "metadata": {},
   "outputs": [
    {
     "name": "stdout",
     "output_type": "stream",
     "text": [
      "Before the post processing: \n",
      "Precision:  0.0\n",
      "Recall:  0.0\n"
     ]
    }
   ],
   "source": [
    "y_predict_test = np.where(grid_linear.decision_function(X_test) >= thresholds[close_zero], 1, 0)\n",
    "y_predict_train = np.where(grid_poly.decision_function(X_train) >= thresholds[close_zero], 1, 0)\n",
    "print('Before the post processing: ')\n",
    "print('Precision: ', precision_score(y_test, y_predict_test))\n",
    "print('Recall: ', recall_score(y_test,y_predict_test))"
   ]
  },
  {
   "cell_type": "code",
   "execution_count": 288,
   "metadata": {},
   "outputs": [
    {
     "data": {
      "image/png": "[encoded data removed]",
      "text/plain": [
       "<Figure size 1440x360 with 1 Axes>"
      ]
     },
     "metadata": {
      "needs_background": "light"
     },
     "output_type": "display_data"
    }
   ],
   "source": [
    "fpr, tpr, thresholds = roc_curve(y_test, grid_linear.decision_function(X_test))\n",
    "\n",
    "plt.subplots(figsize = (20,5))\n",
    "plt.plot(fpr, tpr, label=\"ROC Curve\")\n",
    "plt.xlabel(\"FPR\")\n",
    "plt.ylabel(\"TPR (recall)\")\n",
    "\n",
    "# find threshold closest to zero\n",
    "i = np.argmin(np.abs(thresholds-0.5))\n",
    "plt.plot(fpr[i], tpr[i], 'o', markersize=10,\n",
    "label=\"threshold zero\", fillstyle=\"none\", c='k', mew=2)\n",
    "plt.legend(loc=4)\n",
    "plt.grid()"
   ]
  },
  {
   "cell_type": "code",
   "execution_count": 289,
   "metadata": {},
   "outputs": [
    {
     "name": "stdout",
     "output_type": "stream",
     "text": [
      "Before the ROC-AUC post processing: \n",
      "Precision:  0.0\n",
      "Recall:  0.0\n",
      "F1-score:  0.0\n",
      "ROC-AUC Score:  0.5\n"
     ]
    }
   ],
   "source": [
    "y_predict_test = np.where(grid_linear.decision_function(X_test) >= thresholds[i], 1, 0)\n",
    "y_predict_train = np.where(grid_linear.decision_function(X_train) >= thresholds[i], 1, 0)\n",
    "print('Before the ROC-AUC post processing: ')\n",
    "print('Precision: ', precision_score(y_test,y_predict_test))\n",
    "print('Recall: ', recall_score(y_test,y_predict_test))\n",
    "print('F1-score: ', f1_score(y_test,y_predict_test))\n",
    "print('ROC-AUC Score: ', roc_auc_score(y_test, y_predict_test))"
   ]
  },
  {
   "cell_type": "markdown",
   "metadata": {},
   "source": [
    "**Post Preprocessing**"
   ]
  },
  {
   "cell_type": "code",
   "execution_count": 294,
   "metadata": {},
   "outputs": [
    {
     "data": {
      "image/png": "[encoded data removed]",
      "text/plain": [
       "<Figure size 720x360 with 1 Axes>"
      ]
     },
     "metadata": {
      "needs_background": "light"
     },
     "output_type": "display_data"
    }
   ],
   "source": [
    "# Recall - Precision Graph\n",
    "plt.subplots(figsize = (10,5))\n",
    "precision, recall, thresholds = precision_recall_curve(y_test, grid_linear.decision_function(X_test))\n",
    "\n",
    "i = np.argmin(np.abs(recall - 0.38))\n",
    "\n",
    "plt.plot(precision[i], recall[i], 'o', markersize=10,\n",
    "         label=\"threshold zero\", fillstyle=\"none\", c='k', mew=2)\n",
    "\n",
    "plt.plot(precision, recall, label=\"precision recall curve\")\n",
    "plt.xlabel(\"Precision\")\n",
    "plt.ylabel(\"Recall\")\n",
    "plt.legend(loc=\"best\")\n",
    "plt.grid()"
   ]
  },
  {
   "cell_type": "code",
   "execution_count": 295,
   "metadata": {},
   "outputs": [
    {
     "name": "stdout",
     "output_type": "stream",
     "text": [
      "After the Precision - Recall post processing: \n",
      "Precision:  0.03732809430255403\n",
      "Recall:  0.36363636363636365\n"
     ]
    }
   ],
   "source": [
    "y_predict_test = np.where(grid_linear.decision_function(X_test) >= thresholds[i], 1, 0)\n",
    "y_predict_train = np.where(grid_linear.decision_function(X_train) >= thresholds[i], 1, 0)\n",
    "print('After the Precision - Recall post processing: ')\n",
    "print('Precision: ', precision_score(y_train, y_predict_train))\n",
    "print('Recall: ', recall_score(y_test,y_predict_test))"
   ]
  },
  {
   "cell_type": "code",
   "execution_count": 308,
   "metadata": {},
   "outputs": [
    {
     "data": {
      "image/png": "[encoded data removed]",
      "text/plain": [
       "<Figure size 1440x360 with 1 Axes>"
      ]
     },
     "metadata": {
      "needs_background": "light"
     },
     "output_type": "display_data"
    }
   ],
   "source": [
    "fpr, tpr, thresholds = roc_curve(y_test, grid_linear.decision_function(X_test))\n",
    "\n",
    "i = np.argmin(np.abs(tpr - 0.25))\n",
    "\n",
    "plt.subplots(figsize = (20,5))\n",
    "plt.plot(fpr, tpr, label=\"ROC Curve\")\n",
    "plt.xlabel(\"FPR\")\n",
    "plt.ylabel(\"TPR (recall)\")\n",
    "\n",
    "plt.plot(fpr[i], tpr[i], 'o', markersize=10,\n",
    "label=\"threshold zero\", fillstyle=\"none\", c='k', mew=2)\n",
    "plt.legend(loc=4)\n",
    "plt.grid()"
   ]
  },
  {
   "cell_type": "code",
   "execution_count": 309,
   "metadata": {},
   "outputs": [
    {
     "name": "stdout",
     "output_type": "stream",
     "text": [
      "After the ROC-AUC post processing: \n",
      "Precision:  0.037037037037037035\n",
      "Recall:  0.2727272727272727\n",
      "F1-score:  0.06521739130434782\n",
      "ROC AUC Score:  0.5679425837320574\n"
     ]
    }
   ],
   "source": [
    "y_predict_test = np.where(grid_linear.decision_function(X_test) >= thresholds[i], 1, 0)\n",
    "y_predict_train = np.where(grid_linear.decision_function(X_train) >= thresholds[i], 1, 0)\n",
    "print('After the ROC-AUC post processing: ')\n",
    "print('Precision: ', precision_score(y_test,y_predict_test))\n",
    "print('Recall: ', recall_score(y_test,y_predict_test))\n",
    "print('F1-score: ', f1_score(y_test,y_predict_test))\n",
    "print('ROC AUC Score: ', roc_auc_score(y_test, y_predict_test))"
   ]
  },
  {
   "cell_type": "markdown",
   "metadata": {},
   "source": [
    "## 5) SVC(kernel = 'poly')"
   ]
  },
  {
   "cell_type": "code",
   "execution_count": 311,
   "metadata": {},
   "outputs": [
    {
     "name": "stdout",
     "output_type": "stream",
     "text": [
      "Best parameters: {'C': 0.001, 'kernel': 'poly'}\n",
      "Best cross-validation score: 0.54\n"
     ]
    }
   ],
   "source": [
    "param_poly = dict(kernel=['poly'], C=[0.001, 0.01, 0.1, 1, 10, 100])\n",
    "grid_poly = GridSearchCV(SVC(), param_poly, cv=5, scoring='roc_auc')\n",
    "grid_poly.fit(X_train, y_train)\n",
    "print(\"Best parameters: {}\".format(grid_poly.best_params_))\n",
    "print(\"Best cross-validation score: {:.2f}\".format(grid_poly.best_score_))"
   ]
  },
  {
   "cell_type": "code",
   "execution_count": 312,
   "metadata": {},
   "outputs": [
    {
     "name": "stdout",
     "output_type": "stream",
     "text": [
      "0.9810671256454389\n",
      "[[570   0]\n",
      " [ 11   0]]\n",
      "              precision    recall  f1-score   support\n",
      "\n",
      "           0       0.98      1.00      0.99       570\n",
      "           1       0.00      0.00      0.00        11\n",
      "\n",
      "    accuracy                           0.98       581\n",
      "   macro avg       0.49      0.50      0.50       581\n",
      "weighted avg       0.96      0.98      0.97       581\n",
      "\n",
      "Roc_Auc Score for SVC kernel Poly:  0.50\n"
     ]
    }
   ],
   "source": [
    "y_pred = grid_poly.predict(X_test)\n",
    "print(accuracy_score(y_test, y_pred))\n",
    "print(confusion_matrix(y_test, y_pred))\n",
    "print(classification_report(y_test, y_pred))\n",
    "print(\"Roc_Auc Score for SVC kernel Poly:  {:.2f}\".format(roc_auc_score(y_test, y_pred)))"
   ]
  },
  {
   "cell_type": "code",
   "execution_count": 313,
   "metadata": {},
   "outputs": [
    {
     "data": {
      "image/png": "[encoded data removed]",
      "text/plain": [
       "<Figure size 720x360 with 1 Axes>"
      ]
     },
     "metadata": {
      "needs_background": "light"
     },
     "output_type": "display_data"
    }
   ],
   "source": [
    "# Recall - Precision Graph\n",
    "plt.subplots(figsize = (10,5))\n",
    "precision, recall, thresholds = precision_recall_curve(y_test, grid_poly.decision_function(X_test))\n",
    "\n",
    "close_zero = np.argmin(np.abs(thresholds - 0.5))\n",
    "\n",
    "plt.plot(precision[close_zero], recall[close_zero], 'o', markersize=10,\n",
    "         label=\"threshold zero\", fillstyle=\"none\", c='k', mew=2)\n",
    "\n",
    "plt.plot(precision, recall, label=\"precision recall curve\")\n",
    "plt.xlabel(\"Precision\")\n",
    "plt.ylabel(\"Recall\")\n",
    "plt.legend(loc=\"best\")\n",
    "plt.grid()"
   ]
  },
  {
   "cell_type": "code",
   "execution_count": 315,
   "metadata": {},
   "outputs": [
    {
     "name": "stdout",
     "output_type": "stream",
     "text": [
      "Before the post processing: \n",
      "Precision:  0.0\n",
      "Recall:  0.0\n"
     ]
    }
   ],
   "source": [
    "y_predict_test = np.where(grid_poly.decision_function(X_test) >= thresholds[close_zero], 1, 0)\n",
    "y_predict_train = np.where(grid_poly.decision_function(X_train) >= thresholds[close_zero], 1, 0)\n",
    "print('Before the post processing: ')\n",
    "print('Precision: ', precision_score(y_test, y_predict_test))\n",
    "print('Recall: ', recall_score(y_test,y_predict_test))"
   ]
  },
  {
   "cell_type": "code",
   "execution_count": 316,
   "metadata": {},
   "outputs": [
    {
     "data": {
      "image/png": "[encoded data removed]",
      "text/plain": [
       "<Figure size 1440x360 with 1 Axes>"
      ]
     },
     "metadata": {
      "needs_background": "light"
     },
     "output_type": "display_data"
    }
   ],
   "source": [
    "fpr, tpr, thresholds = roc_curve(y_test, grid_poly.decision_function(X_test))\n",
    "\n",
    "plt.subplots(figsize = (20,5))\n",
    "plt.plot(fpr, tpr, label=\"ROC Curve\")\n",
    "plt.xlabel(\"FPR\")\n",
    "plt.ylabel(\"TPR (recall)\")\n",
    "\n",
    "# find threshold closest to zero\n",
    "i = np.argmin(np.abs(thresholds-0.5))\n",
    "plt.plot(fpr[i], tpr[i], 'o', markersize=10,\n",
    "label=\"threshold zero\", fillstyle=\"none\", c='k', mew=2)\n",
    "plt.legend(loc=4)\n",
    "plt.grid()"
   ]
  },
  {
   "cell_type": "code",
   "execution_count": 317,
   "metadata": {},
   "outputs": [
    {
     "name": "stdout",
     "output_type": "stream",
     "text": [
      "Before the ROC-AUC post processing: \n",
      "Precision:  0.0\n",
      "Recall:  0.0\n",
      "F1-score:  0.0\n",
      "ROC-AUC Score:  0.5\n"
     ]
    }
   ],
   "source": [
    "y_predict_test = np.where(grid_poly.decision_function(X_test) >= thresholds[i], 1, 0)\n",
    "y_predict_train = np.where(grid_poly.decision_function(X_train) >= thresholds[i], 1, 0)\n",
    "print('Before the ROC-AUC post processing: ')\n",
    "print('Precision: ', precision_score(y_test,y_predict_test))\n",
    "print('Recall: ', recall_score(y_test,y_predict_test))\n",
    "print('F1-score: ', f1_score(y_test,y_predict_test))\n",
    "print('ROC-AUC Score: ', roc_auc_score(y_test, y_predict_test))"
   ]
  },
  {
   "cell_type": "markdown",
   "metadata": {},
   "source": [
    "**Post Preprocessing**"
   ]
  },
  {
   "cell_type": "code",
   "execution_count": 322,
   "metadata": {},
   "outputs": [
    {
     "data": {
      "image/png": "[encoded data removed]",
      "text/plain": [
       "<Figure size 720x360 with 1 Axes>"
      ]
     },
     "metadata": {
      "needs_background": "light"
     },
     "output_type": "display_data"
    }
   ],
   "source": [
    "# Recall - Precision Graph\n",
    "plt.subplots(figsize = (10,5))\n",
    "precision, recall, thresholds = precision_recall_curve(y_test, grid_poly.decision_function(X_test))\n",
    "\n",
    "i = np.argmin(np.abs(recall - 0.4))\n",
    "\n",
    "plt.plot(precision[i], recall[i], 'o', markersize=10,\n",
    "         label=\"threshold zero\", fillstyle=\"none\", c='k', mew=2)\n",
    "\n",
    "plt.plot(precision, recall, label=\"precision recall curve\")\n",
    "plt.xlabel(\"Precision\")\n",
    "plt.ylabel(\"Recall\")\n",
    "plt.legend(loc=\"best\")\n",
    "plt.grid()"
   ]
  },
  {
   "cell_type": "code",
   "execution_count": 323,
   "metadata": {},
   "outputs": [
    {
     "name": "stdout",
     "output_type": "stream",
     "text": [
      "After the Precision - Recall post processing: \n",
      "Precision:  0.025\n",
      "Recall:  0.36363636363636365\n"
     ]
    }
   ],
   "source": [
    "y_predict_test = np.where(grid_poly.decision_function(X_test) >= thresholds[i], 1, 0)\n",
    "y_predict_train = np.where(grid_poly.decision_function(X_train) >= thresholds[i], 1, 0)\n",
    "print('After the Precision - Recall post processing: ')\n",
    "print('Precision: ', precision_score(y_train, y_predict_train))\n",
    "print('Recall: ', recall_score(y_test,y_predict_test))"
   ]
  },
  {
   "cell_type": "code",
   "execution_count": 339,
   "metadata": {},
   "outputs": [
    {
     "data": {
      "image/png": "[encoded data removed]",
      "text/plain": [
       "<Figure size 1440x360 with 1 Axes>"
      ]
     },
     "metadata": {
      "needs_background": "light"
     },
     "output_type": "display_data"
    }
   ],
   "source": [
    "fpr, tpr, thresholds = roc_curve(y_test, grid_poly.decision_function(X_test))\n",
    "\n",
    "i = np.argmin(np.abs(tpr - 0.5))\n",
    "\n",
    "plt.subplots(figsize = (20,5))\n",
    "plt.plot(fpr, tpr, label=\"ROC Curve\")\n",
    "plt.xlabel(\"FPR\")\n",
    "plt.ylabel(\"TPR (recall)\")\n",
    "\n",
    "plt.plot(fpr[i], tpr[i], 'o', markersize=10,\n",
    "label=\"threshold zero\", fillstyle=\"none\", c='k', mew=2)\n",
    "plt.legend(loc=4)\n",
    "plt.grid()"
   ]
  },
  {
   "cell_type": "code",
   "execution_count": 340,
   "metadata": {},
   "outputs": [
    {
     "name": "stdout",
     "output_type": "stream",
     "text": [
      "After the ROC-AUC post processing: \n",
      "Precision:  0.020134228187919462\n",
      "Recall:  0.5454545454545454\n",
      "F1-score:  0.038834951456310676\n",
      "ROC AUC Score:  0.5165869218500797\n"
     ]
    }
   ],
   "source": [
    "y_predict_test = np.where(grid_poly.decision_function(X_test) >= thresholds[i], 1, 0)\n",
    "y_predict_train = np.where(grid_poly.decision_function(X_train) >= thresholds[i], 1, 0)\n",
    "print('After the ROC-AUC post processing: ')\n",
    "print('Precision: ', precision_score(y_test,y_predict_test))\n",
    "print('Recall: ', recall_score(y_test,y_predict_test))\n",
    "print('F1-score: ', f1_score(y_test,y_predict_test))\n",
    "print('ROC AUC Score: ', roc_auc_score(y_test, y_predict_test))"
   ]
  },
  {
   "cell_type": "markdown",
   "metadata": {},
   "source": [
    "## 6)  SVC (kernel = 'rbf')"
   ]
  },
  {
   "cell_type": "code",
   "execution_count": 343,
   "metadata": {},
   "outputs": [
    {
     "name": "stdout",
     "output_type": "stream",
     "text": [
      "Parameter Grid:  {'C': [0.01, 0.1, 1, 10, 100], 'gamma': [0.01, 0.1, 1, 10, 100]}\n",
      "Best Hyperparameter for SVC(kernel = 'rbf'):  {'C': 1, 'gamma': 100}\n",
      "Best cross-Validation Score:  0.5983320903112076\n"
     ]
    }
   ],
   "source": [
    "param_grid = {'C':[0.01, 0.1, 1, 10, 100], 'gamma':[0.01, 0.1, 1, 10, 100]}\n",
    "print('Parameter Grid: ', param_grid)\n",
    "rbf_kernel_grid = GridSearchCV(SVC(kernel = 'rbf'), param_grid, cv = 5,return_train_score=True, scoring = 'roc_auc')\n",
    "rbf_kernel_grid.fit(X_train, y_train)\n",
    "print(\"Best Hyperparameter for SVC(kernel = 'rbf'): \", rbf_kernel_grid.best_params_)\n",
    "print('Best cross-Validation Score: ', rbf_kernel_grid.best_score_)"
   ]
  },
  {
   "cell_type": "code",
   "execution_count": 344,
   "metadata": {},
   "outputs": [
    {
     "name": "stdout",
     "output_type": "stream",
     "text": [
      "0.9810671256454389\n",
      "[[570   0]\n",
      " [ 11   0]]\n",
      "              precision    recall  f1-score   support\n",
      "\n",
      "           0       0.98      1.00      0.99       570\n",
      "           1       0.00      0.00      0.00        11\n",
      "\n",
      "    accuracy                           0.98       581\n",
      "   macro avg       0.49      0.50      0.50       581\n",
      "weighted avg       0.96      0.98      0.97       581\n",
      "\n",
      "Roc_Auc Score for Linear SVC:  0.50\n"
     ]
    }
   ],
   "source": [
    "y_pred = rbf_kernel_grid.predict(X_test)\n",
    "print(accuracy_score(y_test, y_pred))\n",
    "print(confusion_matrix(y_test, y_pred))\n",
    "print(classification_report(y_test, y_pred))\n",
    "print(\"Roc_Auc Score for Linear SVC:  {:.2f}\".format(roc_auc_score(y_test, y_pred)))"
   ]
  },
  {
   "cell_type": "code",
   "execution_count": 345,
   "metadata": {},
   "outputs": [
    {
     "data": {
      "image/png": "[encoded data removed]",
      "text/plain": [
       "<Figure size 720x360 with 1 Axes>"
      ]
     },
     "metadata": {
      "needs_background": "light"
     },
     "output_type": "display_data"
    }
   ],
   "source": [
    "# Recall - Precision Graph\n",
    "plt.subplots(figsize = (10,5))\n",
    "precision, recall, thresholds = precision_recall_curve(y_test, rbf_kernel_grid.decision_function(X_test))\n",
    "\n",
    "close_zero = np.argmin(np.abs(thresholds - 0.5))\n",
    "\n",
    "plt.plot(precision[close_zero], recall[close_zero], 'o', markersize=10,\n",
    "         label=\"threshold zero\", fillstyle=\"none\", c='k', mew=2)\n",
    "\n",
    "plt.plot(precision, recall, label=\"precision recall curve\")\n",
    "plt.xlabel(\"Precision\")\n",
    "plt.ylabel(\"Recall\")\n",
    "plt.legend(loc=\"best\")\n",
    "plt.grid()"
   ]
  },
  {
   "cell_type": "code",
   "execution_count": 346,
   "metadata": {},
   "outputs": [
    {
     "name": "stdout",
     "output_type": "stream",
     "text": [
      "Before the post processing: \n",
      "Precision:  0.0\n",
      "Recall:  0.0\n"
     ]
    }
   ],
   "source": [
    "y_predict_test = np.where(rbf_kernel_grid.decision_function(X_test) >= thresholds[close_zero], 1, 0)\n",
    "y_predict_train = np.where(rbf_kernel_grid.decision_function(X_train) >= thresholds[close_zero], 1, 0)\n",
    "print('Before the post processing: ')\n",
    "print('Precision: ', precision_score(y_test, y_predict_test))\n",
    "print('Recall: ', recall_score(y_test,y_predict_test))"
   ]
  },
  {
   "cell_type": "code",
   "execution_count": 347,
   "metadata": {},
   "outputs": [
    {
     "data": {
      "image/png": "[encoded data removed]",
      "text/plain": [
       "<Figure size 1440x360 with 1 Axes>"
      ]
     },
     "metadata": {
      "needs_background": "light"
     },
     "output_type": "display_data"
    }
   ],
   "source": [
    "fpr, tpr, thresholds = roc_curve(y_test, rbf_kernel_grid.decision_function(X_test))\n",
    "\n",
    "plt.subplots(figsize = (20,5))\n",
    "plt.plot(fpr, tpr, label=\"ROC Curve\")\n",
    "plt.xlabel(\"FPR\")\n",
    "plt.ylabel(\"TPR (recall)\")\n",
    "\n",
    "# find threshold closest to zero\n",
    "i = np.argmin(np.abs(thresholds-0.5))\n",
    "plt.plot(fpr[i], tpr[i], 'o', markersize=10,\n",
    "label=\"threshold zero\", fillstyle=\"none\", c='k', mew=2)\n",
    "plt.legend(loc=4)\n",
    "plt.grid()"
   ]
  },
  {
   "cell_type": "code",
   "execution_count": 348,
   "metadata": {},
   "outputs": [
    {
     "name": "stdout",
     "output_type": "stream",
     "text": [
      "Before the ROC-AUC post processing: \n",
      "Precision:  0.0\n",
      "Recall:  0.0\n",
      "F1-score:  0.0\n",
      "ROC-AUC Score:  0.5\n"
     ]
    }
   ],
   "source": [
    "y_predict_test = np.where(rbf_kernel_grid.decision_function(X_test) >= thresholds[i], 1, 0)\n",
    "y_predict_train = np.where(rbf_kernel_grid.decision_function(X_train) >= thresholds[i], 1, 0)\n",
    "print('Before the ROC-AUC post processing: ')\n",
    "print('Precision: ', precision_score(y_test,y_predict_test))\n",
    "print('Recall: ', recall_score(y_test,y_predict_test))\n",
    "print('F1-score: ', f1_score(y_test,y_predict_test))\n",
    "print('ROC-AUC Score: ', roc_auc_score(y_test, y_predict_test))"
   ]
  },
  {
   "cell_type": "markdown",
   "metadata": {},
   "source": [
    "**Post Preprocessing**"
   ]
  },
  {
   "cell_type": "code",
   "execution_count": 353,
   "metadata": {},
   "outputs": [
    {
     "data": {
      "image/png": "[encoded data removed]",
      "text/plain": [
       "<Figure size 720x360 with 1 Axes>"
      ]
     },
     "metadata": {
      "needs_background": "light"
     },
     "output_type": "display_data"
    }
   ],
   "source": [
    "# Recall - Precision Graph\n",
    "plt.subplots(figsize = (10,5))\n",
    "precision, recall, thresholds = precision_recall_curve(y_test, rbf_kernel_grid.decision_function(X_test))\n",
    "\n",
    "i = np.argmin(np.abs(recall - 0.4))\n",
    "\n",
    "plt.plot(precision[i], recall[i], 'o', markersize=10,\n",
    "         label=\"threshold zero\", fillstyle=\"none\", c='k', mew=2)\n",
    "\n",
    "plt.plot(precision, recall, label=\"precision recall curve\")\n",
    "plt.xlabel(\"Precision\")\n",
    "plt.ylabel(\"Recall\")\n",
    "plt.legend(loc=\"best\")\n",
    "plt.grid()"
   ]
  },
  {
   "cell_type": "code",
   "execution_count": 354,
   "metadata": {},
   "outputs": [
    {
     "name": "stdout",
     "output_type": "stream",
     "text": [
      "After the Precision - Recall post processing: \n",
      "Precision:  1.0\n",
      "Recall:  0.36363636363636365\n"
     ]
    }
   ],
   "source": [
    "y_predict_test = np.where(rbf_kernel_grid.decision_function(X_test) >= thresholds[i], 1, 0)\n",
    "y_predict_train = np.where(rbf_kernel_grid.decision_function(X_train) >= thresholds[i], 1, 0)\n",
    "print('After the Precision - Recall post processing: ')\n",
    "print('Precision: ', precision_score(y_train, y_predict_train))\n",
    "print('Recall: ', recall_score(y_test,y_predict_test))"
   ]
  },
  {
   "cell_type": "code",
   "execution_count": 355,
   "metadata": {},
   "outputs": [
    {
     "data": {
      "image/png": "[encoded data removed]",
      "text/plain": [
       "<Figure size 1440x360 with 1 Axes>"
      ]
     },
     "metadata": {
      "needs_background": "light"
     },
     "output_type": "display_data"
    }
   ],
   "source": [
    "fpr, tpr, thresholds = roc_curve(y_test, rbf_kernel_grid.decision_function(X_test))\n",
    "\n",
    "i = np.argmin(np.abs(tpr - 0.42))\n",
    "\n",
    "plt.subplots(figsize = (20,5))\n",
    "plt.plot(fpr, tpr, label=\"ROC Curve\")\n",
    "plt.xlabel(\"FPR\")\n",
    "plt.ylabel(\"TPR (recall)\")\n",
    "\n",
    "plt.plot(fpr[i], tpr[i], 'o', markersize=10,\n",
    "label=\"threshold zero\", fillstyle=\"none\", c='k', mew=2)\n",
    "plt.legend(loc=4)\n",
    "plt.grid()"
   ]
  },
  {
   "cell_type": "code",
   "execution_count": 356,
   "metadata": {},
   "outputs": [
    {
     "name": "stdout",
     "output_type": "stream",
     "text": [
      "After the ROC-AUC post processing: \n",
      "Precision:  0.023923444976076555\n",
      "Recall:  0.45454545454545453\n",
      "F1-score:  0.04545454545454545\n",
      "ROC AUC Score:  0.5483253588516747\n"
     ]
    }
   ],
   "source": [
    "y_predict_test = np.where(rbf_kernel_grid.decision_function(X_test) >= thresholds[i], 1, 0)\n",
    "y_predict_train = np.where(rbf_kernel_grid.decision_function(X_train) >= thresholds[i], 1, 0)\n",
    "print('After the ROC-AUC post processing: ')\n",
    "print('Precision: ', precision_score(y_test,y_predict_test))\n",
    "print('Recall: ', recall_score(y_test,y_predict_test))\n",
    "print('F1-score: ', f1_score(y_test,y_predict_test))\n",
    "print('ROC AUC Score: ', roc_auc_score(y_test, y_predict_test))"
   ]
  },
  {
   "cell_type": "markdown",
   "metadata": {},
   "source": [
    "## 7)Decision Tree Classifier"
   ]
  },
  {
   "cell_type": "code",
   "execution_count": 359,
   "metadata": {},
   "outputs": [
    {
     "name": "stdout",
     "output_type": "stream",
     "text": [
      "Best parameters: {'max_depth': 3}\n",
      "Best cross-validation score: 0.76\n"
     ]
    }
   ],
   "source": [
    "from sklearn.tree import DecisionTreeClassifier\n",
    "para = dict(max_depth = [3,5,7,11,13])\n",
    "grid_tree = GridSearchCV(DecisionTreeClassifier(), para, cv=5, scoring='roc_auc')\n",
    "grid_tree.fit(X_train, y_train)\n",
    "print(\"Best parameters: {}\".format(grid_tree.best_params_))\n",
    "print(\"Best cross-validation score: {:.2f}\".format(grid_tree.best_score_))"
   ]
  },
  {
   "cell_type": "code",
   "execution_count": 362,
   "metadata": {},
   "outputs": [
    {
     "name": "stdout",
     "output_type": "stream",
     "text": [
      "0.9810671256454389\n",
      "[[570   0]\n",
      " [ 11   0]]\n",
      "              precision    recall  f1-score   support\n",
      "\n",
      "           0       0.98      1.00      0.99       570\n",
      "           1       0.00      0.00      0.00        11\n",
      "\n",
      "    accuracy                           0.98       581\n",
      "   macro avg       0.49      0.50      0.50       581\n",
      "weighted avg       0.96      0.98      0.97       581\n",
      "\n",
      "ROC_AUC Score for Decision Tree:  0.50\n"
     ]
    }
   ],
   "source": [
    "y_pred = grid_tree.predict(X_test)\n",
    "y_pred_train= grid_tree.predict(X_train)\n",
    "print(accuracy_score(y_test, y_pred))\n",
    "print(confusion_matrix(y_test, y_pred))\n",
    "print(classification_report(y_test, y_pred))\n",
    "print(\"ROC_AUC Score for Decision Tree:  {:.2f}\".format(roc_auc_score(y_test, y_pred)))"
   ]
  },
  {
   "cell_type": "code",
   "execution_count": 364,
   "metadata": {},
   "outputs": [
    {
     "data": {
      "image/png": "[encoded data removed]",
      "text/plain": [
       "<Figure size 720x360 with 1 Axes>"
      ]
     },
     "metadata": {
      "needs_background": "light"
     },
     "output_type": "display_data"
    }
   ],
   "source": [
    "# Recall - Precision Graph\n",
    "plt.subplots(figsize = (10,5))\n",
    "precision, recall, thresholds = precision_recall_curve(y_test, grid_tree.predict_proba(X_test)[:, 1])\n",
    "\n",
    "close_zero = np.argmin(np.abs(thresholds - 0.5))\n",
    "\n",
    "plt.plot(precision[close_zero], recall[close_zero], 'o', markersize=10,\n",
    "         label=\"threshold zero\", fillstyle=\"none\", c='k', mew=2)\n",
    "\n",
    "plt.plot(precision, recall, label=\"precision recall curve\")\n",
    "plt.xlabel(\"Precision\")\n",
    "plt.ylabel(\"Recall\")\n",
    "plt.legend(loc=\"best\")\n",
    "plt.grid()"
   ]
  },
  {
   "cell_type": "code",
   "execution_count": 365,
   "metadata": {},
   "outputs": [
    {
     "name": "stdout",
     "output_type": "stream",
     "text": [
      "Before the post processing: \n",
      "Precision:  0.6666666666666666\n",
      "Recall:  0.0\n"
     ]
    }
   ],
   "source": [
    "y_predict_test = np.where(grid_tree.predict_proba(X_test) >= thresholds[close_zero], 1, 0)\n",
    "y_predict_train = np.where(grid_tree.predict_proba(X_train) >= thresholds[close_zero], 1, 0)\n",
    "print('Before the post processing: ')\n",
    "print('Precision: ', precision_score(y_train, y_predict_train[:,1]))\n",
    "print('Recall: ', recall_score(y_test,y_predict_test[:,1]))"
   ]
  },
  {
   "cell_type": "code",
   "execution_count": 366,
   "metadata": {},
   "outputs": [
    {
     "data": {
      "image/png": "[encoded data removed]",
      "text/plain": [
       "<Figure size 1440x360 with 1 Axes>"
      ]
     },
     "metadata": {
      "needs_background": "light"
     },
     "output_type": "display_data"
    }
   ],
   "source": [
    "fpr, tpr, thresholds = roc_curve(y_test, grid_tree.predict_proba(X_test)[:,1])\n",
    "\n",
    "plt.subplots(figsize = (20,5))\n",
    "plt.plot(fpr, tpr, label=\"ROC Curve\")\n",
    "plt.xlabel(\"FPR\")\n",
    "plt.ylabel(\"TPR (recall)\")\n",
    "\n",
    "# find threshold closest to zero\n",
    "i = np.argmin(np.abs(thresholds-0.5))\n",
    "plt.plot(fpr[i], tpr[i], 'o', markersize=10,\n",
    "label=\"threshold zero\", fillstyle=\"none\", c='k', mew=2)\n",
    "plt.legend(loc=4)\n",
    "plt.grid()"
   ]
  },
  {
   "cell_type": "code",
   "execution_count": 367,
   "metadata": {},
   "outputs": [
    {
     "name": "stdout",
     "output_type": "stream",
     "text": [
      "Before the ROC-AUC post processing: \n",
      "Precision:  0.0\n",
      "Recall:  0.0\n",
      "F1-score:  0.0\n",
      "ROC Score:  0.4982456140350877\n"
     ]
    }
   ],
   "source": [
    "y_predict_test = np.where(grid_tree.predict_proba(X_test) >= thresholds[i], 1, 0)\n",
    "y_predict_train = np.where(grid_tree.predict_proba(X_train) >= thresholds[i], 1, 0)\n",
    "print('Before the ROC-AUC post processing: ')\n",
    "print('Precision: ', precision_score(y_test,y_predict_test[:,1]))\n",
    "print('Recall: ', recall_score(y_test,y_predict_test[:,1]))\n",
    "print('F1-score: ', f1_score(y_test,y_predict_test[:,1]))\n",
    "print('ROC Score: ', roc_auc_score(y_test,y_predict_test[:,1]))"
   ]
  },
  {
   "cell_type": "markdown",
   "metadata": {},
   "source": [
    "**Post Preprocessing**"
   ]
  },
  {
   "cell_type": "code",
   "execution_count": 369,
   "metadata": {},
   "outputs": [
    {
     "data": {
      "image/png": "[encoded data removed]",
      "text/plain": [
       "<Figure size 720x360 with 1 Axes>"
      ]
     },
     "metadata": {
      "needs_background": "light"
     },
     "output_type": "display_data"
    }
   ],
   "source": [
    "# Recall - Precision Graph\n",
    "plt.subplots(figsize = (10,5))\n",
    "precision, recall, thresholds = precision_recall_curve(y_test, grid_tree.predict_proba(X_test)[:, 1])\n",
    "\n",
    "i = np.argmin(np.abs(recall - 0.4))\n",
    "\n",
    "plt.plot(precision[i], recall[i], 'o', markersize=10,\n",
    "         label=\"threshold zero\", fillstyle=\"none\", c='k', mew=2)\n",
    "\n",
    "plt.plot(precision, recall, label=\"precision recall curve\")\n",
    "plt.xlabel(\"Precision\")\n",
    "plt.ylabel(\"Recall\")\n",
    "plt.legend(loc=\"best\")\n",
    "plt.grid()"
   ]
  },
  {
   "cell_type": "code",
   "execution_count": 370,
   "metadata": {},
   "outputs": [
    {
     "name": "stdout",
     "output_type": "stream",
     "text": [
      "After the Precision - Recall post processing: \n",
      "Precision:  0.022727272727272728\n",
      "Recall:  0.5454545454545454\n"
     ]
    }
   ],
   "source": [
    "y_predict_test = np.where(grid_tree.predict_proba(X_test) >= thresholds[i], 1, 0)\n",
    "y_predict_train = np.where(grid_tree.predict_proba(X_train) >= thresholds[i], 1, 0)\n",
    "print('After the Precision - Recall post processing: ')\n",
    "print('Precision: ', precision_score(y_test, y_predict_test[:,1]))\n",
    "print('Recall: ', recall_score(y_test,y_predict_test[:,1]))"
   ]
  },
  {
   "cell_type": "code",
   "execution_count": 371,
   "metadata": {},
   "outputs": [
    {
     "data": {
      "image/png": "[encoded data removed]",
      "text/plain": [
       "<Figure size 1440x360 with 1 Axes>"
      ]
     },
     "metadata": {
      "needs_background": "light"
     },
     "output_type": "display_data"
    }
   ],
   "source": [
    "fpr, tpr, thresholds = roc_curve(y_test, grid_tree.predict_proba(X_test)[:,1])\n",
    "\n",
    "i = np.argmin(np.abs(tpr - 0.58))\n",
    "\n",
    "plt.subplots(figsize = (20,5))\n",
    "plt.plot(fpr, tpr, label=\"ROC Curve\")\n",
    "plt.xlabel(\"FPR\")\n",
    "plt.ylabel(\"TPR (recall)\")\n",
    "\n",
    "plt.plot(fpr[i], tpr[i], 'o', markersize=10,\n",
    "label=\"threshold zero\", fillstyle=\"none\", c='k', mew=2)\n",
    "plt.legend(loc=4)\n",
    "plt.grid()"
   ]
  },
  {
   "cell_type": "code",
   "execution_count": 372,
   "metadata": {},
   "outputs": [
    {
     "name": "stdout",
     "output_type": "stream",
     "text": [
      "After the ROC-AUC post processing: \n",
      "Precision:  0.030927835051546393\n",
      "Recall:  0.5454545454545454\n",
      "F1-score:  0.058536585365853655\n",
      "ROC Score:  0.6078149920255184\n"
     ]
    }
   ],
   "source": [
    "y_predict_test = np.where(grid_tree.predict_proba(X_test) >= thresholds[i], 1, 0)\n",
    "y_predict_train = np.where(grid_tree.predict_proba(X_train) >= thresholds[i], 1, 0)\n",
    "print('After the ROC-AUC post processing: ')\n",
    "print('Precision: ', precision_score(y_test,y_predict_test[:,1]))\n",
    "print('Recall: ', recall_score(y_test,y_predict_test[:,1]))\n",
    "print('F1-score: ', f1_score(y_test,y_predict_test[:,1]))\n",
    "print('ROC Score: ', roc_auc_score(y_test,y_predict_test[:,1]))"
   ]
  },
  {
   "cell_type": "markdown",
   "metadata": {},
   "source": [
    "## 8) Random Forest Classifier"
   ]
  },
  {
   "cell_type": "code",
   "execution_count": 374,
   "metadata": {},
   "outputs": [
    {
     "name": "stdout",
     "output_type": "stream",
     "text": [
      "Best Hyperparameter for Random Forest Classifier:  {'max_depth': 3}\n",
      "Best cross-Validation Score:  0.8006861482134383\n"
     ]
    }
   ],
   "source": [
    "param_grid = {'max_depth': [1,2,3,4,5,6,7,8,9,10,15,20]}\n",
    "rf_grid = GridSearchCV(RandomForestClassifier(n_estimators=100, max_features=0.1), param_grid, cv=5, return_train_score=True, scoring = 'roc_auc')\n",
    "rf_grid.fit(X_train, y_train)\n",
    "max_dep = rf_grid.best_params_\n",
    "print(\"Best Hyperparameter for Random Forest Classifier: \", max_dep)\n",
    "print('Best cross-Validation Score: ', rf_grid.best_score_)"
   ]
  },
  {
   "cell_type": "code",
   "execution_count": 380,
   "metadata": {},
   "outputs": [
    {
     "name": "stdout",
     "output_type": "stream",
     "text": [
      "0.9810671256454389\n",
      "[[570   0]\n",
      " [ 11   0]]\n",
      "              precision    recall  f1-score   support\n",
      "\n",
      "           0       0.98      1.00      0.99       570\n",
      "           1       0.00      0.00      0.00        11\n",
      "\n",
      "    accuracy                           0.98       581\n",
      "   macro avg       0.49      0.50      0.50       581\n",
      "weighted avg       0.96      0.98      0.97       581\n",
      "\n",
      "ROC_AUC Score for Decision Tree:  0.50\n"
     ]
    }
   ],
   "source": [
    "y_pred = rf_grid.predict(X_test)\n",
    "y_pred_train= rf_grid.predict(X_train)\n",
    "print(accuracy_score(y_test, y_pred))\n",
    "print(confusion_matrix(y_test, y_pred))\n",
    "print(classification_report(y_test, y_pred))\n",
    "print(\"ROC_AUC Score for Decision Tree:  {:.2f}\".format(roc_auc_score(y_test, y_pred)))"
   ]
  },
  {
   "cell_type": "code",
   "execution_count": 375,
   "metadata": {},
   "outputs": [
    {
     "data": {
      "image/png": "[encoded data removed]",
      "text/plain": [
       "<Figure size 720x360 with 1 Axes>"
      ]
     },
     "metadata": {
      "needs_background": "light"
     },
     "output_type": "display_data"
    }
   ],
   "source": [
    "# Recall - Precision Graph\n",
    "plt.subplots(figsize = (10,5))\n",
    "precision, recall, thresholds = precision_recall_curve(y_test, rf_grid.predict_proba(X_test)[:, 1])\n",
    "\n",
    "close_zero = np.argmin(np.abs(thresholds - 0.5))\n",
    "\n",
    "plt.plot(precision[close_zero], recall[close_zero], 'o', markersize=10,\n",
    "         label=\"threshold zero\", fillstyle=\"none\", c='k', mew=2)\n",
    "\n",
    "plt.plot(precision, recall, label=\"precision recall curve\")\n",
    "plt.xlabel(\"Precision\")\n",
    "plt.ylabel(\"Recall\")\n",
    "plt.legend(loc=\"best\")\n",
    "plt.grid()"
   ]
  },
  {
   "cell_type": "code",
   "execution_count": 376,
   "metadata": {},
   "outputs": [
    {
     "name": "stdout",
     "output_type": "stream",
     "text": [
      "Before the post processing: \n",
      "Precision:  0.0\n",
      "Recall:  0.0\n"
     ]
    }
   ],
   "source": [
    "y_predict_test = np.where(rf_grid.predict_proba(X_test) >= thresholds[close_zero], 1, 0)\n",
    "y_predict_train = np.where(rf_grid.predict_proba(X_train) >= thresholds[close_zero], 1, 0)\n",
    "print('Before the post processing: ')\n",
    "print('Precision: ', precision_score(y_test, y_predict_test[:,1]))\n",
    "print('Recall: ', recall_score(y_test,y_predict_test[:,1]))"
   ]
  },
  {
   "cell_type": "code",
   "execution_count": 377,
   "metadata": {},
   "outputs": [
    {
     "data": {
      "image/png": "[encoded data removed]",
      "text/plain": [
       "<Figure size 1440x360 with 1 Axes>"
      ]
     },
     "metadata": {
      "needs_background": "light"
     },
     "output_type": "display_data"
    }
   ],
   "source": [
    "# ROC - AUC curve\n",
    "fpr, tpr, thresholds = roc_curve(y_test, rf_grid.predict_proba(X_test)[:,1])\n",
    "\n",
    "plt.subplots(figsize = (20,5))\n",
    "plt.plot(fpr, tpr, label=\"ROC Curve\")\n",
    "plt.xlabel(\"FPR\")\n",
    "plt.ylabel(\"TPR (recall)\")\n",
    "\n",
    "# find threshold closest to zero\n",
    "i = np.argmin(np.abs(thresholds-0.5))\n",
    "plt.plot(fpr[i], tpr[i], 'o', markersize=10,\n",
    "label=\"threshold zero\", fillstyle=\"none\", c='k', mew=2)\n",
    "plt.legend(loc=4)\n",
    "plt.grid()"
   ]
  },
  {
   "cell_type": "code",
   "execution_count": 378,
   "metadata": {},
   "outputs": [
    {
     "name": "stdout",
     "output_type": "stream",
     "text": [
      "Before the ROC-AUC post processing: \n",
      "Precision:  0.0\n",
      "Recall:  0.0\n",
      "F1-score:  0.0\n",
      "ROC Score:  0.49912280701754386\n"
     ]
    }
   ],
   "source": [
    "y_predict_test = np.where(rf_grid.predict_proba(X_test) >= thresholds[i], 1, 0)\n",
    "y_predict_train = np.where(rf_grid.predict_proba(X_train) >= thresholds[i], 1, 0)\n",
    "print('Before the ROC-AUC post processing: ')\n",
    "print('Precision: ', precision_score(y_test,y_predict_test[:,1]))\n",
    "print('Recall: ', recall_score(y_test,y_predict_test[:,1]))\n",
    "print('F1-score: ', f1_score(y_test,y_predict_test[:,1]))\n",
    "print('ROC Score: ', roc_auc_score(y_test,y_predict_test[:,1]))"
   ]
  },
  {
   "cell_type": "markdown",
   "metadata": {},
   "source": [
    "**Post Preprocessing**"
   ]
  },
  {
   "cell_type": "code",
   "execution_count": 387,
   "metadata": {},
   "outputs": [
    {
     "data": {
      "image/png": "[encoded data removed]",
      "text/plain": [
       "<Figure size 720x360 with 1 Axes>"
      ]
     },
     "metadata": {
      "needs_background": "light"
     },
     "output_type": "display_data"
    }
   ],
   "source": [
    "# Recall - Precision Graph\n",
    "plt.subplots(figsize = (10,5))\n",
    "precision, recall, thresholds = precision_recall_curve(y_test, rf_grid.predict_proba(X_test)[:, 1])\n",
    "\n",
    "i = np.argmin(np.abs(recall - 0.44))\n",
    "\n",
    "plt.plot(precision[i], recall[i], 'o', markersize=10,\n",
    "         label=\"threshold zero\", fillstyle=\"none\", c='k', mew=2)\n",
    "\n",
    "plt.plot(precision, recall, label=\"precision recall curve\")\n",
    "plt.xlabel(\"Precision\")\n",
    "plt.ylabel(\"Recall\")\n",
    "plt.legend(loc=\"best\")\n",
    "plt.grid()"
   ]
  },
  {
   "cell_type": "code",
   "execution_count": 388,
   "metadata": {},
   "outputs": [
    {
     "name": "stdout",
     "output_type": "stream",
     "text": [
      "After the Precision - Recall post processing: \n",
      "Precision:  0.03164556962025317\n",
      "Recall:  0.45454545454545453\n"
     ]
    }
   ],
   "source": [
    "y_predict_test = np.where(rf_grid.predict_proba(X_test) >= thresholds[i], 1, 0)\n",
    "y_predict_train = np.where(rf_grid.predict_proba(X_train) >= thresholds[i], 1, 0)\n",
    "print('After the Precision - Recall post processing: ')\n",
    "print('Precision: ', precision_score(y_test, y_predict_test[:,1]))\n",
    "print('Recall: ', recall_score(y_test,y_predict_test[:,1]))"
   ]
  },
  {
   "cell_type": "code",
   "execution_count": 389,
   "metadata": {},
   "outputs": [
    {
     "data": {
      "image/png": "[encoded data removed]",
      "text/plain": [
       "<Figure size 1440x360 with 1 Axes>"
      ]
     },
     "metadata": {
      "needs_background": "light"
     },
     "output_type": "display_data"
    }
   ],
   "source": [
    "fpr, tpr, thresholds = roc_curve(y_test, rf_grid.predict_proba(X_test)[:,1])\n",
    "\n",
    "i = np.argmin(np.abs(tpr - 0.58))\n",
    "\n",
    "plt.subplots(figsize = (20,5))\n",
    "plt.plot(fpr, tpr, label=\"ROC Curve\")\n",
    "plt.xlabel(\"FPR\")\n",
    "plt.ylabel(\"TPR (recall)\")\n",
    "\n",
    "plt.plot(fpr[i], tpr[i], 'o', markersize=10,\n",
    "label=\"threshold zero\", fillstyle=\"none\", c='k', mew=2)\n",
    "plt.legend(loc=4)\n",
    "plt.grid()"
   ]
  },
  {
   "cell_type": "code",
   "execution_count": 390,
   "metadata": {},
   "outputs": [
    {
     "name": "stdout",
     "output_type": "stream",
     "text": [
      "After the ROC-AUC post processing: \n",
      "Precision:  0.0375\n",
      "Recall:  0.5454545454545454\n",
      "F1-score:  0.07017543859649122\n",
      "ROC Score:  0.6376395534290271\n"
     ]
    }
   ],
   "source": [
    "y_predict_test = np.where(rf_grid.predict_proba(X_test) >= thresholds[i], 1, 0)\n",
    "y_predict_train = np.where(rf_grid.predict_proba(X_train) >= thresholds[i], 1, 0)\n",
    "print('After the ROC-AUC post processing: ')\n",
    "print('Precision: ', precision_score(y_test,y_predict_test[:,1]))\n",
    "print('Recall: ', recall_score(y_test,y_predict_test[:,1]))\n",
    "print('F1-score: ', f1_score(y_test,y_predict_test[:,1]))\n",
    "print('ROC Score: ', roc_auc_score(y_test,y_predict_test[:,1]))"
   ]
  },
  {
   "cell_type": "markdown",
   "metadata": {},
   "source": [
    "# Best model \n",
    "Explain which machine learning model is the best model for this dataset and why? "
   ]
  },
  {
   "cell_type": "markdown",
   "metadata": {},
   "source": [
    "After comparing the roc_auc scores of all the above models with paramenter tuning we can see that \"Logistic Regression\" has the highest ROC_AUC score of 67%. We will be going ahead with this as best model and will be running this model on the test data to make final test predections for the classification problem of this dataset."
   ]
  },
  {
   "cell_type": "code",
   "execution_count": null,
   "metadata": {},
   "outputs": [],
   "source": []
  }
 ],
 "metadata": {
  "kernelspec": {
   "display_name": "Python 3",
   "language": "python",
   "name": "python3"
  },
  "language_info": {
   "codemirror_mode": {
    "name": "ipython",
    "version": 3
   },
   "file_extension": ".py",
   "mimetype": "text/x-python",
   "name": "python",
   "nbconvert_exporter": "python",
   "pygments_lexer": "ipython3",
   "version": "3.8.5"
  }
 },
 "nbformat": 4,
 "nbformat_minor": 4
}

{
 "cells": [
  {
   "cell_type": "markdown",
   "metadata": {},
   "source": [
    "# Project 1\n",
    "\n",
    "### Dataset\n",
    "For two projects in this class, you will pick your datasets. To receive full credit for this part, your datasets should satisfy the following conditions: \n",
    "\n",
    "- At least 15 features (columns)\n",
    "- At least 1000 instances (rows)\n",
    "- At least two categorical/ordinal columns.\n",
    "- Between 5 to 10 percent missing values across the dataset. \n",
    "\n",
    "Remember that you should have two separate datasets one for classification and one for regression tasks. \n",
    "\n",
    "### Project Description:\n",
    "- Read data into Jupyter notebook, use pandas to import data into a data frame\n",
    "- Preprocess data: Explore data, check for missing data and apply data scaling. Justify the type of scaling used.\n",
    "\n",
    "\n",
    "### Classification task:\n",
    "- Decide about a good evaluation strategy beside accuracy and justify your choice.\n",
    "- Apply **all** the classification models you've learned so far. If your model has a scaling parameter(s) use Grid Search to find the best hyper-parameter. Use plots and graphs to help you get a better glimpse of the results.\n",
    "- Your submission should have at least the following classification models: KNN classification, Logistic Regression, Linear Support Vector Machine, Kerenilzed Support Vector Machine (rbf, poly, and linear), Decision Tree Classifier. \n",
    "- Finally, find the best model for the classification dataset and train your model on the entire dataset using the best parameters and predict the target values for the test_set.\n",
    "\n",
    "### Deliverables:\n",
    "- Use markdown to provide inline comments for this project. \n",
    "- Use markdown to create a report for this project. \n",
    "- Your outputs should be clearly executed in the notebook i.e. we should not need to rerun the code to obtain the outputs. \n",
    "- Visualization highly encouraged. \n",
    "- If you are submitting two different files, then please only one group member submit both the files. If you submit two files separately from different accounts, it will be submitted as two different attempts.\n",
    "- If you are submitting two different files, then please follow below naming convention:\n",
    "    - ``Project1_Regression_GroupXX_Lastname1_Lastname2.ipynb``\n",
    "    - ``Project1_Classification_GroupXX_Lastname1_Lastname2.ipynb``\n",
    "  \n",
    "  then zip these two files and the csv files of the two datasets into one file and submit. \n",
    "- If you are submitting a single file, then please follow below naming convention:\n",
    "    - ``Project1_Both_GroupXX_Lastname1_Lastname2.ipynb\n",
    "    then zip these this file and the csv files of the two datasets into one file and submit. \n",
    "\n",
    "### Questions regarding the project:\n",
    "- Post your queries related to project on discussion board on e-learning. There is a high possibility that your classmate has also faced the same problem and knows the solution. This is an effort to encourage collaborative learning and also making all the information available to everyone. We will also answer queries there. "
   ]
  },
  {
   "cell_type": "code",
   "execution_count": 1,
   "metadata": {},
   "outputs": [],
   "source": [
    "import pandas as pd\n",
    "import numpy as np\n",
    "import math\n",
    "import random\n",
    "import numpy as np\n",
    "import seaborn as sns\n",
    "import matplotlib.pyplot as plt"
   ]
  },
  {
   "cell_type": "code",
   "execution_count": 2,
   "metadata": {},
   "outputs": [
    {
     "data": {
      "text/html": [
       "<div>\n",
       "<style scoped>\n",
       "    .dataframe tbody tr th:only-of-type {\n",
       "        vertical-align: middle;\n",
       "    }\n",
       "\n",
       "    .dataframe tbody tr th {\n",
       "        vertical-align: top;\n",
       "    }\n",
       "\n",
       "    .dataframe thead th {\n",
       "        text-align: right;\n",
       "    }\n",
       "</style>\n",
       "<table border=\"1\" class=\"dataframe\">\n",
       "  <thead>\n",
       "    <tr style=\"text-align: right;\">\n",
       "      <th></th>\n",
       "      <th>customerID</th>\n",
       "      <th>gender</th>\n",
       "      <th>SeniorCitizen</th>\n",
       "      <th>Partner</th>\n",
       "      <th>Dependents</th>\n",
       "      <th>tenure</th>\n",
       "      <th>PhoneService</th>\n",
       "      <th>MultipleLines</th>\n",
       "      <th>InternetService</th>\n",
       "      <th>OnlineSecurity</th>\n",
       "      <th>...</th>\n",
       "      <th>DeviceProtection</th>\n",
       "      <th>TechSupport</th>\n",
       "      <th>StreamingTV</th>\n",
       "      <th>StreamingMovies</th>\n",
       "      <th>Contract</th>\n",
       "      <th>PaperlessBilling</th>\n",
       "      <th>PaymentMethod</th>\n",
       "      <th>MonthlyCharges</th>\n",
       "      <th>TotalCharges</th>\n",
       "      <th>Churn</th>\n",
       "    </tr>\n",
       "  </thead>\n",
       "  <tbody>\n",
       "    <tr>\n",
       "      <th>0</th>\n",
       "      <td>7590-VHVEG</td>\n",
       "      <td>Female</td>\n",
       "      <td>0</td>\n",
       "      <td>Yes</td>\n",
       "      <td>No</td>\n",
       "      <td>1</td>\n",
       "      <td>No</td>\n",
       "      <td>No phone service</td>\n",
       "      <td>DSL</td>\n",
       "      <td>No</td>\n",
       "      <td>...</td>\n",
       "      <td>No</td>\n",
       "      <td>No</td>\n",
       "      <td>No</td>\n",
       "      <td>No</td>\n",
       "      <td>Month-to-month</td>\n",
       "      <td>Yes</td>\n",
       "      <td>Electronic check</td>\n",
       "      <td>29.85</td>\n",
       "      <td>29.85</td>\n",
       "      <td>No</td>\n",
       "    </tr>\n",
       "    <tr>\n",
       "      <th>1</th>\n",
       "      <td>5575-GNVDE</td>\n",
       "      <td>Male</td>\n",
       "      <td>0</td>\n",
       "      <td>No</td>\n",
       "      <td>No</td>\n",
       "      <td>34</td>\n",
       "      <td>Yes</td>\n",
       "      <td>No</td>\n",
       "      <td>DSL</td>\n",
       "      <td>Yes</td>\n",
       "      <td>...</td>\n",
       "      <td>Yes</td>\n",
       "      <td>No</td>\n",
       "      <td>No</td>\n",
       "      <td>No</td>\n",
       "      <td>One year</td>\n",
       "      <td>No</td>\n",
       "      <td>Mailed check</td>\n",
       "      <td>56.95</td>\n",
       "      <td>1889.5</td>\n",
       "      <td>No</td>\n",
       "    </tr>\n",
       "    <tr>\n",
       "      <th>2</th>\n",
       "      <td>3668-QPYBK</td>\n",
       "      <td>Male</td>\n",
       "      <td>0</td>\n",
       "      <td>No</td>\n",
       "      <td>No</td>\n",
       "      <td>2</td>\n",
       "      <td>Yes</td>\n",
       "      <td>No</td>\n",
       "      <td>DSL</td>\n",
       "      <td>Yes</td>\n",
       "      <td>...</td>\n",
       "      <td>No</td>\n",
       "      <td>No</td>\n",
       "      <td>No</td>\n",
       "      <td>No</td>\n",
       "      <td>Month-to-month</td>\n",
       "      <td>Yes</td>\n",
       "      <td>Mailed check</td>\n",
       "      <td>53.85</td>\n",
       "      <td>108.15</td>\n",
       "      <td>Yes</td>\n",
       "    </tr>\n",
       "    <tr>\n",
       "      <th>3</th>\n",
       "      <td>7795-CFOCW</td>\n",
       "      <td>Male</td>\n",
       "      <td>0</td>\n",
       "      <td>No</td>\n",
       "      <td>No</td>\n",
       "      <td>45</td>\n",
       "      <td>No</td>\n",
       "      <td>No phone service</td>\n",
       "      <td>DSL</td>\n",
       "      <td>Yes</td>\n",
       "      <td>...</td>\n",
       "      <td>Yes</td>\n",
       "      <td>Yes</td>\n",
       "      <td>No</td>\n",
       "      <td>No</td>\n",
       "      <td>One year</td>\n",
       "      <td>No</td>\n",
       "      <td>Bank transfer (automatic)</td>\n",
       "      <td>42.30</td>\n",
       "      <td>1840.75</td>\n",
       "      <td>No</td>\n",
       "    </tr>\n",
       "    <tr>\n",
       "      <th>4</th>\n",
       "      <td>9237-HQITU</td>\n",
       "      <td>Female</td>\n",
       "      <td>0</td>\n",
       "      <td>No</td>\n",
       "      <td>No</td>\n",
       "      <td>2</td>\n",
       "      <td>Yes</td>\n",
       "      <td>No</td>\n",
       "      <td>Fiber optic</td>\n",
       "      <td>No</td>\n",
       "      <td>...</td>\n",
       "      <td>No</td>\n",
       "      <td>No</td>\n",
       "      <td>No</td>\n",
       "      <td>No</td>\n",
       "      <td>Month-to-month</td>\n",
       "      <td>Yes</td>\n",
       "      <td>Electronic check</td>\n",
       "      <td>70.70</td>\n",
       "      <td>151.65</td>\n",
       "      <td>Yes</td>\n",
       "    </tr>\n",
       "    <tr>\n",
       "      <th>...</th>\n",
       "      <td>...</td>\n",
       "      <td>...</td>\n",
       "      <td>...</td>\n",
       "      <td>...</td>\n",
       "      <td>...</td>\n",
       "      <td>...</td>\n",
       "      <td>...</td>\n",
       "      <td>...</td>\n",
       "      <td>...</td>\n",
       "      <td>...</td>\n",
       "      <td>...</td>\n",
       "      <td>...</td>\n",
       "      <td>...</td>\n",
       "      <td>...</td>\n",
       "      <td>...</td>\n",
       "      <td>...</td>\n",
       "      <td>...</td>\n",
       "      <td>...</td>\n",
       "      <td>...</td>\n",
       "      <td>...</td>\n",
       "      <td>...</td>\n",
       "    </tr>\n",
       "    <tr>\n",
       "      <th>7038</th>\n",
       "      <td>6840-RESVB</td>\n",
       "      <td>Male</td>\n",
       "      <td>0</td>\n",
       "      <td>Yes</td>\n",
       "      <td>Yes</td>\n",
       "      <td>24</td>\n",
       "      <td>Yes</td>\n",
       "      <td>Yes</td>\n",
       "      <td>DSL</td>\n",
       "      <td>Yes</td>\n",
       "      <td>...</td>\n",
       "      <td>Yes</td>\n",
       "      <td>Yes</td>\n",
       "      <td>Yes</td>\n",
       "      <td>Yes</td>\n",
       "      <td>One year</td>\n",
       "      <td>Yes</td>\n",
       "      <td>Mailed check</td>\n",
       "      <td>84.80</td>\n",
       "      <td>1990.5</td>\n",
       "      <td>No</td>\n",
       "    </tr>\n",
       "    <tr>\n",
       "      <th>7039</th>\n",
       "      <td>2234-XADUH</td>\n",
       "      <td>Female</td>\n",
       "      <td>0</td>\n",
       "      <td>Yes</td>\n",
       "      <td>Yes</td>\n",
       "      <td>72</td>\n",
       "      <td>Yes</td>\n",
       "      <td>Yes</td>\n",
       "      <td>Fiber optic</td>\n",
       "      <td>No</td>\n",
       "      <td>...</td>\n",
       "      <td>Yes</td>\n",
       "      <td>No</td>\n",
       "      <td>Yes</td>\n",
       "      <td>Yes</td>\n",
       "      <td>One year</td>\n",
       "      <td>Yes</td>\n",
       "      <td>Credit card (automatic)</td>\n",
       "      <td>103.20</td>\n",
       "      <td>7362.9</td>\n",
       "      <td>No</td>\n",
       "    </tr>\n",
       "    <tr>\n",
       "      <th>7040</th>\n",
       "      <td>4801-JZAZL</td>\n",
       "      <td>Female</td>\n",
       "      <td>0</td>\n",
       "      <td>Yes</td>\n",
       "      <td>Yes</td>\n",
       "      <td>11</td>\n",
       "      <td>No</td>\n",
       "      <td>No phone service</td>\n",
       "      <td>DSL</td>\n",
       "      <td>Yes</td>\n",
       "      <td>...</td>\n",
       "      <td>No</td>\n",
       "      <td>No</td>\n",
       "      <td>No</td>\n",
       "      <td>No</td>\n",
       "      <td>Month-to-month</td>\n",
       "      <td>Yes</td>\n",
       "      <td>Electronic check</td>\n",
       "      <td>29.60</td>\n",
       "      <td>346.45</td>\n",
       "      <td>No</td>\n",
       "    </tr>\n",
       "    <tr>\n",
       "      <th>7041</th>\n",
       "      <td>8361-LTMKD</td>\n",
       "      <td>Male</td>\n",
       "      <td>1</td>\n",
       "      <td>Yes</td>\n",
       "      <td>No</td>\n",
       "      <td>4</td>\n",
       "      <td>Yes</td>\n",
       "      <td>Yes</td>\n",
       "      <td>Fiber optic</td>\n",
       "      <td>No</td>\n",
       "      <td>...</td>\n",
       "      <td>No</td>\n",
       "      <td>No</td>\n",
       "      <td>No</td>\n",
       "      <td>No</td>\n",
       "      <td>Month-to-month</td>\n",
       "      <td>Yes</td>\n",
       "      <td>Mailed check</td>\n",
       "      <td>74.40</td>\n",
       "      <td>306.6</td>\n",
       "      <td>Yes</td>\n",
       "    </tr>\n",
       "    <tr>\n",
       "      <th>7042</th>\n",
       "      <td>3186-AJIEK</td>\n",
       "      <td>Male</td>\n",
       "      <td>0</td>\n",
       "      <td>No</td>\n",
       "      <td>No</td>\n",
       "      <td>66</td>\n",
       "      <td>Yes</td>\n",
       "      <td>No</td>\n",
       "      <td>Fiber optic</td>\n",
       "      <td>Yes</td>\n",
       "      <td>...</td>\n",
       "      <td>Yes</td>\n",
       "      <td>Yes</td>\n",
       "      <td>Yes</td>\n",
       "      <td>Yes</td>\n",
       "      <td>Two year</td>\n",
       "      <td>Yes</td>\n",
       "      <td>Bank transfer (automatic)</td>\n",
       "      <td>105.65</td>\n",
       "      <td>6844.5</td>\n",
       "      <td>No</td>\n",
       "    </tr>\n",
       "  </tbody>\n",
       "</table>\n",
       "<p>7043 rows × 21 columns</p>\n",
       "</div>"
      ],
      "text/plain": [
       "      customerID  gender  SeniorCitizen Partner Dependents  tenure  \\\n",
       "0     7590-VHVEG  Female              0     Yes         No       1   \n",
       "1     5575-GNVDE    Male              0      No         No      34   \n",
       "2     3668-QPYBK    Male              0      No         No       2   \n",
       "3     7795-CFOCW    Male              0      No         No      45   \n",
       "4     9237-HQITU  Female              0      No         No       2   \n",
       "...          ...     ...            ...     ...        ...     ...   \n",
       "7038  6840-RESVB    Male              0     Yes        Yes      24   \n",
       "7039  2234-XADUH  Female              0     Yes        Yes      72   \n",
       "7040  4801-JZAZL  Female              0     Yes        Yes      11   \n",
       "7041  8361-LTMKD    Male              1     Yes         No       4   \n",
       "7042  3186-AJIEK    Male              0      No         No      66   \n",
       "\n",
       "     PhoneService     MultipleLines InternetService OnlineSecurity  ...  \\\n",
       "0              No  No phone service             DSL             No  ...   \n",
       "1             Yes                No             DSL            Yes  ...   \n",
       "2             Yes                No             DSL            Yes  ...   \n",
       "3              No  No phone service             DSL            Yes  ...   \n",
       "4             Yes                No     Fiber optic             No  ...   \n",
       "...           ...               ...             ...            ...  ...   \n",
       "7038          Yes               Yes             DSL            Yes  ...   \n",
       "7039          Yes               Yes     Fiber optic             No  ...   \n",
       "7040           No  No phone service             DSL            Yes  ...   \n",
       "7041          Yes               Yes     Fiber optic             No  ...   \n",
       "7042          Yes                No     Fiber optic            Yes  ...   \n",
       "\n",
       "     DeviceProtection TechSupport StreamingTV StreamingMovies        Contract  \\\n",
       "0                  No          No          No              No  Month-to-month   \n",
       "1                 Yes          No          No              No        One year   \n",
       "2                  No          No          No              No  Month-to-month   \n",
       "3                 Yes         Yes          No              No        One year   \n",
       "4                  No          No          No              No  Month-to-month   \n",
       "...               ...         ...         ...             ...             ...   \n",
       "7038              Yes         Yes         Yes             Yes        One year   \n",
       "7039              Yes          No         Yes             Yes        One year   \n",
       "7040               No          No          No              No  Month-to-month   \n",
       "7041               No          No          No              No  Month-to-month   \n",
       "7042              Yes         Yes         Yes             Yes        Two year   \n",
       "\n",
       "     PaperlessBilling              PaymentMethod MonthlyCharges  TotalCharges  \\\n",
       "0                 Yes           Electronic check          29.85         29.85   \n",
       "1                  No               Mailed check          56.95        1889.5   \n",
       "2                 Yes               Mailed check          53.85        108.15   \n",
       "3                  No  Bank transfer (automatic)          42.30       1840.75   \n",
       "4                 Yes           Electronic check          70.70        151.65   \n",
       "...               ...                        ...            ...           ...   \n",
       "7038              Yes               Mailed check          84.80        1990.5   \n",
       "7039              Yes    Credit card (automatic)         103.20        7362.9   \n",
       "7040              Yes           Electronic check          29.60        346.45   \n",
       "7041              Yes               Mailed check          74.40         306.6   \n",
       "7042              Yes  Bank transfer (automatic)         105.65        6844.5   \n",
       "\n",
       "     Churn  \n",
       "0       No  \n",
       "1       No  \n",
       "2      Yes  \n",
       "3       No  \n",
       "4      Yes  \n",
       "...    ...  \n",
       "7038    No  \n",
       "7039    No  \n",
       "7040    No  \n",
       "7041   Yes  \n",
       "7042    No  \n",
       "\n",
       "[7043 rows x 21 columns]"
      ]
     },
     "execution_count": 2,
     "metadata": {},
     "output_type": "execute_result"
    }
   ],
   "source": [
    "df = pd.read_csv('WA_Fn-UseC_-Telco-Customer-Churn.csv')\n",
    "df"
   ]
  },
  {
   "cell_type": "code",
   "execution_count": 3,
   "metadata": {},
   "outputs": [
    {
     "name": "stdout",
     "output_type": "stream",
     "text": [
      "<class 'pandas.core.frame.DataFrame'>\n",
      "RangeIndex: 7043 entries, 0 to 7042\n",
      "Data columns (total 21 columns):\n",
      " #   Column            Non-Null Count  Dtype  \n",
      "---  ------            --------------  -----  \n",
      " 0   customerID        7043 non-null   object \n",
      " 1   gender            7043 non-null   object \n",
      " 2   SeniorCitizen     7043 non-null   int64  \n",
      " 3   Partner           7043 non-null   object \n",
      " 4   Dependents        7043 non-null   object \n",
      " 5   tenure            7043 non-null   int64  \n",
      " 6   PhoneService      7043 non-null   object \n",
      " 7   MultipleLines     7043 non-null   object \n",
      " 8   InternetService   7043 non-null   object \n",
      " 9   OnlineSecurity    7043 non-null   object \n",
      " 10  OnlineBackup      7043 non-null   object \n",
      " 11  DeviceProtection  7043 non-null   object \n",
      " 12  TechSupport       7043 non-null   object \n",
      " 13  StreamingTV       7043 non-null   object \n",
      " 14  StreamingMovies   7043 non-null   object \n",
      " 15  Contract          7043 non-null   object \n",
      " 16  PaperlessBilling  7043 non-null   object \n",
      " 17  PaymentMethod     7043 non-null   object \n",
      " 18  MonthlyCharges    7043 non-null   float64\n",
      " 19  TotalCharges      7043 non-null   object \n",
      " 20  Churn             7043 non-null   object \n",
      "dtypes: float64(1), int64(2), object(18)\n",
      "memory usage: 1.1+ MB\n"
     ]
    }
   ],
   "source": [
    "df.info()"
   ]
  },
  {
   "cell_type": "markdown",
   "metadata": {},
   "source": [
    "# Data Preparation"
   ]
  },
  {
   "cell_type": "code",
   "execution_count": 4,
   "metadata": {},
   "outputs": [
    {
     "data": {
      "text/plain": [
       "No     5174\n",
       "Yes    1869\n",
       "Name: Churn, dtype: int64"
      ]
     },
     "execution_count": 4,
     "metadata": {},
     "output_type": "execute_result"
    }
   ],
   "source": [
    "df['Churn'].value_counts()"
   ]
  },
  {
   "cell_type": "code",
   "execution_count": 5,
   "metadata": {},
   "outputs": [],
   "source": [
    "import pylab as plt"
   ]
  },
  {
   "cell_type": "code",
   "execution_count": 6,
   "metadata": {},
   "outputs": [
    {
     "data": {
      "text/plain": [
       "Text(0.5, 1.0, 'Gender Histogram')"
      ]
     },
     "execution_count": 6,
     "metadata": {},
     "output_type": "execute_result"
    },
    {
     "data": {
      "image/png": "[encoded data removed]",
      "text/plain": [
       "<Figure size 432x288 with 1 Axes>"
      ]
     },
     "metadata": {
      "needs_background": "light"
     },
     "output_type": "display_data"
    }
   ],
   "source": [
    "plt.hist(df['gender'])\n",
    "plt.title('Gender Histogram')"
   ]
  },
  {
   "cell_type": "markdown",
   "metadata": {},
   "source": [
    "The histogram show the number of males and females is a close difference."
   ]
  },
  {
   "cell_type": "code",
   "execution_count": 7,
   "metadata": {},
   "outputs": [
    {
     "data": {
      "text/plain": [
       "<AxesSubplot:title={'center':'Contract Counts'}>"
      ]
     },
     "execution_count": 7,
     "metadata": {},
     "output_type": "execute_result"
    },
    {
     "data": {
      "image/png": "[encoded data removed]",
      "text/plain": [
       "<Figure size 432x288 with 1 Axes>"
      ]
     },
     "metadata": {
      "needs_background": "light"
     },
     "output_type": "display_data"
    }
   ],
   "source": [
    "df['Contract'].value_counts().plot(kind='bar', title='Contract Counts')"
   ]
  },
  {
   "cell_type": "markdown",
   "metadata": {},
   "source": [
    "The month to month customers are significantly higher."
   ]
  },
  {
   "cell_type": "code",
   "execution_count": 8,
   "metadata": {},
   "outputs": [
    {
     "data": {
      "text/plain": [
       "<AxesSubplot:title={'center':'Payment Method Counts'}>"
      ]
     },
     "execution_count": 8,
     "metadata": {},
     "output_type": "execute_result"
    },
    {
     "data": {
      "image/png": "[encoded data removed]",
      "text/plain": [
       "<Figure size 432x288 with 1 Axes>"
      ]
     },
     "metadata": {
      "needs_background": "light"
     },
     "output_type": "display_data"
    }
   ],
   "source": [
    "df['PaymentMethod'].value_counts().plot(kind='bar', title='Payment Method Counts')"
   ]
  },
  {
   "cell_type": "markdown",
   "metadata": {},
   "source": [
    "The Electronic check is the most preffered mode of payment "
   ]
  },
  {
   "cell_type": "code",
   "execution_count": 9,
   "metadata": {},
   "outputs": [
    {
     "data": {
      "text/html": [
       "<div>\n",
       "<style scoped>\n",
       "    .dataframe tbody tr th:only-of-type {\n",
       "        vertical-align: middle;\n",
       "    }\n",
       "\n",
       "    .dataframe tbody tr th {\n",
       "        vertical-align: top;\n",
       "    }\n",
       "\n",
       "    .dataframe thead th {\n",
       "        text-align: right;\n",
       "    }\n",
       "</style>\n",
       "<table border=\"1\" class=\"dataframe\">\n",
       "  <thead>\n",
       "    <tr style=\"text-align: right;\">\n",
       "      <th>Churn</th>\n",
       "      <th>No</th>\n",
       "      <th>Yes</th>\n",
       "    </tr>\n",
       "    <tr>\n",
       "      <th>PaymentMethod</th>\n",
       "      <th></th>\n",
       "      <th></th>\n",
       "    </tr>\n",
       "  </thead>\n",
       "  <tbody>\n",
       "    <tr>\n",
       "      <th>Bank transfer (automatic)</th>\n",
       "      <td>1286</td>\n",
       "      <td>258</td>\n",
       "    </tr>\n",
       "    <tr>\n",
       "      <th>Credit card (automatic)</th>\n",
       "      <td>1290</td>\n",
       "      <td>232</td>\n",
       "    </tr>\n",
       "    <tr>\n",
       "      <th>Electronic check</th>\n",
       "      <td>1294</td>\n",
       "      <td>1071</td>\n",
       "    </tr>\n",
       "    <tr>\n",
       "      <th>Mailed check</th>\n",
       "      <td>1304</td>\n",
       "      <td>308</td>\n",
       "    </tr>\n",
       "  </tbody>\n",
       "</table>\n",
       "</div>"
      ],
      "text/plain": [
       "Churn                        No   Yes\n",
       "PaymentMethod                        \n",
       "Bank transfer (automatic)  1286   258\n",
       "Credit card (automatic)    1290   232\n",
       "Electronic check           1294  1071\n",
       "Mailed check               1304   308"
      ]
     },
     "execution_count": 9,
     "metadata": {},
     "output_type": "execute_result"
    }
   ],
   "source": [
    "pclass_xt = pd.crosstab(df['PaymentMethod'], df['Churn'])\n",
    "pclass_xt"
   ]
  },
  {
   "cell_type": "code",
   "execution_count": 10,
   "metadata": {},
   "outputs": [
    {
     "data": {
      "text/plain": [
       "Text(0, 0.5, 'Churn')"
      ]
     },
     "execution_count": 10,
     "metadata": {},
     "output_type": "execute_result"
    },
    {
     "data": {
      "image/png": "[encoded data removed]",
      "text/plain": [
       "<Figure size 432x288 with 1 Axes>"
      ]
     },
     "metadata": {
      "needs_background": "light"
     },
     "output_type": "display_data"
    }
   ],
   "source": [
    "pclass_xt_pct = pclass_xt.div(pclass_xt.sum(1).astype(float), axis=0)\n",
    "\n",
    "pclass_xt_pct.plot(kind='bar', \n",
    "                   stacked=True, \n",
    "                   title='Payment Method by Churn Rate')\n",
    "plt.xlabel('PaymentMethod')\n",
    "plt.ylabel('Churn')"
   ]
  },
  {
   "cell_type": "markdown",
   "metadata": {},
   "source": [
    "Most customers who churn tend to use Electronic Check payment mode. "
   ]
  },
  {
   "cell_type": "code",
   "execution_count": 11,
   "metadata": {},
   "outputs": [
    {
     "name": "stdout",
     "output_type": "stream",
     "text": [
      "<class 'pandas.core.frame.DataFrame'>\n",
      "RangeIndex: 7043 entries, 0 to 7042\n",
      "Data columns (total 21 columns):\n",
      " #   Column            Non-Null Count  Dtype  \n",
      "---  ------            --------------  -----  \n",
      " 0   customerID        7043 non-null   object \n",
      " 1   gender            7043 non-null   object \n",
      " 2   SeniorCitizen     7043 non-null   int64  \n",
      " 3   Partner           7043 non-null   object \n",
      " 4   Dependents        7043 non-null   object \n",
      " 5   tenure            7043 non-null   int64  \n",
      " 6   PhoneService      7043 non-null   object \n",
      " 7   MultipleLines     7043 non-null   object \n",
      " 8   InternetService   7043 non-null   object \n",
      " 9   OnlineSecurity    7043 non-null   object \n",
      " 10  OnlineBackup      7043 non-null   object \n",
      " 11  DeviceProtection  7043 non-null   object \n",
      " 12  TechSupport       7043 non-null   object \n",
      " 13  StreamingTV       7043 non-null   object \n",
      " 14  StreamingMovies   7043 non-null   object \n",
      " 15  Contract          7043 non-null   object \n",
      " 16  PaperlessBilling  7043 non-null   object \n",
      " 17  PaymentMethod     7043 non-null   object \n",
      " 18  MonthlyCharges    7043 non-null   float64\n",
      " 19  TotalCharges      7043 non-null   object \n",
      " 20  Churn             7043 non-null   object \n",
      "dtypes: float64(1), int64(2), object(18)\n",
      "memory usage: 1.1+ MB\n"
     ]
    }
   ],
   "source": [
    "df.info()"
   ]
  },
  {
   "cell_type": "code",
   "execution_count": 12,
   "metadata": {
    "scrolled": true
   },
   "outputs": [
    {
     "name": "stdout",
     "output_type": "stream",
     "text": [
      "<class 'pandas.core.frame.DataFrame'>\n",
      "Int64Index: 1761 entries, 2200 to 450\n",
      "Data columns (total 21 columns):\n",
      " #   Column            Non-Null Count  Dtype  \n",
      "---  ------            --------------  -----  \n",
      " 0   customerID        1761 non-null   object \n",
      " 1   gender            1761 non-null   object \n",
      " 2   SeniorCitizen     1761 non-null   int64  \n",
      " 3   Partner           1761 non-null   object \n",
      " 4   Dependents        1761 non-null   object \n",
      " 5   tenure            1761 non-null   int64  \n",
      " 6   PhoneService      1761 non-null   object \n",
      " 7   MultipleLines     1761 non-null   object \n",
      " 8   InternetService   1761 non-null   object \n",
      " 9   OnlineSecurity    1761 non-null   object \n",
      " 10  OnlineBackup      1761 non-null   object \n",
      " 11  DeviceProtection  1761 non-null   object \n",
      " 12  TechSupport       1761 non-null   object \n",
      " 13  StreamingTV       1761 non-null   object \n",
      " 14  StreamingMovies   1761 non-null   object \n",
      " 15  Contract          1761 non-null   object \n",
      " 16  PaperlessBilling  1761 non-null   object \n",
      " 17  PaymentMethod     1761 non-null   object \n",
      " 18  MonthlyCharges    1761 non-null   float64\n",
      " 19  TotalCharges      1761 non-null   object \n",
      " 20  Churn             1761 non-null   object \n",
      "dtypes: float64(1), int64(2), object(18)\n",
      "memory usage: 302.7+ KB\n"
     ]
    }
   ],
   "source": [
    "# Reducing size of DF from 7043 to 1761\n",
    "df = df.sample(frac =.25, random_state= 0)\n",
    "df.info()"
   ]
  },
  {
   "cell_type": "code",
   "execution_count": 13,
   "metadata": {},
   "outputs": [],
   "source": [
    "# Dropping Duplicates in Dataset\n",
    "\n",
    "df.drop_duplicates(subset=None, keep= False, inplace= True)"
   ]
  },
  {
   "cell_type": "code",
   "execution_count": 14,
   "metadata": {},
   "outputs": [],
   "source": [
    "# Dropping customerID column\n",
    "df.drop(labels= 'customerID' , axis=1, inplace= True)"
   ]
  },
  {
   "cell_type": "markdown",
   "metadata": {},
   "source": [
    "Converting binary values to respective 0s and 1s depending of freq"
   ]
  },
  {
   "cell_type": "code",
   "execution_count": 15,
   "metadata": {},
   "outputs": [
    {
     "data": {
      "text/plain": [
       "count     1761\n",
       "unique       2\n",
       "top       Male\n",
       "freq       926\n",
       "Name: gender, dtype: object"
      ]
     },
     "execution_count": 15,
     "metadata": {},
     "output_type": "execute_result"
    }
   ],
   "source": [
    "#Details of the Gender column\n",
    "df.gender.describe()"
   ]
  },
  {
   "cell_type": "code",
   "execution_count": 16,
   "metadata": {},
   "outputs": [],
   "source": [
    "#Replacing most frequent value->'Male' with 1 and 'Female' with 0\n",
    "df[\"gender\"].replace(to_replace='Male', value= 1, inplace=True)\n",
    "df[\"gender\"].replace(to_replace='Female', value= 0, inplace=True)"
   ]
  },
  {
   "cell_type": "code",
   "execution_count": 17,
   "metadata": {},
   "outputs": [
    {
     "data": {
      "text/plain": [
       "count     1761\n",
       "unique       2\n",
       "top         No\n",
       "freq       918\n",
       "Name: Partner, dtype: object"
      ]
     },
     "execution_count": 17,
     "metadata": {},
     "output_type": "execute_result"
    }
   ],
   "source": [
    "#Details of the Partner column\n",
    "df.Partner.describe()"
   ]
  },
  {
   "cell_type": "code",
   "execution_count": 18,
   "metadata": {},
   "outputs": [],
   "source": [
    "#Replacing most frequent value->'No' with 1 and 'Yes' with 0\n",
    "\n",
    "df['Partner'].replace(to_replace = 'No', value = 1, inplace = True )\n",
    "df['Partner'].replace(to_replace = 'Yes', value = 0, inplace = True )"
   ]
  },
  {
   "cell_type": "code",
   "execution_count": 19,
   "metadata": {},
   "outputs": [
    {
     "data": {
      "text/plain": [
       "count     1761\n",
       "unique       2\n",
       "top         No\n",
       "freq      1242\n",
       "Name: Dependents, dtype: object"
      ]
     },
     "execution_count": 19,
     "metadata": {},
     "output_type": "execute_result"
    }
   ],
   "source": [
    "df['Dependents'].describe()"
   ]
  },
  {
   "cell_type": "code",
   "execution_count": 20,
   "metadata": {},
   "outputs": [],
   "source": [
    "#Replacing most frequent value->'No' with 1 and 'Yes' with 0\n",
    "\n",
    "df['Dependents'].replace(to_replace = 'No', value = 1, inplace = True )\n",
    "df['Dependents'].replace(to_replace = 'Yes', value = 0, inplace = True )"
   ]
  },
  {
   "cell_type": "code",
   "execution_count": 21,
   "metadata": {},
   "outputs": [
    {
     "data": {
      "text/plain": [
       "count     1761\n",
       "unique       2\n",
       "top        Yes\n",
       "freq      1586\n",
       "Name: PhoneService, dtype: object"
      ]
     },
     "execution_count": 21,
     "metadata": {},
     "output_type": "execute_result"
    }
   ],
   "source": [
    "df['PhoneService'].describe()"
   ]
  },
  {
   "cell_type": "code",
   "execution_count": 22,
   "metadata": {},
   "outputs": [],
   "source": [
    "#Replacing most frequent value->'Yes' with 1 and 'No' with 0\n",
    "\n",
    "df['PhoneService'].replace(to_replace = 'Yes', value = 1, inplace = True )\n",
    "df['PhoneService'].replace(to_replace = 'No', value = 0, inplace = True )"
   ]
  },
  {
   "cell_type": "code",
   "execution_count": 23,
   "metadata": {},
   "outputs": [
    {
     "data": {
      "text/plain": [
       "count     1761\n",
       "unique       2\n",
       "top        Yes\n",
       "freq      1015\n",
       "Name: PaperlessBilling, dtype: object"
      ]
     },
     "execution_count": 23,
     "metadata": {},
     "output_type": "execute_result"
    }
   ],
   "source": [
    "df['PaperlessBilling'].describe()"
   ]
  },
  {
   "cell_type": "code",
   "execution_count": 24,
   "metadata": {},
   "outputs": [],
   "source": [
    "#Replacing most frequent value->'Yes' with 1 and 'No' with 0\n",
    "\n",
    "df['PaperlessBilling'].replace(to_replace = 'Yes', value = 1, inplace = True )\n",
    "df['PaperlessBilling'].replace(to_replace = 'No', value = 0, inplace = True )"
   ]
  },
  {
   "cell_type": "code",
   "execution_count": 25,
   "metadata": {},
   "outputs": [
    {
     "data": {
      "text/plain": [
       "count     1761\n",
       "unique       2\n",
       "top         No\n",
       "freq      1298\n",
       "Name: Churn, dtype: object"
      ]
     },
     "execution_count": 25,
     "metadata": {},
     "output_type": "execute_result"
    }
   ],
   "source": [
    "df['Churn'].describe()"
   ]
  },
  {
   "cell_type": "code",
   "execution_count": 26,
   "metadata": {},
   "outputs": [],
   "source": [
    "#Replacing most frequent value->'Yes' with 1 and 'No' with 0\n",
    "\n",
    "df['Churn'].replace(to_replace = 'Yes', value = 1, inplace = True )\n",
    "df['Churn'].replace(to_replace = 'No', value = 0, inplace = True )"
   ]
  },
  {
   "cell_type": "markdown",
   "metadata": {},
   "source": [
    "Inducing random null values in the 6 columns"
   ]
  },
  {
   "cell_type": "code",
   "execution_count": 27,
   "metadata": {},
   "outputs": [],
   "source": [
    "column_list = ['OnlineSecurity','OnlineBackup','DeviceProtection','TechSupport','StreamingTV','StreamingMovies']\n",
    "rand_st = 0\n",
    "for column in column_list:\n",
    "    df.loc[df.sample(frac = .17, random_state = rand_st).index,column] = np.NaN\n",
    "    rand_st += 5"
   ]
  },
  {
   "cell_type": "markdown",
   "metadata": {},
   "source": [
    "Missing values need to be between 5-10% "
   ]
  },
  {
   "cell_type": "code",
   "execution_count": 28,
   "metadata": {},
   "outputs": [
    {
     "data": {
      "text/plain": [
       "0.05093696763202726"
      ]
     },
     "execution_count": 28,
     "metadata": {},
     "output_type": "execute_result"
    }
   ],
   "source": [
    "# % of missing values\n",
    "df.isna().sum().sum()/(len(df)*len(df.columns))"
   ]
  },
  {
   "cell_type": "markdown",
   "metadata": {},
   "source": [
    "Finding unique values, imputing null values with most frequent value and processing one hot vector for then next 6 variables"
   ]
  },
  {
   "cell_type": "code",
   "execution_count": 29,
   "metadata": {},
   "outputs": [
    {
     "data": {
      "text/plain": [
       "array(['No', 'Yes', 'No internet service', nan], dtype=object)"
      ]
     },
     "execution_count": 29,
     "metadata": {},
     "output_type": "execute_result"
    }
   ],
   "source": [
    "# Values in col Online Security\n",
    "df.OnlineSecurity.unique()"
   ]
  },
  {
   "cell_type": "code",
   "execution_count": 30,
   "metadata": {},
   "outputs": [
    {
     "data": {
      "text/plain": [
       "count     1462\n",
       "unique       3\n",
       "top         No\n",
       "freq       739\n",
       "Name: OnlineSecurity, dtype: object"
      ]
     },
     "execution_count": 30,
     "metadata": {},
     "output_type": "execute_result"
    }
   ],
   "source": [
    "df['OnlineSecurity'].describe()"
   ]
  },
  {
   "cell_type": "code",
   "execution_count": 31,
   "metadata": {},
   "outputs": [],
   "source": [
    "#Replacing most frequent value->'Yes' with 0 and 'No' with 1\n",
    "\n",
    "df['OnlineSecurity'].replace(to_replace = 'Yes', value = 0, inplace = True )\n",
    "df['OnlineSecurity'].replace(to_replace = 'No', value = 1, inplace = True )\n",
    "df['OnlineSecurity'].replace(to_replace = np.nan , value = 1, inplace = True )"
   ]
  },
  {
   "cell_type": "code",
   "execution_count": 32,
   "metadata": {},
   "outputs": [],
   "source": [
    "dummies = pd.get_dummies(df['OnlineSecurity'], prefix = 'OnlineSecurity')\n",
    "df[dummies.columns] = dummies\n",
    "df.drop('OnlineSecurity', axis = 1, inplace = True)"
   ]
  },
  {
   "cell_type": "code",
   "execution_count": 33,
   "metadata": {},
   "outputs": [
    {
     "data": {
      "text/plain": [
       "array(['Yes', 'No', 'No internet service', nan], dtype=object)"
      ]
     },
     "execution_count": 33,
     "metadata": {},
     "output_type": "execute_result"
    }
   ],
   "source": [
    "df.OnlineBackup.unique()"
   ]
  },
  {
   "cell_type": "code",
   "execution_count": 34,
   "metadata": {},
   "outputs": [],
   "source": [
    "#Replacing most frequent value->'Yes' with 0 and 'No' with 1\n",
    "\n",
    "df['OnlineBackup'].replace(to_replace = 'Yes', value = 0, inplace = True )\n",
    "df['OnlineBackup'].replace(to_replace = 'No', value = 1, inplace = True )\n",
    "df['OnlineBackup'].replace(to_replace = np.nan, value = 1, inplace = True )"
   ]
  },
  {
   "cell_type": "code",
   "execution_count": 35,
   "metadata": {},
   "outputs": [],
   "source": [
    "dummies = pd.get_dummies(df['OnlineBackup'], prefix = 'OnlineBackup')\n",
    "df[dummies.columns] = dummies\n",
    "df.drop('OnlineBackup', axis = 1, inplace = True)"
   ]
  },
  {
   "cell_type": "code",
   "execution_count": 36,
   "metadata": {},
   "outputs": [
    {
     "data": {
      "text/plain": [
       "array(['No', nan, 'No internet service', 'Yes'], dtype=object)"
      ]
     },
     "execution_count": 36,
     "metadata": {},
     "output_type": "execute_result"
    }
   ],
   "source": [
    "df['DeviceProtection'].unique()"
   ]
  },
  {
   "cell_type": "code",
   "execution_count": 37,
   "metadata": {},
   "outputs": [
    {
     "data": {
      "text/plain": [
       "count     1462\n",
       "unique       3\n",
       "top         No\n",
       "freq       629\n",
       "Name: DeviceProtection, dtype: object"
      ]
     },
     "execution_count": 37,
     "metadata": {},
     "output_type": "execute_result"
    }
   ],
   "source": [
    "df['DeviceProtection'].describe()"
   ]
  },
  {
   "cell_type": "code",
   "execution_count": 38,
   "metadata": {},
   "outputs": [],
   "source": [
    "#Replacing most frequent value->'Yes' with 0 and 'No' with 1\n",
    "\n",
    "df['DeviceProtection'].replace(to_replace = 'Yes', value = 0, inplace = True )\n",
    "df['DeviceProtection'].replace(to_replace = 'No', value = 1, inplace = True )\n",
    "df['DeviceProtection'].replace(to_replace = np.nan, value = 1, inplace = True )"
   ]
  },
  {
   "cell_type": "code",
   "execution_count": 39,
   "metadata": {},
   "outputs": [],
   "source": [
    "dummies = pd.get_dummies(df['DeviceProtection'], prefix = 'DeviceProtection')\n",
    "df[dummies.columns] = dummies\n",
    "df.drop('DeviceProtection', axis = 1, inplace = True)"
   ]
  },
  {
   "cell_type": "code",
   "execution_count": 40,
   "metadata": {},
   "outputs": [
    {
     "data": {
      "text/plain": [
       "array(['No', 'Yes', nan, 'No internet service'], dtype=object)"
      ]
     },
     "execution_count": 40,
     "metadata": {},
     "output_type": "execute_result"
    }
   ],
   "source": [
    "df['TechSupport'].unique()"
   ]
  },
  {
   "cell_type": "code",
   "execution_count": 41,
   "metadata": {},
   "outputs": [
    {
     "data": {
      "text/plain": [
       "count     1462\n",
       "unique       3\n",
       "top         No\n",
       "freq       691\n",
       "Name: TechSupport, dtype: object"
      ]
     },
     "execution_count": 41,
     "metadata": {},
     "output_type": "execute_result"
    }
   ],
   "source": [
    "df['TechSupport'].describe()"
   ]
  },
  {
   "cell_type": "code",
   "execution_count": 42,
   "metadata": {},
   "outputs": [],
   "source": [
    "#Replacing most frequent value->'Yes' with 0 and 'No' with 1\n",
    "\n",
    "df['TechSupport'].replace(to_replace = 'Yes', value = 0, inplace = True )\n",
    "df['TechSupport'].replace(to_replace = 'No', value = 1, inplace = True )\n",
    "df['TechSupport'].replace(to_replace = np.nan, value = 1, inplace = True )"
   ]
  },
  {
   "cell_type": "code",
   "execution_count": 43,
   "metadata": {},
   "outputs": [],
   "source": [
    "dummies = pd.get_dummies(df['TechSupport'], prefix = 'TechSupport')\n",
    "df[dummies.columns] = dummies\n",
    "df.drop('TechSupport', axis = 1, inplace = True)"
   ]
  },
  {
   "cell_type": "code",
   "execution_count": 44,
   "metadata": {},
   "outputs": [
    {
     "data": {
      "text/plain": [
       "array(['Yes', 'No internet service', 'No', nan], dtype=object)"
      ]
     },
     "execution_count": 44,
     "metadata": {},
     "output_type": "execute_result"
    }
   ],
   "source": [
    "df['StreamingTV'].unique()"
   ]
  },
  {
   "cell_type": "code",
   "execution_count": 45,
   "metadata": {},
   "outputs": [
    {
     "data": {
      "text/plain": [
       "count     1462\n",
       "unique       3\n",
       "top        Yes\n",
       "freq       571\n",
       "Name: StreamingTV, dtype: object"
      ]
     },
     "execution_count": 45,
     "metadata": {},
     "output_type": "execute_result"
    }
   ],
   "source": [
    "df['StreamingTV'].describe()"
   ]
  },
  {
   "cell_type": "code",
   "execution_count": 46,
   "metadata": {},
   "outputs": [],
   "source": [
    "#Replacing most frequent value->'Yes' with 0 and 'No' with 1\n",
    "\n",
    "df['StreamingTV'].replace(to_replace = 'Yes', value = 0, inplace = True )\n",
    "df['StreamingTV'].replace(to_replace = 'No', value = 1, inplace = True )\n",
    "df['StreamingTV'].replace(to_replace = np.nan, value = 1, inplace = True )"
   ]
  },
  {
   "cell_type": "code",
   "execution_count": 47,
   "metadata": {},
   "outputs": [],
   "source": [
    "dummies = pd.get_dummies(df['StreamingTV'], prefix = 'StreamingTV')\n",
    "df[dummies.columns] = dummies\n",
    "df.drop('StreamingTV', axis = 1, inplace = True)"
   ]
  },
  {
   "cell_type": "code",
   "execution_count": 48,
   "metadata": {},
   "outputs": [
    {
     "data": {
      "text/plain": [
       "array(['No', 'Yes', 'No internet service', nan], dtype=object)"
      ]
     },
     "execution_count": 48,
     "metadata": {},
     "output_type": "execute_result"
    }
   ],
   "source": [
    "df['StreamingMovies'].unique()"
   ]
  },
  {
   "cell_type": "code",
   "execution_count": 49,
   "metadata": {},
   "outputs": [
    {
     "data": {
      "text/plain": [
       "count     1462\n",
       "unique       3\n",
       "top        Yes\n",
       "freq       582\n",
       "Name: StreamingMovies, dtype: object"
      ]
     },
     "execution_count": 49,
     "metadata": {},
     "output_type": "execute_result"
    }
   ],
   "source": [
    "df['StreamingMovies'].describe()"
   ]
  },
  {
   "cell_type": "code",
   "execution_count": 50,
   "metadata": {},
   "outputs": [],
   "source": [
    "#Replacing most frequent value->'Yes' with 0 and 'No' with 1\n",
    "\n",
    "df['StreamingMovies'].replace(to_replace = 'Yes', value = 1, inplace = True )\n",
    "df['StreamingMovies'].replace(to_replace = 'No', value = 0, inplace = True )\n",
    "df['StreamingMovies'].replace(to_replace = np.nan, value = 1, inplace = True )"
   ]
  },
  {
   "cell_type": "code",
   "execution_count": 51,
   "metadata": {},
   "outputs": [],
   "source": [
    "dummies = pd.get_dummies(df['StreamingMovies'], prefix = 'StreamingMovies')\n",
    "df[dummies.columns] = dummies\n",
    "df.drop('StreamingMovies', axis = 1, inplace = True)"
   ]
  },
  {
   "cell_type": "markdown",
   "metadata": {},
   "source": [
    "Identifying categorical variables with multiple inputs and converting to one hot vector"
   ]
  },
  {
   "cell_type": "code",
   "execution_count": 52,
   "metadata": {},
   "outputs": [
    {
     "data": {
      "text/plain": [
       "array(['No', 'Yes', 'No phone service'], dtype=object)"
      ]
     },
     "execution_count": 52,
     "metadata": {},
     "output_type": "execute_result"
    }
   ],
   "source": [
    "df.MultipleLines.unique()"
   ]
  },
  {
   "cell_type": "code",
   "execution_count": 53,
   "metadata": {},
   "outputs": [],
   "source": [
    "dummies = pd.get_dummies(df['MultipleLines'], prefix = 'MultipleLines')\n",
    "df[dummies.columns] = dummies\n",
    "df.drop('MultipleLines', axis = 1, inplace = True)"
   ]
  },
  {
   "cell_type": "code",
   "execution_count": 54,
   "metadata": {},
   "outputs": [
    {
     "data": {
      "text/plain": [
       "array(['DSL', 'Fiber optic', 'No'], dtype=object)"
      ]
     },
     "execution_count": 54,
     "metadata": {},
     "output_type": "execute_result"
    }
   ],
   "source": [
    "df.InternetService.unique()"
   ]
  },
  {
   "cell_type": "code",
   "execution_count": 55,
   "metadata": {},
   "outputs": [],
   "source": [
    "dummies = pd.get_dummies(df['InternetService'], prefix = 'InternetService')\n",
    "df[dummies.columns] = dummies\n",
    "df.drop('InternetService', axis = 1, inplace = True)"
   ]
  },
  {
   "cell_type": "code",
   "execution_count": 56,
   "metadata": {},
   "outputs": [
    {
     "data": {
      "text/plain": [
       "array(['One year', 'Month-to-month', 'Two year'], dtype=object)"
      ]
     },
     "execution_count": 56,
     "metadata": {},
     "output_type": "execute_result"
    }
   ],
   "source": [
    "df.Contract.unique()"
   ]
  },
  {
   "cell_type": "code",
   "execution_count": 57,
   "metadata": {},
   "outputs": [],
   "source": [
    "dummies = pd.get_dummies(df['Contract'], prefix = 'Contract')\n",
    "df[dummies.columns] = dummies\n",
    "df.drop('Contract', axis = 1, inplace = True)"
   ]
  },
  {
   "cell_type": "code",
   "execution_count": 58,
   "metadata": {},
   "outputs": [
    {
     "data": {
      "text/plain": [
       "array(['Electronic check', 'Credit card (automatic)', 'Mailed check',\n",
       "       'Bank transfer (automatic)'], dtype=object)"
      ]
     },
     "execution_count": 58,
     "metadata": {},
     "output_type": "execute_result"
    }
   ],
   "source": [
    "df.PaymentMethod.unique()"
   ]
  },
  {
   "cell_type": "code",
   "execution_count": 59,
   "metadata": {},
   "outputs": [],
   "source": [
    "dummies = pd.get_dummies(df['PaymentMethod'], prefix = 'PaymentMethod')\n",
    "df[dummies.columns] = dummies\n",
    "df.drop('PaymentMethod', axis = 1, inplace = True)"
   ]
  },
  {
   "cell_type": "markdown",
   "metadata": {},
   "source": [
    "Converting datatype "
   ]
  },
  {
   "cell_type": "code",
   "execution_count": 60,
   "metadata": {},
   "outputs": [],
   "source": [
    "df['TotalCharges'] = pd.to_numeric(df['TotalCharges'],errors='coerce')"
   ]
  },
  {
   "cell_type": "code",
   "execution_count": 61,
   "metadata": {},
   "outputs": [
    {
     "data": {
      "text/html": [
       "<div>\n",
       "<style scoped>\n",
       "    .dataframe tbody tr th:only-of-type {\n",
       "        vertical-align: middle;\n",
       "    }\n",
       "\n",
       "    .dataframe tbody tr th {\n",
       "        vertical-align: top;\n",
       "    }\n",
       "\n",
       "    .dataframe thead th {\n",
       "        text-align: right;\n",
       "    }\n",
       "</style>\n",
       "<table border=\"1\" class=\"dataframe\">\n",
       "  <thead>\n",
       "    <tr style=\"text-align: right;\">\n",
       "      <th></th>\n",
       "      <th>gender</th>\n",
       "      <th>SeniorCitizen</th>\n",
       "      <th>Partner</th>\n",
       "      <th>Dependents</th>\n",
       "      <th>tenure</th>\n",
       "      <th>PhoneService</th>\n",
       "      <th>PaperlessBilling</th>\n",
       "      <th>MonthlyCharges</th>\n",
       "      <th>TotalCharges</th>\n",
       "      <th>Churn</th>\n",
       "      <th>...</th>\n",
       "      <th>InternetService_DSL</th>\n",
       "      <th>InternetService_Fiber optic</th>\n",
       "      <th>InternetService_No</th>\n",
       "      <th>Contract_Month-to-month</th>\n",
       "      <th>Contract_One year</th>\n",
       "      <th>Contract_Two year</th>\n",
       "      <th>PaymentMethod_Bank transfer (automatic)</th>\n",
       "      <th>PaymentMethod_Credit card (automatic)</th>\n",
       "      <th>PaymentMethod_Electronic check</th>\n",
       "      <th>PaymentMethod_Mailed check</th>\n",
       "    </tr>\n",
       "  </thead>\n",
       "  <tbody>\n",
       "    <tr>\n",
       "      <th>2200</th>\n",
       "      <td>0</td>\n",
       "      <td>0</td>\n",
       "      <td>1</td>\n",
       "      <td>1</td>\n",
       "      <td>19</td>\n",
       "      <td>1</td>\n",
       "      <td>0</td>\n",
       "      <td>58.20</td>\n",
       "      <td>1045.25</td>\n",
       "      <td>0</td>\n",
       "      <td>...</td>\n",
       "      <td>1</td>\n",
       "      <td>0</td>\n",
       "      <td>0</td>\n",
       "      <td>0</td>\n",
       "      <td>1</td>\n",
       "      <td>0</td>\n",
       "      <td>0</td>\n",
       "      <td>0</td>\n",
       "      <td>1</td>\n",
       "      <td>0</td>\n",
       "    </tr>\n",
       "    <tr>\n",
       "      <th>4627</th>\n",
       "      <td>1</td>\n",
       "      <td>0</td>\n",
       "      <td>1</td>\n",
       "      <td>1</td>\n",
       "      <td>60</td>\n",
       "      <td>1</td>\n",
       "      <td>1</td>\n",
       "      <td>116.60</td>\n",
       "      <td>7049.50</td>\n",
       "      <td>0</td>\n",
       "      <td>...</td>\n",
       "      <td>0</td>\n",
       "      <td>1</td>\n",
       "      <td>0</td>\n",
       "      <td>0</td>\n",
       "      <td>1</td>\n",
       "      <td>0</td>\n",
       "      <td>0</td>\n",
       "      <td>1</td>\n",
       "      <td>0</td>\n",
       "      <td>0</td>\n",
       "    </tr>\n",
       "    <tr>\n",
       "      <th>3225</th>\n",
       "      <td>0</td>\n",
       "      <td>0</td>\n",
       "      <td>1</td>\n",
       "      <td>1</td>\n",
       "      <td>13</td>\n",
       "      <td>1</td>\n",
       "      <td>1</td>\n",
       "      <td>71.95</td>\n",
       "      <td>923.85</td>\n",
       "      <td>0</td>\n",
       "      <td>...</td>\n",
       "      <td>1</td>\n",
       "      <td>0</td>\n",
       "      <td>0</td>\n",
       "      <td>1</td>\n",
       "      <td>0</td>\n",
       "      <td>0</td>\n",
       "      <td>0</td>\n",
       "      <td>0</td>\n",
       "      <td>1</td>\n",
       "      <td>0</td>\n",
       "    </tr>\n",
       "    <tr>\n",
       "      <th>2828</th>\n",
       "      <td>1</td>\n",
       "      <td>0</td>\n",
       "      <td>1</td>\n",
       "      <td>1</td>\n",
       "      <td>1</td>\n",
       "      <td>1</td>\n",
       "      <td>0</td>\n",
       "      <td>20.45</td>\n",
       "      <td>20.45</td>\n",
       "      <td>0</td>\n",
       "      <td>...</td>\n",
       "      <td>0</td>\n",
       "      <td>0</td>\n",
       "      <td>1</td>\n",
       "      <td>0</td>\n",
       "      <td>0</td>\n",
       "      <td>1</td>\n",
       "      <td>0</td>\n",
       "      <td>0</td>\n",
       "      <td>0</td>\n",
       "      <td>1</td>\n",
       "    </tr>\n",
       "    <tr>\n",
       "      <th>3768</th>\n",
       "      <td>0</td>\n",
       "      <td>0</td>\n",
       "      <td>0</td>\n",
       "      <td>1</td>\n",
       "      <td>55</td>\n",
       "      <td>1</td>\n",
       "      <td>1</td>\n",
       "      <td>77.75</td>\n",
       "      <td>4266.40</td>\n",
       "      <td>0</td>\n",
       "      <td>...</td>\n",
       "      <td>0</td>\n",
       "      <td>1</td>\n",
       "      <td>0</td>\n",
       "      <td>1</td>\n",
       "      <td>0</td>\n",
       "      <td>0</td>\n",
       "      <td>0</td>\n",
       "      <td>1</td>\n",
       "      <td>0</td>\n",
       "      <td>0</td>\n",
       "    </tr>\n",
       "    <tr>\n",
       "      <th>...</th>\n",
       "      <td>...</td>\n",
       "      <td>...</td>\n",
       "      <td>...</td>\n",
       "      <td>...</td>\n",
       "      <td>...</td>\n",
       "      <td>...</td>\n",
       "      <td>...</td>\n",
       "      <td>...</td>\n",
       "      <td>...</td>\n",
       "      <td>...</td>\n",
       "      <td>...</td>\n",
       "      <td>...</td>\n",
       "      <td>...</td>\n",
       "      <td>...</td>\n",
       "      <td>...</td>\n",
       "      <td>...</td>\n",
       "      <td>...</td>\n",
       "      <td>...</td>\n",
       "      <td>...</td>\n",
       "      <td>...</td>\n",
       "      <td>...</td>\n",
       "    </tr>\n",
       "    <tr>\n",
       "      <th>3184</th>\n",
       "      <td>0</td>\n",
       "      <td>0</td>\n",
       "      <td>0</td>\n",
       "      <td>1</td>\n",
       "      <td>71</td>\n",
       "      <td>1</td>\n",
       "      <td>1</td>\n",
       "      <td>83.30</td>\n",
       "      <td>5894.50</td>\n",
       "      <td>0</td>\n",
       "      <td>...</td>\n",
       "      <td>1</td>\n",
       "      <td>0</td>\n",
       "      <td>0</td>\n",
       "      <td>0</td>\n",
       "      <td>0</td>\n",
       "      <td>1</td>\n",
       "      <td>0</td>\n",
       "      <td>1</td>\n",
       "      <td>0</td>\n",
       "      <td>0</td>\n",
       "    </tr>\n",
       "    <tr>\n",
       "      <th>2551</th>\n",
       "      <td>0</td>\n",
       "      <td>0</td>\n",
       "      <td>1</td>\n",
       "      <td>1</td>\n",
       "      <td>12</td>\n",
       "      <td>1</td>\n",
       "      <td>0</td>\n",
       "      <td>19.45</td>\n",
       "      <td>227.45</td>\n",
       "      <td>0</td>\n",
       "      <td>...</td>\n",
       "      <td>0</td>\n",
       "      <td>0</td>\n",
       "      <td>1</td>\n",
       "      <td>1</td>\n",
       "      <td>0</td>\n",
       "      <td>0</td>\n",
       "      <td>1</td>\n",
       "      <td>0</td>\n",
       "      <td>0</td>\n",
       "      <td>0</td>\n",
       "    </tr>\n",
       "    <tr>\n",
       "      <th>5735</th>\n",
       "      <td>0</td>\n",
       "      <td>0</td>\n",
       "      <td>0</td>\n",
       "      <td>0</td>\n",
       "      <td>48</td>\n",
       "      <td>1</td>\n",
       "      <td>0</td>\n",
       "      <td>20.00</td>\n",
       "      <td>935.90</td>\n",
       "      <td>0</td>\n",
       "      <td>...</td>\n",
       "      <td>0</td>\n",
       "      <td>0</td>\n",
       "      <td>1</td>\n",
       "      <td>0</td>\n",
       "      <td>0</td>\n",
       "      <td>1</td>\n",
       "      <td>0</td>\n",
       "      <td>0</td>\n",
       "      <td>0</td>\n",
       "      <td>1</td>\n",
       "    </tr>\n",
       "    <tr>\n",
       "      <th>5096</th>\n",
       "      <td>1</td>\n",
       "      <td>0</td>\n",
       "      <td>0</td>\n",
       "      <td>0</td>\n",
       "      <td>71</td>\n",
       "      <td>1</td>\n",
       "      <td>0</td>\n",
       "      <td>86.85</td>\n",
       "      <td>6263.80</td>\n",
       "      <td>0</td>\n",
       "      <td>...</td>\n",
       "      <td>1</td>\n",
       "      <td>0</td>\n",
       "      <td>0</td>\n",
       "      <td>0</td>\n",
       "      <td>0</td>\n",
       "      <td>1</td>\n",
       "      <td>1</td>\n",
       "      <td>0</td>\n",
       "      <td>0</td>\n",
       "      <td>0</td>\n",
       "    </tr>\n",
       "    <tr>\n",
       "      <th>450</th>\n",
       "      <td>0</td>\n",
       "      <td>0</td>\n",
       "      <td>1</td>\n",
       "      <td>1</td>\n",
       "      <td>64</td>\n",
       "      <td>1</td>\n",
       "      <td>0</td>\n",
       "      <td>24.70</td>\n",
       "      <td>1642.75</td>\n",
       "      <td>0</td>\n",
       "      <td>...</td>\n",
       "      <td>0</td>\n",
       "      <td>0</td>\n",
       "      <td>1</td>\n",
       "      <td>0</td>\n",
       "      <td>1</td>\n",
       "      <td>0</td>\n",
       "      <td>0</td>\n",
       "      <td>0</td>\n",
       "      <td>0</td>\n",
       "      <td>1</td>\n",
       "    </tr>\n",
       "  </tbody>\n",
       "</table>\n",
       "<p>1761 rows × 41 columns</p>\n",
       "</div>"
      ],
      "text/plain": [
       "      gender  SeniorCitizen  Partner  Dependents  tenure  PhoneService  \\\n",
       "2200       0              0        1           1      19             1   \n",
       "4627       1              0        1           1      60             1   \n",
       "3225       0              0        1           1      13             1   \n",
       "2828       1              0        1           1       1             1   \n",
       "3768       0              0        0           1      55             1   \n",
       "...      ...            ...      ...         ...     ...           ...   \n",
       "3184       0              0        0           1      71             1   \n",
       "2551       0              0        1           1      12             1   \n",
       "5735       0              0        0           0      48             1   \n",
       "5096       1              0        0           0      71             1   \n",
       "450        0              0        1           1      64             1   \n",
       "\n",
       "      PaperlessBilling  MonthlyCharges  TotalCharges  Churn  ...  \\\n",
       "2200                 0           58.20       1045.25      0  ...   \n",
       "4627                 1          116.60       7049.50      0  ...   \n",
       "3225                 1           71.95        923.85      0  ...   \n",
       "2828                 0           20.45         20.45      0  ...   \n",
       "3768                 1           77.75       4266.40      0  ...   \n",
       "...                ...             ...           ...    ...  ...   \n",
       "3184                 1           83.30       5894.50      0  ...   \n",
       "2551                 0           19.45        227.45      0  ...   \n",
       "5735                 0           20.00        935.90      0  ...   \n",
       "5096                 0           86.85       6263.80      0  ...   \n",
       "450                  0           24.70       1642.75      0  ...   \n",
       "\n",
       "      InternetService_DSL  InternetService_Fiber optic  InternetService_No  \\\n",
       "2200                    1                            0                   0   \n",
       "4627                    0                            1                   0   \n",
       "3225                    1                            0                   0   \n",
       "2828                    0                            0                   1   \n",
       "3768                    0                            1                   0   \n",
       "...                   ...                          ...                 ...   \n",
       "3184                    1                            0                   0   \n",
       "2551                    0                            0                   1   \n",
       "5735                    0                            0                   1   \n",
       "5096                    1                            0                   0   \n",
       "450                     0                            0                   1   \n",
       "\n",
       "      Contract_Month-to-month  Contract_One year  Contract_Two year  \\\n",
       "2200                        0                  1                  0   \n",
       "4627                        0                  1                  0   \n",
       "3225                        1                  0                  0   \n",
       "2828                        0                  0                  1   \n",
       "3768                        1                  0                  0   \n",
       "...                       ...                ...                ...   \n",
       "3184                        0                  0                  1   \n",
       "2551                        1                  0                  0   \n",
       "5735                        0                  0                  1   \n",
       "5096                        0                  0                  1   \n",
       "450                         0                  1                  0   \n",
       "\n",
       "      PaymentMethod_Bank transfer (automatic)  \\\n",
       "2200                                        0   \n",
       "4627                                        0   \n",
       "3225                                        0   \n",
       "2828                                        0   \n",
       "3768                                        0   \n",
       "...                                       ...   \n",
       "3184                                        0   \n",
       "2551                                        1   \n",
       "5735                                        0   \n",
       "5096                                        1   \n",
       "450                                         0   \n",
       "\n",
       "      PaymentMethod_Credit card (automatic)  PaymentMethod_Electronic check  \\\n",
       "2200                                      0                               1   \n",
       "4627                                      1                               0   \n",
       "3225                                      0                               1   \n",
       "2828                                      0                               0   \n",
       "3768                                      1                               0   \n",
       "...                                     ...                             ...   \n",
       "3184                                      1                               0   \n",
       "2551                                      0                               0   \n",
       "5735                                      0                               0   \n",
       "5096                                      0                               0   \n",
       "450                                       0                               0   \n",
       "\n",
       "      PaymentMethod_Mailed check  \n",
       "2200                           0  \n",
       "4627                           0  \n",
       "3225                           0  \n",
       "2828                           1  \n",
       "3768                           0  \n",
       "...                          ...  \n",
       "3184                           0  \n",
       "2551                           0  \n",
       "5735                           1  \n",
       "5096                           0  \n",
       "450                            1  \n",
       "\n",
       "[1761 rows x 41 columns]"
      ]
     },
     "execution_count": 61,
     "metadata": {},
     "output_type": "execute_result"
    }
   ],
   "source": [
    "df"
   ]
  },
  {
   "cell_type": "code",
   "execution_count": 62,
   "metadata": {},
   "outputs": [
    {
     "name": "stdout",
     "output_type": "stream",
     "text": [
      "<class 'pandas.core.frame.DataFrame'>\n",
      "Int64Index: 1761 entries, 2200 to 450\n",
      "Data columns (total 41 columns):\n",
      " #   Column                                   Non-Null Count  Dtype  \n",
      "---  ------                                   --------------  -----  \n",
      " 0   gender                                   1761 non-null   int64  \n",
      " 1   SeniorCitizen                            1761 non-null   int64  \n",
      " 2   Partner                                  1761 non-null   int64  \n",
      " 3   Dependents                               1761 non-null   int64  \n",
      " 4   tenure                                   1761 non-null   int64  \n",
      " 5   PhoneService                             1761 non-null   int64  \n",
      " 6   PaperlessBilling                         1761 non-null   int64  \n",
      " 7   MonthlyCharges                           1761 non-null   float64\n",
      " 8   TotalCharges                             1758 non-null   float64\n",
      " 9   Churn                                    1761 non-null   int64  \n",
      " 10  OnlineSecurity_0                         1761 non-null   uint8  \n",
      " 11  OnlineSecurity_1                         1761 non-null   uint8  \n",
      " 12  OnlineSecurity_No internet service       1761 non-null   uint8  \n",
      " 13  OnlineBackup_0                           1761 non-null   uint8  \n",
      " 14  OnlineBackup_1                           1761 non-null   uint8  \n",
      " 15  OnlineBackup_No internet service         1761 non-null   uint8  \n",
      " 16  DeviceProtection_0                       1761 non-null   uint8  \n",
      " 17  DeviceProtection_1                       1761 non-null   uint8  \n",
      " 18  DeviceProtection_No internet service     1761 non-null   uint8  \n",
      " 19  TechSupport_0                            1761 non-null   uint8  \n",
      " 20  TechSupport_1                            1761 non-null   uint8  \n",
      " 21  TechSupport_No internet service          1761 non-null   uint8  \n",
      " 22  StreamingTV_0                            1761 non-null   uint8  \n",
      " 23  StreamingTV_1                            1761 non-null   uint8  \n",
      " 24  StreamingTV_No internet service          1761 non-null   uint8  \n",
      " 25  StreamingMovies_0                        1761 non-null   uint8  \n",
      " 26  StreamingMovies_1                        1761 non-null   uint8  \n",
      " 27  StreamingMovies_No internet service      1761 non-null   uint8  \n",
      " 28  MultipleLines_No                         1761 non-null   uint8  \n",
      " 29  MultipleLines_No phone service           1761 non-null   uint8  \n",
      " 30  MultipleLines_Yes                        1761 non-null   uint8  \n",
      " 31  InternetService_DSL                      1761 non-null   uint8  \n",
      " 32  InternetService_Fiber optic              1761 non-null   uint8  \n",
      " 33  InternetService_No                       1761 non-null   uint8  \n",
      " 34  Contract_Month-to-month                  1761 non-null   uint8  \n",
      " 35  Contract_One year                        1761 non-null   uint8  \n",
      " 36  Contract_Two year                        1761 non-null   uint8  \n",
      " 37  PaymentMethod_Bank transfer (automatic)  1761 non-null   uint8  \n",
      " 38  PaymentMethod_Credit card (automatic)    1761 non-null   uint8  \n",
      " 39  PaymentMethod_Electronic check           1761 non-null   uint8  \n",
      " 40  PaymentMethod_Mailed check               1761 non-null   uint8  \n",
      "dtypes: float64(2), int64(8), uint8(31)\n",
      "memory usage: 269.2 KB\n"
     ]
    }
   ],
   "source": [
    "df.info()"
   ]
  },
  {
   "cell_type": "code",
   "execution_count": 63,
   "metadata": {},
   "outputs": [],
   "source": [
    "df = df.dropna()"
   ]
  },
  {
   "cell_type": "code",
   "execution_count": 64,
   "metadata": {},
   "outputs": [
    {
     "name": "stdout",
     "output_type": "stream",
     "text": [
      "<class 'pandas.core.frame.DataFrame'>\n",
      "Int64Index: 1758 entries, 2200 to 450\n",
      "Data columns (total 41 columns):\n",
      " #   Column                                   Non-Null Count  Dtype  \n",
      "---  ------                                   --------------  -----  \n",
      " 0   gender                                   1758 non-null   int64  \n",
      " 1   SeniorCitizen                            1758 non-null   int64  \n",
      " 2   Partner                                  1758 non-null   int64  \n",
      " 3   Dependents                               1758 non-null   int64  \n",
      " 4   tenure                                   1758 non-null   int64  \n",
      " 5   PhoneService                             1758 non-null   int64  \n",
      " 6   PaperlessBilling                         1758 non-null   int64  \n",
      " 7   MonthlyCharges                           1758 non-null   float64\n",
      " 8   TotalCharges                             1758 non-null   float64\n",
      " 9   Churn                                    1758 non-null   int64  \n",
      " 10  OnlineSecurity_0                         1758 non-null   uint8  \n",
      " 11  OnlineSecurity_1                         1758 non-null   uint8  \n",
      " 12  OnlineSecurity_No internet service       1758 non-null   uint8  \n",
      " 13  OnlineBackup_0                           1758 non-null   uint8  \n",
      " 14  OnlineBackup_1                           1758 non-null   uint8  \n",
      " 15  OnlineBackup_No internet service         1758 non-null   uint8  \n",
      " 16  DeviceProtection_0                       1758 non-null   uint8  \n",
      " 17  DeviceProtection_1                       1758 non-null   uint8  \n",
      " 18  DeviceProtection_No internet service     1758 non-null   uint8  \n",
      " 19  TechSupport_0                            1758 non-null   uint8  \n",
      " 20  TechSupport_1                            1758 non-null   uint8  \n",
      " 21  TechSupport_No internet service          1758 non-null   uint8  \n",
      " 22  StreamingTV_0                            1758 non-null   uint8  \n",
      " 23  StreamingTV_1                            1758 non-null   uint8  \n",
      " 24  StreamingTV_No internet service          1758 non-null   uint8  \n",
      " 25  StreamingMovies_0                        1758 non-null   uint8  \n",
      " 26  StreamingMovies_1                        1758 non-null   uint8  \n",
      " 27  StreamingMovies_No internet service      1758 non-null   uint8  \n",
      " 28  MultipleLines_No                         1758 non-null   uint8  \n",
      " 29  MultipleLines_No phone service           1758 non-null   uint8  \n",
      " 30  MultipleLines_Yes                        1758 non-null   uint8  \n",
      " 31  InternetService_DSL                      1758 non-null   uint8  \n",
      " 32  InternetService_Fiber optic              1758 non-null   uint8  \n",
      " 33  InternetService_No                       1758 non-null   uint8  \n",
      " 34  Contract_Month-to-month                  1758 non-null   uint8  \n",
      " 35  Contract_One year                        1758 non-null   uint8  \n",
      " 36  Contract_Two year                        1758 non-null   uint8  \n",
      " 37  PaymentMethod_Bank transfer (automatic)  1758 non-null   uint8  \n",
      " 38  PaymentMethod_Credit card (automatic)    1758 non-null   uint8  \n",
      " 39  PaymentMethod_Electronic check           1758 non-null   uint8  \n",
      " 40  PaymentMethod_Mailed check               1758 non-null   uint8  \n",
      "dtypes: float64(2), int64(8), uint8(31)\n",
      "memory usage: 204.3 KB\n"
     ]
    }
   ],
   "source": [
    "df.info()"
   ]
  },
  {
   "cell_type": "code",
   "execution_count": 65,
   "metadata": {},
   "outputs": [
    {
     "data": {
      "text/plain": [
       "array([[<AxesSubplot:xlabel='gender', ylabel='gender'>,\n",
       "        <AxesSubplot:xlabel='SeniorCitizen', ylabel='gender'>,\n",
       "        <AxesSubplot:xlabel='Partner', ylabel='gender'>,\n",
       "        <AxesSubplot:xlabel='Dependents', ylabel='gender'>,\n",
       "        <AxesSubplot:xlabel='tenure', ylabel='gender'>,\n",
       "        <AxesSubplot:xlabel='PhoneService', ylabel='gender'>,\n",
       "        <AxesSubplot:xlabel='PaperlessBilling', ylabel='gender'>],\n",
       "       [<AxesSubplot:xlabel='gender', ylabel='SeniorCitizen'>,\n",
       "        <AxesSubplot:xlabel='SeniorCitizen', ylabel='SeniorCitizen'>,\n",
       "        <AxesSubplot:xlabel='Partner', ylabel='SeniorCitizen'>,\n",
       "        <AxesSubplot:xlabel='Dependents', ylabel='SeniorCitizen'>,\n",
       "        <AxesSubplot:xlabel='tenure', ylabel='SeniorCitizen'>,\n",
       "        <AxesSubplot:xlabel='PhoneService', ylabel='SeniorCitizen'>,\n",
       "        <AxesSubplot:xlabel='PaperlessBilling', ylabel='SeniorCitizen'>],\n",
       "       [<AxesSubplot:xlabel='gender', ylabel='Partner'>,\n",
       "        <AxesSubplot:xlabel='SeniorCitizen', ylabel='Partner'>,\n",
       "        <AxesSubplot:xlabel='Partner', ylabel='Partner'>,\n",
       "        <AxesSubplot:xlabel='Dependents', ylabel='Partner'>,\n",
       "        <AxesSubplot:xlabel='tenure', ylabel='Partner'>,\n",
       "        <AxesSubplot:xlabel='PhoneService', ylabel='Partner'>,\n",
       "        <AxesSubplot:xlabel='PaperlessBilling', ylabel='Partner'>],\n",
       "       [<AxesSubplot:xlabel='gender', ylabel='Dependents'>,\n",
       "        <AxesSubplot:xlabel='SeniorCitizen', ylabel='Dependents'>,\n",
       "        <AxesSubplot:xlabel='Partner', ylabel='Dependents'>,\n",
       "        <AxesSubplot:xlabel='Dependents', ylabel='Dependents'>,\n",
       "        <AxesSubplot:xlabel='tenure', ylabel='Dependents'>,\n",
       "        <AxesSubplot:xlabel='PhoneService', ylabel='Dependents'>,\n",
       "        <AxesSubplot:xlabel='PaperlessBilling', ylabel='Dependents'>],\n",
       "       [<AxesSubplot:xlabel='gender', ylabel='tenure'>,\n",
       "        <AxesSubplot:xlabel='SeniorCitizen', ylabel='tenure'>,\n",
       "        <AxesSubplot:xlabel='Partner', ylabel='tenure'>,\n",
       "        <AxesSubplot:xlabel='Dependents', ylabel='tenure'>,\n",
       "        <AxesSubplot:xlabel='tenure', ylabel='tenure'>,\n",
       "        <AxesSubplot:xlabel='PhoneService', ylabel='tenure'>,\n",
       "        <AxesSubplot:xlabel='PaperlessBilling', ylabel='tenure'>],\n",
       "       [<AxesSubplot:xlabel='gender', ylabel='PhoneService'>,\n",
       "        <AxesSubplot:xlabel='SeniorCitizen', ylabel='PhoneService'>,\n",
       "        <AxesSubplot:xlabel='Partner', ylabel='PhoneService'>,\n",
       "        <AxesSubplot:xlabel='Dependents', ylabel='PhoneService'>,\n",
       "        <AxesSubplot:xlabel='tenure', ylabel='PhoneService'>,\n",
       "        <AxesSubplot:xlabel='PhoneService', ylabel='PhoneService'>,\n",
       "        <AxesSubplot:xlabel='PaperlessBilling', ylabel='PhoneService'>],\n",
       "       [<AxesSubplot:xlabel='gender', ylabel='PaperlessBilling'>,\n",
       "        <AxesSubplot:xlabel='SeniorCitizen', ylabel='PaperlessBilling'>,\n",
       "        <AxesSubplot:xlabel='Partner', ylabel='PaperlessBilling'>,\n",
       "        <AxesSubplot:xlabel='Dependents', ylabel='PaperlessBilling'>,\n",
       "        <AxesSubplot:xlabel='tenure', ylabel='PaperlessBilling'>,\n",
       "        <AxesSubplot:xlabel='PhoneService', ylabel='PaperlessBilling'>,\n",
       "        <AxesSubplot:xlabel='PaperlessBilling', ylabel='PaperlessBilling'>]],\n",
       "      dtype=object)"
      ]
     },
     "execution_count": 65,
     "metadata": {},
     "output_type": "execute_result"
    },
    {
     "data": {
      "image/png": "[encoded data removed]",
      "text/plain": [
       "<Figure size 864x864 with 49 Axes>"
      ]
     },
     "metadata": {
      "needs_background": "light"
     },
     "output_type": "display_data"
    }
   ],
   "source": [
    "%matplotlib inline\n",
    "from pandas.plotting import scatter_matrix\n",
    " \n",
    "y = df['Churn']\n",
    "X = df.drop('Churn',axis=1,inplace= False)\n",
    "\n",
    "attributes = X.columns[:7]\n",
    "scatter_matrix(X[attributes], figsize = (12,12), c = 'b', alpha = 0.8, marker = 'O')"
   ]
  },
  {
   "cell_type": "markdown",
   "metadata": {},
   "source": [
    "## Data Splitting"
   ]
  },
  {
   "cell_type": "code",
   "execution_count": 66,
   "metadata": {},
   "outputs": [],
   "source": [
    "from sklearn.preprocessing import MinMaxScaler\n",
    "from sklearn.model_selection import train_test_split"
   ]
  },
  {
   "cell_type": "code",
   "execution_count": 67,
   "metadata": {},
   "outputs": [],
   "source": [
    "y = df['Churn']\n",
    "X = df.drop('Churn',axis=1,inplace= False)"
   ]
  },
  {
   "cell_type": "code",
   "execution_count": 68,
   "metadata": {},
   "outputs": [],
   "source": [
    "X_train_org, X_test_org, y_train, y_test = train_test_split(X, y, random_state = 0, test_size = 0.2)\n",
    "\n",
    "scaler = MinMaxScaler()\n",
    "X_train = scaler.fit_transform(X_train_org)\n",
    "X_test = scaler.transform(X_test_org)"
   ]
  },
  {
   "cell_type": "markdown",
   "metadata": {},
   "source": [
    "We need to bring all the features into a fixed range without changing the overall behavior of the dataset. \n",
    "Since 19 columns of our dataset contain categorical values, we have used MinMaxScaler to scale our data and as we see from the ghaphs above the data is not normally distributed.. \n",
    "\n"
   ]
  },
  {
   "cell_type": "markdown",
   "metadata": {},
   "source": [
    "# Classification Models"
   ]
  },
  {
   "cell_type": "markdown",
   "metadata": {},
   "source": [
    "For the second evaluation function, we will be using Confusion Matrix to visualize important predictive analytics like recall, specificity, accuracy, and precision. We can clearly see that how many instances we predicted completely correct, and how many instances we did not predict correctly."
   ]
  },
  {
   "cell_type": "markdown",
   "metadata": {},
   "source": [
    "## 1) KNN Classifier "
   ]
  },
  {
   "cell_type": "code",
   "execution_count": 69,
   "metadata": {},
   "outputs": [],
   "source": [
    "from sklearn.neighbors import KNeighborsClassifier\n",
    "from sklearn.model_selection import GridSearchCV\n",
    "\n",
    "k_range = range(1,10)\n",
    "knn = KNeighborsClassifier()\n",
    "param_grid = dict(n_neighbors=k_range)\n",
    "grid = GridSearchCV(knn,param_grid, cv=5, scoring='accuracy')"
   ]
  },
  {
   "cell_type": "code",
   "execution_count": 70,
   "metadata": {},
   "outputs": [
    {
     "data": {
      "text/plain": [
       "GridSearchCV(cv=5, estimator=KNeighborsClassifier(),\n",
       "             param_grid={'n_neighbors': range(1, 10)}, scoring='accuracy')"
      ]
     },
     "execution_count": 70,
     "metadata": {},
     "output_type": "execute_result"
    }
   ],
   "source": [
    "grid.fit(X_train, y_train)"
   ]
  },
  {
   "cell_type": "code",
   "execution_count": 71,
   "metadata": {},
   "outputs": [
    {
     "name": "stdout",
     "output_type": "stream",
     "text": [
      "Best parameters: {'n_neighbors': 6}\n",
      "Best cross-validation score: 0.76\n"
     ]
    }
   ],
   "source": [
    "print(\"Best parameters: {}\".format(grid.best_params_))\n",
    "print(\"Best cross-validation score: {:.2f}\".format(grid.best_score_))"
   ]
  },
  {
   "cell_type": "markdown",
   "metadata": {},
   "source": [
    "Using Grid Search with Cross-Validation and scoring accuracy, \n",
    "we have found our best parameter for KNN classification is with 6 neighbors. Our best cross-validation score is 0.76\n",
    "\n",
    "\n"
   ]
  },
  {
   "cell_type": "code",
   "execution_count": 72,
   "metadata": {},
   "outputs": [],
   "source": [
    "pred_knn = grid.predict(X_test)"
   ]
  },
  {
   "cell_type": "code",
   "execution_count": 73,
   "metadata": {},
   "outputs": [
    {
     "data": {
      "text/plain": [
       "array([[210,  33],\n",
       "       [ 66,  43]])"
      ]
     },
     "execution_count": 73,
     "metadata": {},
     "output_type": "execute_result"
    }
   ],
   "source": [
    "from sklearn.metrics import confusion_matrix,  roc_auc_score\n",
    "confusion = confusion_matrix(y_test,pred_knn)\n",
    "confusion"
   ]
  },
  {
   "cell_type": "markdown",
   "metadata": {},
   "source": [
    "In our dataset,there are 210 datapoints that KNN predicted that the customers will not churn, predicted correctly. There are 33 datapoints that KNN predicted the customer ended up churning when they should not churn. \n",
    "There are 66 datapoints that KNN predicted should not churn when they should have churned. \n",
    "There are 43 cases that KNN predicted they would churn and were predicted correctly.\n"
   ]
  },
  {
   "cell_type": "code",
   "execution_count": 74,
   "metadata": {},
   "outputs": [
    {
     "name": "stdout",
     "output_type": "stream",
     "text": [
      "              precision    recall  f1-score   support\n",
      "\n",
      "           0       0.76      0.86      0.81       243\n",
      "           1       0.57      0.39      0.46       109\n",
      "\n",
      "    accuracy                           0.72       352\n",
      "   macro avg       0.66      0.63      0.64       352\n",
      "weighted avg       0.70      0.72      0.70       352\n",
      "\n"
     ]
    }
   ],
   "source": [
    "from sklearn.metrics import classification_report\n",
    "from sklearn.metrics import roc_auc_score\n",
    "print(classification_report(y_test, pred_knn))"
   ]
  },
  {
   "cell_type": "code",
   "execution_count": 75,
   "metadata": {},
   "outputs": [],
   "source": [
    "grid_a=GridSearchCV(knn,param_grid, cv=5, scoring='roc_auc')\n"
   ]
  },
  {
   "cell_type": "code",
   "execution_count": 76,
   "metadata": {},
   "outputs": [
    {
     "data": {
      "text/plain": [
       "GridSearchCV(cv=5, estimator=KNeighborsClassifier(),\n",
       "             param_grid={'n_neighbors': range(1, 10)}, scoring='roc_auc')"
      ]
     },
     "execution_count": 76,
     "metadata": {},
     "output_type": "execute_result"
    }
   ],
   "source": [
    "grid_a.fit(X_train, y_train)"
   ]
  },
  {
   "cell_type": "code",
   "execution_count": 77,
   "metadata": {},
   "outputs": [
    {
     "name": "stdout",
     "output_type": "stream",
     "text": [
      "Best parameters: {'n_neighbors': 9}\n",
      "Best cross-validation score: 0.77\n"
     ]
    }
   ],
   "source": [
    "print(\"Best parameters: {}\".format(grid_a.best_params_))\n",
    "print(\"Best cross-validation score: {:.2f}\".format(grid_a.best_score_))"
   ]
  },
  {
   "cell_type": "markdown",
   "metadata": {},
   "source": [
    "Using Grid Search with Cross-Validation and scoring is roc_auc, we have found our best parameter for KNN classification is with 9 neighbors. Our best cross-validation score is lower than accuracy scoring which is 0.77.\n"
   ]
  },
  {
   "cell_type": "code",
   "execution_count": 78,
   "metadata": {},
   "outputs": [],
   "source": [
    "pred_knna = grid_a.predict(X_test)"
   ]
  },
  {
   "cell_type": "code",
   "execution_count": 79,
   "metadata": {},
   "outputs": [
    {
     "data": {
      "text/plain": [
       "array([[201,  42],\n",
       "       [ 54,  55]])"
      ]
     },
     "execution_count": 79,
     "metadata": {},
     "output_type": "execute_result"
    }
   ],
   "source": [
    "confusion = confusion_matrix(y_test,pred_knna)\n",
    "confusion"
   ]
  },
  {
   "cell_type": "markdown",
   "metadata": {},
   "source": [
    "In our dataset,there are 201 datapoints that KNN predicted that the customers will not churn, predicted correctly. There are 42 datapoints that KNN predicted the customer ended up churning when they should not churn. \n",
    "There are 54 datapoints that KNN predicted should not churn when they should have churned. \n",
    "There are 55 cases that KNN predicted they would churn and were predicted correctly."
   ]
  },
  {
   "cell_type": "code",
   "execution_count": 80,
   "metadata": {},
   "outputs": [
    {
     "name": "stdout",
     "output_type": "stream",
     "text": [
      "              precision    recall  f1-score   support\n",
      "\n",
      "           0       0.79      0.83      0.81       243\n",
      "           1       0.57      0.50      0.53       109\n",
      "\n",
      "    accuracy                           0.73       352\n",
      "   macro avg       0.68      0.67      0.67       352\n",
      "weighted avg       0.72      0.73      0.72       352\n",
      "\n"
     ]
    }
   ],
   "source": [
    "print(classification_report(y_test, pred_knna))"
   ]
  },
  {
   "cell_type": "markdown",
   "metadata": {},
   "source": [
    "## 2) Logistic Regression\n"
   ]
  },
  {
   "cell_type": "code",
   "execution_count": 81,
   "metadata": {},
   "outputs": [
    {
     "data": {
      "image/png": "[encoded data removed]",
      "text/plain": [
       "<Figure size 1440x360 with 1 Axes>"
      ]
     },
     "metadata": {
      "needs_background": "light"
     },
     "output_type": "display_data"
    }
   ],
   "source": [
    "from sklearn.linear_model import LogisticRegression\n",
    "c_range = [0.001, 0.01, 0.1, 1, 10, 100, 1000]\n",
    "train_score_l1 = []\n",
    "train_score_l2 = []\n",
    "test_score_l1 = []\n",
    "test_score_l2 = []\n",
    "\n",
    "for c in c_range:\n",
    "    log_l1 = LogisticRegression(penalty = 'l1', C = c, solver = 'liblinear', max_iter = 500)\n",
    "    log_l2 = LogisticRegression(penalty = 'l2', C = c, solver = 'lbfgs', max_iter = 500)\n",
    "    log_l1.fit(X_train, y_train)\n",
    "    log_l2.fit(X_train, y_train)\n",
    "    train_score_l1.append(log_l1.score(X_train, y_train))\n",
    "    train_score_l2.append(log_l2.score(X_train, y_train))\n",
    "    test_score_l1.append(log_l1.score(X_test, y_test))\n",
    "    test_score_l2.append(log_l2.score(X_test, y_test))\n",
    "\n",
    "import matplotlib.pyplot as plt\n",
    "%matplotlib inline\n",
    "\n",
    "plt.subplots(figsize = (20,5))\n",
    "plt.plot(c_range, train_score_l1, label = 'Train score, penalty = l1')\n",
    "plt.plot(c_range, test_score_l1, label = 'Test score, penalty = l1')\n",
    "plt.plot(c_range, train_score_l2, label = 'Train score, penalty = l2')\n",
    "plt.plot(c_range, test_score_l2, label = 'Test score, penalty = l2')\n",
    "plt.legend()\n",
    "plt.xlabel('Regularization parameter: C')\n",
    "plt.ylabel('Accuracy')\n",
    "plt.xscale('log')"
   ]
  },
  {
   "cell_type": "markdown",
   "metadata": {},
   "source": [
    "Plot our logistic regression model outcome out first then we will use grid search to find the best parameter. From this graph, it looks like when C=5 we have the best accuracy. So we can futher explore using grid search to see if C=5 is really the best for our model."
   ]
  },
  {
   "cell_type": "code",
   "execution_count": 82,
   "metadata": {},
   "outputs": [],
   "source": [
    "#from sklearn.linear_model import LogisticRegression\n",
    "#c_range = [0.001, 0.01, 0.1, 1, 10, 100, 1000]\n",
    "penalty = ['l2']\n",
    "hyperparam = dict(C = c_range, penalty = penalty, max_iter = [100000])\n",
    "grid_search = GridSearchCV(LogisticRegression(),hyperparam, cv=5, scoring = 'accuracy' )"
   ]
  },
  {
   "cell_type": "code",
   "execution_count": 83,
   "metadata": {},
   "outputs": [
    {
     "data": {
      "text/plain": [
       "GridSearchCV(cv=5, estimator=LogisticRegression(),\n",
       "             param_grid={'C': [0.001, 0.01, 0.1, 1, 10, 100, 1000],\n",
       "                         'max_iter': [100000], 'penalty': ['l2']},\n",
       "             scoring='accuracy')"
      ]
     },
     "execution_count": 83,
     "metadata": {},
     "output_type": "execute_result"
    }
   ],
   "source": [
    "grid_search.fit(X_train, y_train)"
   ]
  },
  {
   "cell_type": "code",
   "execution_count": 84,
   "metadata": {},
   "outputs": [
    {
     "name": "stdout",
     "output_type": "stream",
     "text": [
      "Best parameters: {'C': 1, 'max_iter': 100000, 'penalty': 'l2'}\n",
      "Best cross-validation score: 0.80\n"
     ]
    }
   ],
   "source": [
    "print(\"Best parameters: {}\".format(grid_search.best_params_))\n",
    "print(\"Best cross-validation score: {:.2f}\".format(grid_search.best_score_))"
   ]
  },
  {
   "cell_type": "markdown",
   "metadata": {},
   "source": [
    "Using Grid search with Cross Validation, our Logistic Regression's best parameter is C=1, using L2 penalty. Our best store is 0.80."
   ]
  },
  {
   "cell_type": "code",
   "execution_count": 85,
   "metadata": {},
   "outputs": [],
   "source": [
    "pred_LR = grid_search.predict(X_test)"
   ]
  },
  {
   "cell_type": "code",
   "execution_count": 86,
   "metadata": {},
   "outputs": [
    {
     "data": {
      "text/plain": [
       "array([[219,  24],\n",
       "       [ 65,  44]])"
      ]
     },
     "execution_count": 86,
     "metadata": {},
     "output_type": "execute_result"
    }
   ],
   "source": [
    "confusion_LR = confusion_matrix(y_test,pred_LR)\n",
    "confusion_LR"
   ]
  },
  {
   "cell_type": "markdown",
   "metadata": {},
   "source": [
    "In our dataset,there are 219 datapoints that Logistic predicted that the customers will not churn, predicted correctly. There are 24 datapoints that Logistic predicted the customer ended up churning when they should not churn. \n",
    "There are 65 datapoints that Logistic predicted should not churn when they should have churned. \n",
    "There are 44 cases that Logistic predicted they would churn and were predicted correctly."
   ]
  },
  {
   "cell_type": "code",
   "execution_count": 87,
   "metadata": {},
   "outputs": [
    {
     "name": "stdout",
     "output_type": "stream",
     "text": [
      "              precision    recall  f1-score   support\n",
      "\n",
      "           0       0.77      0.90      0.83       243\n",
      "           1       0.65      0.40      0.50       109\n",
      "\n",
      "    accuracy                           0.75       352\n",
      "   macro avg       0.71      0.65      0.66       352\n",
      "weighted avg       0.73      0.75      0.73       352\n",
      "\n"
     ]
    }
   ],
   "source": [
    "print(classification_report(y_test, pred_LR))"
   ]
  },
  {
   "cell_type": "code",
   "execution_count": 88,
   "metadata": {},
   "outputs": [],
   "source": [
    "grid_LR_a = GridSearchCV(LogisticRegression(),hyperparam, cv=10, scoring = 'roc_auc' )"
   ]
  },
  {
   "cell_type": "code",
   "execution_count": 89,
   "metadata": {},
   "outputs": [
    {
     "data": {
      "text/plain": [
       "GridSearchCV(cv=10, estimator=LogisticRegression(),\n",
       "             param_grid={'C': [0.001, 0.01, 0.1, 1, 10, 100, 1000],\n",
       "                         'max_iter': [100000], 'penalty': ['l2']},\n",
       "             scoring='roc_auc')"
      ]
     },
     "execution_count": 89,
     "metadata": {},
     "output_type": "execute_result"
    }
   ],
   "source": [
    "grid_LR_a.fit(X_train, y_train)"
   ]
  },
  {
   "cell_type": "code",
   "execution_count": 90,
   "metadata": {},
   "outputs": [
    {
     "name": "stdout",
     "output_type": "stream",
     "text": [
      "Best parameters: {'C': 0.1, 'max_iter': 100000, 'penalty': 'l2'}\n",
      "Best cross-validation score: 0.83\n"
     ]
    }
   ],
   "source": [
    "print(\"Best parameters: {}\".format(grid_LR_a.best_params_))\n",
    "print(\"Best cross-validation score: {:.2f}\".format(grid_LR_a.best_score_))"
   ]
  },
  {
   "cell_type": "markdown",
   "metadata": {},
   "source": [
    "Using Grid search with Cross Validation, our Logistic Regression's best parameter is C=0.1, using L2 penalty. Our best store is 0.83"
   ]
  },
  {
   "cell_type": "code",
   "execution_count": 91,
   "metadata": {},
   "outputs": [],
   "source": [
    "pred_LR_a = grid_LR_a.predict(X_test)"
   ]
  },
  {
   "cell_type": "code",
   "execution_count": 92,
   "metadata": {},
   "outputs": [
    {
     "data": {
      "text/plain": [
       "array([[218,  25],\n",
       "       [ 68,  41]])"
      ]
     },
     "execution_count": 92,
     "metadata": {},
     "output_type": "execute_result"
    }
   ],
   "source": [
    "confusion_LR_a = confusion_matrix(y_test,pred_LR_a)\n",
    "confusion_LR_a"
   ]
  },
  {
   "cell_type": "markdown",
   "metadata": {},
   "source": [
    "In our dataset,there are 218 datapoints that Logistic predicted that the customers will not churn, predicted correctly. \n",
    "There are 25 datapoints that Logistic predicted the customer ended up churning when they should not churn. \n",
    "There are 68 datapoints that Logistic predicted should not churn when they should have churned. \n",
    "There are 41 cases that Logistic predicted they would churn and were predicted correctly."
   ]
  },
  {
   "cell_type": "code",
   "execution_count": 93,
   "metadata": {},
   "outputs": [
    {
     "name": "stdout",
     "output_type": "stream",
     "text": [
      "              precision    recall  f1-score   support\n",
      "\n",
      "           0       0.76      0.90      0.82       243\n",
      "           1       0.62      0.38      0.47       109\n",
      "\n",
      "    accuracy                           0.74       352\n",
      "   macro avg       0.69      0.64      0.65       352\n",
      "weighted avg       0.72      0.74      0.71       352\n",
      "\n"
     ]
    }
   ],
   "source": [
    "print(classification_report(y_test, pred_LR_a))"
   ]
  },
  {
   "cell_type": "markdown",
   "metadata": {},
   "source": [
    "## 3) Linear SVC"
   ]
  },
  {
   "cell_type": "code",
   "execution_count": 94,
   "metadata": {},
   "outputs": [],
   "source": [
    "from sklearn.svm import LinearSVC"
   ]
  },
  {
   "cell_type": "code",
   "execution_count": 95,
   "metadata": {},
   "outputs": [
    {
     "name": "stdout",
     "output_type": "stream",
     "text": [
      "Parameter grid:\n",
      "{'C': [0.001, 0.01, 0.1, 1, 10, 100], 'dual': [False]}\n"
     ]
    }
   ],
   "source": [
    "lsvc = LinearSVC()\n",
    "#c_Range = [0.001,0.01,0.1,1,10,100]\n",
    "#param_grid = dict(C=c_range, dual=False, max_iter = 10000)\n",
    "param_grid = {'C': [0.001,0.01,0.1,1,10,100], 'dual': [False]}\n",
    "print(\"Parameter grid:\\n{}\".format(param_grid))\n",
    "grid_lsvc = GridSearchCV(lsvc,param_grid, cv=5, scoring = 'accuracy')"
   ]
  },
  {
   "cell_type": "code",
   "execution_count": 96,
   "metadata": {},
   "outputs": [
    {
     "data": {
      "text/plain": [
       "GridSearchCV(cv=5, estimator=LinearSVC(),\n",
       "             param_grid={'C': [0.001, 0.01, 0.1, 1, 10, 100], 'dual': [False]},\n",
       "             scoring='accuracy')"
      ]
     },
     "execution_count": 96,
     "metadata": {},
     "output_type": "execute_result"
    }
   ],
   "source": [
    "grid_lsvc.fit(X_train, y_train)"
   ]
  },
  {
   "cell_type": "code",
   "execution_count": 97,
   "metadata": {},
   "outputs": [
    {
     "name": "stdout",
     "output_type": "stream",
     "text": [
      "Best parameters: {'C': 10, 'dual': False}\n",
      "Best cross-validation score: 0.80\n"
     ]
    }
   ],
   "source": [
    "print(\"Best parameters: {}\".format(grid_lsvc.best_params_))\n",
    "print(\"Best cross-validation score: {:.2f}\".format(grid_lsvc.best_score_))"
   ]
  },
  {
   "cell_type": "markdown",
   "metadata": {},
   "source": [
    "Using  grid search with Cross Validation, we are found that our best parameter is C=10. The best score that we got is 0.80."
   ]
  },
  {
   "cell_type": "code",
   "execution_count": 98,
   "metadata": {},
   "outputs": [],
   "source": [
    "pred_lsvc = grid_lsvc.predict(X_test)"
   ]
  },
  {
   "cell_type": "code",
   "execution_count": 99,
   "metadata": {},
   "outputs": [
    {
     "data": {
      "text/plain": [
       "array([[219,  24],\n",
       "       [ 66,  43]])"
      ]
     },
     "execution_count": 99,
     "metadata": {},
     "output_type": "execute_result"
    }
   ],
   "source": [
    "confusion_lsvc = confusion_matrix(y_test,pred_lsvc)\n",
    "confusion_lsvc"
   ]
  },
  {
   "cell_type": "markdown",
   "metadata": {},
   "source": [
    "In our dataset,there are 219 datapoints that Linear predicted that the customers will not churn, predicted correctly. There are 24 datapoints that Linear predicted the customer ended up churning when they should not churn. \n",
    "There are 66 datapoints that Linear predicted should not churn when they should have churned. \n",
    "There are 43 cases that Linear predicted they would churn and were predicted correctly."
   ]
  },
  {
   "cell_type": "code",
   "execution_count": 100,
   "metadata": {},
   "outputs": [
    {
     "name": "stdout",
     "output_type": "stream",
     "text": [
      "              precision    recall  f1-score   support\n",
      "\n",
      "           0       0.77      0.90      0.83       243\n",
      "           1       0.64      0.39      0.49       109\n",
      "\n",
      "    accuracy                           0.74       352\n",
      "   macro avg       0.71      0.65      0.66       352\n",
      "weighted avg       0.73      0.74      0.72       352\n",
      "\n"
     ]
    }
   ],
   "source": [
    "print(classification_report(y_test, pred_lsvc))"
   ]
  },
  {
   "cell_type": "code",
   "execution_count": 101,
   "metadata": {},
   "outputs": [],
   "source": [
    "grid_lsvc_a=GridSearchCV(lsvc,param_grid, cv=5, scoring = 'roc_auc')\n"
   ]
  },
  {
   "cell_type": "code",
   "execution_count": 102,
   "metadata": {},
   "outputs": [
    {
     "data": {
      "text/plain": [
       "GridSearchCV(cv=5, estimator=LinearSVC(),\n",
       "             param_grid={'C': [0.001, 0.01, 0.1, 1, 10, 100], 'dual': [False]},\n",
       "             scoring='roc_auc')"
      ]
     },
     "execution_count": 102,
     "metadata": {},
     "output_type": "execute_result"
    }
   ],
   "source": [
    "grid_lsvc_a.fit(X_train, y_train)"
   ]
  },
  {
   "cell_type": "code",
   "execution_count": 103,
   "metadata": {},
   "outputs": [
    {
     "name": "stdout",
     "output_type": "stream",
     "text": [
      "Best parameters: {'C': 0.01, 'dual': False}\n",
      "Best cross-validation score: 0.83\n"
     ]
    }
   ],
   "source": [
    "print(\"Best parameters: {}\".format(grid_lsvc_a.best_params_))\n",
    "print(\"Best cross-validation score: {:.2f}\".format(grid_lsvc_a.best_score_))"
   ]
  },
  {
   "cell_type": "markdown",
   "metadata": {},
   "source": [
    "Using grid search with Cross Validation, we are found that our best parameter is C=0.01. The best score that we got is 0.83.\n"
   ]
  },
  {
   "cell_type": "code",
   "execution_count": 104,
   "metadata": {},
   "outputs": [],
   "source": [
    "pred_lsvc_a = grid_lsvc_a.predict(X_test)"
   ]
  },
  {
   "cell_type": "code",
   "execution_count": 105,
   "metadata": {},
   "outputs": [
    {
     "data": {
      "text/plain": [
       "array([[221,  22],\n",
       "       [ 70,  39]])"
      ]
     },
     "execution_count": 105,
     "metadata": {},
     "output_type": "execute_result"
    }
   ],
   "source": [
    "confusion_lsvc_a = confusion_matrix(y_test,pred_lsvc_a)\n",
    "confusion_lsvc_a"
   ]
  },
  {
   "cell_type": "markdown",
   "metadata": {},
   "source": [
    "In our dataset,there are 221 datapoints that Linear predicted that the customers will not churn, predicted correctly. There are 22 datapoints that Linear predicted the customer ended up churning when they should not churn. \n",
    "There are 70 datapoints that Linear predicted should not churn when they should have churned. \n",
    "There are 39 cases that Linear predicted they would churn and were predicted correctly."
   ]
  },
  {
   "cell_type": "code",
   "execution_count": 106,
   "metadata": {},
   "outputs": [
    {
     "name": "stdout",
     "output_type": "stream",
     "text": [
      "              precision    recall  f1-score   support\n",
      "\n",
      "           0       0.76      0.91      0.83       243\n",
      "           1       0.64      0.36      0.46       109\n",
      "\n",
      "    accuracy                           0.74       352\n",
      "   macro avg       0.70      0.63      0.64       352\n",
      "weighted avg       0.72      0.74      0.71       352\n",
      "\n"
     ]
    }
   ],
   "source": [
    "print(classification_report(y_test, pred_lsvc_a))"
   ]
  },
  {
   "cell_type": "markdown",
   "metadata": {},
   "source": [
    "## 4) SVC(kernel = 'linear')\n"
   ]
  },
  {
   "cell_type": "code",
   "execution_count": 107,
   "metadata": {},
   "outputs": [],
   "source": [
    "from sklearn.svm import SVC"
   ]
  },
  {
   "cell_type": "code",
   "execution_count": 108,
   "metadata": {},
   "outputs": [],
   "source": [
    "param_linear = dict(kernel=['linear'], C=[1,2,3,4,5])\n",
    "grid_linearKernel = GridSearchCV(SVC(), param_linear, cv=5, scoring='accuracy')"
   ]
  },
  {
   "cell_type": "code",
   "execution_count": 109,
   "metadata": {},
   "outputs": [
    {
     "data": {
      "text/plain": [
       "GridSearchCV(cv=5, estimator=SVC(),\n",
       "             param_grid={'C': [1, 2, 3, 4, 5], 'kernel': ['linear']},\n",
       "             scoring='accuracy')"
      ]
     },
     "execution_count": 109,
     "metadata": {},
     "output_type": "execute_result"
    }
   ],
   "source": [
    "grid_linearKernel.fit(X_train, y_train)"
   ]
  },
  {
   "cell_type": "code",
   "execution_count": 110,
   "metadata": {},
   "outputs": [
    {
     "name": "stdout",
     "output_type": "stream",
     "text": [
      "Best parameters: {'C': 1, 'kernel': 'linear'}\n",
      "Best cross-validation score: 0.81\n"
     ]
    }
   ],
   "source": [
    "print(\"Best parameters: {}\".format(grid_linearKernel.best_params_))\n",
    "print(\"Best cross-validation score: {:.2f}\".format(grid_linearKernel.best_score_))"
   ]
  },
  {
   "cell_type": "markdown",
   "metadata": {},
   "source": [
    "The best parameter for SVC model with kernel = 'linear' is C=1. The best cross-validation score is 0.81"
   ]
  },
  {
   "cell_type": "code",
   "execution_count": 111,
   "metadata": {},
   "outputs": [],
   "source": [
    "pred_linearKernel = grid_linearKernel.predict(X_test)"
   ]
  },
  {
   "cell_type": "code",
   "execution_count": 112,
   "metadata": {},
   "outputs": [
    {
     "data": {
      "text/plain": [
       "array([[216,  27],\n",
       "       [ 66,  43]])"
      ]
     },
     "execution_count": 112,
     "metadata": {},
     "output_type": "execute_result"
    }
   ],
   "source": [
    "confusion_linearKernel = confusion_matrix(y_test,pred_linearKernel)\n",
    "confusion_linearKernel"
   ]
  },
  {
   "cell_type": "markdown",
   "metadata": {},
   "source": [
    "In our dataset,there are 216 datapoints that Linear predicted that the customers will not churn, predicted correctly. There are 27 datapoints that Linear predicted the customer ended up churning when they should not churn. There are 66 datapoints that Linear predicted should not churn when they should have churned. There are 43 cases that Linear predicted they would churn and were predicted correctly."
   ]
  },
  {
   "cell_type": "code",
   "execution_count": 113,
   "metadata": {},
   "outputs": [
    {
     "name": "stdout",
     "output_type": "stream",
     "text": [
      "              precision    recall  f1-score   support\n",
      "\n",
      "           0       0.77      0.89      0.82       243\n",
      "           1       0.61      0.39      0.48       109\n",
      "\n",
      "    accuracy                           0.74       352\n",
      "   macro avg       0.69      0.64      0.65       352\n",
      "weighted avg       0.72      0.74      0.72       352\n",
      "\n"
     ]
    }
   ],
   "source": [
    "print(classification_report(y_test, pred_linearKernel))"
   ]
  },
  {
   "cell_type": "code",
   "execution_count": 114,
   "metadata": {},
   "outputs": [],
   "source": [
    "grid_linearKernel_a = GridSearchCV(SVC(), param_linear, cv=10, scoring='roc_auc')"
   ]
  },
  {
   "cell_type": "code",
   "execution_count": 115,
   "metadata": {},
   "outputs": [
    {
     "data": {
      "text/plain": [
       "GridSearchCV(cv=10, estimator=SVC(),\n",
       "             param_grid={'C': [1, 2, 3, 4, 5], 'kernel': ['linear']},\n",
       "             scoring='roc_auc')"
      ]
     },
     "execution_count": 115,
     "metadata": {},
     "output_type": "execute_result"
    }
   ],
   "source": [
    "grid_linearKernel_a.fit(X_train, y_train)"
   ]
  },
  {
   "cell_type": "code",
   "execution_count": 116,
   "metadata": {},
   "outputs": [
    {
     "name": "stdout",
     "output_type": "stream",
     "text": [
      "Best parameters: {'C': 1, 'kernel': 'linear'}\n",
      "Best cross-validation score: 0.82\n"
     ]
    }
   ],
   "source": [
    "print(\"Best parameters: {}\".format(grid_linearKernel_a.best_params_))\n",
    "print(\"Best cross-validation score: {:.2f}\".format(grid_linearKernel_a.best_score_))"
   ]
  },
  {
   "cell_type": "markdown",
   "metadata": {},
   "source": [
    "The best parameter for SVC model with kernel = 'linear' is C=1. The best cross-validation score is 0.82"
   ]
  },
  {
   "cell_type": "code",
   "execution_count": 117,
   "metadata": {},
   "outputs": [
    {
     "name": "stdout",
     "output_type": "stream",
     "text": [
      "Best parameters: {'C': 1, 'kernel': 'linear'}\n",
      "Best cross-validation score: 0.82\n"
     ]
    }
   ],
   "source": [
    "print(\"Best parameters: {}\".format(grid_linearKernel_a.best_params_))\n",
    "print(\"Best cross-validation score: {:.2f}\".format(grid_linearKernel_a.best_score_))"
   ]
  },
  {
   "cell_type": "code",
   "execution_count": 118,
   "metadata": {},
   "outputs": [],
   "source": [
    "pred_linearKernel_a = grid_linearKernel_a.predict(X_test)"
   ]
  },
  {
   "cell_type": "code",
   "execution_count": 119,
   "metadata": {},
   "outputs": [
    {
     "data": {
      "text/plain": [
       "array([[216,  27],\n",
       "       [ 66,  43]])"
      ]
     },
     "execution_count": 119,
     "metadata": {},
     "output_type": "execute_result"
    }
   ],
   "source": [
    "confusion_linearKernel_a = confusion_matrix(y_test,pred_linearKernel_a)\n",
    "confusion_linearKernel_a"
   ]
  },
  {
   "cell_type": "markdown",
   "metadata": {},
   "source": [
    "In our dataset,there are 216 datapoints that Linear predicted that the customers will not churn, predicted correctly. There are 27 datapoints that Linear predicted the customer ended up churning when they should not churn. There are 66 datapoints that Linear predicted should not churn when they should have churned. There are 43 cases that Linear predicted they would churn and were predicted correctly."
   ]
  },
  {
   "cell_type": "code",
   "execution_count": 120,
   "metadata": {},
   "outputs": [
    {
     "name": "stdout",
     "output_type": "stream",
     "text": [
      "              precision    recall  f1-score   support\n",
      "\n",
      "           0       0.77      0.89      0.82       243\n",
      "           1       0.61      0.39      0.48       109\n",
      "\n",
      "    accuracy                           0.74       352\n",
      "   macro avg       0.69      0.64      0.65       352\n",
      "weighted avg       0.72      0.74      0.72       352\n",
      "\n"
     ]
    }
   ],
   "source": [
    "print(classification_report(y_test, pred_linearKernel_a))"
   ]
  },
  {
   "cell_type": "markdown",
   "metadata": {},
   "source": [
    "## 5) SVC(kernel = 'poly')"
   ]
  },
  {
   "cell_type": "code",
   "execution_count": 121,
   "metadata": {},
   "outputs": [],
   "source": [
    "param_poly = dict(kernel=['poly'], C=[1,2,3,4,5])\n",
    "grid_poly = GridSearchCV(SVC(), param_poly, cv=10, scoring='accuracy')"
   ]
  },
  {
   "cell_type": "code",
   "execution_count": 122,
   "metadata": {},
   "outputs": [
    {
     "data": {
      "text/plain": [
       "GridSearchCV(cv=10, estimator=SVC(),\n",
       "             param_grid={'C': [1, 2, 3, 4, 5], 'kernel': ['poly']},\n",
       "             scoring='accuracy')"
      ]
     },
     "execution_count": 122,
     "metadata": {},
     "output_type": "execute_result"
    }
   ],
   "source": [
    "grid_poly.fit(X_train, y_train)"
   ]
  },
  {
   "cell_type": "code",
   "execution_count": 123,
   "metadata": {},
   "outputs": [
    {
     "name": "stdout",
     "output_type": "stream",
     "text": [
      "Best parameters: {'C': 1, 'kernel': 'poly'}\n",
      "Best cross-validation score: 0.79\n"
     ]
    }
   ],
   "source": [
    "print(\"Best parameters: {}\".format(grid_poly.best_params_))\n",
    "print(\"Best cross-validation score: {:.2f}\".format(grid_poly.best_score_))"
   ]
  },
  {
   "cell_type": "markdown",
   "metadata": {},
   "source": [
    "Here we have our best parameter for poly kernel SVC model which is C= 1. Our best cross-validation score is 0.79 .\n"
   ]
  },
  {
   "cell_type": "code",
   "execution_count": 124,
   "metadata": {},
   "outputs": [],
   "source": [
    "pred_poly = grid_poly.predict(X_test)"
   ]
  },
  {
   "cell_type": "code",
   "execution_count": 125,
   "metadata": {},
   "outputs": [
    {
     "data": {
      "text/plain": [
       "array([[212,  31],\n",
       "       [ 59,  50]])"
      ]
     },
     "execution_count": 125,
     "metadata": {},
     "output_type": "execute_result"
    }
   ],
   "source": [
    "confusion_poly = confusion_matrix(y_test, pred_poly)\n",
    "confusion_poly"
   ]
  },
  {
   "cell_type": "markdown",
   "metadata": {},
   "source": [
    "In our dataset,there are 212 datapoints that Linear-poly predicted that the customers will not churn, predicted correctly. There are 31 datapoints that Linear-poly predicted the customer ended up churning when they should not churn. There are 59 datapoints that Linear-poly predicted should not churn when they should have churned. There are 50 cases that Linear-poly predicted they would churn and were predicted correctly."
   ]
  },
  {
   "cell_type": "code",
   "execution_count": 126,
   "metadata": {},
   "outputs": [
    {
     "name": "stdout",
     "output_type": "stream",
     "text": [
      "              precision    recall  f1-score   support\n",
      "\n",
      "           0       0.78      0.87      0.82       243\n",
      "           1       0.62      0.46      0.53       109\n",
      "\n",
      "    accuracy                           0.74       352\n",
      "   macro avg       0.70      0.67      0.68       352\n",
      "weighted avg       0.73      0.74      0.73       352\n",
      "\n"
     ]
    }
   ],
   "source": [
    "print(classification_report(y_test, pred_poly))"
   ]
  },
  {
   "cell_type": "code",
   "execution_count": 127,
   "metadata": {},
   "outputs": [],
   "source": [
    "grid_poly_a = GridSearchCV(SVC(), param_poly, cv=10, scoring='roc_auc')"
   ]
  },
  {
   "cell_type": "code",
   "execution_count": 128,
   "metadata": {},
   "outputs": [
    {
     "data": {
      "text/plain": [
       "GridSearchCV(cv=10, estimator=SVC(),\n",
       "             param_grid={'C': [1, 2, 3, 4, 5], 'kernel': ['poly']},\n",
       "             scoring='roc_auc')"
      ]
     },
     "execution_count": 128,
     "metadata": {},
     "output_type": "execute_result"
    }
   ],
   "source": [
    "grid_poly_a.fit(X_train, y_train)"
   ]
  },
  {
   "cell_type": "code",
   "execution_count": 129,
   "metadata": {},
   "outputs": [
    {
     "name": "stdout",
     "output_type": "stream",
     "text": [
      "Best parameters: {'C': 1, 'kernel': 'poly'}\n",
      "Best cross-validation score: 0.77\n"
     ]
    }
   ],
   "source": [
    "print(\"Best parameters: {}\".format(grid_poly_a.best_params_))\n",
    "print(\"Best cross-validation score: {:.2f}\".format(grid_poly_a.best_score_))"
   ]
  },
  {
   "cell_type": "markdown",
   "metadata": {},
   "source": [
    "Here we have our best parameter for poly kernel SVC model which is C= 1. Our best cross-validation score is 0.77 .\n"
   ]
  },
  {
   "cell_type": "code",
   "execution_count": 130,
   "metadata": {},
   "outputs": [],
   "source": [
    "pred_poly_a = grid_poly_a.predict(X_test)"
   ]
  },
  {
   "cell_type": "code",
   "execution_count": 131,
   "metadata": {},
   "outputs": [
    {
     "data": {
      "text/plain": [
       "array([[212,  31],\n",
       "       [ 59,  50]])"
      ]
     },
     "execution_count": 131,
     "metadata": {},
     "output_type": "execute_result"
    }
   ],
   "source": [
    "confusion_poly_a = confusion_matrix(y_test, pred_poly_a)\n",
    "confusion_poly_a"
   ]
  },
  {
   "cell_type": "markdown",
   "metadata": {},
   "source": [
    "In our dataset,there are 212 datapoints that Linear-poly predicted that the customers will not churn, predicted correctly. There are 31 datapoints that Linear-poly predicted the customer ended up churning when they should not churn. There are 59 datapoints that Linear-poly predicted should not churn when they should have churned. There are 50 cases that Linear-poly predicted they would churn and were predicted correctly.\n"
   ]
  },
  {
   "cell_type": "code",
   "execution_count": 132,
   "metadata": {},
   "outputs": [
    {
     "name": "stdout",
     "output_type": "stream",
     "text": [
      "              precision    recall  f1-score   support\n",
      "\n",
      "           0       0.78      0.87      0.82       243\n",
      "           1       0.62      0.46      0.53       109\n",
      "\n",
      "    accuracy                           0.74       352\n",
      "   macro avg       0.70      0.67      0.68       352\n",
      "weighted avg       0.73      0.74      0.73       352\n",
      "\n"
     ]
    }
   ],
   "source": [
    "print(classification_report(y_test, pred_poly_a))"
   ]
  },
  {
   "cell_type": "markdown",
   "metadata": {},
   "source": [
    "## 6) SVC(kernel = 'rbf')"
   ]
  },
  {
   "cell_type": "code",
   "execution_count": 133,
   "metadata": {},
   "outputs": [],
   "source": [
    "param_rbf = {'C': [0.001, 0.01, 0.1, 1, 10, 100],\n",
    "              'gamma': [0.001, 0.01, 0.1, 1, 10, 100],\n",
    "            'kernel':['rbf']}\n",
    "grid_rbf = GridSearchCV(SVC(), param_rbf, cv=5, scoring = 'accuracy')"
   ]
  },
  {
   "cell_type": "code",
   "execution_count": 134,
   "metadata": {},
   "outputs": [
    {
     "data": {
      "text/plain": [
       "GridSearchCV(cv=5, estimator=SVC(),\n",
       "             param_grid={'C': [0.001, 0.01, 0.1, 1, 10, 100],\n",
       "                         'gamma': [0.001, 0.01, 0.1, 1, 10, 100],\n",
       "                         'kernel': ['rbf']},\n",
       "             scoring='accuracy')"
      ]
     },
     "execution_count": 134,
     "metadata": {},
     "output_type": "execute_result"
    }
   ],
   "source": [
    "grid_rbf.fit(X_train, y_train)"
   ]
  },
  {
   "cell_type": "code",
   "execution_count": 135,
   "metadata": {},
   "outputs": [
    {
     "name": "stdout",
     "output_type": "stream",
     "text": [
      "Best parameters: {'C': 100, 'gamma': 0.001, 'kernel': 'rbf'}\n",
      "Best cross-validation score: 0.80\n"
     ]
    }
   ],
   "source": [
    "print(\"Best parameters: {}\".format(grid_rbf.best_params_))\n",
    "print(\"Best cross-validation score: {:.2f}\".format(grid_rbf.best_score_))"
   ]
  },
  {
   "cell_type": "markdown",
   "metadata": {},
   "source": [
    "Here we have our best parameter for rbf kernel SVC model which is C= 100. Our best cross-validation score is 0.80.\n"
   ]
  },
  {
   "cell_type": "code",
   "execution_count": 136,
   "metadata": {},
   "outputs": [],
   "source": [
    "pred_rbf = grid_rbf.predict(X_test)"
   ]
  },
  {
   "cell_type": "code",
   "execution_count": 137,
   "metadata": {},
   "outputs": [
    {
     "data": {
      "text/plain": [
       "array([[218,  25],\n",
       "       [ 66,  43]])"
      ]
     },
     "execution_count": 137,
     "metadata": {},
     "output_type": "execute_result"
    }
   ],
   "source": [
    "confusion_rbf = confusion_matrix(y_test, pred_rbf)\n",
    "confusion_rbf"
   ]
  },
  {
   "cell_type": "markdown",
   "metadata": {},
   "source": [
    "In our dataset,there are 218 datapoints that Linear-rbf predicted that the customers will not churn, predicted correctly. There are 25 datapoints that Linear-rbf predicted the customer ended up churning when they should not churn. There are 66 datapoints that Linear-rbf predicted should not churn when they should have churned. There are 43 cases that Linear-rbf predicted they would churn and were predicted correctly.\n"
   ]
  },
  {
   "cell_type": "code",
   "execution_count": 138,
   "metadata": {},
   "outputs": [
    {
     "name": "stdout",
     "output_type": "stream",
     "text": [
      "              precision    recall  f1-score   support\n",
      "\n",
      "           0       0.77      0.90      0.83       243\n",
      "           1       0.63      0.39      0.49       109\n",
      "\n",
      "    accuracy                           0.74       352\n",
      "   macro avg       0.70      0.65      0.66       352\n",
      "weighted avg       0.73      0.74      0.72       352\n",
      "\n"
     ]
    }
   ],
   "source": [
    "print(classification_report(y_test, pred_rbf))"
   ]
  },
  {
   "cell_type": "code",
   "execution_count": 139,
   "metadata": {},
   "outputs": [],
   "source": [
    "grid_rbf_a = GridSearchCV(SVC(), param_rbf, cv=5, scoring=\"f1\")"
   ]
  },
  {
   "cell_type": "code",
   "execution_count": 140,
   "metadata": {},
   "outputs": [
    {
     "data": {
      "text/plain": [
       "GridSearchCV(cv=5, estimator=SVC(),\n",
       "             param_grid={'C': [0.001, 0.01, 0.1, 1, 10, 100],\n",
       "                         'gamma': [0.001, 0.01, 0.1, 1, 10, 100],\n",
       "                         'kernel': ['rbf']},\n",
       "             scoring='f1')"
      ]
     },
     "execution_count": 140,
     "metadata": {},
     "output_type": "execute_result"
    }
   ],
   "source": [
    "grid_rbf_a.fit(X_train, y_train)"
   ]
  },
  {
   "cell_type": "code",
   "execution_count": 141,
   "metadata": {},
   "outputs": [
    {
     "name": "stdout",
     "output_type": "stream",
     "text": [
      "Best parameters: {'C': 100, 'gamma': 0.001, 'kernel': 'rbf'}\n",
      "Best cross-validation score: 0.56\n"
     ]
    }
   ],
   "source": [
    "print(\"Best parameters: {}\".format(grid_rbf_a.best_params_))\n",
    "print(\"Best cross-validation score: {:.2f}\".format(grid_rbf_a.best_score_))"
   ]
  },
  {
   "cell_type": "markdown",
   "metadata": {},
   "source": [
    "Here we have our best parameter for rbf kernel SVC model which is C= 100. Our best cross-validation score is 0.56.\n"
   ]
  },
  {
   "cell_type": "code",
   "execution_count": 142,
   "metadata": {},
   "outputs": [],
   "source": [
    "pred_rbf_a = grid_rbf_a.predict(X_test)"
   ]
  },
  {
   "cell_type": "code",
   "execution_count": 143,
   "metadata": {},
   "outputs": [
    {
     "data": {
      "text/plain": [
       "array([[218,  25],\n",
       "       [ 66,  43]])"
      ]
     },
     "execution_count": 143,
     "metadata": {},
     "output_type": "execute_result"
    }
   ],
   "source": [
    "confusion_rbf_a = confusion_matrix(y_test, pred_rbf_a)\n",
    "confusion_rbf_a"
   ]
  },
  {
   "cell_type": "markdown",
   "metadata": {},
   "source": [
    "In our dataset,there are 218 datapoints that Linear-rbf predicted that the customers will not churn, predicted correctly. There are 25 datapoints that Linear-rbf predicted the customer ended up churning when they should not churn. There are 66 datapoints that Linear-rbf predicted should not churn when they should have churned. There are 43 cases that Linear-rbf predicted they would churn and were predicted correctly.\n"
   ]
  },
  {
   "cell_type": "code",
   "execution_count": 144,
   "metadata": {},
   "outputs": [
    {
     "name": "stdout",
     "output_type": "stream",
     "text": [
      "              precision    recall  f1-score   support\n",
      "\n",
      "           0       0.77      0.90      0.83       243\n",
      "           1       0.63      0.39      0.49       109\n",
      "\n",
      "    accuracy                           0.74       352\n",
      "   macro avg       0.70      0.65      0.66       352\n",
      "weighted avg       0.73      0.74      0.72       352\n",
      "\n"
     ]
    }
   ],
   "source": [
    "print(classification_report(y_test, pred_rbf_a))"
   ]
  },
  {
   "cell_type": "markdown",
   "metadata": {},
   "source": [
    "## 7) Decision Tree Classifier"
   ]
  },
  {
   "cell_type": "code",
   "execution_count": 145,
   "metadata": {},
   "outputs": [],
   "source": [
    "from sklearn.tree import DecisionTreeClassifier"
   ]
  },
  {
   "cell_type": "code",
   "execution_count": 146,
   "metadata": {},
   "outputs": [],
   "source": [
    "para = dict(max_depth = [1,3,5,7,10])\n",
    "grid_tree = GridSearchCV(DecisionTreeClassifier(), para, cv=10, scoring='accuracy')"
   ]
  },
  {
   "cell_type": "code",
   "execution_count": 147,
   "metadata": {},
   "outputs": [
    {
     "data": {
      "text/plain": [
       "GridSearchCV(cv=10, estimator=DecisionTreeClassifier(),\n",
       "             param_grid={'max_depth': [1, 3, 5, 7, 10]}, scoring='accuracy')"
      ]
     },
     "execution_count": 147,
     "metadata": {},
     "output_type": "execute_result"
    }
   ],
   "source": [
    "grid_tree.fit(X_train,y_train)"
   ]
  },
  {
   "cell_type": "code",
   "execution_count": 148,
   "metadata": {},
   "outputs": [
    {
     "name": "stdout",
     "output_type": "stream",
     "text": [
      "Best parameters: {'max_depth': 3}\n",
      "Best cross-validation score: 0.79\n"
     ]
    }
   ],
   "source": [
    "print(\"Best parameters: {}\".format(grid_tree.best_params_))\n",
    "print(\"Best cross-validation score: {:.2f}\".format(grid_tree.best_score_))"
   ]
  },
  {
   "cell_type": "markdown",
   "metadata": {},
   "source": [
    "Here we have our best parameter for decision tree as max-depth=3. Our best cross-validation score is 0.79.\n"
   ]
  },
  {
   "cell_type": "code",
   "execution_count": 149,
   "metadata": {},
   "outputs": [],
   "source": [
    "pred_tree = grid_tree.predict(X_test)"
   ]
  },
  {
   "cell_type": "code",
   "execution_count": 150,
   "metadata": {},
   "outputs": [
    {
     "data": {
      "text/plain": [
       "array([[223,  20],\n",
       "       [ 74,  35]])"
      ]
     },
     "execution_count": 150,
     "metadata": {},
     "output_type": "execute_result"
    }
   ],
   "source": [
    "confusion_tree = confusion_matrix(y_test,pred_tree)\n",
    "confusion_tree"
   ]
  },
  {
   "cell_type": "markdown",
   "metadata": {},
   "source": [
    "In our dataset,there are 223 datapoints that decision tree predicted that the customers will not churn, predicted correctly. There are 20 datapoints that decision tree predicted the customer ended up churning when they should not churn. There are 74 datapoints that decision tree predicted should not churn when they should have churned. There are 35 cases that decision tree predicted they would churn and were predicted correctly.\n"
   ]
  },
  {
   "cell_type": "code",
   "execution_count": 151,
   "metadata": {},
   "outputs": [
    {
     "name": "stdout",
     "output_type": "stream",
     "text": [
      "              precision    recall  f1-score   support\n",
      "\n",
      "           0       0.75      0.92      0.83       243\n",
      "           1       0.64      0.32      0.43       109\n",
      "\n",
      "    accuracy                           0.73       352\n",
      "   macro avg       0.69      0.62      0.63       352\n",
      "weighted avg       0.72      0.73      0.70       352\n",
      "\n"
     ]
    }
   ],
   "source": [
    "print(classification_report(y_test, pred_tree))"
   ]
  },
  {
   "cell_type": "code",
   "execution_count": 152,
   "metadata": {},
   "outputs": [],
   "source": [
    "grid_tree_a = GridSearchCV(DecisionTreeClassifier(), para, cv=10, scoring='roc_auc')"
   ]
  },
  {
   "cell_type": "code",
   "execution_count": 153,
   "metadata": {},
   "outputs": [
    {
     "data": {
      "text/plain": [
       "GridSearchCV(cv=10, estimator=DecisionTreeClassifier(),\n",
       "             param_grid={'max_depth': [1, 3, 5, 7, 10]}, scoring='roc_auc')"
      ]
     },
     "execution_count": 153,
     "metadata": {},
     "output_type": "execute_result"
    }
   ],
   "source": [
    "grid_tree_a.fit(X_train, y_train)"
   ]
  },
  {
   "cell_type": "code",
   "execution_count": 154,
   "metadata": {},
   "outputs": [
    {
     "name": "stdout",
     "output_type": "stream",
     "text": [
      "Best parameters: {'max_depth': 3}\n",
      "Best cross-validation score: 0.80\n"
     ]
    }
   ],
   "source": [
    "print(\"Best parameters: {}\".format(grid_tree_a.best_params_))\n",
    "print(\"Best cross-validation score: {:.2f}\".format(grid_tree_a.best_score_))"
   ]
  },
  {
   "cell_type": "markdown",
   "metadata": {},
   "source": [
    "Here we have our best parameter for decision tree as max-depth=3. Our best cross-validation score is 0.80.\n"
   ]
  },
  {
   "cell_type": "code",
   "execution_count": 155,
   "metadata": {},
   "outputs": [],
   "source": [
    "pred_tree_a = grid_tree_a.predict(X_test)"
   ]
  },
  {
   "cell_type": "code",
   "execution_count": 156,
   "metadata": {},
   "outputs": [
    {
     "data": {
      "text/plain": [
       "array([[223,  20],\n",
       "       [ 74,  35]])"
      ]
     },
     "execution_count": 156,
     "metadata": {},
     "output_type": "execute_result"
    }
   ],
   "source": [
    "confusion_tree_a = confusion_matrix(y_test,pred_tree_a)\n",
    "confusion_tree_a"
   ]
  },
  {
   "cell_type": "markdown",
   "metadata": {},
   "source": [
    "In our dataset,there are 223 datapoints that decision tree predicted that the customers will not churn, predicted correctly. There are 20 datapoints that decision tree predicted the customer ended up churning when they should not churn. There are 74 datapoints that decision tree predicted should not churn when they should have churned. There are 35 cases that decision tree predicted they would churn and were predicted correctly."
   ]
  },
  {
   "cell_type": "code",
   "execution_count": 157,
   "metadata": {},
   "outputs": [
    {
     "name": "stdout",
     "output_type": "stream",
     "text": [
      "              precision    recall  f1-score   support\n",
      "\n",
      "           0       0.75      0.92      0.83       243\n",
      "           1       0.64      0.32      0.43       109\n",
      "\n",
      "    accuracy                           0.73       352\n",
      "   macro avg       0.69      0.62      0.63       352\n",
      "weighted avg       0.72      0.73      0.70       352\n",
      "\n"
     ]
    }
   ],
   "source": [
    "print(classification_report(y_test, pred_tree_a))"
   ]
  },
  {
   "cell_type": "markdown",
   "metadata": {},
   "source": [
    "**Best parameter**"
   ]
  },
  {
   "cell_type": "markdown",
   "metadata": {},
   "source": [
    "Finally, find the best model for the classification dataset and train your model on the entire dataset using the best parameters and predict the target values for the test_set."
   ]
  },
  {
   "cell_type": "markdown",
   "metadata": {},
   "source": [
    "| Model | Best Parameters|\n",
    "| --- | --- |\n",
    "| Classification - KNN | N_Neighbors = 9 |\n",
    "| Classification - Logistic Regression | C = 0.1|\n",
    "| Classification - Linear SVC | C = 0.01 |\n",
    "| SVR Linear Kernel | C = 1 |\n",
    "| SVR Poly Kernel| C = 4 |\n",
    "| SVR RBF Kernel | C = 100 , Gamma = 0.001|\n",
    "| Decision Tree Regressor | max_depth = 3 |"
   ]
  },
  {
   "cell_type": "markdown",
   "metadata": {},
   "source": [
    "**Fitting the models that have best parameters into our data**"
   ]
  },
  {
   "cell_type": "markdown",
   "metadata": {},
   "source": [
    "Out of all the models, linear SVC and logistic has best cross-validation-score (0.83) when using the grid search to find the best parameters. So we fit them separately into our data and found out the train and test scores."
   ]
  },
  {
   "cell_type": "code",
   "execution_count": 163,
   "metadata": {},
   "outputs": [
    {
     "name": "stdout",
     "output_type": "stream",
     "text": [
      "Cross-validation scores: [0.78014184 0.8113879  0.82562278 0.79359431 0.78647687]\n",
      "Cross-validation scores: [0.73239437 0.70422535 0.72857143 0.68571429 0.67142857]\n"
     ]
    }
   ],
   "source": [
    "#Logistic Reg accuracy c = 0.1, penalty:l2\n",
    "from sklearn.model_selection import cross_val_score\n",
    "from sklearn.model_selection import cross_val_predict\n",
    "LR = LogisticRegression(C=0.1, penalty = 'l2', max_iter = 10000)\n",
    "trainScore = cross_val_score(LR, X_train, y_train)\n",
    "testScore = cross_val_score(LR, X_test, y_test)\n",
    "y_pred = cross_val_predict(LR, X_test, y_test, cv = 10)\n",
    "print(\"Cross-validation scores: {}\".format(trainScore))\n",
    "print(\"Cross-validation scores: {}\".format(testScore))"
   ]
  },
  {
   "cell_type": "code",
   "execution_count": 159,
   "metadata": {},
   "outputs": [
    {
     "name": "stdout",
     "output_type": "stream",
     "text": [
      "Average cross-validation score for training dataset: 0.80\n",
      "Average cross-validation score for test dataset: 0.70\n"
     ]
    }
   ],
   "source": [
    "print(\"Average cross-validation score for training dataset: {:.2f}\".format(trainScore.mean()))\n",
    "print(\"Average cross-validation score for test dataset: {:.2f}\".format(testScore.mean()))"
   ]
  },
  {
   "cell_type": "code",
   "execution_count": 160,
   "metadata": {},
   "outputs": [
    {
     "name": "stdout",
     "output_type": "stream",
     "text": [
      "Cross-validation scores: [0.79078014 0.8113879  0.8113879  0.79359431 0.78647687]\n",
      "Cross-validation scores: [0.77464789 0.70422535 0.7        0.67142857 0.68571429]\n"
     ]
    }
   ],
   "source": [
    "#Linear SVC ACCURACY: c=0.01\n",
    "linSVC = LinearSVC(C=0.01, max_iter = 10000)\n",
    "trainScoreL = cross_val_score(linSVC, X_train, y_train)\n",
    "testScoreL = cross_val_score(linSVC, X_test, y_test)\n",
    "y_predL = cross_val_predict(linSVC, X_test, y_test, cv=10)\n",
    "print(\"Cross-validation scores: {}\".format(trainScoreL))\n",
    "print(\"Cross-validation scores: {}\".format(testScoreL))"
   ]
  },
  {
   "cell_type": "code",
   "execution_count": 161,
   "metadata": {},
   "outputs": [
    {
     "name": "stdout",
     "output_type": "stream",
     "text": [
      "Average cross-validation score for training dataset: 0.80\n",
      "Average cross-validation score for test dataset: 0.71\n"
     ]
    }
   ],
   "source": [
    "print(\"Average cross-validation score for training dataset: {:.2f}\".format(trainScoreL.mean()))\n",
    "print(\"Average cross-validation score for test dataset: {:.2f}\".format(testScoreL.mean()))"
   ]
  },
  {
   "cell_type": "markdown",
   "metadata": {},
   "source": [
    "### Performance in testing Dataset\n",
    "| Model |KNN (accuracy) | KNN (roc_auc) | Logistic Regression (accuracy) | Logistic Regression (roc_auc) | Linear SVC (accuracy)| Linear SVC (roc_auc) | SVC Linear Kernel (accuracy) | SVC Linear Kernel (roc_auc) | SVC Poly Kernel (accuracy) | SVC Poly (roc_auc) | SVC RBF (accuracy) | SVC RBF (F1) | Decision tree (accuracy) | Decision Tree (roc_auc) |\n",
    "| --- | --- | --- | --- | --- | --- | --- | --- | --- | --- | --- | --- | --- | --- | --- |\n",
    "| Params | k = 6 | k = 9 | C = 1 | C = 0.1 | C = 10 | C = 0.01 | C = 1 | C = 1 | C = 1 | C = 1 | C = 100, gamma = 0.001 | C=100, gamma = 0.001| max_depth = 3 | max_depth = 3 |\n",
    "| Accuracy | 0.76 | 0.77 | 0.8 | 0.83 | 0.8 | 0.83 | 0.81 | 0.82 | 0.79 | 0.77 | 0.80 | 0.56 | 0.79 | 0.8 |\n",
    "|F1-score(0)| 0.81 | 0.81 | 0.83 | 0.82 | 0.83 | 0.83 | 0.82| 0.82 | 0.82 | 0.82 | 0.83 | 0.83| 0.83 | 0.83 |\n",
    "|F1-score(1) | 0.46 | 0.53 | 0.5 | 0.47| 0.49 | 0.46 | 0.48 | 0.48 | 0.53 | 0.53 | 0.49 | 0.49 | 0.43 | 0.43 |\n"
   ]
  },
  {
   "cell_type": "markdown",
   "metadata": {},
   "source": [
    "Our best model is 'Linear SVC' for predicting the churn with test score of 0.71."
   ]
  }
 ],
 "metadata": {
  "kernelspec": {
   "display_name": "Python 3",
   "language": "python",
   "name": "python3"
  },
  "language_info": {
   "codemirror_mode": {
    "name": "ipython",
    "version": 3
   },
   "file_extension": ".py",
   "mimetype": "text/x-python",
   "name": "python",
   "nbconvert_exporter": "python",
   "pygments_lexer": "ipython3",
   "version": "3.8.5"
  }
 },
 "nbformat": 4,
 "nbformat_minor": 2
}

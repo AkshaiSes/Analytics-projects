{
 "cells": [
  {
   "cell_type": "code",
   "execution_count": 14,
   "metadata": {},
   "outputs": [],
   "source": [
    "import pandas as pd\n",
    "import numpy as np\n",
    "import matplotlib.pyplot as plt"
   ]
  },
  {
   "cell_type": "code",
   "execution_count": 15,
   "metadata": {},
   "outputs": [],
   "source": [
    "CLV = pd.read_csv('squark_automotive_CLV_training_data.csv')"
   ]
  },
  {
   "cell_type": "markdown",
   "metadata": {},
   "source": [
    "# Data Preparation"
   ]
  },
  {
   "cell_type": "code",
   "execution_count": 16,
   "metadata": {
    "scrolled": false
   },
   "outputs": [
    {
     "data": {
      "text/html": [
       "<div>\n",
       "<style scoped>\n",
       "    .dataframe tbody tr th:only-of-type {\n",
       "        vertical-align: middle;\n",
       "    }\n",
       "\n",
       "    .dataframe tbody tr th {\n",
       "        vertical-align: top;\n",
       "    }\n",
       "\n",
       "    .dataframe thead th {\n",
       "        text-align: right;\n",
       "    }\n",
       "</style>\n",
       "<table border=\"1\" class=\"dataframe\">\n",
       "  <thead>\n",
       "    <tr style=\"text-align: right;\">\n",
       "      <th></th>\n",
       "      <th>Customer</th>\n",
       "      <th>State</th>\n",
       "      <th>Customer Lifetime Value</th>\n",
       "      <th>Response</th>\n",
       "      <th>Coverage</th>\n",
       "      <th>Education</th>\n",
       "      <th>Effective To Date</th>\n",
       "      <th>EmploymentStatus</th>\n",
       "      <th>Gender</th>\n",
       "      <th>Income</th>\n",
       "      <th>...</th>\n",
       "      <th>Months Since Policy Inception</th>\n",
       "      <th>Number of Open Complaints</th>\n",
       "      <th>Number of Policies</th>\n",
       "      <th>Policy Type</th>\n",
       "      <th>Policy</th>\n",
       "      <th>Renew Offer Type</th>\n",
       "      <th>Sales Channel</th>\n",
       "      <th>Total Claim Amount</th>\n",
       "      <th>Vehicle Class</th>\n",
       "      <th>Vehicle Size</th>\n",
       "    </tr>\n",
       "  </thead>\n",
       "  <tbody>\n",
       "    <tr>\n",
       "      <th>0</th>\n",
       "      <td>BU79786</td>\n",
       "      <td>Washington</td>\n",
       "      <td>2763.519279</td>\n",
       "      <td>No</td>\n",
       "      <td>Basic</td>\n",
       "      <td>Bachelor</td>\n",
       "      <td>2/24/2011</td>\n",
       "      <td>Employed</td>\n",
       "      <td>F</td>\n",
       "      <td>56274</td>\n",
       "      <td>...</td>\n",
       "      <td>5</td>\n",
       "      <td>0</td>\n",
       "      <td>1</td>\n",
       "      <td>Corporate Auto</td>\n",
       "      <td>Corporate L3</td>\n",
       "      <td>Offer1</td>\n",
       "      <td>Agent</td>\n",
       "      <td>384.811147</td>\n",
       "      <td>Two-Door Car</td>\n",
       "      <td>Medsize</td>\n",
       "    </tr>\n",
       "    <tr>\n",
       "      <th>1</th>\n",
       "      <td>QZ44356</td>\n",
       "      <td>Arizona</td>\n",
       "      <td>6979.535903</td>\n",
       "      <td>No</td>\n",
       "      <td>Extended</td>\n",
       "      <td>Bachelor</td>\n",
       "      <td>1/31/2011</td>\n",
       "      <td>Unemployed</td>\n",
       "      <td>F</td>\n",
       "      <td>0</td>\n",
       "      <td>...</td>\n",
       "      <td>42</td>\n",
       "      <td>0</td>\n",
       "      <td>8</td>\n",
       "      <td>Personal Auto</td>\n",
       "      <td>Personal L3</td>\n",
       "      <td>Offer3</td>\n",
       "      <td>Agent</td>\n",
       "      <td>1131.464935</td>\n",
       "      <td>Four-Door Car</td>\n",
       "      <td>Medsize</td>\n",
       "    </tr>\n",
       "    <tr>\n",
       "      <th>2</th>\n",
       "      <td>AI49188</td>\n",
       "      <td>Nevada</td>\n",
       "      <td>12887.431650</td>\n",
       "      <td>No</td>\n",
       "      <td>Premium</td>\n",
       "      <td>Bachelor</td>\n",
       "      <td>2/19/2011</td>\n",
       "      <td>Employed</td>\n",
       "      <td>F</td>\n",
       "      <td>48767</td>\n",
       "      <td>...</td>\n",
       "      <td>38</td>\n",
       "      <td>0</td>\n",
       "      <td>2</td>\n",
       "      <td>Personal Auto</td>\n",
       "      <td>Personal L3</td>\n",
       "      <td>Offer1</td>\n",
       "      <td>Agent</td>\n",
       "      <td>566.472247</td>\n",
       "      <td>Two-Door Car</td>\n",
       "      <td>Medsize</td>\n",
       "    </tr>\n",
       "    <tr>\n",
       "      <th>3</th>\n",
       "      <td>WW63253</td>\n",
       "      <td>California</td>\n",
       "      <td>7645.861827</td>\n",
       "      <td>No</td>\n",
       "      <td>Basic</td>\n",
       "      <td>Bachelor</td>\n",
       "      <td>1/20/2011</td>\n",
       "      <td>Unemployed</td>\n",
       "      <td>M</td>\n",
       "      <td>0</td>\n",
       "      <td>...</td>\n",
       "      <td>65</td>\n",
       "      <td>0</td>\n",
       "      <td>7</td>\n",
       "      <td>Corporate Auto</td>\n",
       "      <td>Corporate L2</td>\n",
       "      <td>Offer1</td>\n",
       "      <td>Call Center</td>\n",
       "      <td>529.881344</td>\n",
       "      <td>SUV</td>\n",
       "      <td>Medsize</td>\n",
       "    </tr>\n",
       "    <tr>\n",
       "      <th>4</th>\n",
       "      <td>HB64268</td>\n",
       "      <td>Washington</td>\n",
       "      <td>2813.692575</td>\n",
       "      <td>No</td>\n",
       "      <td>Basic</td>\n",
       "      <td>Bachelor</td>\n",
       "      <td>2/3/2011</td>\n",
       "      <td>Employed</td>\n",
       "      <td>M</td>\n",
       "      <td>43836</td>\n",
       "      <td>...</td>\n",
       "      <td>44</td>\n",
       "      <td>0</td>\n",
       "      <td>1</td>\n",
       "      <td>Personal Auto</td>\n",
       "      <td>Personal L1</td>\n",
       "      <td>Offer1</td>\n",
       "      <td>Agent</td>\n",
       "      <td>138.130879</td>\n",
       "      <td>Four-Door Car</td>\n",
       "      <td>Medsize</td>\n",
       "    </tr>\n",
       "  </tbody>\n",
       "</table>\n",
       "<p>5 rows × 24 columns</p>\n",
       "</div>"
      ],
      "text/plain": [
       "  Customer       State  Customer Lifetime Value Response  Coverage Education  \\\n",
       "0  BU79786  Washington              2763.519279       No     Basic  Bachelor   \n",
       "1  QZ44356     Arizona              6979.535903       No  Extended  Bachelor   \n",
       "2  AI49188      Nevada             12887.431650       No   Premium  Bachelor   \n",
       "3  WW63253  California              7645.861827       No     Basic  Bachelor   \n",
       "4  HB64268  Washington              2813.692575       No     Basic  Bachelor   \n",
       "\n",
       "  Effective To Date EmploymentStatus Gender  Income  ...  \\\n",
       "0         2/24/2011         Employed      F   56274  ...   \n",
       "1         1/31/2011       Unemployed      F       0  ...   \n",
       "2         2/19/2011         Employed      F   48767  ...   \n",
       "3         1/20/2011       Unemployed      M       0  ...   \n",
       "4          2/3/2011         Employed      M   43836  ...   \n",
       "\n",
       "  Months Since Policy Inception Number of Open Complaints  Number of Policies  \\\n",
       "0                             5                         0                   1   \n",
       "1                            42                         0                   8   \n",
       "2                            38                         0                   2   \n",
       "3                            65                         0                   7   \n",
       "4                            44                         0                   1   \n",
       "\n",
       "      Policy Type        Policy  Renew Offer Type  Sales Channel  \\\n",
       "0  Corporate Auto  Corporate L3            Offer1          Agent   \n",
       "1   Personal Auto   Personal L3            Offer3          Agent   \n",
       "2   Personal Auto   Personal L3            Offer1          Agent   \n",
       "3  Corporate Auto  Corporate L2            Offer1    Call Center   \n",
       "4   Personal Auto   Personal L1            Offer1          Agent   \n",
       "\n",
       "  Total Claim Amount  Vehicle Class Vehicle Size  \n",
       "0         384.811147   Two-Door Car      Medsize  \n",
       "1        1131.464935  Four-Door Car      Medsize  \n",
       "2         566.472247   Two-Door Car      Medsize  \n",
       "3         529.881344            SUV      Medsize  \n",
       "4         138.130879  Four-Door Car      Medsize  \n",
       "\n",
       "[5 rows x 24 columns]"
      ]
     },
     "execution_count": 16,
     "metadata": {},
     "output_type": "execute_result"
    }
   ],
   "source": [
    "CLV.head()"
   ]
  },
  {
   "cell_type": "code",
   "execution_count": 17,
   "metadata": {
    "scrolled": false
   },
   "outputs": [
    {
     "name": "stdout",
     "output_type": "stream",
     "text": [
      "<class 'pandas.core.frame.DataFrame'>\n",
      "RangeIndex: 8099 entries, 0 to 8098\n",
      "Data columns (total 24 columns):\n",
      " #   Column                         Non-Null Count  Dtype  \n",
      "---  ------                         --------------  -----  \n",
      " 0   Customer                       8099 non-null   object \n",
      " 1   State                          8099 non-null   object \n",
      " 2   Customer Lifetime Value        8099 non-null   float64\n",
      " 3   Response                       8099 non-null   object \n",
      " 4   Coverage                       8099 non-null   object \n",
      " 5   Education                      8099 non-null   object \n",
      " 6   Effective To Date              8099 non-null   object \n",
      " 7   EmploymentStatus               8099 non-null   object \n",
      " 8   Gender                         8099 non-null   object \n",
      " 9   Income                         8099 non-null   int64  \n",
      " 10  Location Code                  8099 non-null   object \n",
      " 11  Marital Status                 8099 non-null   object \n",
      " 12  Monthly Premium Auto           8099 non-null   int64  \n",
      " 13  Months Since Last Claim        8099 non-null   int64  \n",
      " 14  Months Since Policy Inception  8099 non-null   int64  \n",
      " 15  Number of Open Complaints      8099 non-null   int64  \n",
      " 16  Number of Policies             8099 non-null   int64  \n",
      " 17  Policy Type                    8099 non-null   object \n",
      " 18  Policy                         8099 non-null   object \n",
      " 19  Renew Offer Type               8099 non-null   object \n",
      " 20  Sales Channel                  8099 non-null   object \n",
      " 21  Total Claim Amount             8099 non-null   float64\n",
      " 22  Vehicle Class                  8099 non-null   object \n",
      " 23  Vehicle Size                   8099 non-null   object \n",
      "dtypes: float64(2), int64(6), object(16)\n",
      "memory usage: 1.5+ MB\n"
     ]
    }
   ],
   "source": [
    "CLV.info()"
   ]
  },
  {
   "cell_type": "markdown",
   "metadata": {},
   "source": [
    "No missing values in the data set, so I need to insert some. I did this by picking 8 columns and removing 15% of each column. The total amount of missing data was 5.6% of the dataset"
   ]
  },
  {
   "cell_type": "code",
   "execution_count": 18,
   "metadata": {},
   "outputs": [],
   "source": [
    "# I picked 8 columns and removed 15% of each\n",
    "column_list = ['Coverage','Effective To Date','Location Code',\n",
    "               'Marital Status','Monthly Premium Auto','Number of Policies','Policy Type', 'Policy','Vehicle Class']\n",
    "rand_st = 0\n",
    "for column in column_list:\n",
    "    CLV.loc[CLV.sample(frac = .15, random_state = rand_st).index,column] = np.NaN\n",
    "    rand_st += 5"
   ]
  },
  {
   "cell_type": "code",
   "execution_count": 19,
   "metadata": {
    "scrolled": false
   },
   "outputs": [
    {
     "name": "stdout",
     "output_type": "stream",
     "text": [
      "<class 'pandas.core.frame.DataFrame'>\n",
      "RangeIndex: 8099 entries, 0 to 8098\n",
      "Data columns (total 24 columns):\n",
      " #   Column                         Non-Null Count  Dtype  \n",
      "---  ------                         --------------  -----  \n",
      " 0   Customer                       8099 non-null   object \n",
      " 1   State                          8099 non-null   object \n",
      " 2   Customer Lifetime Value        8099 non-null   float64\n",
      " 3   Response                       8099 non-null   object \n",
      " 4   Coverage                       6884 non-null   object \n",
      " 5   Education                      8099 non-null   object \n",
      " 6   Effective To Date              6884 non-null   object \n",
      " 7   EmploymentStatus               8099 non-null   object \n",
      " 8   Gender                         8099 non-null   object \n",
      " 9   Income                         8099 non-null   int64  \n",
      " 10  Location Code                  6884 non-null   object \n",
      " 11  Marital Status                 6884 non-null   object \n",
      " 12  Monthly Premium Auto           6884 non-null   float64\n",
      " 13  Months Since Last Claim        8099 non-null   int64  \n",
      " 14  Months Since Policy Inception  8099 non-null   int64  \n",
      " 15  Number of Open Complaints      8099 non-null   int64  \n",
      " 16  Number of Policies             6884 non-null   float64\n",
      " 17  Policy Type                    6884 non-null   object \n",
      " 18  Policy                         6884 non-null   object \n",
      " 19  Renew Offer Type               8099 non-null   object \n",
      " 20  Sales Channel                  8099 non-null   object \n",
      " 21  Total Claim Amount             8099 non-null   float64\n",
      " 22  Vehicle Class                  6884 non-null   object \n",
      " 23  Vehicle Size                   8099 non-null   object \n",
      "dtypes: float64(4), int64(4), object(16)\n",
      "memory usage: 1.5+ MB\n"
     ]
    }
   ],
   "source": [
    "CLV.info()"
   ]
  },
  {
   "cell_type": "markdown",
   "metadata": {},
   "source": [
    "Here I calculate the total amount of missing data: 5.6%"
   ]
  },
  {
   "cell_type": "code",
   "execution_count": 20,
   "metadata": {},
   "outputs": [
    {
     "data": {
      "text/plain": [
       "0.05625694530188912"
      ]
     },
     "execution_count": 20,
     "metadata": {},
     "output_type": "execute_result"
    }
   ],
   "source": [
    "CLV.isna().sum().sum()/(len(CLV)*len(CLV.columns))"
   ]
  },
  {
   "cell_type": "markdown",
   "metadata": {},
   "source": [
    "Histograms of each of the numeric column show that data is mostly right skewed (as expected)"
   ]
  },
  {
   "cell_type": "code",
   "execution_count": 21,
   "metadata": {
    "scrolled": false
   },
   "outputs": [
    {
     "data": {
      "text/plain": [
       "array([[<AxesSubplot:title={'center':'Customer Lifetime Value'}>,\n",
       "        <AxesSubplot:title={'center':'Income'}>,\n",
       "        <AxesSubplot:title={'center':'Monthly Premium Auto'}>],\n",
       "       [<AxesSubplot:title={'center':'Months Since Last Claim'}>,\n",
       "        <AxesSubplot:title={'center':'Months Since Policy Inception'}>,\n",
       "        <AxesSubplot:title={'center':'Number of Open Complaints'}>],\n",
       "       [<AxesSubplot:title={'center':'Number of Policies'}>,\n",
       "        <AxesSubplot:title={'center':'Total Claim Amount'}>,\n",
       "        <AxesSubplot:>]], dtype=object)"
      ]
     },
     "execution_count": 21,
     "metadata": {},
     "output_type": "execute_result"
    },
    {
     "data": {
      "image/png": "[encoded data removed]",
      "text/plain": [
       "<Figure size 720x720 with 9 Axes>"
      ]
     },
     "metadata": {
      "needs_background": "light"
     },
     "output_type": "display_data"
    }
   ],
   "source": [
    "CLV.hist(figsize = (10,10))"
   ]
  },
  {
   "cell_type": "markdown",
   "metadata": {},
   "source": [
    "### Customer"
   ]
  },
  {
   "cell_type": "markdown",
   "metadata": {},
   "source": [
    "The customer is the ID column, so I drop it from the model"
   ]
  },
  {
   "cell_type": "code",
   "execution_count": 22,
   "metadata": {},
   "outputs": [],
   "source": [
    "CLV.drop('Customer', axis = 1, inplace = True)"
   ]
  },
  {
   "cell_type": "markdown",
   "metadata": {},
   "source": [
    "### State"
   ]
  },
  {
   "cell_type": "markdown",
   "metadata": {},
   "source": [
    "Since state is a categorical variable, I use a one-hot-vector"
   ]
  },
  {
   "cell_type": "code",
   "execution_count": 23,
   "metadata": {},
   "outputs": [
    {
     "data": {
      "text/plain": [
       "Oregon        2475\n",
       "California    2376\n",
       "Arizona       1640\n",
       "Nevada         842\n",
       "Washington     766\n",
       "Name: State, dtype: int64"
      ]
     },
     "execution_count": 23,
     "metadata": {},
     "output_type": "execute_result"
    }
   ],
   "source": [
    "CLV['State'].value_counts()"
   ]
  },
  {
   "cell_type": "code",
   "execution_count": 24,
   "metadata": {},
   "outputs": [],
   "source": [
    "dummies = pd.get_dummies(CLV['State'], prefix  = 'State')\n",
    "CLV[dummies.columns] = dummies\n",
    "CLV.drop('State', axis = 1, inplace = True)"
   ]
  },
  {
   "cell_type": "markdown",
   "metadata": {},
   "source": [
    "### Response"
   ]
  },
  {
   "cell_type": "markdown",
   "metadata": {},
   "source": [
    "Response is also categorical, but there are only 2 unique values, so I can make it a dummy variable"
   ]
  },
  {
   "cell_type": "code",
   "execution_count": 25,
   "metadata": {
    "scrolled": true
   },
   "outputs": [
    {
     "data": {
      "text/plain": [
       "No     6926\n",
       "Yes    1173\n",
       "Name: Response, dtype: int64"
      ]
     },
     "execution_count": 25,
     "metadata": {},
     "output_type": "execute_result"
    }
   ],
   "source": [
    "CLV['Response'].value_counts()"
   ]
  },
  {
   "cell_type": "code",
   "execution_count": 26,
   "metadata": {},
   "outputs": [],
   "source": [
    "CLV['Response'] = CLV['Response'].map({'No':1, 'Yes':0})"
   ]
  },
  {
   "cell_type": "markdown",
   "metadata": {},
   "source": [
    "### Coverage"
   ]
  },
  {
   "cell_type": "markdown",
   "metadata": {},
   "source": [
    "Coverage is an ordinal column: Premium is better than Extended, which is better than Basic. Therefore, I can assign numeric values"
   ]
  },
  {
   "cell_type": "code",
   "execution_count": 27,
   "metadata": {},
   "outputs": [
    {
     "data": {
      "text/plain": [
       "Basic       4216\n",
       "Extended    2056\n",
       "Premium      612\n",
       "Name: Coverage, dtype: int64"
      ]
     },
     "execution_count": 27,
     "metadata": {},
     "output_type": "execute_result"
    }
   ],
   "source": [
    "CLV['Coverage'].value_counts()"
   ]
  },
  {
   "cell_type": "markdown",
   "metadata": {},
   "source": [
    "I replace the missing values with the most common value"
   ]
  },
  {
   "cell_type": "code",
   "execution_count": 28,
   "metadata": {},
   "outputs": [],
   "source": [
    "CLV['Coverage'].replace(np.NaN, 'Basic', inplace = True)"
   ]
  },
  {
   "cell_type": "code",
   "execution_count": 29,
   "metadata": {},
   "outputs": [],
   "source": [
    "CLV['Coverage'] = CLV['Coverage'].map({'Basic':0,'Extended':1, 'Premium':2})"
   ]
  },
  {
   "cell_type": "markdown",
   "metadata": {},
   "source": [
    "### Education"
   ]
  },
  {
   "cell_type": "markdown",
   "metadata": {},
   "source": [
    "Education is also ordinal, so I assign numeric values from 0 (least education) to 4 (most education)"
   ]
  },
  {
   "cell_type": "code",
   "execution_count": 30,
   "metadata": {},
   "outputs": [
    {
     "data": {
      "text/plain": [
       "Bachelor                2430\n",
       "College                 2369\n",
       "High School or Below    2339\n",
       "Master                   648\n",
       "Doctor                   313\n",
       "Name: Education, dtype: int64"
      ]
     },
     "execution_count": 30,
     "metadata": {},
     "output_type": "execute_result"
    }
   ],
   "source": [
    "CLV['Education'].value_counts()"
   ]
  },
  {
   "cell_type": "code",
   "execution_count": 31,
   "metadata": {},
   "outputs": [],
   "source": [
    "CLV['Education'] = CLV['Education'].map({'High School or Below': 0, 'College':1, 'Bachelor':2, 'Master':3,'Doctor':4})"
   ]
  },
  {
   "cell_type": "markdown",
   "metadata": {},
   "source": [
    "### Effective to Date"
   ]
  },
  {
   "cell_type": "markdown",
   "metadata": {},
   "source": [
    "Effective to Date is a date column, which means, in order to extract value, I need to convert it to a numeric value. I chose to do this by assuming that the date of the data set was January 1, 2011 and calculated the number of days until the coverage expired."
   ]
  },
  {
   "cell_type": "code",
   "execution_count": 32,
   "metadata": {
    "scrolled": true
   },
   "outputs": [
    {
     "data": {
      "text/plain": [
       "8094     1/1/2011\n",
       "8095     2/7/2011\n",
       "8096    1/29/2011\n",
       "8097    1/31/2011\n",
       "8098    1/25/2011\n",
       "Name: Effective To Date, dtype: object"
      ]
     },
     "execution_count": 32,
     "metadata": {},
     "output_type": "execute_result"
    }
   ],
   "source": [
    "CLV['Effective To Date'].tail() "
   ]
  },
  {
   "cell_type": "code",
   "execution_count": 33,
   "metadata": {},
   "outputs": [],
   "source": [
    "CLV['DaysUntilExpired'] = (pd.to_datetime(CLV['Effective To Date'])  - pd.to_datetime('1/1/2011')).dt.days"
   ]
  },
  {
   "cell_type": "markdown",
   "metadata": {},
   "source": [
    "This column also had null values, so I imputed using the average"
   ]
  },
  {
   "cell_type": "code",
   "execution_count": 34,
   "metadata": {},
   "outputs": [],
   "source": [
    "avg = CLV['DaysUntilExpired'].mean()\n",
    "CLV['DaysUntilExpired'].replace(np.NaN, avg, inplace = True)\n",
    "CLV.drop('Effective To Date', axis = 1, inplace = True)"
   ]
  },
  {
   "cell_type": "code",
   "execution_count": 35,
   "metadata": {},
   "outputs": [],
   "source": [
    "CLV['DaysUntilExpired'] = CLV['DaysUntilExpired'].astype(int)"
   ]
  },
  {
   "cell_type": "markdown",
   "metadata": {},
   "source": [
    "### Employment Status"
   ]
  },
  {
   "cell_type": "markdown",
   "metadata": {},
   "source": [
    "Employment status is categorical, so I use one-hot-vector"
   ]
  },
  {
   "cell_type": "code",
   "execution_count": 36,
   "metadata": {
    "scrolled": true
   },
   "outputs": [
    {
     "data": {
      "text/plain": [
       "Employed         5079\n",
       "Unemployed       2041\n",
       "Medical Leave     376\n",
       "Disabled          357\n",
       "Retired           246\n",
       "Name: EmploymentStatus, dtype: int64"
      ]
     },
     "execution_count": 36,
     "metadata": {},
     "output_type": "execute_result"
    }
   ],
   "source": [
    "CLV['EmploymentStatus'].value_counts()"
   ]
  },
  {
   "cell_type": "code",
   "execution_count": 37,
   "metadata": {},
   "outputs": [],
   "source": [
    "dummies = pd.get_dummies(CLV['EmploymentStatus'], prefix = 'EmpStatus')\n",
    "CLV[dummies.columns] = dummies\n",
    "CLV.drop('EmploymentStatus', axis = 1, inplace = True)"
   ]
  },
  {
   "cell_type": "markdown",
   "metadata": {},
   "source": [
    "### Gender"
   ]
  },
  {
   "cell_type": "markdown",
   "metadata": {},
   "source": [
    "Gender is categorical with 2 unique values, so use a dummy variable"
   ]
  },
  {
   "cell_type": "code",
   "execution_count": 38,
   "metadata": {},
   "outputs": [
    {
     "data": {
      "text/plain": [
       "F    4164\n",
       "M    3935\n",
       "Name: Gender, dtype: int64"
      ]
     },
     "execution_count": 38,
     "metadata": {},
     "output_type": "execute_result"
    }
   ],
   "source": [
    "CLV['Gender'].value_counts()"
   ]
  },
  {
   "cell_type": "code",
   "execution_count": 39,
   "metadata": {},
   "outputs": [],
   "source": [
    "CLV['Gender'] = CLV['Gender'].map({'F':1,'M':0})"
   ]
  },
  {
   "cell_type": "markdown",
   "metadata": {},
   "source": [
    "### Income"
   ]
  },
  {
   "cell_type": "markdown",
   "metadata": {},
   "source": [
    "This column needs no processing"
   ]
  },
  {
   "cell_type": "markdown",
   "metadata": {},
   "source": [
    "### Location Code"
   ]
  },
  {
   "cell_type": "markdown",
   "metadata": {},
   "source": [
    "The column is categorical, so I use a one-hot-vector"
   ]
  },
  {
   "cell_type": "code",
   "execution_count": 40,
   "metadata": {},
   "outputs": [
    {
     "data": {
      "text/plain": [
       "Suburban    4338\n",
       "Rural       1357\n",
       "Urban       1189\n",
       "Name: Location Code, dtype: int64"
      ]
     },
     "execution_count": 40,
     "metadata": {},
     "output_type": "execute_result"
    }
   ],
   "source": [
    "CLV['Location Code'].value_counts()"
   ]
  },
  {
   "cell_type": "markdown",
   "metadata": {},
   "source": [
    "Here, I replace the missing values with the most common value"
   ]
  },
  {
   "cell_type": "code",
   "execution_count": 41,
   "metadata": {},
   "outputs": [],
   "source": [
    "CLV['Location Code'].replace(np.NaN, 'Suburban', inplace = True)"
   ]
  },
  {
   "cell_type": "code",
   "execution_count": 42,
   "metadata": {},
   "outputs": [],
   "source": [
    "dummies = pd.get_dummies(CLV['Location Code'], prefix = 'Location')\n",
    "CLV[dummies.columns] = dummies\n",
    "CLV.drop('Location Code', axis = 1, inplace = True)"
   ]
  },
  {
   "cell_type": "markdown",
   "metadata": {},
   "source": [
    "### Marital Status"
   ]
  },
  {
   "cell_type": "markdown",
   "metadata": {},
   "source": [
    "Marital Status is categorical, so I use a one-hot-vector"
   ]
  },
  {
   "cell_type": "code",
   "execution_count": 43,
   "metadata": {},
   "outputs": [
    {
     "data": {
      "text/plain": [
       "Married     4042\n",
       "Single      1802\n",
       "Divorced    1040\n",
       "Name: Marital Status, dtype: int64"
      ]
     },
     "execution_count": 43,
     "metadata": {},
     "output_type": "execute_result"
    }
   ],
   "source": [
    "CLV['Marital Status'].value_counts()"
   ]
  },
  {
   "cell_type": "markdown",
   "metadata": {},
   "source": [
    "Replace the NA's with the most common value"
   ]
  },
  {
   "cell_type": "code",
   "execution_count": 44,
   "metadata": {},
   "outputs": [],
   "source": [
    "CLV['Marital Status'].replace(np.NaN, 'Married', inplace = True)"
   ]
  },
  {
   "cell_type": "code",
   "execution_count": 45,
   "metadata": {},
   "outputs": [],
   "source": [
    "dummies = pd.get_dummies(CLV['Marital Status'], prefix = 'Marital')\n",
    "CLV[dummies.columns] = dummies\n",
    "CLV.drop('Marital Status', axis = 1, inplace = True)"
   ]
  },
  {
   "cell_type": "markdown",
   "metadata": {},
   "source": [
    "### Monthly Premium Auto"
   ]
  },
  {
   "cell_type": "code",
   "execution_count": 46,
   "metadata": {
    "scrolled": true
   },
   "outputs": [],
   "source": [
    "avg = CLV['Monthly Premium Auto'].mean()"
   ]
  },
  {
   "cell_type": "markdown",
   "metadata": {},
   "source": [
    "Replace the missing values with the mean"
   ]
  },
  {
   "cell_type": "code",
   "execution_count": 47,
   "metadata": {},
   "outputs": [],
   "source": [
    "CLV['Monthly Premium Auto'].replace(np.NaN, avg, inplace = True)"
   ]
  },
  {
   "cell_type": "markdown",
   "metadata": {},
   "source": [
    "### Number of Policies"
   ]
  },
  {
   "cell_type": "code",
   "execution_count": 48,
   "metadata": {},
   "outputs": [
    {
     "data": {
      "text/plain": [
       "<AxesSubplot:>"
      ]
     },
     "execution_count": 48,
     "metadata": {},
     "output_type": "execute_result"
    },
    {
     "data": {
      "image/png": "[encoded data removed]",
      "text/plain": [
       "<Figure size 432x288 with 1 Axes>"
      ]
     },
     "metadata": {
      "needs_background": "light"
     },
     "output_type": "display_data"
    }
   ],
   "source": [
    "CLV['Number of Policies'].hist()"
   ]
  },
  {
   "cell_type": "code",
   "execution_count": 49,
   "metadata": {},
   "outputs": [
    {
     "data": {
      "text/plain": [
       "2.97472399767577"
      ]
     },
     "execution_count": 49,
     "metadata": {},
     "output_type": "execute_result"
    }
   ],
   "source": [
    "CLV['Number of Policies'].mean()"
   ]
  },
  {
   "cell_type": "markdown",
   "metadata": {},
   "source": [
    "Replace the missing values with the mean"
   ]
  },
  {
   "cell_type": "code",
   "execution_count": 50,
   "metadata": {},
   "outputs": [],
   "source": [
    "CLV['Number of Policies'].replace(np.NaN, CLV['Number of Policies'].mean(), inplace = True )"
   ]
  },
  {
   "cell_type": "markdown",
   "metadata": {},
   "source": [
    "### Policy Type"
   ]
  },
  {
   "cell_type": "markdown",
   "metadata": {},
   "source": [
    "This column is categorical, so I use a one-hot vector"
   ]
  },
  {
   "cell_type": "code",
   "execution_count": 51,
   "metadata": {},
   "outputs": [
    {
     "data": {
      "text/plain": [
       "Personal Auto     5124\n",
       "Corporate Auto    1438\n",
       "Special Auto       322\n",
       "Name: Policy Type, dtype: int64"
      ]
     },
     "execution_count": 51,
     "metadata": {},
     "output_type": "execute_result"
    }
   ],
   "source": [
    "CLV['Policy Type'].value_counts()"
   ]
  },
  {
   "cell_type": "markdown",
   "metadata": {},
   "source": [
    "Replace the NA's with the most common"
   ]
  },
  {
   "cell_type": "code",
   "execution_count": 52,
   "metadata": {},
   "outputs": [],
   "source": [
    "CLV['Policy Type'].replace(np.NaN, 'Personal Auto', inplace = True)"
   ]
  },
  {
   "cell_type": "code",
   "execution_count": 53,
   "metadata": {},
   "outputs": [],
   "source": [
    "dummies = pd.get_dummies(CLV['Policy Type'], prefix = 'Policy Type')\n",
    "CLV[dummies.columns] = dummies\n",
    "CLV.drop('Policy Type', axis = 1, inplace = True)"
   ]
  },
  {
   "cell_type": "markdown",
   "metadata": {},
   "source": [
    "### Policy"
   ]
  },
  {
   "cell_type": "markdown",
   "metadata": {},
   "source": [
    "This column is strange because there is an order within the categorical variables, and technically, the first part (personal, corporate,or special) is a repeat of the previous column.\n",
    "\n",
    "I can handle this in 2 ways: \n",
    "1. Delete the first part and just consider the policy level\n",
    "2. Pretend as if policy and policy type are two different, unrelated columns\n",
    "\n",
    "I decided to use the first way, and just consider the policy level for this column. This means I had to consider policy, corporate, and special as individual columns and use the level as the ordinal value \n",
    "\n",
    "Handling missing values: I thought about using the previous column to help impute the missing values on this one and vice versa, but that seems like it is \"cheating\" in a way"
   ]
  },
  {
   "cell_type": "code",
   "execution_count": 54,
   "metadata": {
    "scrolled": true
   },
   "outputs": [
    {
     "data": {
      "text/plain": [
       "Personal L3     2648\n",
       "Personal L2     1539\n",
       "Personal L1      954\n",
       "Corporate L3     736\n",
       "Corporate L2     439\n",
       "Corporate L1     261\n",
       "Special L2       134\n",
       "Special L3       122\n",
       "Special L1        51\n",
       "Name: Policy, dtype: int64"
      ]
     },
     "execution_count": 54,
     "metadata": {},
     "output_type": "execute_result"
    }
   ],
   "source": [
    "CLV['Policy'].value_counts()"
   ]
  },
  {
   "cell_type": "code",
   "execution_count": 55,
   "metadata": {},
   "outputs": [],
   "source": [
    "#dummies = pd.get_dummies(CLV['Policy'], prefix = 'Policy')\n",
    "#CLV[dummies.columns] = dummies\n",
    "#CLV.drop('Policy', axis = 1, inplace = True)"
   ]
  },
  {
   "cell_type": "markdown",
   "metadata": {},
   "source": [
    "Get rid of the policy type"
   ]
  },
  {
   "cell_type": "code",
   "execution_count": 56,
   "metadata": {
    "scrolled": true
   },
   "outputs": [],
   "source": [
    "CLV.loc[CLV['Policy'].isin(['Personal L3', 'Corporate L3', 'Special L3']),'Policy'] = 3\n",
    "CLV.loc[CLV['Policy'].isin(['Personal L2', 'Corporate L2', 'Special L2']),'Policy'] = 2\n",
    "CLV.loc[CLV['Policy'].isin(['Personal L1', 'Corporate L1', 'Special L1']),'Policy'] = 1"
   ]
  },
  {
   "cell_type": "code",
   "execution_count": 57,
   "metadata": {
    "scrolled": true
   },
   "outputs": [
    {
     "data": {
      "text/plain": [
       "3    3506\n",
       "2    2112\n",
       "1    1266\n",
       "Name: Policy, dtype: int64"
      ]
     },
     "execution_count": 57,
     "metadata": {},
     "output_type": "execute_result"
    }
   ],
   "source": [
    "CLV['Policy'].value_counts()"
   ]
  },
  {
   "cell_type": "markdown",
   "metadata": {},
   "source": [
    "Impute the missing values using the most common value"
   ]
  },
  {
   "cell_type": "code",
   "execution_count": 58,
   "metadata": {},
   "outputs": [],
   "source": [
    "CLV['Policy'].replace(np.NaN, 3, inplace = True)"
   ]
  },
  {
   "cell_type": "markdown",
   "metadata": {},
   "source": [
    "Create 3 separate columns for each policy type, then assign ordinal values based on the level of policy"
   ]
  },
  {
   "cell_type": "code",
   "execution_count": 59,
   "metadata": {},
   "outputs": [],
   "source": [
    "CLV['Policy_Level_Corporate'] = CLV['Policy'].mask(CLV['Policy Type_Corporate Auto'] == 0, other = 0)\n",
    "CLV['Policy_Level_Personal'] = CLV['Policy'].mask(CLV['Policy Type_Personal Auto'] == 0, other = 0)\n",
    "CLV['Policy_Level_Special'] = CLV['Policy'].mask(CLV['Policy Type_Special Auto'] == 0, other = 0)"
   ]
  },
  {
   "cell_type": "code",
   "execution_count": 60,
   "metadata": {
    "scrolled": false
   },
   "outputs": [],
   "source": [
    "CLV.drop(['Policy Type_Corporate Auto','Policy Type_Personal Auto','Policy Type_Special Auto'],axis = 1, inplace = True)"
   ]
  },
  {
   "cell_type": "markdown",
   "metadata": {},
   "source": [
    "### Renew Offer Type"
   ]
  },
  {
   "cell_type": "markdown",
   "metadata": {},
   "source": [
    "This was also a weird column. Since there is not enough information on what the offer means, this could be ordinal or categorical. I chose to treat it as categorical, because there is no indication that Offer1 is better or worse than Offer2. "
   ]
  },
  {
   "cell_type": "code",
   "execution_count": 61,
   "metadata": {
    "scrolled": true
   },
   "outputs": [
    {
     "data": {
      "text/plain": [
       "Offer1    3324\n",
       "Offer2    2591\n",
       "Offer3    1262\n",
       "Offer4     922\n",
       "Name: Renew Offer Type, dtype: int64"
      ]
     },
     "execution_count": 61,
     "metadata": {},
     "output_type": "execute_result"
    }
   ],
   "source": [
    "CLV['Renew Offer Type'].value_counts()"
   ]
  },
  {
   "cell_type": "code",
   "execution_count": 62,
   "metadata": {},
   "outputs": [],
   "source": [
    "dummies = pd.get_dummies(CLV['Renew Offer Type'], prefix = 'RenewOfferType')\n",
    "CLV[dummies.columns] = dummies\n",
    "CLV.drop('Renew Offer Type', axis = 1, inplace = True)"
   ]
  },
  {
   "cell_type": "markdown",
   "metadata": {},
   "source": [
    "### Sales Channel"
   ]
  },
  {
   "cell_type": "markdown",
   "metadata": {},
   "source": [
    "This column is categorical, so I use a one-hot-vector"
   ]
  },
  {
   "cell_type": "code",
   "execution_count": 63,
   "metadata": {},
   "outputs": [
    {
     "data": {
      "text/plain": [
       "Agent          3087\n",
       "Branch         2255\n",
       "Call Center    1567\n",
       "Web            1190\n",
       "Name: Sales Channel, dtype: int64"
      ]
     },
     "execution_count": 63,
     "metadata": {},
     "output_type": "execute_result"
    }
   ],
   "source": [
    "CLV['Sales Channel'].value_counts()"
   ]
  },
  {
   "cell_type": "code",
   "execution_count": 64,
   "metadata": {},
   "outputs": [],
   "source": [
    "dummies = pd.get_dummies(CLV['Sales Channel'], prefix = 'SalesChannel')\n",
    "CLV[dummies.columns] = dummies\n",
    "CLV.drop('Sales Channel', axis = 1, inplace = True)"
   ]
  },
  {
   "cell_type": "markdown",
   "metadata": {},
   "source": [
    "### Total Claim Amount"
   ]
  },
  {
   "cell_type": "markdown",
   "metadata": {},
   "source": [
    "No processing needed"
   ]
  },
  {
   "cell_type": "code",
   "execution_count": 65,
   "metadata": {},
   "outputs": [
    {
     "data": {
      "text/plain": [
       "<AxesSubplot:>"
      ]
     },
     "execution_count": 65,
     "metadata": {},
     "output_type": "execute_result"
    },
    {
     "data": {
      "image/png": "[encoded data removed]",
      "text/plain": [
       "<Figure size 432x288 with 1 Axes>"
      ]
     },
     "metadata": {
      "needs_background": "light"
     },
     "output_type": "display_data"
    }
   ],
   "source": [
    "CLV['Total Claim Amount'].hist()"
   ]
  },
  {
   "cell_type": "markdown",
   "metadata": {},
   "source": [
    "### Vehicle Class"
   ]
  },
  {
   "cell_type": "markdown",
   "metadata": {},
   "source": [
    "This is categorical, so I use a one-hot-vector approach"
   ]
  },
  {
   "cell_type": "code",
   "execution_count": 66,
   "metadata": {
    "scrolled": true
   },
   "outputs": [
    {
     "data": {
      "text/plain": [
       "Four-Door Car    3503\n",
       "Two-Door Car     1404\n",
       "SUV              1346\n",
       "Sports Car        376\n",
       "Luxury SUV        134\n",
       "Luxury Car        121\n",
       "Name: Vehicle Class, dtype: int64"
      ]
     },
     "execution_count": 66,
     "metadata": {},
     "output_type": "execute_result"
    }
   ],
   "source": [
    "CLV['Vehicle Class'].value_counts()"
   ]
  },
  {
   "cell_type": "markdown",
   "metadata": {},
   "source": [
    "Replace the missing values with the most common one"
   ]
  },
  {
   "cell_type": "code",
   "execution_count": 67,
   "metadata": {},
   "outputs": [],
   "source": [
    "CLV['Vehicle Class'].replace(np.NaN, 'Four-Door Car', inplace = True)"
   ]
  },
  {
   "cell_type": "code",
   "execution_count": 68,
   "metadata": {},
   "outputs": [],
   "source": [
    "dummies = pd.get_dummies(CLV['Vehicle Class'], prefix = 'VehicleClass')\n",
    "CLV[dummies.columns] = dummies\n",
    "CLV.drop('Vehicle Class', axis = 1, inplace = True)"
   ]
  },
  {
   "cell_type": "markdown",
   "metadata": {},
   "source": [
    "### Vehicle Size"
   ]
  },
  {
   "cell_type": "markdown",
   "metadata": {},
   "source": [
    "This is ordinal, since large is bigger than medium which is bigger than small, so I map it from 0 (small) to 2 (large)"
   ]
  },
  {
   "cell_type": "code",
   "execution_count": 69,
   "metadata": {
    "scrolled": true
   },
   "outputs": [
    {
     "data": {
      "text/plain": [
       "Medsize    5671\n",
       "Small      1585\n",
       "Large       843\n",
       "Name: Vehicle Size, dtype: int64"
      ]
     },
     "execution_count": 69,
     "metadata": {},
     "output_type": "execute_result"
    }
   ],
   "source": [
    "CLV['Vehicle Size'].value_counts()"
   ]
  },
  {
   "cell_type": "code",
   "execution_count": 70,
   "metadata": {},
   "outputs": [],
   "source": [
    "CLV['Vehicle Size'] = CLV['Vehicle Size'].map({'Small':0, 'Medsize':1, 'Large':2})"
   ]
  },
  {
   "cell_type": "markdown",
   "metadata": {},
   "source": [
    "# Prepare the dataset for modeling"
   ]
  },
  {
   "cell_type": "code",
   "execution_count": 71,
   "metadata": {},
   "outputs": [
    {
     "data": {
      "text/plain": [
       "Customer Lifetime Value          0\n",
       "Response                         0\n",
       "Coverage                         0\n",
       "Education                        0\n",
       "Gender                           0\n",
       "Income                           0\n",
       "Monthly Premium Auto             0\n",
       "Months Since Last Claim          0\n",
       "Months Since Policy Inception    0\n",
       "Number of Open Complaints        0\n",
       "Number of Policies               0\n",
       "Policy                           0\n",
       "Total Claim Amount               0\n",
       "Vehicle Size                     0\n",
       "State_Arizona                    0\n",
       "State_California                 0\n",
       "State_Nevada                     0\n",
       "State_Oregon                     0\n",
       "State_Washington                 0\n",
       "DaysUntilExpired                 0\n",
       "EmpStatus_Disabled               0\n",
       "EmpStatus_Employed               0\n",
       "EmpStatus_Medical Leave          0\n",
       "EmpStatus_Retired                0\n",
       "EmpStatus_Unemployed             0\n",
       "Location_Rural                   0\n",
       "Location_Suburban                0\n",
       "Location_Urban                   0\n",
       "Marital_Divorced                 0\n",
       "Marital_Married                  0\n",
       "Marital_Single                   0\n",
       "Policy_Level_Corporate           0\n",
       "Policy_Level_Personal            0\n",
       "Policy_Level_Special             0\n",
       "RenewOfferType_Offer1            0\n",
       "RenewOfferType_Offer2            0\n",
       "RenewOfferType_Offer3            0\n",
       "RenewOfferType_Offer4            0\n",
       "SalesChannel_Agent               0\n",
       "SalesChannel_Branch              0\n",
       "SalesChannel_Call Center         0\n",
       "SalesChannel_Web                 0\n",
       "VehicleClass_Four-Door Car       0\n",
       "VehicleClass_Luxury Car          0\n",
       "VehicleClass_Luxury SUV          0\n",
       "VehicleClass_SUV                 0\n",
       "VehicleClass_Sports Car          0\n",
       "VehicleClass_Two-Door Car        0\n",
       "dtype: int64"
      ]
     },
     "execution_count": 71,
     "metadata": {},
     "output_type": "execute_result"
    }
   ],
   "source": [
    "CLV.isnull().sum()"
   ]
  },
  {
   "cell_type": "code",
   "execution_count": 72,
   "metadata": {
    "scrolled": false
   },
   "outputs": [
    {
     "name": "stdout",
     "output_type": "stream",
     "text": [
      "<class 'pandas.core.frame.DataFrame'>\n",
      "RangeIndex: 8099 entries, 0 to 8098\n",
      "Data columns (total 48 columns):\n",
      " #   Column                         Non-Null Count  Dtype  \n",
      "---  ------                         --------------  -----  \n",
      " 0   Customer Lifetime Value        8099 non-null   float64\n",
      " 1   Response                       8099 non-null   int64  \n",
      " 2   Coverage                       8099 non-null   int64  \n",
      " 3   Education                      8099 non-null   int64  \n",
      " 4   Gender                         8099 non-null   int64  \n",
      " 5   Income                         8099 non-null   int64  \n",
      " 6   Monthly Premium Auto           8099 non-null   float64\n",
      " 7   Months Since Last Claim        8099 non-null   int64  \n",
      " 8   Months Since Policy Inception  8099 non-null   int64  \n",
      " 9   Number of Open Complaints      8099 non-null   int64  \n",
      " 10  Number of Policies             8099 non-null   float64\n",
      " 11  Policy                         8099 non-null   int64  \n",
      " 12  Total Claim Amount             8099 non-null   float64\n",
      " 13  Vehicle Size                   8099 non-null   int64  \n",
      " 14  State_Arizona                  8099 non-null   uint8  \n",
      " 15  State_California               8099 non-null   uint8  \n",
      " 16  State_Nevada                   8099 non-null   uint8  \n",
      " 17  State_Oregon                   8099 non-null   uint8  \n",
      " 18  State_Washington               8099 non-null   uint8  \n",
      " 19  DaysUntilExpired               8099 non-null   int64  \n",
      " 20  EmpStatus_Disabled             8099 non-null   uint8  \n",
      " 21  EmpStatus_Employed             8099 non-null   uint8  \n",
      " 22  EmpStatus_Medical Leave        8099 non-null   uint8  \n",
      " 23  EmpStatus_Retired              8099 non-null   uint8  \n",
      " 24  EmpStatus_Unemployed           8099 non-null   uint8  \n",
      " 25  Location_Rural                 8099 non-null   uint8  \n",
      " 26  Location_Suburban              8099 non-null   uint8  \n",
      " 27  Location_Urban                 8099 non-null   uint8  \n",
      " 28  Marital_Divorced               8099 non-null   uint8  \n",
      " 29  Marital_Married                8099 non-null   uint8  \n",
      " 30  Marital_Single                 8099 non-null   uint8  \n",
      " 31  Policy_Level_Corporate         8099 non-null   int64  \n",
      " 32  Policy_Level_Personal          8099 non-null   int64  \n",
      " 33  Policy_Level_Special           8099 non-null   int64  \n",
      " 34  RenewOfferType_Offer1          8099 non-null   uint8  \n",
      " 35  RenewOfferType_Offer2          8099 non-null   uint8  \n",
      " 36  RenewOfferType_Offer3          8099 non-null   uint8  \n",
      " 37  RenewOfferType_Offer4          8099 non-null   uint8  \n",
      " 38  SalesChannel_Agent             8099 non-null   uint8  \n",
      " 39  SalesChannel_Branch            8099 non-null   uint8  \n",
      " 40  SalesChannel_Call Center       8099 non-null   uint8  \n",
      " 41  SalesChannel_Web               8099 non-null   uint8  \n",
      " 42  VehicleClass_Four-Door Car     8099 non-null   uint8  \n",
      " 43  VehicleClass_Luxury Car        8099 non-null   uint8  \n",
      " 44  VehicleClass_Luxury SUV        8099 non-null   uint8  \n",
      " 45  VehicleClass_SUV               8099 non-null   uint8  \n",
      " 46  VehicleClass_Sports Car        8099 non-null   uint8  \n",
      " 47  VehicleClass_Two-Door Car      8099 non-null   uint8  \n",
      "dtypes: float64(4), int64(14), uint8(30)\n",
      "memory usage: 1.3 MB\n"
     ]
    }
   ],
   "source": [
    "CLV.info()"
   ]
  },
  {
   "cell_type": "markdown",
   "metadata": {},
   "source": [
    "Split the data set"
   ]
  },
  {
   "cell_type": "code",
   "execution_count": 73,
   "metadata": {},
   "outputs": [],
   "source": [
    "from sklearn.preprocessing import MinMaxScaler\n",
    "from sklearn.model_selection import train_test_split\n",
    "\n",
    "X = CLV.drop('Customer Lifetime Value', axis = 1)\n",
    "y = CLV['Customer Lifetime Value']\n",
    "\n",
    "X_train_org, X_test_org, y_train, y_test = train_test_split(X,y, random_state = 0)\n",
    "\n",
    "scaler = MinMaxScaler()\n",
    "\n",
    "X_train = scaler.fit_transform(X_train_org)\n",
    "X_test = scaler.transform(X_test_org)"
   ]
  },
  {
   "cell_type": "markdown",
   "metadata": {},
   "source": [
    "# Regression Models"
   ]
  },
  {
   "cell_type": "code",
   "execution_count": 74,
   "metadata": {},
   "outputs": [],
   "source": [
    "from sklearn.model_selection import GridSearchCV"
   ]
  },
  {
   "cell_type": "markdown",
   "metadata": {},
   "source": [
    "### KNN"
   ]
  },
  {
   "cell_type": "code",
   "execution_count": 78,
   "metadata": {},
   "outputs": [],
   "source": [
    "from sklearn.neighbors import KNeighborsRegressor\n",
    "param_grid_knn = {'n_neighbors': np.arange(3,40)}"
   ]
  },
  {
   "cell_type": "code",
   "execution_count": 79,
   "metadata": {},
   "outputs": [
    {
     "name": "stdout",
     "output_type": "stream",
     "text": [
      "CPU times: user 468 ms, sys: 311 ms, total: 779 ms\n",
      "Wall time: 36.5 s\n"
     ]
    },
    {
     "data": {
      "text/plain": [
       "GridSearchCV(cv=5, estimator=KNeighborsRegressor(), n_jobs=-1,\n",
       "             param_grid={'n_neighbors': array([ 3,  4,  5,  6,  7,  8,  9, 10, 11, 12, 13, 14, 15, 16, 17, 18, 19,\n",
       "       20, 21, 22, 23, 24, 25, 26, 27, 28, 29, 30, 31, 32, 33, 34, 35, 36,\n",
       "       37, 38, 39])},\n",
       "             return_train_score=True)"
      ]
     },
     "execution_count": 79,
     "metadata": {},
     "output_type": "execute_result"
    }
   ],
   "source": [
    "%%time\n",
    "grid_search_knn = GridSearchCV(KNeighborsRegressor(), param_grid_knn, cv=5, return_train_score=True, n_jobs = -1)\n",
    "grid_search_knn.fit(X_train, y_train)"
   ]
  },
  {
   "cell_type": "code",
   "execution_count": 80,
   "metadata": {},
   "outputs": [
    {
     "name": "stdout",
     "output_type": "stream",
     "text": [
      "{'n_neighbors': 17}\n",
      "0.0714131982781119\n"
     ]
    }
   ],
   "source": [
    "print(grid_search_knn.best_params_)\n",
    "print(grid_search_knn.best_score_)"
   ]
  },
  {
   "cell_type": "code",
   "execution_count": 81,
   "metadata": {},
   "outputs": [],
   "source": [
    "results_knn = pd.DataFrame(grid_search_knn.cv_results_)"
   ]
  },
  {
   "cell_type": "code",
   "execution_count": 82,
   "metadata": {
    "scrolled": true
   },
   "outputs": [
    {
     "data": {
      "text/plain": [
       "[<matplotlib.lines.Line2D at 0x7fc26b310fd0>]"
      ]
     },
     "execution_count": 82,
     "metadata": {},
     "output_type": "execute_result"
    },
    {
     "data": {
      "image/png": "[encoded data removed]",
      "text/plain": [
       "<Figure size 432x288 with 1 Axes>"
      ]
     },
     "metadata": {
      "needs_background": "light"
     },
     "output_type": "display_data"
    }
   ],
   "source": [
    "plt.plot(param_grid_knn['n_neighbors'], results_knn['mean_test_score'], label = 'test')\n",
    "plt.plot(param_grid_knn['n_neighbors'], results_knn['mean_train_score'], label= 'train')"
   ]
  },
  {
   "cell_type": "markdown",
   "metadata": {},
   "source": [
    "The best result for grid search for knn is 17 neighbors with a score of 0.0716. "
   ]
  },
  {
   "cell_type": "markdown",
   "metadata": {},
   "source": [
    "### Linear Regression"
   ]
  },
  {
   "cell_type": "code",
   "execution_count": 83,
   "metadata": {},
   "outputs": [
    {
     "name": "stdout",
     "output_type": "stream",
     "text": [
      "0.15536738737114275\n",
      "0.1379673900212679\n"
     ]
    }
   ],
   "source": [
    "from sklearn.linear_model import LinearRegression\n",
    "lreg = LinearRegression()\n",
    "lreg.fit(X_train, y_train)\n",
    "print(lreg.score(X_train, y_train))\n",
    "print(lreg.score(X_test, y_test))"
   ]
  },
  {
   "cell_type": "markdown",
   "metadata": {},
   "source": [
    "Linear regression gives a train score of 0.1539 and a test score of 0.1381"
   ]
  },
  {
   "cell_type": "markdown",
   "metadata": {},
   "source": [
    "### Ridge"
   ]
  },
  {
   "cell_type": "code",
   "execution_count": 84,
   "metadata": {},
   "outputs": [
    {
     "data": {
      "text/plain": [
       "GridSearchCV(cv=5, estimator=Ridge(), n_jobs=-1,\n",
       "             param_grid={'alpha': [0.0001, 0.001, 0.01, 0.1, 1, 10, 100, 1000],\n",
       "                         'random_state': [0]},\n",
       "             return_train_score=True)"
      ]
     },
     "execution_count": 84,
     "metadata": {},
     "output_type": "execute_result"
    }
   ],
   "source": [
    "from sklearn.linear_model import Ridge\n",
    "param_grid_ridge = {'alpha': [.0001,.001,.01,.1,1,10,100,1000],'random_state': [0]}\n",
    "grid_search_ridge = GridSearchCV(Ridge(), param_grid_ridge, cv=5, return_train_score=True, n_jobs = -1)\n",
    "grid_search_ridge.fit(X_train, y_train)"
   ]
  },
  {
   "cell_type": "code",
   "execution_count": 85,
   "metadata": {},
   "outputs": [
    {
     "name": "stdout",
     "output_type": "stream",
     "text": [
      "{'alpha': 10, 'random_state': 0}\n",
      "0.143006755345092\n"
     ]
    }
   ],
   "source": [
    "results_ridge = pd.DataFrame(grid_search_ridge.cv_results_)\n",
    "print(grid_search_ridge.best_params_)\n",
    "print(grid_search_ridge.best_score_)"
   ]
  },
  {
   "cell_type": "code",
   "execution_count": 86,
   "metadata": {
    "scrolled": true
   },
   "outputs": [
    {
     "data": {
      "image/png": "[encoded data removed]",
      "text/plain": [
       "<Figure size 432x288 with 1 Axes>"
      ]
     },
     "metadata": {
      "needs_background": "light"
     },
     "output_type": "display_data"
    }
   ],
   "source": [
    "plt.plot(param_grid_ridge['alpha'],results_ridge['mean_test_score'], label = 'test')\n",
    "plt.plot(param_grid_ridge['alpha'],results_ridge['mean_train_score'], label= 'train')\n",
    "plt.xscale('log')"
   ]
  },
  {
   "cell_type": "markdown",
   "metadata": {},
   "source": [
    "The best result for ridge regression is alpha = 10, with an average test score of 0.1430"
   ]
  },
  {
   "cell_type": "markdown",
   "metadata": {},
   "source": [
    "### Lasso"
   ]
  },
  {
   "cell_type": "code",
   "execution_count": 87,
   "metadata": {},
   "outputs": [
    {
     "data": {
      "text/plain": [
       "GridSearchCV(cv=5, estimator=Lasso(), n_jobs=-1,\n",
       "             param_grid={'alpha': [0.0001, 0.001, 0.01, 0.1, 1, 10, 100, 1000],\n",
       "                         'random_state': [0]},\n",
       "             return_train_score=True)"
      ]
     },
     "execution_count": 87,
     "metadata": {},
     "output_type": "execute_result"
    }
   ],
   "source": [
    "from sklearn.linear_model import Lasso\n",
    "param_grid_lasso = {'alpha': [.0001,.001,.01,.1,1,10,100,1000],'random_state':[0]}\n",
    "grid_search_lasso = GridSearchCV(Lasso(), param_grid_lasso, cv = 5,return_train_score = True, n_jobs = -1)\n",
    "grid_search_lasso.fit(X_train, y_train)"
   ]
  },
  {
   "cell_type": "code",
   "execution_count": 88,
   "metadata": {},
   "outputs": [
    {
     "name": "stdout",
     "output_type": "stream",
     "text": [
      "{'alpha': 10, 'random_state': 0}\n",
      "0.14442721243746687\n"
     ]
    }
   ],
   "source": [
    "results_lasso = pd.DataFrame(grid_search_ridge.cv_results_)\n",
    "print(grid_search_lasso.best_params_)\n",
    "print(grid_search_lasso.best_score_)"
   ]
  },
  {
   "cell_type": "code",
   "execution_count": 89,
   "metadata": {
    "scrolled": true
   },
   "outputs": [
    {
     "data": {
      "image/png": "[encoded data removed]",
      "text/plain": [
       "<Figure size 432x288 with 1 Axes>"
      ]
     },
     "metadata": {
      "needs_background": "light"
     },
     "output_type": "display_data"
    }
   ],
   "source": [
    "plt.plot(param_grid_lasso['alpha'],results_lasso['mean_test_score'], label = 'test')\n",
    "plt.plot(param_grid_lasso['alpha'],results_lasso['mean_train_score'], label= 'train')\n",
    "plt.xscale('log')"
   ]
  },
  {
   "cell_type": "markdown",
   "metadata": {},
   "source": [
    "The best result for lasso regression is alpha = 10, with a test score of 0.1444"
   ]
  },
  {
   "cell_type": "markdown",
   "metadata": {},
   "source": [
    "### Polynomial Regression"
   ]
  },
  {
   "cell_type": "code",
   "execution_count": 90,
   "metadata": {},
   "outputs": [
    {
     "name": "stdout",
     "output_type": "stream",
     "text": [
      "CPU times: user 5min 37s, sys: 25.4 s, total: 6min 3s\n",
      "Wall time: 1min\n"
     ]
    }
   ],
   "source": [
    "%%time\n",
    "from sklearn.preprocessing import PolynomialFeatures\n",
    "from sklearn.linear_model import LinearRegression\n",
    "train_score = []\n",
    "test_score = []\n",
    "for n in [2,3]:\n",
    "    poly = PolynomialFeatures(degree = n)\n",
    "    x_poly = poly.fit_transform(X_train)\n",
    "    x_test_poly = poly.transform(X_test)\n",
    "    poly_reg = LinearRegression()\n",
    "    poly_reg.fit(x_poly, y_train)\n",
    "    train_score.append(poly_reg.score(x_poly, y_train))\n",
    "    test_score.append(poly_reg.score(x_test_poly, y_test))"
   ]
  },
  {
   "cell_type": "code",
   "execution_count": 91,
   "metadata": {
    "scrolled": false
   },
   "outputs": [
    {
     "data": {
      "text/plain": [
       "<matplotlib.legend.Legend at 0x7fc2784d6a90>"
      ]
     },
     "execution_count": 91,
     "metadata": {},
     "output_type": "execute_result"
    },
    {
     "data": {
      "image/png": "[encoded data removed]",
      "text/plain": [
       "<Figure size 432x288 with 1 Axes>"
      ]
     },
     "metadata": {
      "needs_background": "light"
     },
     "output_type": "display_data"
    }
   ],
   "source": [
    "plt.plot([2,3],train_score,label='train')\n",
    "plt.plot([2,3],test_score,label = 'test')\n",
    "plt.legend()"
   ]
  },
  {
   "cell_type": "markdown",
   "metadata": {},
   "source": [
    "The best result for polynomial regression is degree 3, with a test score of -27"
   ]
  },
  {
   "cell_type": "markdown",
   "metadata": {},
   "source": [
    "### linearSVM"
   ]
  },
  {
   "cell_type": "code",
   "execution_count": 92,
   "metadata": {},
   "outputs": [
    {
     "data": {
      "text/plain": [
       "GridSearchCV(cv=5, estimator=LinearSVR(), n_jobs=-1,\n",
       "             param_grid={'C': [0.001, 0.01, 0.1, 1, 10, 100, 1000, 10000],\n",
       "                         'max_iter': [5000], 'random_state': [0]},\n",
       "             return_train_score=True)"
      ]
     },
     "execution_count": 92,
     "metadata": {},
     "output_type": "execute_result"
    }
   ],
   "source": [
    "from sklearn.svm import LinearSVR\n",
    "param_grid_linSVR = {'C': [0.001, 0.01, 0.1, 1, 10, 100,1000, 10000], 'max_iter': [5000], 'random_state': [0]}\n",
    "grid_search_linSVR = GridSearchCV(LinearSVR(),param_grid_linSVR,cv = 5, return_train_score = True, n_jobs = -1)\n",
    "grid_search_linSVR.fit(X_train, y_train)"
   ]
  },
  {
   "cell_type": "code",
   "execution_count": 93,
   "metadata": {
    "scrolled": true
   },
   "outputs": [
    {
     "name": "stdout",
     "output_type": "stream",
     "text": [
      "{'C': 10000, 'max_iter': 5000, 'random_state': 0}\n",
      "0.06046315295672362\n"
     ]
    }
   ],
   "source": [
    "results_lasso = pd.DataFrame(grid_search_linSVR.cv_results_)\n",
    "print(grid_search_linSVR.best_params_)\n",
    "print(grid_search_linSVR.best_score_)\n"
   ]
  },
  {
   "cell_type": "code",
   "execution_count": 94,
   "metadata": {},
   "outputs": [
    {
     "data": {
      "text/plain": [
       "[<matplotlib.lines.Line2D at 0x7fc26044a5b0>]"
      ]
     },
     "execution_count": 94,
     "metadata": {},
     "output_type": "execute_result"
    },
    {
     "data": {
      "image/png": "[encoded data removed]",
      "text/plain": [
       "<Figure size 432x288 with 1 Axes>"
      ]
     },
     "metadata": {
      "needs_background": "light"
     },
     "output_type": "display_data"
    }
   ],
   "source": [
    "plt.plot(results_lasso['param_C'], results_lasso['mean_test_score'])\n",
    "plt.plot(results_lasso['param_C'], results_lasso['mean_train_score'])"
   ]
  },
  {
   "cell_type": "markdown",
   "metadata": {},
   "source": [
    "The best score for linear SVM was at C = 1000, with a score of 0.0591."
   ]
  },
  {
   "cell_type": "markdown",
   "metadata": {},
   "source": [
    "### SVM with rbf kernel"
   ]
  },
  {
   "cell_type": "code",
   "execution_count": 95,
   "metadata": {},
   "outputs": [
    {
     "name": "stdout",
     "output_type": "stream",
     "text": [
      "CPU times: user 5.55 s, sys: 181 ms, total: 5.73 s\n",
      "Wall time: 5min 24s\n"
     ]
    },
    {
     "data": {
      "text/plain": [
       "GridSearchCV(cv=5, estimator=SVR(), n_jobs=-1,\n",
       "             param_grid={'C': [0.01, 0.1, 1, 10, 100, 1000, 10000],\n",
       "                         'gamma': [0.001, 0.01, 0.1, 1, 10, 100],\n",
       "                         'kernel': ['rbf']},\n",
       "             return_train_score=True)"
      ]
     },
     "execution_count": 95,
     "metadata": {},
     "output_type": "execute_result"
    }
   ],
   "source": [
    "%%time\n",
    "from sklearn.svm import SVR\n",
    "param_grid_SVRrbf = {'kernel':['rbf'],'C': [0.01, 0.1, 1, 10, 100, 1000, 10000],\n",
    "              'gamma': [0.001, 0.01, 0.1, 1, 10, 100]}\n",
    "grid_search_SVRrbf = GridSearchCV(SVR(), param_grid_SVRrbf, \n",
    "                                 cv=5, return_train_score=True, n_jobs = -1)\n",
    "grid_search_SVRrbf.fit(X_train,y_train)"
   ]
  },
  {
   "cell_type": "code",
   "execution_count": 96,
   "metadata": {
    "scrolled": true
   },
   "outputs": [
    {
     "name": "stdout",
     "output_type": "stream",
     "text": [
      "{'C': 10000, 'gamma': 0.1, 'kernel': 'rbf'}\n",
      "0.09404783742564007\n"
     ]
    }
   ],
   "source": [
    "results_SVRrbf = pd.DataFrame(grid_search_SVRrbf.cv_results_)\n",
    "print(grid_search_SVRrbf.best_params_)\n",
    "print(grid_search_SVRrbf.best_score_)"
   ]
  },
  {
   "cell_type": "code",
   "execution_count": 97,
   "metadata": {},
   "outputs": [
    {
     "data": {
      "text/plain": [
       "<matplotlib.legend.Legend at 0x7fc229018730>"
      ]
     },
     "execution_count": 97,
     "metadata": {},
     "output_type": "execute_result"
    },
    {
     "data": {
      "image/png": "[encoded data removed]",
      "text/plain": [
       "<Figure size 432x288 with 1 Axes>"
      ]
     },
     "metadata": {
      "needs_background": "light"
     },
     "output_type": "display_data"
    }
   ],
   "source": [
    "for c in param_grid_SVRrbf['C']:\n",
    "    plt.plot(param_grid_SVRrbf['gamma'],results_SVRrbf['mean_test_score'][results_SVRrbf['param_C'] == c], label= 'C={}'.format(c))\n",
    "plt.xscale('log')\n",
    "plt.xlabel('gamma')\n",
    "plt.ylabel('test score')\n",
    "plt.legend()"
   ]
  },
  {
   "cell_type": "code",
   "execution_count": 98,
   "metadata": {
    "scrolled": true
   },
   "outputs": [
    {
     "data": {
      "image/png": "[encoded data removed]",
      "text/plain": [
       "<Figure size 432x288 with 1 Axes>"
      ]
     },
     "metadata": {
      "needs_background": "light"
     },
     "output_type": "display_data"
    }
   ],
   "source": [
    "plt.plot(param_grid_SVRrbf['gamma'],\n",
    "         results_SVRrbf['mean_test_score'][results_SVRrbf['param_C'] == 10000])\n",
    "plt.plot(param_grid_SVRrbf['gamma'],\n",
    "         results_SVRrbf['mean_train_score'][results_SVRrbf['param_C'] == 10000])\n",
    "plt.xscale('log')"
   ]
  },
  {
   "cell_type": "markdown",
   "metadata": {},
   "source": [
    "The best score for SVR with an rbf kernel is 0.0940, with C = 10000 and gamma = 0.1."
   ]
  },
  {
   "cell_type": "markdown",
   "metadata": {},
   "source": [
    "### SVM with poly kernel"
   ]
  },
  {
   "cell_type": "code",
   "execution_count": 99,
   "metadata": {},
   "outputs": [
    {
     "name": "stdout",
     "output_type": "stream",
     "text": [
      "CPU times: user 2.69 s, sys: 94.5 ms, total: 2.79 s\n",
      "Wall time: 57.6 s\n"
     ]
    },
    {
     "data": {
      "text/plain": [
       "GridSearchCV(cv=5, estimator=SVR(), n_jobs=-1,\n",
       "             param_grid={'degree': array([10, 11, 12, 13, 14, 15, 16, 17, 18, 19, 20, 21, 22, 23, 24]),\n",
       "                         'kernel': ['poly']},\n",
       "             return_train_score=True)"
      ]
     },
     "execution_count": 99,
     "metadata": {},
     "output_type": "execute_result"
    }
   ],
   "source": [
    "%%time\n",
    "param_grid_SVRpoly = {'kernel':['poly'],'degree': np.arange(10,25)}\n",
    "grid_search_SVRpoly = GridSearchCV(SVR(), param_grid_SVRpoly, \n",
    "                                 cv=5, return_train_score=True, n_jobs = -1)\n",
    "grid_search_SVRpoly.fit(X_train,y_train)"
   ]
  },
  {
   "cell_type": "code",
   "execution_count": 100,
   "metadata": {},
   "outputs": [
    {
     "name": "stdout",
     "output_type": "stream",
     "text": [
      "{'degree': 19, 'kernel': 'poly'}\n",
      "-0.028339888979732962\n"
     ]
    }
   ],
   "source": [
    "results_SVRpoly = pd.DataFrame(grid_search_SVRpoly.cv_results_)\n",
    "print(grid_search_SVRpoly.best_params_)\n",
    "print(grid_search_SVRpoly.best_score_)"
   ]
  },
  {
   "cell_type": "code",
   "execution_count": 101,
   "metadata": {},
   "outputs": [
    {
     "data": {
      "text/plain": [
       "<matplotlib.legend.Legend at 0x7fc26b60b1f0>"
      ]
     },
     "execution_count": 101,
     "metadata": {},
     "output_type": "execute_result"
    },
    {
     "data": {
      "image/png": "[encoded data removed]",
      "text/plain": [
       "<Figure size 432x288 with 1 Axes>"
      ]
     },
     "metadata": {
      "needs_background": "light"
     },
     "output_type": "display_data"
    }
   ],
   "source": [
    "plt.plot(param_grid_SVRpoly['degree'],results_SVRpoly['mean_test_score'], label = 'test')\n",
    "plt.plot(param_grid_SVRpoly['degree'],results_SVRpoly['mean_train_score'], label= 'train')\n",
    "plt.legend()"
   ]
  },
  {
   "cell_type": "markdown",
   "metadata": {},
   "source": [
    "The best score is -0.0283 with a degree of 19. "
   ]
  },
  {
   "cell_type": "markdown",
   "metadata": {},
   "source": [
    "### SVM with linear kernel"
   ]
  },
  {
   "cell_type": "code",
   "execution_count": 102,
   "metadata": {},
   "outputs": [
    {
     "name": "stdout",
     "output_type": "stream",
     "text": [
      "CPU times: user 2.05 s, sys: 94.2 ms, total: 2.14 s\n",
      "Wall time: 36.7 s\n"
     ]
    },
    {
     "data": {
      "text/plain": [
       "GridSearchCV(cv=5, estimator=SVR(), n_jobs=-1,\n",
       "             param_grid={'C': [0.001, 0.1, 1, 10, 100, 1000, 10000],\n",
       "                         'kernel': ['linear']},\n",
       "             return_train_score=True)"
      ]
     },
     "execution_count": 102,
     "metadata": {},
     "output_type": "execute_result"
    }
   ],
   "source": [
    "%%time\n",
    "from sklearn.svm import SVR\n",
    "param_grid_SVRlin = {'kernel':['linear'],'C': [.001,.1, 1, 10, 100, 1000, 10000]}\n",
    "grid_search_SVRlin = GridSearchCV(SVR(), param_grid_SVRlin, \n",
    "                                 cv=5, return_train_score=True, n_jobs = -1)\n",
    "grid_search_SVRlin.fit(X_train,y_train)"
   ]
  },
  {
   "cell_type": "code",
   "execution_count": 103,
   "metadata": {},
   "outputs": [
    {
     "name": "stdout",
     "output_type": "stream",
     "text": [
      "{'C': 1000, 'kernel': 'linear'}\n",
      "0.060345192031645456\n"
     ]
    }
   ],
   "source": [
    "results_SVRlin = pd.DataFrame(grid_search_SVRlin.cv_results_)\n",
    "print(grid_search_SVRlin.best_params_)\n",
    "print(grid_search_SVRlin.best_score_)"
   ]
  },
  {
   "cell_type": "code",
   "execution_count": 104,
   "metadata": {},
   "outputs": [
    {
     "data": {
      "text/plain": [
       "<matplotlib.legend.Legend at 0x7fc26b634940>"
      ]
     },
     "execution_count": 104,
     "metadata": {},
     "output_type": "execute_result"
    },
    {
     "data": {
      "image/png": "[encoded data removed]",
      "text/plain": [
       "<Figure size 432x288 with 1 Axes>"
      ]
     },
     "metadata": {
      "needs_background": "light"
     },
     "output_type": "display_data"
    }
   ],
   "source": [
    "plt.plot(param_grid_SVRlin['C'],results_SVRlin['mean_test_score'], label = 'test')\n",
    "plt.plot(param_grid_SVRlin['C'],results_SVRlin['mean_train_score'], label = 'train')\n",
    "\n",
    "plt.xscale('log')\n",
    "plt.xlabel('gamma')\n",
    "plt.ylabel('test score')\n",
    "plt.legend()"
   ]
  },
  {
   "cell_type": "markdown",
   "metadata": {},
   "source": [
    "The best test score is at C = 1000, where the score is 0.0603."
   ]
  },
  {
   "cell_type": "markdown",
   "metadata": {},
   "source": [
    "### Decision Tree"
   ]
  },
  {
   "cell_type": "code",
   "execution_count": 105,
   "metadata": {
    "scrolled": true
   },
   "outputs": [
    {
     "data": {
      "text/plain": [
       "GridSearchCV(cv=5, estimator=DecisionTreeRegressor(), n_jobs=-1,\n",
       "             param_grid={'max_depth': array([2, 3, 4, 5, 6, 7, 8]),\n",
       "                         'min_impurity_decrease': [0, 0.001, 0.0001, 0.005],\n",
       "                         'min_samples_leaf': [1, 10, 50, 100],\n",
       "                         'min_samples_split': [2, 10, 50, 100]},\n",
       "             return_train_score=True)"
      ]
     },
     "execution_count": 105,
     "metadata": {},
     "output_type": "execute_result"
    }
   ],
   "source": [
    "from sklearn.tree import DecisionTreeRegressor\n",
    "param_grid_tree = {'max_depth': np.arange(2,9), \n",
    "                   'min_samples_split': [2,10,50,100],'min_samples_leaf':[1,10,50,100],'min_impurity_decrease': [0,.001,.0001,.005]}\n",
    "grid_search_tree = GridSearchCV(DecisionTreeRegressor(), param_grid_tree, cv = 5, return_train_score = True, n_jobs = -1)\n",
    "grid_search_tree.fit(X_train, y_train)"
   ]
  },
  {
   "cell_type": "code",
   "execution_count": 106,
   "metadata": {},
   "outputs": [
    {
     "data": {
      "text/plain": [
       "{'max_depth': 8,\n",
       " 'min_impurity_decrease': 0.001,\n",
       " 'min_samples_leaf': 10,\n",
       " 'min_samples_split': 100}"
      ]
     },
     "execution_count": 106,
     "metadata": {},
     "output_type": "execute_result"
    }
   ],
   "source": [
    "results_tree = pd.DataFrame(grid_search_tree.cv_results_)\n",
    "grid_search_tree.best_params_"
   ]
  },
  {
   "cell_type": "code",
   "execution_count": 107,
   "metadata": {
    "scrolled": true
   },
   "outputs": [
    {
     "data": {
      "text/plain": [
       "0.5425409109721713"
      ]
     },
     "execution_count": 107,
     "metadata": {},
     "output_type": "execute_result"
    }
   ],
   "source": [
    "grid_search_tree.best_score_"
   ]
  },
  {
   "cell_type": "code",
   "execution_count": 108,
   "metadata": {},
   "outputs": [
    {
     "data": {
      "text/plain": [
       "<matplotlib.legend.Legend at 0x7fc2789fdfd0>"
      ]
     },
     "execution_count": 108,
     "metadata": {},
     "output_type": "execute_result"
    },
    {
     "data": {
      "image/png": "[encoded data removed]",
      "text/plain": [
       "<Figure size 1080x720 with 3 Axes>"
      ]
     },
     "metadata": {
      "needs_background": "light"
     },
     "output_type": "display_data"
    }
   ],
   "source": [
    "fig, axs = plt.subplots(1, 3, figsize = (15,10)) \n",
    "\n",
    "plt.subplot(2,3,1)\n",
    "for depth in param_grid_tree['max_depth']:\n",
    "    plt.plot(param_grid_tree['min_samples_split'],results_tree['mean_test_score'][(results_tree['param_max_depth'] == depth) &\n",
    "            (results_tree['param_min_impurity_decrease'] == 0) & (results_tree['param_min_samples_leaf'] == 10)],\n",
    "        label = 'max depth = {}'.format(depth))\n",
    "plt.xlabel('min_samples_split')\n",
    "plt.ylabel('score')\n",
    "plt.legend()\n",
    "\n",
    "plt.subplot(2,3,2)\n",
    "for depth in param_grid_tree['max_depth']:\n",
    "    plt.plot(param_grid_tree['min_impurity_decrease'],results_tree['mean_test_score'][(results_tree['param_max_depth'] == depth) &\n",
    "            (results_tree['param_min_samples_split'] == 50) & (results_tree['param_min_samples_leaf'] == 10)],\n",
    "        label = 'max depth = {}'.format(depth))\n",
    "plt.xlabel('min_impurity_decrease')\n",
    "plt.ylabel('score')\n",
    "plt.xscale('log')\n",
    "plt.legend()\n",
    "\n",
    "plt.subplot(2,3,3)\n",
    "for depth in param_grid_tree['max_depth']:\n",
    "    plt.plot(param_grid_tree['min_samples_leaf'],results_tree['mean_test_score'][(results_tree['param_max_depth'] == depth) &\n",
    "            (results_tree['param_min_samples_split'] == 50) & (results_tree['param_min_impurity_decrease'] == 0)],\n",
    "        label = 'max depth = {}'.format(depth))\n",
    "plt.xlabel('min_samples_leaf')\n",
    "plt.ylabel('score')\n",
    "plt.xscale('log')\n",
    "plt.legend()"
   ]
  },
  {
   "cell_type": "markdown",
   "metadata": {},
   "source": [
    "The test score mostly doesn't change when min_samples_split, min_impurity_decrease, and min_samples_leaf change, so the most important variable is max depth"
   ]
  },
  {
   "cell_type": "code",
   "execution_count": 109,
   "metadata": {},
   "outputs": [
    {
     "data": {
      "text/plain": [
       "<matplotlib.legend.Legend at 0x7fc26ba59ca0>"
      ]
     },
     "execution_count": 109,
     "metadata": {},
     "output_type": "execute_result"
    },
    {
     "data": {
      "image/png": "[encoded data removed]",
      "text/plain": [
       "<Figure size 432x288 with 1 Axes>"
      ]
     },
     "metadata": {
      "needs_background": "light"
     },
     "output_type": "display_data"
    }
   ],
   "source": [
    "plt.plot(param_grid_tree['max_depth'],results_tree['mean_test_score'][(results_tree['param_min_samples_split'] == 50) &\n",
    "            (results_tree['param_min_impurity_decrease'] == 0) & (results_tree['param_min_samples_leaf'] == 10)],\n",
    "        label = 'test')\n",
    "plt.plot(param_grid_tree['max_depth'],results_tree['mean_train_score'][(results_tree['param_min_samples_split'] == 50) &\n",
    "            (results_tree['param_min_impurity_decrease'] == 0) & (results_tree['param_min_samples_leaf'] == 10)],\n",
    "        label = 'train')\n",
    "plt.xlabel('max_depth')\n",
    "plt.ylabel('score')\n",
    "plt.legend()"
   ]
  },
  {
   "cell_type": "markdown",
   "metadata": {},
   "source": [
    "The grid search shows a best score at a max depth of 6, with a min impurity decrease of 0, the min samples in a leaf of 10, and the min samples to split as 50. This gives a score of 0.5420. "
   ]
  },
  {
   "cell_type": "markdown",
   "metadata": {},
   "source": [
    "# Pick the best model"
   ]
  },
  {
   "cell_type": "markdown",
   "metadata": {},
   "source": [
    "The decision tree model gave the best score, so that was the model that I used"
   ]
  },
  {
   "cell_type": "code",
   "execution_count": 114,
   "metadata": {},
   "outputs": [
    {
     "data": {
      "text/plain": [
       "DecisionTreeRegressor(max_depth=8, min_impurity_decrease=0.001,\n",
       "                      min_samples_leaf=10, min_samples_split=100)"
      ]
     },
     "execution_count": 114,
     "metadata": {},
     "output_type": "execute_result"
    }
   ],
   "source": [
    "tree = DecisionTreeRegressor(**grid_search_tree.best_params_)\n",
    "tree.fit(X_train, y_train)"
   ]
  },
  {
   "cell_type": "code",
   "execution_count": 115,
   "metadata": {
    "scrolled": true
   },
   "outputs": [
    {
     "name": "stdout",
     "output_type": "stream",
     "text": [
      "0.610294191813016\n",
      "0.5434372211843381\n"
     ]
    }
   ],
   "source": [
    "print(tree.score(X_train, y_train))\n",
    "print(tree.score(X_test,y_test))"
   ]
  },
  {
   "cell_type": "markdown",
   "metadata": {},
   "source": [
    "Predict the values for the test set"
   ]
  },
  {
   "cell_type": "code",
   "execution_count": 116,
   "metadata": {
    "scrolled": false
   },
   "outputs": [
    {
     "data": {
      "text/html": [
       "<div>\n",
       "<style scoped>\n",
       "    .dataframe tbody tr th:only-of-type {\n",
       "        vertical-align: middle;\n",
       "    }\n",
       "\n",
       "    .dataframe tbody tr th {\n",
       "        vertical-align: top;\n",
       "    }\n",
       "\n",
       "    .dataframe thead th {\n",
       "        text-align: right;\n",
       "    }\n",
       "</style>\n",
       "<table border=\"1\" class=\"dataframe\">\n",
       "  <thead>\n",
       "    <tr style=\"text-align: right;\">\n",
       "      <th></th>\n",
       "      <th>0</th>\n",
       "    </tr>\n",
       "  </thead>\n",
       "  <tbody>\n",
       "    <tr>\n",
       "      <th>0</th>\n",
       "      <td>6252.516816</td>\n",
       "    </tr>\n",
       "    <tr>\n",
       "      <th>1</th>\n",
       "      <td>2579.835594</td>\n",
       "    </tr>\n",
       "    <tr>\n",
       "      <th>2</th>\n",
       "      <td>8626.950426</td>\n",
       "    </tr>\n",
       "    <tr>\n",
       "      <th>3</th>\n",
       "      <td>6673.226116</td>\n",
       "    </tr>\n",
       "    <tr>\n",
       "      <th>4</th>\n",
       "      <td>6673.226116</td>\n",
       "    </tr>\n",
       "    <tr>\n",
       "      <th>...</th>\n",
       "      <td>...</td>\n",
       "    </tr>\n",
       "    <tr>\n",
       "      <th>2020</th>\n",
       "      <td>5104.223903</td>\n",
       "    </tr>\n",
       "    <tr>\n",
       "      <th>2021</th>\n",
       "      <td>15046.009749</td>\n",
       "    </tr>\n",
       "    <tr>\n",
       "      <th>2022</th>\n",
       "      <td>13735.948129</td>\n",
       "    </tr>\n",
       "    <tr>\n",
       "      <th>2023</th>\n",
       "      <td>3473.549480</td>\n",
       "    </tr>\n",
       "    <tr>\n",
       "      <th>2024</th>\n",
       "      <td>6673.226116</td>\n",
       "    </tr>\n",
       "  </tbody>\n",
       "</table>\n",
       "<p>2025 rows × 1 columns</p>\n",
       "</div>"
      ],
      "text/plain": [
       "                 0\n",
       "0      6252.516816\n",
       "1      2579.835594\n",
       "2      8626.950426\n",
       "3      6673.226116\n",
       "4      6673.226116\n",
       "...            ...\n",
       "2020   5104.223903\n",
       "2021  15046.009749\n",
       "2022  13735.948129\n",
       "2023   3473.549480\n",
       "2024   6673.226116\n",
       "\n",
       "[2025 rows x 1 columns]"
      ]
     },
     "execution_count": 116,
     "metadata": {},
     "output_type": "execute_result"
    }
   ],
   "source": [
    "y_predict_test = pd.DataFrame(tree.predict(X_test))\n",
    "y_predict_test"
   ]
  },
  {
   "cell_type": "code",
   "execution_count": 117,
   "metadata": {},
   "outputs": [
    {
     "data": {
      "text/plain": [
       "2569    21205.377850\n",
       "5683     2435.147986\n",
       "1564     8157.933629\n",
       "5983     6883.665071\n",
       "5547     6646.749298\n",
       "            ...     \n",
       "1421     4834.710493\n",
       "2402    10003.247290\n",
       "4927     8802.188243\n",
       "5881     3049.837544\n",
       "3519     6753.428413\n",
       "Name: Customer Lifetime Value, Length: 2025, dtype: float64"
      ]
     },
     "execution_count": 117,
     "metadata": {},
     "output_type": "execute_result"
    }
   ],
   "source": [
    "y_test"
   ]
  },
  {
   "cell_type": "markdown",
   "metadata": {},
   "source": [
    "# <font color='red'> Project 2\n",
    "\n",
    "### Project Description:\n",
    "- Use the same datasets as Project 1.\n",
    "- Preprocess data: Explore data and apply data scaling.You can use the same preprocessing steps as it was used in Project 1. \n",
    "- Apply recommended changes if there is any. \n",
    "\n",
    "### Regression Task:\n",
    "- Apply any two models with bagging and any two models with pasting. \n",
    "- Apply any two models with AdaBoost boosting. \n",
    "- Apply gradient boosting. \n",
    "- Apply PCA on data and then apply all the models in project 1 again on the post PCA data. Compare your results with results in project 1. You don't need to apply all the models twice. Just copy the result from project 1, prepare a similar table for all the models after PCA and compare. Does PCA help in getting better results? \n",
    "- Apply deep learning models (MLP) covered in class. \n",
    "\n",
    "\n",
    "### Deliverables:\n",
    "- Use markdown to provide inline comments for this project. \n",
    "- Use markdown to create final report for this project. \n",
    "- Your outputs should be clearly executed in the notebook i.e. we should not need to rerun the code to obtain the outputs. \n",
    "- Visualization encouraged. \n",
    "- If you are submitting two different files, then please only one group member submit both the files. If you submit two files separately from different accounts, it will be submitted as two different attempts.\n",
    "- If you are submitting two different files, then please follow below naming convention:\n",
    "    - ``Project2_Regression_GroupXX_Lastname1_Lastname2.ipynb``\n",
    "    - ``Project2_Classification_GroupXX_Lastname1_Lastname2.ipynb``\n",
    "  \n",
    "  then zip these two files and the csv files of the two datasets into one file and submit. \n",
    "- If you are submitting a single file, then please follow below naming convention:\n",
    "    - ``Project2_Both_GroupXX_Lastname1_Lastname2.ipynb``\n",
    "    \n",
    "    then zip this file and the csv files of the two datasets into one file and submit. "
   ]
  },
  {
   "cell_type": "code",
   "execution_count": 118,
   "metadata": {},
   "outputs": [],
   "source": [
    "from sklearn.ensemble import BaggingRegressor\n",
    "from sklearn.ensemble import AdaBoostRegressor\n",
    "from  sklearn.ensemble import GradientBoostingRegressor\n",
    "from sklearn.decomposition import PCA\n",
    "from sklearn.model_selection import GridSearchCV\n",
    "from  sklearn.linear_model import Ridge\n",
    "from sklearn.linear_model import LinearRegression\n",
    "from sklearn.metrics import r2_score\n",
    "from sklearn.metrics import mean_squared_error\n",
    "from sklearn.tree import DecisionTreeRegressor"
   ]
  },
  {
   "cell_type": "markdown",
   "metadata": {},
   "source": [
    "## Bagging for Decision Tree Regressor"
   ]
  },
  {
   "cell_type": "code",
   "execution_count": 119,
   "metadata": {},
   "outputs": [
    {
     "data": {
      "image/png": "[encoded data removed]",
      "text/plain": [
       "<Figure size 432x288 with 1 Axes>"
      ]
     },
     "metadata": {
      "needs_background": "light"
     },
     "output_type": "display_data"
    }
   ],
   "source": [
    "n_estimators = [50,100,200,500]\n",
    "max_features = [1,4,8,12,20]\n",
    "params=[]\n",
    "scores = []\n",
    "\n",
    "for estimator in n_estimators:\n",
    "    for features in max_features:\n",
    "        reg = BaggingRegressor(DecisionTreeRegressor(), \\\n",
    "                                max_samples=0.5, \\\n",
    "                                max_features=features, \\\n",
    "                                n_estimators=estimator, \\\n",
    "                               bootstrap=True, random_state=0, oob_score=True)\n",
    "        reg.fit(X_train, y_train)\n",
    "        score = reg.score(X_test, y_test)\n",
    "        params.append(\"n_estimator: \"+str(estimator)+\" max_features: \"+str(features))\n",
    "        scores.append(score)\n",
    "    \n",
    "plt.plot(params, scores)\n",
    "plt.xlabel(\"Number of estimators\")\n",
    "plt.xticks(rotation=90)\n",
    "plt.ylabel(\"Test Score\")\n",
    "plt.show()"
   ]
  },
  {
   "cell_type": "code",
   "execution_count": 120,
   "metadata": {},
   "outputs": [
    {
     "name": "stdout",
     "output_type": "stream",
     "text": [
      "DecisionTree grid model Best params: \n",
      "{'max_features': 20, 'max_samples': 0.5, 'n_estimators': 100}\n",
      "Train Score:  0.8149310075682036\n",
      "Test Score:  0.4951260929705683\n",
      "MSE:  23524550.918366067\n"
     ]
    }
   ],
   "source": [
    "tuned_parameters = {\"n_estimators\": [50,100,200,500],\n",
    "              \"max_features\":[1,4,8,12,20],\n",
    "              \"max_samples\": [0.5,0.1],\n",
    "            }\n",
    "DecisionTree_reg = DecisionTreeRegressor()\n",
    "\n",
    "DecisionTree_grid = GridSearchCV(BaggingRegressor(DecisionTree_reg,bootstrap=True, oob_score=True, random_state=0),tuned_parameters)\n",
    "DecisionTree_grid_model= DecisionTree_grid.fit(X_train, y_train)\n",
    "\n",
    "print(\"DecisionTree grid model Best params: \")\n",
    "print(DecisionTree_grid_model.best_params_)\n",
    "\n",
    "print('Train Score: ',DecisionTree_grid_model.score(X_train, y_train))\n",
    "print('Test Score: ',DecisionTree_grid_model.score(X_test, y_test))\n",
    "y_pred = DecisionTree_grid_model.predict(X_test)\n",
    "print('MSE: ',mean_squared_error(y_test, y_pred))"
   ]
  },
  {
   "cell_type": "markdown",
   "metadata": {},
   "source": [
    "## Bagging for Ridge Regression"
   ]
  },
  {
   "cell_type": "code",
   "execution_count": 121,
   "metadata": {},
   "outputs": [
    {
     "data": {
      "image/png": "[encoded data removed]",
      "text/plain": [
       "<Figure size 432x288 with 1 Axes>"
      ]
     },
     "metadata": {
      "needs_background": "light"
     },
     "output_type": "display_data"
    }
   ],
   "source": [
    "n_estimators = [50,100,200,500]\n",
    "max_features = [1,4,8,12,20]\n",
    "params=[]\n",
    "scores = []\n",
    "\n",
    "for estimator in n_estimators:\n",
    "    for features in max_features:\n",
    "        reg = BaggingRegressor(Ridge(max_iter=1000,alpha=1,tol=0.1,random_state=0), \\\n",
    "                                max_samples=0.5, \\\n",
    "                                max_features=features, \\\n",
    "                                n_estimators=estimator, \\\n",
    "                               bootstrap=True, random_state=0, oob_score=True)\n",
    "        reg.fit(X_train, y_train)\n",
    "        score = reg.score(X_test, y_test)\n",
    "        params.append(\"n_estimator: \"+str(estimator)+\" max_features: \"+str(features))\n",
    "        scores.append(score)\n",
    "    \n",
    "plt.plot(params, scores)\n",
    "plt.xlabel(\"Number of estimators\")\n",
    "plt.xticks(rotation=90)\n",
    "plt.ylabel(\"Test Score\")\n",
    "plt.show()"
   ]
  },
  {
   "cell_type": "code",
   "execution_count": 122,
   "metadata": {},
   "outputs": [
    {
     "name": "stdout",
     "output_type": "stream",
     "text": [
      "Ridge grid model Best params: \n",
      "{'max_features': 20, 'max_samples': 0.5, 'n_estimators': 200}\n",
      "Train Score:  0.14172976521783753\n",
      "Test Score:  0.13358998837415004\n",
      "MSE:  40370290.781310424\n"
     ]
    }
   ],
   "source": [
    "tuned_parameters = {\"n_estimators\": [50,100,200,500],\n",
    "              \"max_features\":[1,4,8,12,20],\n",
    "              \"max_samples\": [0.5,0.1],\n",
    "            }\n",
    "Ridge_reg = Ridge(max_iter=1000,alpha=1,tol=0.1,random_state=0)\n",
    "\n",
    "Ridge_reg_grid = GridSearchCV(BaggingRegressor(Ridge_reg,bootstrap=True, oob_score=True, random_state=0),tuned_parameters)\n",
    "Ridge_reg_grid_model= Ridge_reg_grid.fit(X_train, y_train)\n",
    "\n",
    "print(\"Ridge grid model Best params: \")\n",
    "print(Ridge_reg_grid_model.best_params_)\n",
    "\n",
    "print('Train Score: ',Ridge_reg_grid_model.score(X_train, y_train))\n",
    "print('Test Score: ',Ridge_reg_grid_model.score(X_test, y_test))\n",
    "y_pred = Ridge_reg_grid_model.predict(X_test)\n",
    "print('MSE: ',mean_squared_error(y_test, y_pred))"
   ]
  },
  {
   "cell_type": "markdown",
   "metadata": {},
   "source": [
    "## Pasting for Decision Tree Regressor"
   ]
  },
  {
   "cell_type": "code",
   "execution_count": 123,
   "metadata": {},
   "outputs": [
    {
     "data": {
      "image/png": "[encoded data removed]",
      "text/plain": [
       "<Figure size 432x288 with 1 Axes>"
      ]
     },
     "metadata": {
      "needs_background": "light"
     },
     "output_type": "display_data"
    }
   ],
   "source": [
    "n_estimators = [50,100,200,500]\n",
    "max_features = [1,4,8,12,20]\n",
    "params=[]\n",
    "scores = []\n",
    "\n",
    "for estimator in n_estimators:\n",
    "    for features in max_features:\n",
    "        reg = BaggingRegressor(DecisionTreeRegressor(), \\\n",
    "                                max_samples=0.5, \\\n",
    "                                max_features=features, \\\n",
    "                                n_estimators=estimator, \\\n",
    "                               bootstrap=False, random_state=0)\n",
    "        reg.fit(X_train, y_train)\n",
    "        score = reg.score(X_test, y_test)\n",
    "        params.append(\"n_estimator: \"+str(estimator)+\" max_features: \"+str(features))\n",
    "        scores.append(score)\n",
    "    \n",
    "plt.plot(params, scores)\n",
    "plt.xlabel(\"Number of estimators\")\n",
    "plt.xticks(rotation=90)\n",
    "plt.ylabel(\"Test Score\")\n",
    "plt.show()"
   ]
  },
  {
   "cell_type": "code",
   "execution_count": 124,
   "metadata": {},
   "outputs": [
    {
     "name": "stdout",
     "output_type": "stream",
     "text": [
      "DecisionTree grid model Best params: \n",
      "{'max_features': 20, 'max_samples': 0.5, 'n_estimators': 100}\n",
      "Train Score:  0.8715990592261551\n",
      "Test Score:  0.4955308841639998\n",
      "MSE:  23505689.711818054\n"
     ]
    }
   ],
   "source": [
    "tuned_parameters = {\"n_estimators\": [50,100,200,500],\n",
    "              \"max_features\":[1,4,8,12,20],\n",
    "              \"max_samples\": [0.5,0.1],\n",
    "            }\n",
    "DecisionTree_reg = DecisionTreeRegressor()\n",
    "\n",
    "DecisionTree_grid = GridSearchCV(BaggingRegressor(DecisionTree_reg,bootstrap=False, random_state=0),tuned_parameters)\n",
    "DecisionTree_grid_model= DecisionTree_grid.fit(X_train, y_train)\n",
    "\n",
    "print(\"DecisionTree grid model Best params: \")\n",
    "print(DecisionTree_grid_model.best_params_)\n",
    "\n",
    "print('Train Score: ',DecisionTree_grid_model.score(X_train, y_train))\n",
    "print('Test Score: ',DecisionTree_grid_model.score(X_test, y_test))\n",
    "y_pred = DecisionTree_grid_model.predict(X_test)\n",
    "print('MSE: ',mean_squared_error(y_test, y_pred))"
   ]
  },
  {
   "cell_type": "markdown",
   "metadata": {},
   "source": [
    "## Pasting for Ridge Regression"
   ]
  },
  {
   "cell_type": "code",
   "execution_count": 125,
   "metadata": {},
   "outputs": [
    {
     "data": {
      "image/png": "[encoded data removed]",
      "text/plain": [
       "<Figure size 432x288 with 1 Axes>"
      ]
     },
     "metadata": {
      "needs_background": "light"
     },
     "output_type": "display_data"
    }
   ],
   "source": [
    "n_estimators = [50,100,200,500]\n",
    "max_features = [1,4,8,12,20]\n",
    "params=[]\n",
    "scores = []\n",
    "\n",
    "for estimator in n_estimators:\n",
    "    for features in max_features:\n",
    "        reg = BaggingRegressor(Ridge(max_iter=1000,alpha=1,tol=0.1,random_state=0), \\\n",
    "                                max_samples=0.5, \\\n",
    "                                max_features=features, \\\n",
    "                                n_estimators=estimator, \\\n",
    "                                random_state=0)\n",
    "        reg.fit(X_train, y_train)\n",
    "        score = reg.score(X_test, y_test)\n",
    "        params.append(\"n_estimator: \"+str(estimator)+\" max_features: \"+str(features))\n",
    "        scores.append(score)\n",
    "    \n",
    "plt.plot(params, scores)\n",
    "plt.xlabel(\"Number of estimators\")\n",
    "plt.xticks(rotation=90)\n",
    "plt.ylabel(\"Test Score\")\n",
    "plt.show()"
   ]
  },
  {
   "cell_type": "code",
   "execution_count": 126,
   "metadata": {},
   "outputs": [
    {
     "name": "stdout",
     "output_type": "stream",
     "text": [
      "Ridge grid model Best params: \n",
      "{'max_features': 20, 'max_samples': 0.5, 'n_estimators': 200}\n",
      "Train Score:  0.1417791570426027\n",
      "Test Score:  0.13395155191918862\n",
      "MSE:  40353443.76286273\n"
     ]
    }
   ],
   "source": [
    "tuned_parameters = {\"n_estimators\": [50,100,200,500],\n",
    "              \"max_features\":[1,4,8,12,20],\n",
    "              \"max_samples\": [0.5,0.1],\n",
    "            }\n",
    "Ridge_reg = Ridge(max_iter=1000,alpha=1,tol=0.1,random_state=0)\n",
    "\n",
    "Ridge_reg_grid = GridSearchCV(BaggingRegressor(Ridge_reg,bootstrap=False, random_state=0),tuned_parameters)\n",
    "Ridge_reg_grid_model= Ridge_reg_grid.fit(X_train, y_train)\n",
    "\n",
    "print(\"Ridge grid model Best params: \")\n",
    "print(Ridge_reg_grid_model.best_params_)\n",
    "\n",
    "print('Train Score: ',Ridge_reg_grid_model.score(X_train, y_train))\n",
    "print('Test Score: ',Ridge_reg_grid_model.score(X_test, y_test))\n",
    "y_pred = Ridge_reg_grid_model.predict(X_test)\n",
    "print('MSE: ',mean_squared_error(y_test, y_pred))"
   ]
  },
  {
   "cell_type": "markdown",
   "metadata": {},
   "source": [
    "## Adaboosting for Decision Tree regressor"
   ]
  },
  {
   "cell_type": "code",
   "execution_count": 127,
   "metadata": {},
   "outputs": [
    {
     "data": {
      "image/png": "[encoded data removed]",
      "text/plain": [
       "<Figure size 432x288 with 1 Axes>"
      ]
     },
     "metadata": {
      "needs_background": "light"
     },
     "output_type": "display_data"
    }
   ],
   "source": [
    "n_estimators = [25,50,100]\n",
    "learning_rate = [0.05,0.1,0.2,0.6,0.8,1]\n",
    "params=[]\n",
    "scores = []\n",
    "\n",
    "for estimator in n_estimators:\n",
    "    for l_rate in learning_rate:\n",
    "        reg = AdaBoostRegressor(DecisionTreeRegressor(max_depth=3,random_state=0), \\\n",
    "                                 random_state=0, \\\n",
    "                                 n_estimators = estimator, \\\n",
    "                                 learning_rate = l_rate, \\\n",
    "                                 loss = \"exponential\")\n",
    "        reg.fit(X, y)\n",
    "        score = reg.score(X_test, y_test)\n",
    "        params.append(\"n_estimator: \"+str(estimator)+\" learning_rate: \"+str(l_rate))\n",
    "        scores.append(score)\n",
    "    \n",
    "plt.plot(params, scores)\n",
    "plt.xlabel(\"Number of estimators\")\n",
    "plt.xticks(rotation=90)\n",
    "plt.ylabel(\"Test Score\")\n",
    "plt.show()"
   ]
  },
  {
   "cell_type": "code",
   "execution_count": 128,
   "metadata": {},
   "outputs": [
    {
     "name": "stdout",
     "output_type": "stream",
     "text": [
      "Ada Boost model Best params: \n",
      "{'learning_rate': 0.4, 'n_estimators': 50}\n",
      "Train Score:  0.023172645036680595\n",
      "Test Score:  -0.02011280861033926\n",
      "MSE:  47532057.75641797\n"
     ]
    }
   ],
   "source": [
    "tuned_parameters = {\"n_estimators\": [50,100,200,500],\n",
    "                    \"learning_rate\":[0.4,0.5,0.6,0.7,0.8,0.9]\n",
    "                    }\n",
    "dt = DecisionTreeRegressor(random_state=0, max_depth = 3)\n",
    "dt_ada_grid = GridSearchCV(AdaBoostRegressor(dt, random_state=0),tuned_parameters)\n",
    "dt_ada_grid_model = dt_ada_grid.fit(X_train,y_train)\n",
    "\n",
    "y_pred = dt_ada_grid_model.predict(X_test)\n",
    "\n",
    "print(\"Ada Boost model Best params: \")\n",
    "print(dt_ada_grid_model.best_params_)\n",
    "\n",
    "print('Train Score: ',dt_ada_grid_model.score(X_train, y_train))\n",
    "print('Test Score: ',dt_ada_grid_model.score(X_test, y_test))\n",
    "y_pred = dt_ada_grid_model.predict(X_test)\n",
    "print('MSE: ',mean_squared_error(y_test, y_pred))"
   ]
  },
  {
   "cell_type": "markdown",
   "metadata": {},
   "source": [
    "## AdaBoosting for Ridge Regression"
   ]
  },
  {
   "cell_type": "code",
   "execution_count": 130,
   "metadata": {},
   "outputs": [
    {
     "data": {
      "image/png": "[encoded data removed]",
      "text/plain": [
       "<Figure size 432x288 with 1 Axes>"
      ]
     },
     "metadata": {
      "needs_background": "light"
     },
     "output_type": "display_data"
    }
   ],
   "source": [
    "n_estimators = [1,25,50,100]\n",
    "learning_rate = [0.05,0.1,0.2,0.6,0.8,1]\n",
    "params=[]\n",
    "scores = []\n",
    "\n",
    "for estimator in n_estimators:\n",
    "    for l_rate in learning_rate:\n",
    "        reg = AdaBoostRegressor(Ridge(max_iter=1000,alpha=1,tol=0.1,random_state=0), \\\n",
    "                                 random_state=0, \\\n",
    "                                 n_estimators = estimator, \\\n",
    "                                 learning_rate = l_rate, \\\n",
    "                                 loss = \"exponential\")\n",
    "        reg.fit(X, y)\n",
    "        score = reg.score(X_test, y_test)\n",
    "        params.append(\"n_estimator: \"+str(estimator)+\" learning_rate: \"+str(l_rate))\n",
    "        scores.append(score)\n",
    "    \n",
    "plt.plot(params, scores)\n",
    "plt.xlabel(\"Number of estimators\")\n",
    "plt.xticks(rotation=90)\n",
    "plt.ylabel(\"Test Score\")\n",
    "plt.show()"
   ]
  },
  {
   "cell_type": "code",
   "execution_count": 131,
   "metadata": {},
   "outputs": [
    {
     "name": "stdout",
     "output_type": "stream",
     "text": [
      "Ridge Adaboosting grid model Best params: \n",
      "{'learning_rate': 0.05, 'loss': 'linear', 'n_estimators': 1}\n",
      "Train Score:  0.14633101008278127\n",
      "Test Score:  0.11471548702682166\n",
      "MSE:  41249746.347981475\n"
     ]
    }
   ],
   "source": [
    "tuned_parameters = {\"learning_rate\":[0.05,0.1,0.2,0.6,0.8,1],\n",
    "                    \"n_estimators\": [1,25,50,100],\n",
    "                    \"loss\" : [\"linear\", \"square\", \"exponential\"]\n",
    "                   }\n",
    "\n",
    "ridge = Ridge(max_iter=1000,alpha=1,tol=0.1,random_state=0)\n",
    "\n",
    "ridge_ada_grid = GridSearchCV(AdaBoostRegressor(ridge, random_state=0),tuned_parameters)\n",
    "ridge_ada_grid_model =ridge_ada_grid.fit(X_train, y_train)\n",
    "\n",
    "print(\"Ridge Adaboosting grid model Best params: \")\n",
    "print(ridge_ada_grid_model.best_params_)\n",
    "\n",
    "print('Train Score: ',ridge_ada_grid_model.score(X_train, y_train))\n",
    "print('Test Score: ',ridge_ada_grid_model.score(X_test, y_test))\n",
    "y_pred = ridge_ada_grid_model.predict(X_test)\n",
    "print('MSE: ',mean_squared_error(y_test, y_pred))"
   ]
  },
  {
   "cell_type": "markdown",
   "metadata": {},
   "source": [
    "## Gradient Boosting"
   ]
  },
  {
   "cell_type": "code",
   "execution_count": 132,
   "metadata": {},
   "outputs": [
    {
     "name": "stdout",
     "output_type": "stream",
     "text": [
      "Gradient boosting grid model Best params: \n",
      "{'max_depth': 3, 'n_estimators': 67}\n",
      "Train Score:  0.6284762154252164\n",
      "Test Score:  0.573638181935481\n",
      "MSE:  19866287.718690142\n"
     ]
    }
   ],
   "source": [
    "tuned_parameters = {\"max_depth\": [3,5,6,7],\n",
    "                    \"n_estimators\": range(10,100)}\n",
    "\n",
    "grad_boost_grid = GridSearchCV(GradientBoostingRegressor(random_state=0),tuned_parameters)\n",
    "grad_boost_grid_model = grad_boost_grid.fit(X_train,y_train)\n",
    "\n",
    "print(\"Gradient boosting grid model Best params: \")\n",
    "print(grad_boost_grid_model.best_params_)\n",
    "\n",
    "print('Train Score: ',grad_boost_grid_model.score(X_train, y_train))\n",
    "print('Test Score: ',grad_boost_grid_model.score(X_test, y_test))\n",
    "y_pred = grad_boost_grid_model.predict(X_test)\n",
    "print('MSE: ',mean_squared_error(y_test, y_pred))"
   ]
  },
  {
   "cell_type": "markdown",
   "metadata": {},
   "source": [
    "## Principle Component Analysis"
   ]
  },
  {
   "cell_type": "code",
   "execution_count": 79,
   "metadata": {},
   "outputs": [
    {
     "data": {
      "text/plain": [
       "25"
      ]
     },
     "execution_count": 79,
     "metadata": {},
     "output_type": "execute_result"
    }
   ],
   "source": [
    "from sklearn.decomposition import PCA\n",
    "pca90 = PCA(.90,random_state=0)\n",
    "pca90.fit(X_train)\n",
    "pca90.n_components_"
   ]
  },
  {
   "cell_type": "code",
   "execution_count": 80,
   "metadata": {},
   "outputs": [
    {
     "data": {
      "text/plain": [
       "29"
      ]
     },
     "execution_count": 80,
     "metadata": {},
     "output_type": "execute_result"
    }
   ],
   "source": [
    "pca95 = PCA(.95,random_state=0)\n",
    "pca95.fit(X_train)\n",
    "pca95.n_components_"
   ]
  },
  {
   "cell_type": "code",
   "execution_count": 81,
   "metadata": {},
   "outputs": [
    {
     "data": {
      "text/plain": [
       "35"
      ]
     },
     "execution_count": 81,
     "metadata": {},
     "output_type": "execute_result"
    }
   ],
   "source": [
    "pca99 = PCA(.99,random_state=0)\n",
    "pca99.fit(X_train)\n",
    "pca99.n_components_"
   ]
  },
  {
   "cell_type": "code",
   "execution_count": 82,
   "metadata": {},
   "outputs": [],
   "source": [
    "X_train_without_PCA= X_train\n",
    "X_test_without_PCA= X_test\n",
    "X_train_pca = pca95.transform(X_train)\n",
    "X_test_pca = pca95.transform(X_test)"
   ]
  },
  {
   "cell_type": "markdown",
   "metadata": {},
   "source": [
    "## 1) Linear Regression"
   ]
  },
  {
   "cell_type": "code",
   "execution_count": 137,
   "metadata": {},
   "outputs": [
    {
     "name": "stdout",
     "output_type": "stream",
     "text": [
      "Train Score:  0.10076904791246932\n",
      "Test Score:  0.07054456400275633\n",
      "MSE:  43307886.23860228\n"
     ]
    }
   ],
   "source": [
    "from sklearn.linear_model import LinearRegression\n",
    "from sklearn.metrics import mean_squared_error\n",
    "\n",
    "from sklearn import linear_model\n",
    "lreg = linear_model.LinearRegression()\n",
    "\n",
    "lreg.fit(X_train_pca, y_train)\n",
    "print('Train Score: ',lreg.score(X_train_pca, y_train))\n",
    "print('Test Score: ',lreg.score(X_test_pca, y_test))\n",
    "y_pred = lreg.predict(X_test_pca)\n",
    "print('MSE: ',mean_squared_error(y_test, y_pred))"
   ]
  },
  {
   "cell_type": "markdown",
   "metadata": {},
   "source": [
    "## 2) KNN Regressor"
   ]
  },
  {
   "cell_type": "code",
   "execution_count": 138,
   "metadata": {},
   "outputs": [
    {
     "data": {
      "text/plain": [
       "Text(0, 0.5, 'Accuracy')"
      ]
     },
     "execution_count": 138,
     "metadata": {},
     "output_type": "execute_result"
    },
    {
     "data": {
      "image/png": "[encoded data removed]",
      "text/plain": [
       "<Figure size 432x288 with 1 Axes>"
      ]
     },
     "metadata": {
      "needs_background": "light"
     },
     "output_type": "display_data"
    }
   ],
   "source": [
    "k_range = range(1,6,2)\n",
    "train_score_knn = []\n",
    "test_score_knn = []\n",
    "\n",
    "for k in k_range:\n",
    "    neigh = KNeighborsRegressor(n_neighbors=k)\n",
    "    neigh.fit(X_train_pca, y_train)\n",
    "    train_score_knn.append(neigh.score(X_train_pca, y_train))\n",
    "    test_score_knn.append(neigh.score(X_test_pca, y_test))\n",
    "    \n",
    "\n",
    "plt.plot(k_range, train_score_knn, label = 'Train score')\n",
    "plt.plot(k_range, test_score_knn, label = 'Test score')\n",
    "plt.legend()\n",
    "plt.xlabel('k nearest neighbours: K')\n",
    "plt.ylabel('Accuracy')"
   ]
  },
  {
   "cell_type": "code",
   "execution_count": 139,
   "metadata": {},
   "outputs": [
    {
     "name": "stdout",
     "output_type": "stream",
     "text": [
      "{'n_neighbors': 5}\n",
      "Train Score:  0.319192144248009\n",
      "Test Score:  -0.03844227725341254\n",
      "MSE:  48386117.57689396\n"
     ]
    }
   ],
   "source": [
    "x_range_1 = range(1,6,2)\n",
    "tuned_parameters=dict(n_neighbors=x_range_1)\n",
    "\n",
    "knn_reg = KNeighborsRegressor()\n",
    "gri12=GridSearchCV(knn_reg,tuned_parameters,cv=3)\n",
    "gri_model12=gri12.fit(X_train_pca,y_train)\n",
    "print(gri_model12.best_params_)\n",
    "y_pred12= gri_model12.score(X_test_pca,y_test)\n",
    "print('Train Score: ',gri_model12.score(X_train_pca, y_train))\n",
    "print('Test Score: ',gri_model12.score(X_test_pca, y_test))\n",
    "y_pred = gri_model12.predict(X_test_pca)\n",
    "print('MSE: ',mean_squared_error(y_test, y_pred))"
   ]
  },
  {
   "cell_type": "markdown",
   "metadata": {},
   "source": [
    "## 3) Ridge Regression"
   ]
  },
  {
   "cell_type": "code",
   "execution_count": 140,
   "metadata": {},
   "outputs": [
    {
     "data": {
      "text/plain": [
       "Text(0.5, 0, '$\\\\alpha$')"
      ]
     },
     "execution_count": 140,
     "metadata": {},
     "output_type": "execute_result"
    },
    {
     "data": {
      "image/png": "[encoded data removed]",
      "text/plain": [
       "<Figure size 432x288 with 1 Axes>"
      ]
     },
     "metadata": {
      "needs_background": "light"
     },
     "output_type": "display_data"
    }
   ],
   "source": [
    "from  sklearn.linear_model import Ridge\n",
    "\n",
    "x_range = [0.01, 0.1, 1, 10, 100]\n",
    "train_score_list = []\n",
    "test_score_list = []\n",
    "\n",
    "for alpha in x_range: \n",
    "    ridge = Ridge(alpha,random_state=0)\n",
    "    ridge.fit(X_train_pca,y_train)\n",
    "    train_score_list.append(ridge.score(X_train_pca,y_train))\n",
    "    test_score_list.append(ridge.score(X_test_pca, y_test))\n",
    "\n",
    "%matplotlib inline\n",
    "import matplotlib.pyplot as plt\n",
    "plt.plot(x_range, train_score_list, c = 'g', label = 'Train Score')\n",
    "plt.plot(x_range, test_score_list, c = 'b', label = 'Test Score')\n",
    "plt.xscale('log')\n",
    "plt.legend(loc = 3)\n",
    "plt.xlabel(r'$\\alpha$')"
   ]
  },
  {
   "cell_type": "code",
   "execution_count": 141,
   "metadata": {},
   "outputs": [
    {
     "name": "stdout",
     "output_type": "stream",
     "text": [
      "{'alpha': 10}\n",
      "Train Score:  0.100757859310586\n",
      "Test Score:  0.07083037138023773\n",
      "MSE:  43294569.071462534\n"
     ]
    }
   ],
   "source": [
    "from sklearn.linear_model import Ridge\n",
    "from sklearn.model_selection import GridSearchCV\n",
    "np.random.seed(0)\n",
    "    \n",
    "x_range = [0.01, 0.1, 1, 10, 100]\n",
    "tuned_parameters = [{'alpha':x_range}]\n",
    "\n",
    "ridge = Ridge(max_iter=1000,tol=0.1,random_state=0)\n",
    "gri1=GridSearchCV(ridge,tuned_parameters,cv=5, return_train_score= True)\n",
    "gri_model1=gri1.fit(X_train_pca,y_train)\n",
    "\n",
    "print(gri1.best_params_)\n",
    "y_pred1= gri1.score(X_test_pca,y_test)\n",
    "print('Train Score: ',gri1.score(X_train_pca, y_train))\n",
    "print('Test Score: ',gri1.score(X_test_pca, y_test))\n",
    "y_pred = gri1.predict(X_test_pca)\n",
    "print('MSE: ',mean_squared_error(y_test, y_pred))"
   ]
  },
  {
   "cell_type": "markdown",
   "metadata": {},
   "source": [
    "## 4) Lasso Regression"
   ]
  },
  {
   "cell_type": "code",
   "execution_count": 142,
   "metadata": {},
   "outputs": [
    {
     "data": {
      "text/plain": [
       "Text(0.5, 0, '$\\\\alpha$')"
      ]
     },
     "execution_count": 142,
     "metadata": {},
     "output_type": "execute_result"
    },
    {
     "data": {
      "image/png": "[encoded data removed]",
      "text/plain": [
       "<Figure size 432x288 with 1 Axes>"
      ]
     },
     "metadata": {
      "needs_background": "light"
     },
     "output_type": "display_data"
    }
   ],
   "source": [
    "from sklearn.linear_model import Lasso\n",
    "x_range = [0.01, 0.1, 1, 10, 100]\n",
    "train_score_list = []\n",
    "test_score_list = []\n",
    "\n",
    "for alpha in x_range: \n",
    "    lasso = Lasso(alpha,random_state=0)\n",
    "    lasso.fit(X_train_pca,y_train)\n",
    "    train_score_list.append(lasso.score(X_train_pca,y_train))\n",
    "    test_score_list.append(lasso.score(X_test_pca, y_test))\n",
    "    \n",
    "    \n",
    "plt.plot(x_range, train_score_list, c = 'g', label = 'Train Score')\n",
    "plt.plot(x_range, test_score_list, c = 'b', label = 'Test Score')\n",
    "plt.xscale('log')\n",
    "plt.legend(loc = 3)\n",
    "plt.xlabel(r'$\\alpha$')"
   ]
  },
  {
   "cell_type": "code",
   "execution_count": 143,
   "metadata": {},
   "outputs": [
    {
     "name": "stdout",
     "output_type": "stream",
     "text": [
      "{'alpha': 10}\n",
      "Train Score:  0.10039124375406738\n",
      "Test Score:  0.07130076886506109\n",
      "MSE:  43272650.94610584\n"
     ]
    }
   ],
   "source": [
    "from sklearn.linear_model import Lasso\n",
    "from sklearn.model_selection import GridSearchCV\n",
    "np.random.seed(0)\n",
    "    \n",
    "x_range = [0.01, 0.1, 1, 10, 100]\n",
    "tuned_parameters = [{'alpha':x_range}]\n",
    "\n",
    "lasso = Lasso(max_iter=1000,tol=0.1,random_state=0)\n",
    "gri=GridSearchCV(lasso,tuned_parameters,cv=5, return_train_score= True)\n",
    "gri_model=gri.fit(X_train_pca,y_train)\n",
    "\n",
    "print(gri_model.best_params_)\n",
    "y_pred= gri_model.score(X_test_pca,y_test)\n",
    "\n",
    "print('Train Score: ',gri_model.score(X_train_pca, y_train))\n",
    "print('Test Score: ',gri_model.score(X_test_pca, y_test))\n",
    "y_pred = gri_model.predict(X_test_pca)\n",
    "print('MSE: ',mean_squared_error(y_test, y_pred))"
   ]
  },
  {
   "cell_type": "markdown",
   "metadata": {},
   "source": [
    "## 5) Linear SVR"
   ]
  },
  {
   "cell_type": "code",
   "execution_count": 144,
   "metadata": {},
   "outputs": [
    {
     "name": "stdout",
     "output_type": "stream",
     "text": [
      "Best Paramters {'C': 100, 'max_iter': 10000}\n",
      "train score:  0.000593939893265838\n",
      "test score:  -0.0474904237932019\n",
      "MSE:  48807715.09070588\n"
     ]
    }
   ],
   "source": [
    "from sklearn import svm\n",
    "from sklearn.svm import LinearSVR\n",
    "\n",
    "tuning_parameters = [{'C': [0.01, 0.1 ,1, 10, 100], 'max_iter' : [10000]}]\n",
    "\n",
    "lsvm_grid = GridSearchCV(svm.LinearSVR(), param_grid=tuning_parameters,cv=5,)\n",
    "grid_lsvm=lsvm_grid.fit(X_train_pca,y_train) \n",
    "\n",
    "print('Best Paramters' ,grid_lsvm.best_params_)\n",
    "print('train score: ', grid_lsvm.score(X_train_pca, y_train))\n",
    "print('test score: ', grid_lsvm.score(X_test_pca, y_test))\n",
    "y_pred = grid_lsvm.predict(X_test_pca)\n",
    "print('MSE: ',mean_squared_error(y_test, y_pred))"
   ]
  },
  {
   "cell_type": "markdown",
   "metadata": {},
   "source": [
    "## 6) SVR (Kernel = 'linear')"
   ]
  },
  {
   "cell_type": "code",
   "execution_count": 145,
   "metadata": {},
   "outputs": [
    {
     "name": "stdout",
     "output_type": "stream",
     "text": [
      "Best Paramters {'C': 100, 'kernel': 'linear'}\n",
      "train score:  0.007685166377711328\n",
      "test score:  -0.039407807588762944\n",
      "MSE:  48431106.36958246\n"
     ]
    }
   ],
   "source": [
    "from sklearn.model_selection import GridSearchCV\n",
    "from sklearn import svm\n",
    "\n",
    "tuning_parameters = {'C':[0.1, 1,10,100], 'kernel':['linear']}\n",
    "\n",
    "svm_grid = GridSearchCV(svm.SVR(), param_grid=tuning_parameters,cv=3)\n",
    "svm_model_linear=svm_grid.fit(X_train_pca,y_train) \n",
    "\n",
    "print('Best Paramters' ,svm_model_linear.best_params_)\n",
    "print('train score: ', svm_model_linear.score(X_train_pca, y_train))\n",
    "print('test score: ', svm_model_linear.score(X_test_pca, y_test))\n",
    "y_pred = svm_model_linear.predict(X_test_pca)\n",
    "print('MSE: ',mean_squared_error(y_test, y_pred))"
   ]
  },
  {
   "cell_type": "markdown",
   "metadata": {},
   "source": [
    "## 7) SVR (Kernel = 'Poly')"
   ]
  },
  {
   "cell_type": "code",
   "execution_count": 146,
   "metadata": {},
   "outputs": [
    {
     "name": "stdout",
     "output_type": "stream",
     "text": [
      "{'C': 100, 'kernel': 'poly'}\n",
      "train score:  -0.014237647028483735\n",
      "test score:  -0.04138657082961461\n",
      "MSE:  48523306.65160673\n"
     ]
    }
   ],
   "source": [
    "from sklearn.model_selection import GridSearchCV\n",
    "from sklearn import svm\n",
    "\n",
    "tuning_parameters = {'C':[0.1, 1,10,100], 'kernel':['poly']}\n",
    "\n",
    "svm_grid = GridSearchCV(svm.SVR(), param_grid=tuning_parameters,cv=3)\n",
    "svm_model_poly=svm_grid.fit(X_train_pca,y_train) \n",
    "print(svm_model_poly.best_params_)\n",
    "\n",
    "print('train score: ', svm_model_poly.score(X_train_pca, y_train))\n",
    "print('test score: ', svm_model_poly.score(X_test_pca, y_test))\n",
    "y_pred = svm_model_poly.predict(X_test_pca)\n",
    "print('MSE: ',mean_squared_error(y_test, y_pred))\n"
   ]
  },
  {
   "cell_type": "markdown",
   "metadata": {},
   "source": [
    "## 8) SVR (Kernel = 'rbf')"
   ]
  },
  {
   "cell_type": "code",
   "execution_count": 147,
   "metadata": {},
   "outputs": [
    {
     "name": "stdout",
     "output_type": "stream",
     "text": [
      "{'C': 100, 'kernel': 'rbf'}\n",
      "train score:  0.010981052099239719\n",
      "test score:  -0.023456753503002803\n",
      "MSE:  47687868.54560793\n"
     ]
    }
   ],
   "source": [
    "from sklearn.model_selection import GridSearchCV\n",
    "from sklearn import svm\n",
    "\n",
    "tuning_parameters = {'C':[0.1, 1,10,100], 'kernel':['rbf']}\n",
    "\n",
    "svm_grid = GridSearchCV(svm.SVR(), param_grid=tuning_parameters,cv=3)\n",
    "svm_model_rbf=svm_grid.fit(X_train_pca,y_train) \n",
    "print(svm_model_rbf.best_params_)\n",
    "\n",
    "print('train score: ', svm_model_rbf.score(X_train_pca, y_train))\n",
    "print('test score: ', svm_model_rbf.score(X_test_pca, y_test))\n",
    "y_pred = svm_model_rbf.predict(X_test_pca)\n",
    "print('MSE: ',mean_squared_error(y_test, y_pred))\n"
   ]
  },
  {
   "cell_type": "markdown",
   "metadata": {},
   "source": [
    "## 9) Decision Tree Regressor"
   ]
  },
  {
   "cell_type": "code",
   "execution_count": 148,
   "metadata": {},
   "outputs": [
    {
     "name": "stdout",
     "output_type": "stream",
     "text": [
      "0.07795454194703558 {'max_depth': 3}\n",
      "train score:  0.11808922576326897\n",
      "test score:  0.05463450759562749\n",
      "MSE:  44049213.77970208\n"
     ]
    }
   ],
   "source": [
    "from sklearn.tree import DecisionTreeRegressor\n",
    "\n",
    "parameters = {'max_depth':range(3,20)}\n",
    "clf = GridSearchCV(DecisionTreeRegressor(random_state= 0), parameters, n_jobs=4)\n",
    "clf.fit(X=X_train_pca, y=y_train)\n",
    "print (clf.best_score_, clf.best_params_) \n",
    "\n",
    "\n",
    "print('train score: ', clf.score(X_train_pca, y_train))\n",
    "print('test score: ', clf.score(X_test_pca, y_test))\n",
    "y_pred = clf.predict(X_test_pca)\n",
    "print('MSE: ',mean_squared_error(y_test, y_pred))"
   ]
  },
  {
   "cell_type": "markdown",
   "metadata": {},
   "source": [
    "## Deep Learning Model"
   ]
  },
  {
   "cell_type": "code",
   "execution_count": 8,
   "metadata": {},
   "outputs": [],
   "source": [
    "from keras.models import Sequential\n",
    "from keras.layers import Dense\n",
    "from keras.wrappers.scikit_learn import KerasRegressor\n",
    "from keras.metrics import AUC\n",
    "import tensorflow\n",
    "from sklearn.model_selection import GridSearchCV\n",
    "\n",
    "np.random.seed(0)\n",
    "tensorflow.random.set_seed(0)"
   ]
  },
  {
   "cell_type": "code",
   "execution_count": 83,
   "metadata": {},
   "outputs": [],
   "source": [
    "X_train1 = np.asarray(X_train_without_PCA) \n",
    "X_test1 = np.asarray(X_test_without_PCA) \n",
    "y_train1 = np.asarray(y_train) \n",
    "y_test1 = np.asarray(y_test) "
   ]
  },
  {
   "cell_type": "code",
   "execution_count": 84,
   "metadata": {},
   "outputs": [],
   "source": [
    "from keras.models import Sequential\n",
    "from keras.layers import Dense\n",
    "from keras.wrappers.scikit_learn import KerasRegressor\n",
    "from keras.metrics import AUC\n",
    "\n",
    "np.random.seed(0)\n",
    "tensorflow.random.set_seed(0)"
   ]
  },
  {
   "cell_type": "code",
   "execution_count": 85,
   "metadata": {},
   "outputs": [],
   "source": [
    "import numpy as np\n",
    "from sklearn.model_selection import GridSearchCV\n",
    "from tensorflow.keras.models import Sequential\n",
    "from keras.layers import Dense\n",
    "from keras.wrappers.scikit_learn import KerasRegressor"
   ]
  },
  {
   "cell_type": "code",
   "execution_count": 86,
   "metadata": {},
   "outputs": [],
   "source": [
    "def create_model():\n",
    "    #create model\n",
    "    model = Sequential()\n",
    "    model.add(Dense(12, input_dim=47, activation='relu'))\n",
    "    model.add(Dense(8, activation='relu'))\n",
    "    model.add(Dense(1, activation='sigmoid'))\n",
    "    #compile model\n",
    "    model.compile(loss='binary_crossentropy', optimizer='adam', metrics=['accuracy'])\n",
    "    return model"
   ]
  },
  {
   "cell_type": "code",
   "execution_count": 87,
   "metadata": {},
   "outputs": [],
   "source": [
    "seed = 10\n",
    "np.random.seed(10)"
   ]
  },
  {
   "cell_type": "code",
   "execution_count": 88,
   "metadata": {},
   "outputs": [],
   "source": [
    "model = KerasRegressor(build_fn = create_model, verbose = 0)\n",
    "\n",
    "param_grid = {'batch_size':[10,20,30,40] , 'epochs':[10, 50, 100]}\n",
    "grid_search = GridSearchCV(estimator= model, param_grid = param_grid, cv = 5)"
   ]
  },
  {
   "cell_type": "code",
   "execution_count": 89,
   "metadata": {},
   "outputs": [],
   "source": [
    "grid_search_result = grid_search.fit(X, y)"
   ]
  },
  {
   "cell_type": "code",
   "execution_count": 90,
   "metadata": {},
   "outputs": [
    {
     "name": "stdout",
     "output_type": "stream",
     "text": [
      "Best Paramters {'batch_size': 10, 'epochs': 100}\n"
     ]
    }
   ],
   "source": [
    "print('Best Paramters' ,grid_search_result.best_params_)"
   ]
  },
  {
   "cell_type": "code",
   "execution_count": 93,
   "metadata": {},
   "outputs": [
    {
     "name": "stdout",
     "output_type": "stream",
     "text": [
      "Epoch 1/100\n",
      "608/608 [==============================] - 3s 4ms/step - loss: 110279880.0000 - mse: 110279888.0000 - mae: 7956.6113\n",
      "Epoch 2/100\n",
      "608/608 [==============================] - 2s 3ms/step - loss: 106462016.0000 - mse: 106462024.0000 - mae: 7713.0967\n",
      "Epoch 3/100\n",
      "608/608 [==============================] - 3s 5ms/step - loss: 99841432.0000 - mse: 99841432.0000 - mae: 7274.1279\n",
      "Epoch 4/100\n",
      "608/608 [==============================] - 2s 3ms/step - loss: 91660232.0000 - mse: 91660232.0000 - mae: 6690.5200\n",
      "Epoch 5/100\n",
      "608/608 [==============================] - 2s 3ms/step - loss: 82875936.0000 - mse: 82875936.0000 - mae: 6005.8628\n",
      "Epoch 6/100\n",
      "608/608 [==============================] - 2s 3ms/step - loss: 74270352.0000 - mse: 74270352.0000 - mae: 5307.5879\n",
      "Epoch 7/100\n",
      "608/608 [==============================] - 2s 4ms/step - loss: 66486184.0000 - mse: 66486184.0000 - mae: 4765.1968\n",
      "Epoch 8/100\n",
      "608/608 [==============================] - 2s 3ms/step - loss: 59924316.0000 - mse: 59924320.0000 - mae: 4354.9229\n",
      "Epoch 9/100\n",
      "608/608 [==============================] - 2s 3ms/step - loss: 54831076.0000 - mse: 54831072.0000 - mae: 4109.9727\n",
      "Epoch 10/100\n",
      "608/608 [==============================] - 1s 2ms/step - loss: 51195052.0000 - mse: 51195052.0000 - mae: 4038.3467\n",
      "Epoch 11/100\n",
      "608/608 [==============================] - 1s 2ms/step - loss: 48851844.0000 - mse: 48851844.0000 - mae: 4063.6484\n",
      "Epoch 12/100\n",
      "608/608 [==============================] - 1s 2ms/step - loss: 47467280.0000 - mse: 47467280.0000 - mae: 4126.2217: 0s - loss: 45904928.0000 - mse: 45904928.0000 - mae: 4056.00 - ETA: 0s - loss: 45097228.0000 - mse: 450972\n",
      "Epoch 13/100\n",
      "608/608 [==============================] - 1s 2ms/step - loss: 46733108.0000 - mse: 46733108.0000 - mae: 4196.6528\n",
      "Epoch 14/100\n",
      "608/608 [==============================] - 1s 2ms/step - loss: 46364804.0000 - mse: 46364804.0000 - mae: 4259.9370\n",
      "Epoch 15/100\n",
      "608/608 [==============================] - 1s 2ms/step - loss: 46161588.0000 - mse: 46161588.0000 - mae: 4298.7495\n",
      "Epoch 16/100\n",
      "608/608 [==============================] - 1s 2ms/step - loss: 46031972.0000 - mse: 46031972.0000 - mae: 4325.7803\n",
      "Epoch 17/100\n",
      "608/608 [==============================] - 1s 2ms/step - loss: 45929904.0000 - mse: 45929908.0000 - mae: 4338.6650\n",
      "Epoch 18/100\n",
      "608/608 [==============================] - 1s 2ms/step - loss: 45837028.0000 - mse: 45837028.0000 - mae: 4343.4458\n",
      "Epoch 19/100\n",
      "608/608 [==============================] - 1s 2ms/step - loss: 45749448.0000 - mse: 45749448.0000 - mae: 4351.9849\n",
      "Epoch 20/100\n",
      "608/608 [==============================] - 1s 2ms/step - loss: 45665484.0000 - mse: 45665484.0000 - mae: 4345.2837\n",
      "Epoch 21/100\n",
      "608/608 [==============================] - 1s 2ms/step - loss: 45579048.0000 - mse: 45579048.0000 - mae: 4338.6182\n",
      "Epoch 22/100\n",
      "608/608 [==============================] - 2s 2ms/step - loss: 45497564.0000 - mse: 45497564.0000 - mae: 4334.3188\n",
      "Epoch 23/100\n",
      "608/608 [==============================] - 1s 2ms/step - loss: 45415724.0000 - mse: 45415732.0000 - mae: 4340.9292\n",
      "Epoch 24/100\n",
      "608/608 [==============================] - 1s 2ms/step - loss: 45335412.0000 - mse: 45335412.0000 - mae: 4325.2261: 1s - loss: 44586928.\n",
      "Epoch 25/100\n",
      "608/608 [==============================] - 1s 2ms/step - loss: 45255056.0000 - mse: 45255056.0000 - mae: 4321.9741\n",
      "Epoch 26/100\n",
      "608/608 [==============================] - 1s 2ms/step - loss: 45177740.0000 - mse: 45177740.0000 - mae: 4312.6895\n",
      "Epoch 27/100\n",
      "608/608 [==============================] - 2s 3ms/step - loss: 45100844.0000 - mse: 45100844.0000 - mae: 4311.8750: 0s - loss: 46394072.0000 - mse: \n",
      "Epoch 28/100\n",
      "608/608 [==============================] - 1s 2ms/step - loss: 45026816.0000 - mse: 45026816.0000 - mae: 4305.4834\n",
      "Epoch 29/100\n",
      "608/608 [==============================] - 2s 3ms/step - loss: 44950320.0000 - mse: 44950320.0000 - mae: 4303.8257\n",
      "Epoch 30/100\n",
      "608/608 [==============================] - 1s 2ms/step - loss: 44877252.0000 - mse: 44877252.0000 - mae: 4305.9072\n",
      "Epoch 31/100\n",
      "608/608 [==============================] - 1s 2ms/step - loss: 44805212.0000 - mse: 44805212.0000 - mae: 4293.3159\n",
      "Epoch 32/100\n",
      "608/608 [==============================] - 1s 2ms/step - loss: 44731944.0000 - mse: 44731940.0000 - mae: 4285.1343\n",
      "Epoch 33/100\n",
      "608/608 [==============================] - 1s 2ms/step - loss: 44659348.0000 - mse: 44659348.0000 - mae: 4282.5225\n",
      "Epoch 34/100\n",
      "608/608 [==============================] - 1s 2ms/step - loss: 44590156.0000 - mse: 44590160.0000 - mae: 4284.8218: 1s - loss: 49561988.0000 - mse: 49561988.000 - ETA: 0s - loss: 46309724.0000 - mse: 46\n",
      "Epoch 35/100\n",
      "608/608 [==============================] - 1s 2ms/step - loss: 44520120.0000 - mse: 44520120.0000 - mae: 4267.0776: 0s - loss: 43154432.0000 - mse: 43154432.0000 - mae: 4\n",
      "Epoch 36/100\n",
      "608/608 [==============================] - 1s 2ms/step - loss: 44449976.0000 - mse: 44449976.0000 - mae: 4271.9600: 0s - loss: 42904408.0000\n",
      "Epoch 37/100\n",
      "608/608 [==============================] - 1s 2ms/step - loss: 44382372.0000 - mse: 44382372.0000 - mae: 4266.6323\n",
      "Epoch 38/100\n",
      "608/608 [==============================] - 1s 2ms/step - loss: 44317884.0000 - mse: 44317884.0000 - mae: 4263.1196\n",
      "Epoch 39/100\n",
      "608/608 [==============================] - 1s 2ms/step - loss: 44250748.0000 - mse: 44250748.0000 - mae: 4250.3916\n",
      "Epoch 40/100\n",
      "608/608 [==============================] - 1s 2ms/step - loss: 44185744.0000 - mse: 44185744.0000 - mae: 4250.8184\n",
      "Epoch 41/100\n",
      "608/608 [==============================] - 1s 2ms/step - loss: 44121260.0000 - mse: 44121260.0000 - mae: 4245.0396\n",
      "Epoch 42/100\n",
      "608/608 [==============================] - 1s 2ms/step - loss: 44058720.0000 - mse: 44058720.0000 - mae: 4242.7568\n",
      "Epoch 43/100\n",
      "608/608 [==============================] - 1s 2ms/step - loss: 43994472.0000 - mse: 43994472.0000 - mae: 4238.2168\n",
      "Epoch 44/100\n",
      "608/608 [==============================] - 1s 2ms/step - loss: 43932696.0000 - mse: 43932696.0000 - mae: 4234.2666\n",
      "Epoch 45/100\n",
      "608/608 [==============================] - 2s 2ms/step - loss: 43872736.0000 - mse: 43872736.0000 - mae: 4232.9697\n",
      "Epoch 46/100\n",
      "608/608 [==============================] - 1s 2ms/step - loss: 43810240.0000 - mse: 43810240.0000 - mae: 4232.5898\n",
      "Epoch 47/100\n",
      "608/608 [==============================] - 2s 3ms/step - loss: 43751156.0000 - mse: 43751156.0000 - mae: 4219.4663\n",
      "Epoch 48/100\n",
      "608/608 [==============================] - 2s 3ms/step - loss: 43691088.0000 - mse: 43691088.0000 - mae: 4211.9521: 1s - l\n",
      "Epoch 49/100\n",
      "608/608 [==============================] - 2s 3ms/step - loss: 43632492.0000 - mse: 43632492.0000 - mae: 4218.5161\n",
      "Epoch 50/100\n",
      "608/608 [==============================] - 2s 2ms/step - loss: 43575420.0000 - mse: 43575420.0000 - mae: 4218.7031\n",
      "Epoch 51/100\n",
      "608/608 [==============================] - 1s 2ms/step - loss: 43516944.0000 - mse: 43516944.0000 - mae: 4207.4038\n",
      "Epoch 52/100\n",
      "608/608 [==============================] - 2s 3ms/step - loss: 43459964.0000 - mse: 43459964.0000 - mae: 4199.2915\n",
      "Epoch 53/100\n",
      "608/608 [==============================] - 2s 3ms/step - loss: 43404400.0000 - mse: 43404400.0000 - mae: 4200.4746\n",
      "Epoch 54/100\n",
      "608/608 [==============================] - 2s 3ms/step - loss: 43349996.0000 - mse: 43349996.0000 - mae: 4197.6040\n",
      "Epoch 55/100\n",
      "608/608 [==============================] - 2s 3ms/step - loss: 43294892.0000 - mse: 43294892.0000 - mae: 4196.5024\n",
      "Epoch 56/100\n",
      "608/608 [==============================] - 2s 3ms/step - loss: 43240576.0000 - mse: 43240576.0000 - mae: 4190.6963: 1s - loss: 45929096.\n",
      "Epoch 57/100\n",
      "608/608 [==============================] - 2s 3ms/step - loss: 43189000.0000 - mse: 43189000.0000 - mae: 4186.9976: 0s - loss: 41667828.00\n",
      "Epoch 58/100\n",
      "608/608 [==============================] - 1s 2ms/step - loss: 43135024.0000 - mse: 43135024.0000 - mae: 4185.3330\n",
      "Epoch 59/100\n",
      "608/608 [==============================] - 2s 3ms/step - loss: 43083404.0000 - mse: 43083404.0000 - mae: 4178.3223: 1s - loss: 424\n",
      "Epoch 60/100\n",
      "608/608 [==============================] - 2s 3ms/step - loss: 43033624.0000 - mse: 43033624.0000 - mae: 4179.9248\n",
      "Epoch 61/100\n"
     ]
    },
    {
     "name": "stdout",
     "output_type": "stream",
     "text": [
      "608/608 [==============================] - 1s 2ms/step - loss: 42981168.0000 - mse: 42981168.0000 - mae: 4178.4473\n",
      "Epoch 62/100\n",
      "608/608 [==============================] - 1s 2ms/step - loss: 42934068.0000 - mse: 42934064.0000 - mae: 4168.0581\n",
      "Epoch 63/100\n",
      "608/608 [==============================] - 1s 2ms/step - loss: 42884856.0000 - mse: 42884856.0000 - mae: 4163.4604\n",
      "Epoch 64/100\n",
      "608/608 [==============================] - 1s 2ms/step - loss: 42836752.0000 - mse: 42836752.0000 - mae: 4167.1733\n",
      "Epoch 65/100\n",
      "608/608 [==============================] - 1s 2ms/step - loss: 42788336.0000 - mse: 42788336.0000 - mae: 4162.4897\n",
      "Epoch 66/100\n",
      "608/608 [==============================] - 2s 3ms/step - loss: 42742148.0000 - mse: 42742152.0000 - mae: 4167.8252: 0s - loss: 46815908.0000 - mse\n",
      "Epoch 67/100\n",
      "608/608 [==============================] - 1s 2ms/step - loss: 42695812.0000 - mse: 42695812.0000 - mae: 4158.4092\n",
      "Epoch 68/100\n",
      "608/608 [==============================] - 1s 2ms/step - loss: 42648932.0000 - mse: 42648932.0000 - mae: 4165.9565\n",
      "Epoch 69/100\n",
      "608/608 [==============================] - 1s 2ms/step - loss: 42604984.0000 - mse: 42604984.0000 - mae: 4150.4102\n",
      "Epoch 70/100\n",
      "608/608 [==============================] - 2s 3ms/step - loss: 42559248.0000 - mse: 42559248.0000 - mae: 4148.5850\n",
      "Epoch 71/100\n",
      "608/608 [==============================] - 2s 3ms/step - loss: 42516048.0000 - mse: 42516048.0000 - mae: 4139.9761\n",
      "Epoch 72/100\n",
      "608/608 [==============================] - 1s 2ms/step - loss: 42472340.0000 - mse: 42472340.0000 - mae: 4145.0645\n",
      "Epoch 73/100\n",
      "608/608 [==============================] - 1s 2ms/step - loss: 42430348.0000 - mse: 42430348.0000 - mae: 4134.1230\n",
      "Epoch 74/100\n",
      "608/608 [==============================] - 1s 2ms/step - loss: 42387648.0000 - mse: 42387648.0000 - mae: 4145.6138\n",
      "Epoch 75/100\n",
      "608/608 [==============================] - 1s 2ms/step - loss: 42347412.0000 - mse: 42347412.0000 - mae: 4130.2710\n",
      "Epoch 76/100\n",
      "608/608 [==============================] - 2s 3ms/step - loss: 42306184.0000 - mse: 42306192.0000 - mae: 4130.0371\n",
      "Epoch 77/100\n",
      "608/608 [==============================] - 2s 3ms/step - loss: 42265696.0000 - mse: 42265696.0000 - mae: 4131.0903\n",
      "Epoch 78/100\n",
      "608/608 [==============================] - 2s 3ms/step - loss: 42229076.0000 - mse: 42229076.0000 - mae: 4129.2920\n",
      "Epoch 79/100\n",
      "608/608 [==============================] - 2s 2ms/step - loss: 42190560.0000 - mse: 42190560.0000 - mae: 4125.6284\n",
      "Epoch 80/100\n",
      "608/608 [==============================] - 1s 2ms/step - loss: 42152772.0000 - mse: 42152772.0000 - mae: 4126.2046\n",
      "Epoch 81/100\n",
      "608/608 [==============================] - 1s 2ms/step - loss: 42114532.0000 - mse: 42114532.0000 - mae: 4125.2188\n",
      "Epoch 82/100\n",
      "608/608 [==============================] - 1s 2ms/step - loss: 42079016.0000 - mse: 42079016.0000 - mae: 4113.5166\n",
      "Epoch 83/100\n",
      "608/608 [==============================] - 2s 2ms/step - loss: 42042624.0000 - mse: 42042624.0000 - mae: 4122.2451\n",
      "Epoch 84/100\n",
      "608/608 [==============================] - 2s 2ms/step - loss: 42007916.0000 - mse: 42007916.0000 - mae: 4117.9780\n",
      "Epoch 85/100\n",
      "608/608 [==============================] - 1s 2ms/step - loss: 41971488.0000 - mse: 41971488.0000 - mae: 4102.1934\n",
      "Epoch 86/100\n",
      "608/608 [==============================] - 1s 2ms/step - loss: 41938148.0000 - mse: 41938148.0000 - mae: 4104.2666\n",
      "Epoch 87/100\n",
      "608/608 [==============================] - 1s 2ms/step - loss: 41905048.0000 - mse: 41905048.0000 - mae: 4113.1187\n",
      "Epoch 88/100\n",
      "608/608 [==============================] - 1s 2ms/step - loss: 41871516.0000 - mse: 41871516.0000 - mae: 4106.6025\n",
      "Epoch 89/100\n",
      "608/608 [==============================] - 1s 2ms/step - loss: 41839424.0000 - mse: 41839424.0000 - mae: 4098.8921\n",
      "Epoch 90/100\n",
      "608/608 [==============================] - 1s 2ms/step - loss: 41807064.0000 - mse: 41807064.0000 - mae: 4094.3647\n",
      "Epoch 91/100\n",
      "608/608 [==============================] - 2s 2ms/step - loss: 41776240.0000 - mse: 41776240.0000 - mae: 4100.2505\n",
      "Epoch 92/100\n",
      "608/608 [==============================] - 1s 2ms/step - loss: 41744284.0000 - mse: 41744284.0000 - mae: 4103.3081\n",
      "Epoch 93/100\n",
      "608/608 [==============================] - 2s 3ms/step - loss: 41713264.0000 - mse: 41713264.0000 - mae: 4085.5200: 1s - loss: 36375384.0000 - mse: 363753 - ETA: 0s - loss: 41564116.0000 - mse: 41564116.0000 \n",
      "Epoch 94/100\n",
      "608/608 [==============================] - 1s 2ms/step - loss: 41682944.0000 - mse: 41682944.0000 - mae: 4093.0767\n",
      "Epoch 95/100\n",
      "608/608 [==============================] - 1s 2ms/step - loss: 41654244.0000 - mse: 41654248.0000 - mae: 4085.0398\n",
      "Epoch 96/100\n",
      "608/608 [==============================] - 1s 2ms/step - loss: 41626028.0000 - mse: 41626028.0000 - mae: 4093.6812\n",
      "Epoch 97/100\n",
      "608/608 [==============================] - 2s 2ms/step - loss: 41597688.0000 - mse: 41597688.0000 - mae: 4086.7280: 0s - loss: 41261692.0000 - mse: 41261692.0000 - mae: 4078.\n",
      "Epoch 98/100\n",
      "608/608 [==============================] - 2s 3ms/step - loss: 41568624.0000 - mse: 41568620.0000 - mae: 4079.5408\n",
      "Epoch 99/100\n",
      "608/608 [==============================] - 2s 3ms/step - loss: 41541384.0000 - mse: 41541380.0000 - mae: 4088.7959\n",
      "Epoch 100/100\n",
      "608/608 [==============================] - 2s 3ms/step - loss: 41515336.0000 - mse: 41515336.0000 - mae: 4079.9331\n",
      "190/190 [==============================] - 1s 2ms/step - loss: 41494036.0000 - mse: 41494036.0000 - mae: 4078.6240\n",
      "[41494036.0, 41494036.0, 4078.6240234375]\n",
      "64/64 [==============================] - 0s 2ms/step - loss: 42327488.0000 - mse: 42327488.0000 - mae: 4060.1143\n",
      "[42327488.0, 42327488.0, 4060.1142578125]\n",
      "42327485.54052321\n"
     ]
    }
   ],
   "source": [
    "from tensorflow.keras.models import Sequential\n",
    "from keras.layers import Dense\n",
    "from sklearn.metrics import mean_squared_error\n",
    "\n",
    "model = Sequential()\n",
    "model.add(Dense(12, input_dim=47, kernel_initializer='normal', activation='relu'))\n",
    "model.add(Dense(1, kernel_initializer='normal'))\n",
    "model.compile(loss = 'mse', optimizer = 'adam', metrics = ['mse', 'mae'])\n",
    "\n",
    "model.fit(X_train1, y_train1, epochs= 100, batch_size=10)\n",
    "\n",
    "y_pred1 = model.predict(X_test1)\n",
    "print(model.evaluate(X_train1,y_train1))\n",
    "print(model.evaluate(X_test1,y_test1))\n",
    "print(mean_squared_error(y_test1, y_pred1))"
   ]
  },
  {
   "cell_type": "code",
   "execution_count": 94,
   "metadata": {},
   "outputs": [
    {
     "name": "stdout",
     "output_type": "stream",
     "text": [
      "Train score: 0.12\n",
      "Test score: 0.09\n"
     ]
    }
   ],
   "source": [
    "from sklearn.metrics import r2_score, recall_score, precision_score\n",
    "\n",
    "y_train_predict = model.predict(X_train1)\n",
    "y_test_predict = model.predict(X_test1)\n",
    "\n",
    "print('Train score: {:.2f}'.format(r2_score(y_train1, y_train_predict)))\n",
    "print('Test score: {:.2f}'.format(r2_score(y_test1, y_test_predict)))"
   ]
  },
  {
   "cell_type": "markdown",
   "metadata": {},
   "source": [
    "## Ensembling Output"
   ]
  },
  {
   "cell_type": "markdown",
   "metadata": {},
   "source": [
    "| Model | Bagging - Decision Tree | Bagging - Ridge Regression | Pasting - Decision Tree | Pasting - Ridge Regression | Adaboost - Linear Regression | Adaboost - Ridge Regression | Gradient Boosting |\n",
    "| --- | --- | --- | --- | --- | --- | --- | --- |\n",
    "| Score Training | 0.81 | 0.1417 | 0.87 | 0.14 | 0.023 | 0.146 | 0.628 |\n",
    "| Score Test | 0.495 | 0.1335 | 0.4955 | 0.133 | -0.02 | 0.114 | 0.57 |\n",
    "| MSE | 23524550.91 | 40370290.78 | 23505689.71 | 40353443.76 | 47532057.75 | 41249746.34 | 19866287.71 |"
   ]
  },
  {
   "cell_type": "markdown",
   "metadata": {},
   "source": [
    "## PCA"
   ]
  },
  {
   "cell_type": "markdown",
   "metadata": {},
   "source": [
    "| Model | PCA Linear Regression | PCA K Neighbor Regressor | PCA Ridge Regression | PCA Lasso Regression | PCA Linear SVR | PCA  SVM Kernel - Linear | PCA SVM Kernel - RBF | PCA SVM Kernel - Poly | PCA Decision Tree Classifier | Deep Learning \n",
    "| --- | --- | --- | --- | --- | --- | --- | --- | --- | --- |---|\n",
    "| Score Training | 0.10 | 0.319 | 0.10 | 0.10 | 0.0005| 0.007 | -0.014 | 0.01 | 0.118 | 0.12|\n",
    "| Score Test |  0.07 | 0.-0.03 | 0.07 | 0.07 | -0.047 | -0.039 | -0.041 | -0.023 | 0.05 | 0.09|\n",
    "| MSE | 43307886.23 | 48386117.57 | 43294569.07 | 43272650.94 | 48807715.09 | 48431106.36 | 48523306.65 | 47687868.54 | 44049213.77 | 42327485.54 |"
   ]
  },
  {
   "cell_type": "markdown",
   "metadata": {},
   "source": [
    "Final Ouput : After carefully assesing all the ensembling, PCA and deep learning techniques we come to a conclusion that Decision Tree Regressor is the best models to predict the target variable on the basis of training score of 0.61 and test score of 0.543. \n",
    "Gradient Boosting is the second best model with 19866287.71 MSE and the model with the lowest MSE score is for PCA Linear SVR with the value of 48807715.09  "
   ]
  }
 ],
 "metadata": {
  "kernelspec": {
   "display_name": "Python 3",
   "language": "python",
   "name": "python3"
  },
  "language_info": {
   "codemirror_mode": {
    "name": "ipython",
    "version": 3
   },
   "file_extension": ".py",
   "mimetype": "text/x-python",
   "name": "python",
   "nbconvert_exporter": "python",
   "pygments_lexer": "ipython3",
   "version": "3.8.5"
  }
 },
 "nbformat": 4,
 "nbformat_minor": 5
}
